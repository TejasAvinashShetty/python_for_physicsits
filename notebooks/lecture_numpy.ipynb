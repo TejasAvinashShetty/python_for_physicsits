{
 "metadata": {
  "name": ""
 },
 "nbformat": 3,
 "nbformat_minor": 0,
 "worksheets": [
  {
   "cells": [
    {
     "cell_type": "markdown",
     "metadata": {
      "internals": {
       "slide_helper": "subslide_end",
       "slide_type": "subslide"
      },
      "slide_helper": "slide_end",
      "slideshow": {
       "slide_type": "slide"
      }
     },
     "source": [
      "# \u05e1\u05d3\u05e0\u05d0\u05ea \u05e4\u05d9\u05d9\u05ea\u05d5\u05df \u05dc\u05e4\u05d9\u05d6\u05d9\u05e7\u05d0\u05d9\u05dd\n",
      "\n",
      "\n",
      "## Numpy, \u05d7\u05d1\u05d9\u05dc\u05ea \u05d4\u05d9\u05e1\u05d5\u05d3 \u05e9\u05dc \u05e4\u05d9\u05d9\u05ea\u05d5\u05df \u05dc\u05e9\u05d9\u05de\u05d5\u05e9 \u05de\u05d3\u05e2\u05d9    \n",
      "\n",
      "\u05d4\u05e4\u05e7\u05d5\u05dc\u05d8\u05d4 \u05dc\u05e4\u05d9\u05d6\u05d9\u05e7\u05d4, \u05d4\u05d8\u05db\u05e0\u05d9\u05d5\u05df.\n",
      "\u05d7\u05d5\u05e8\u05e3 2013\n",
      "\n",
      "\u05de\u05e8\u05e6\u05d4: \u05e8\u05d5\u05e0\u05df \u05d0\u05d1\u05e8\u05d1\u05e0\u05d0\u05dc\n"
     ]
    },
    {
     "cell_type": "markdown",
     "metadata": {
      "internals": {
       "slide_type": "subslide"
      },
      "slideshow": {
       "slide_type": "slide"
      }
     },
     "source": [
      "\u05db\u05d1\u05e8 \u05e8\u05d0\u05d9\u05e0\u05d5 \u05db\u05de\u05d4 \u05e4\u05e2\u05d5\u05dc\u05d5\u05ea \u05e4\u05e9\u05d5\u05d8\u05d5\u05ea \u05e2\u05dd \u05de\u05e2\u05e8\u05db\u05d9\u05dd \u05e9\u05dc \n",
      "numpy\n",
      "\u05d0\u05d1\u05dc \u05d1\u05db\u05dc \u05d6\u05d0\u05ea, \u05e0\u05e8\u05e6\u05d4 \u05dc\u05d4\u05d3\u05d2\u05d9\u05e9  \u05d0\u05ea \u05d4\u05d9\u05ea\u05e8\u05d5\u05e0\u05d5\u05ea \u05e9\u05dc\u05d4\u05dd \u05e2\u05dc \u05e4\u05e0\u05d9 \u05d8\u05d9\u05e4\u05d5\u05e1\u05d9 \u05d4\u05e0\u05ea\u05d5\u05e0\u05d9\u05dd \u05d4\u05e8\u05d2\u05d9\u05dc\u05d9\u05dd \u05e9\u05dc \u05e4\u05d9\u05d9\u05ea\u05d5\u05df:"
     ]
    },
    {
     "cell_type": "markdown",
     "metadata": {
      "internals": {},
      "slideshow": {
       "slide_type": "-"
      }
     },
     "source": [
      "* \u05ea\u05de\u05d9\u05db\u05d4 \u05e0\u05d5\u05d7\u05d4 \u05d9\u05d5\u05ea\u05e8 \u05d1\u05de\u05e2\u05e8\u05db\u05d9\u05dd \u05de\u05e8\u05d5\u05d1\u05d9 \u05de\u05de\u05d3\u05d9\u05dd (\u05dc\u05d0 \u05e8\u05e9\u05d9\u05de\u05d4 \u05e9\u05dc \u05e8\u05e9\u05d9\u05de\u05d5\u05ea \u05db\u05d9 \u05d0\u05dd \u05de\u05e2\u05e8\u05da n-\u05de\u05de\u05d3\u05d9 \u05d0\u05de\u05d9\u05ea\u05d9)\n",
      "* \u05de\u05d9\u05de\u05d5\u05e9 \u05d9\u05e2\u05d9\u05dc \u05d9\u05d5\u05ea\u05e8, \u05d4\u05df \u05e9\u05dc \u05d4\u05de\u05e2\u05e8\u05db\u05d9\u05dd \u05e2\u05e6\u05de\u05df \u05d5\u05d4\u05df \u05e9\u05dc \u05e4\u05d5\u05e0\u05e7\u05e6\u05d9\u05d5\u05ea \u05e2\u05d6\u05e8.\n",
      "* \u05de\u05d9\u05d5\u05e2\u05d3 \u05dc\"\u05ea\u05db\u05e0\u05d5\u05ea \u05de\u05d5\u05db\u05d5\u05d5\u05df \u05de\u05e2\u05e8\u05db\u05d9\u05dd\"\n"
     ]
    },
    {
     "cell_type": "code",
     "collapsed": false,
     "input": [
      "import numpy as np"
     ],
     "language": "python",
     "metadata": {
      "internals": {
       "slide_helper": "subslide_end"
      },
      "slide_helper": "slide_end",
      "slideshow": {
       "slide_type": "-"
      }
     },
     "outputs": [],
     "prompt_number": 2
    },
    {
     "cell_type": "markdown",
     "metadata": {
      "internals": {
       "slide_type": "subslide"
      },
      "slideshow": {
       "slide_type": "slide"
      }
     },
     "source": [
      "## \u05d9\u05e6\u05d9\u05e8\u05ea \u05de\u05e2\u05e8\u05da \u05de\u05e8\u05e9\u05d9\u05de\u05d4"
     ]
    },
    {
     "cell_type": "markdown",
     "metadata": {
      "internals": {},
      "slideshow": {
       "slide_type": "-"
      }
     },
     "source": [
      "\u05d7\u05d3 \u05de\u05de\u05d3\u05d9:"
     ]
    },
    {
     "cell_type": "code",
     "collapsed": false,
     "input": [
      "a = np.array([0,1,2,3])\n",
      "a"
     ],
     "language": "python",
     "metadata": {
      "internals": {},
      "slideshow": {
       "slide_type": "-"
      }
     },
     "outputs": [
      {
       "metadata": {},
       "output_type": "pyout",
       "prompt_number": 3,
       "text": [
        "array([0, 1, 2, 3])"
       ]
      }
     ],
     "prompt_number": 3
    },
    {
     "cell_type": "code",
     "collapsed": false,
     "input": [
      "a.ndim"
     ],
     "language": "python",
     "metadata": {
      "internals": {},
      "slideshow": {
       "slide_type": "-"
      }
     },
     "outputs": [
      {
       "metadata": {},
       "output_type": "pyout",
       "prompt_number": 5,
       "text": [
        "1"
       ]
      }
     ],
     "prompt_number": 5
    },
    {
     "cell_type": "code",
     "collapsed": false,
     "input": [
      "a.shape"
     ],
     "language": "python",
     "metadata": {
      "internals": {},
      "slideshow": {
       "slide_type": "-"
      }
     },
     "outputs": [
      {
       "metadata": {},
       "output_type": "pyout",
       "prompt_number": 6,
       "text": [
        "(4,)"
       ]
      }
     ],
     "prompt_number": 6
    },
    {
     "cell_type": "code",
     "collapsed": false,
     "input": [
      "len(a)"
     ],
     "language": "python",
     "metadata": {
      "internals": {
       "slide_helper": "subslide_end"
      },
      "slide_helper": "subslide_end",
      "slideshow": {
       "slide_type": "-"
      }
     },
     "outputs": [
      {
       "metadata": {},
       "output_type": "pyout",
       "prompt_number": 7,
       "text": [
        "4"
       ]
      }
     ],
     "prompt_number": 7
    },
    {
     "cell_type": "markdown",
     "metadata": {
      "internals": {
       "slide_type": "subslide"
      },
      "slideshow": {
       "slide_type": "subslide"
      }
     },
     "source": [
      "\u05de\u05de\u05d3 \u05d2\u05d1\u05d5\u05d4\u05d4 \u05d9\u05d5\u05ea\u05e8:"
     ]
    },
    {
     "cell_type": "code",
     "collapsed": false,
     "input": [
      "b = np.array([[0,1,2],\n",
      "              [3,4,5]])\n",
      "b"
     ],
     "language": "python",
     "metadata": {
      "internals": {},
      "slideshow": {
       "slide_type": "-"
      }
     },
     "outputs": [
      {
       "metadata": {},
       "output_type": "pyout",
       "prompt_number": 8,
       "text": [
        "array([[0, 1, 2],\n",
        "       [3, 4, 5]])"
       ]
      }
     ],
     "prompt_number": 8
    },
    {
     "cell_type": "code",
     "collapsed": false,
     "input": [
      "b.ndim"
     ],
     "language": "python",
     "metadata": {
      "internals": {},
      "slideshow": {
       "slide_type": "-"
      }
     },
     "outputs": [
      {
       "metadata": {},
       "output_type": "pyout",
       "prompt_number": 9,
       "text": [
        "2"
       ]
      }
     ],
     "prompt_number": 9
    },
    {
     "cell_type": "code",
     "collapsed": false,
     "input": [
      "b.shape"
     ],
     "language": "python",
     "metadata": {
      "internals": {},
      "slideshow": {
       "slide_type": "-"
      }
     },
     "outputs": [
      {
       "metadata": {},
       "output_type": "pyout",
       "prompt_number": 10,
       "text": [
        "(2, 3)"
       ]
      }
     ],
     "prompt_number": 10
    },
    {
     "cell_type": "code",
     "collapsed": false,
     "input": [
      "len(b) "
     ],
     "language": "python",
     "metadata": {
      "internals": {},
      "slideshow": {
       "slide_type": "-"
      }
     },
     "outputs": [
      {
       "metadata": {},
       "output_type": "pyout",
       "prompt_number": 11,
       "text": [
        "2"
       ]
      }
     ],
     "prompt_number": 11
    },
    {
     "cell_type": "markdown",
     "metadata": {
      "internals": {
       "slide_helper": "subslide_end"
      },
      "slide_helper": "subslide_end",
      "slideshow": {
       "slide_type": "-"
      }
     },
     "source": [
      "\u05de\u05d7\u05d6\u05d9\u05e8 \u05e8\u05e7  \u05d0\u05ea \u05d4\u05de\u05de\u05d3 \u05d4\u05e8\u05d0\u05e9\u05d5\u05df!"
     ]
    },
    {
     "cell_type": "code",
     "collapsed": false,
     "input": [
      "c = np.array( [[[1],[2]],[[3],[4]]])"
     ],
     "language": "python",
     "metadata": {
      "internals": {
       "slide_type": "subslide"
      },
      "slideshow": {
       "slide_type": "subslide"
      }
     },
     "outputs": [],
     "prompt_number": 12
    },
    {
     "cell_type": "code",
     "collapsed": false,
     "input": [
      "c"
     ],
     "language": "python",
     "metadata": {
      "internals": {},
      "slideshow": {
       "slide_type": "-"
      }
     },
     "outputs": [
      {
       "metadata": {},
       "output_type": "pyout",
       "prompt_number": 13,
       "text": [
        "array([[[1],\n",
        "        [2]],\n",
        "\n",
        "       [[3],\n",
        "        [4]]])"
       ]
      }
     ],
     "prompt_number": 13
    },
    {
     "cell_type": "code",
     "collapsed": false,
     "input": [
      "c.shape"
     ],
     "language": "python",
     "metadata": {
      "internals": {
       "slide_helper": "subslide_end"
      },
      "slide_helper": "slide_end",
      "slideshow": {
       "slide_type": "-"
      }
     },
     "outputs": [
      {
       "metadata": {},
       "output_type": "pyout",
       "prompt_number": 14,
       "text": [
        "(2, 2, 1)"
       ]
      }
     ],
     "prompt_number": 14
    },
    {
     "cell_type": "markdown",
     "metadata": {
      "internals": {
       "slide_type": "subslide"
      },
      "slideshow": {
       "slide_type": "slide"
      }
     },
     "source": [
      "## \u05e4\u05d5\u05e0\u05e7\u05e6\u05d9\u05d5\u05ea \u05dc\u05d9\u05e6\u05d9\u05e8\u05ea \u05de\u05e2\u05e8\u05da"
     ]
    },
    {
     "cell_type": "markdown",
     "metadata": {
      "internals": {},
      "slideshow": {
       "slide_type": "-"
      }
     },
     "source": [
      "\u05d1\u05d3\u05e8\u05da \u05db\u05dc\u05dc, \u05d6\u05d4 \u05dc\u05d0 \u05db\u05dc \u05db\u05da \u05db\u05d9\u05e3 \u05dc\u05d4\u05db\u05e0\u05d9\u05e1 \u05de\u05d9\u05d3\u05e2 \u05dc\u05de\u05e2\u05e8\u05db\u05d9\u05dd \u05d1\u05d6\u05d4 \u05d0\u05d7\u05e8 \u05d6\u05d4.  \u05d0\u05d6 \u05d9\u05e9 \u05e4\u05e0\u05e7\u05e6\u05d9\u05d5\u05ea \u05e9\u05e2\u05d5\u05e9\u05d5\u05ea \u05d0\u05ea \u05d6\u05d4:\n",
      "\n",
      "* \u05d9\u05e6\u05d9\u05e8\u05ea \u05de\u05e2\u05e8\u05da \u05e2\u05dd \u05e7\u05d1\u05d9\u05e2\u05ea \u05d4\u05e8\u05d5\u05d5\u05d7\u05d9\u05dd:"
     ]
    },
    {
     "cell_type": "code",
     "collapsed": false,
     "input": [
      "a = np.arange(10) \n",
      "a"
     ],
     "language": "python",
     "metadata": {
      "internals": {},
      "slideshow": {
       "slide_type": "-"
      }
     },
     "outputs": [
      {
       "metadata": {},
       "output_type": "pyout",
       "prompt_number": 17,
       "text": [
        "array([0, 1, 2, 3, 4, 5, 6, 7, 8, 9])"
       ]
      }
     ],
     "prompt_number": 17
    },
    {
     "cell_type": "code",
     "collapsed": false,
     "input": [
      "b = np.arange(1,9,2)\n",
      "b"
     ],
     "language": "python",
     "metadata": {
      "internals": {
       "slide_helper": "subslide_end"
      },
      "slide_helper": "subslide_end",
      "slideshow": {
       "slide_type": "-"
      }
     },
     "outputs": [
      {
       "metadata": {},
       "output_type": "pyout",
       "prompt_number": 18,
       "text": [
        "array([1, 3, 5, 7])"
       ]
      }
     ],
     "prompt_number": 18
    },
    {
     "cell_type": "markdown",
     "metadata": {
      "internals": {
       "slide_type": "subslide"
      },
      "slideshow": {
       "slide_type": "subslide"
      }
     },
     "source": [
      "* \u05dc\u05e4\u05d9 \u05de\u05e1\u05e4\u05e8 \u05d4\u05e0\u05e7\u05d5\u05d3\u05d5\u05ea"
     ]
    },
    {
     "cell_type": "code",
     "collapsed": false,
     "input": [
      "c = np.linspace(0,1,6)\n",
      "c"
     ],
     "language": "python",
     "metadata": {
      "internals": {},
      "slideshow": {
       "slide_type": "-"
      }
     },
     "outputs": [
      {
       "metadata": {},
       "output_type": "pyout",
       "prompt_number": 20,
       "text": [
        "array([ 0. ,  0.2,  0.4,  0.6,  0.8,  1. ])"
       ]
      }
     ],
     "prompt_number": 20
    },
    {
     "cell_type": "code",
     "collapsed": false,
     "input": [
      "d = np.linspace(0,1,5,endpoint=False)\n",
      "d"
     ],
     "language": "python",
     "metadata": {
      "internals": {
       "slide_helper": "subslide_end"
      },
      "slide_helper": "subslide_end",
      "slideshow": {
       "slide_type": "-"
      }
     },
     "outputs": [
      {
       "metadata": {},
       "output_type": "pyout",
       "prompt_number": 23,
       "text": [
        "array([ 0. ,  0.2,  0.4,  0.6,  0.8])"
       ]
      }
     ],
     "prompt_number": 23
    },
    {
     "cell_type": "markdown",
     "metadata": {
      "internals": {
       "slide_type": "subslide"
      },
      "slideshow": {
       "slide_type": "subslide"
      }
     },
     "source": [
      "* \u05de\u05e2\u05e8\u05db\u05d9\u05dd \u05de\u05dc\u05d0\u05d9\u05dd \u05d1 -1, \u05d1-0 \u05d0\u05d5 \"\u05de\u05d8\u05e8\u05d9\u05e6\u05d5\u05ea \u05d9\u05d7\u05d9\u05d3\u05d4\""
     ]
    },
    {
     "cell_type": "code",
     "collapsed": false,
     "input": [
      "a = np.ones((3,4))\n",
      "a"
     ],
     "language": "python",
     "metadata": {
      "internals": {},
      "slideshow": {
       "slide_type": "-"
      }
     },
     "outputs": [
      {
       "metadata": {},
       "output_type": "pyout",
       "prompt_number": 24,
       "text": [
        "array([[ 1.,  1.,  1.,  1.],\n",
        "       [ 1.,  1.,  1.,  1.],\n",
        "       [ 1.,  1.,  1.,  1.]])"
       ]
      }
     ],
     "prompt_number": 24
    },
    {
     "cell_type": "code",
     "collapsed": false,
     "input": [
      "b = np.zeros((2,3))\n",
      "b"
     ],
     "language": "python",
     "metadata": {
      "internals": {
       "slide_helper": "subslide_end"
      },
      "slide_helper": "subslide_end",
      "slideshow": {
       "slide_type": "-"
      }
     },
     "outputs": [
      {
       "metadata": {},
       "output_type": "pyout",
       "prompt_number": 26,
       "text": [
        "array([[ 0.,  0.,  0.],\n",
        "       [ 0.,  0.,  0.]])"
       ]
      }
     ],
     "prompt_number": 26
    },
    {
     "cell_type": "code",
     "collapsed": false,
     "input": [
      "c = np.eye(3)\n",
      "c"
     ],
     "language": "python",
     "metadata": {
      "internals": {
       "slide_type": "subslide"
      },
      "slideshow": {
       "slide_type": "subslide"
      }
     },
     "outputs": [
      {
       "metadata": {},
       "output_type": "pyout",
       "prompt_number": 28,
       "text": [
        "array([[ 1.,  0.,  0.],\n",
        "       [ 0.,  1.,  0.],\n",
        "       [ 0.,  0.,  1.]])"
       ]
      }
     ],
     "prompt_number": 28
    },
    {
     "cell_type": "code",
     "collapsed": false,
     "input": [
      "d = np.diag([1,2,3,4])\n",
      "d"
     ],
     "language": "python",
     "metadata": {
      "internals": {
       "slide_helper": "subslide_end"
      },
      "slide_helper": "subslide_end",
      "slideshow": {
       "slide_type": "-"
      }
     },
     "outputs": [
      {
       "metadata": {},
       "output_type": "pyout",
       "prompt_number": 30,
       "text": [
        "array([[1, 0, 0, 0],\n",
        "       [0, 2, 0, 0],\n",
        "       [0, 0, 3, 0],\n",
        "       [0, 0, 0, 4]])"
       ]
      }
     ],
     "prompt_number": 30
    },
    {
     "cell_type": "markdown",
     "metadata": {
      "internals": {
       "slide_type": "subslide"
      },
      "slideshow": {
       "slide_type": "subslide"
      }
     },
     "source": [
      "* \u05de\u05e2\u05e8\u05db\u05d9\u05dd \u05d0\u05e7\u05e8\u05d0\u05d9\u05d9\u05dd"
     ]
    },
    {
     "cell_type": "code",
     "collapsed": false,
     "input": [
      "a = np.random.rand(4) #uniform in [0,1]\n",
      "a"
     ],
     "language": "python",
     "metadata": {
      "internals": {},
      "slideshow": {
       "slide_type": "-"
      }
     },
     "outputs": [
      {
       "metadata": {},
       "output_type": "pyout",
       "prompt_number": 31,
       "text": [
        "array([ 0.95610256,  0.29084013,  0.9869527 ,  0.27287351])"
       ]
      }
     ],
     "prompt_number": 31
    },
    {
     "cell_type": "code",
     "collapsed": false,
     "input": [
      "b = np.random.randn(3,4) # Normal distribution\n",
      "b"
     ],
     "language": "python",
     "metadata": {
      "internals": {
       "slide_helper": "subslide_end"
      },
      "slide_helper": "slide_end",
      "slideshow": {
       "slide_type": "-"
      }
     },
     "outputs": [
      {
       "metadata": {},
       "output_type": "pyout",
       "prompt_number": 35,
       "text": [
        "array([[-0.08131966,  0.30165269, -0.69761869, -1.99499549],\n",
        "       [-1.6398278 ,  0.84688158, -0.22868927, -1.17677709],\n",
        "       [-1.353199  ,  0.42964633,  0.26015027,  0.29797787]])"
       ]
      }
     ],
     "prompt_number": 35
    },
    {
     "cell_type": "markdown",
     "metadata": {
      "internals": {
       "slide_type": "subslide"
      },
      "slideshow": {
       "slide_type": "slide"
      }
     },
     "source": [
      "## \u05d8\u05d9\u05e4\u05d5\u05e1\u05d9 \u05e0\u05ea\u05d5\u05e0\u05d9\u05dd"
     ]
    },
    {
     "cell_type": "markdown",
     "metadata": {
      "internals": {},
      "slideshow": {
       "slide_type": "-"
      }
     },
     "source": [
      "\u05d1\u05d3\u05e8\u05da \u05db\u05dc\u05dc, \u05d8\u05d9\u05e4\u05d5\u05e1\u05d9 \u05d4\u05e0\u05ea\u05d5\u05e0\u05d9\u05dd \u05e9\u05dc \u05e4\u05d9\u05d9\u05ea\u05d5\u05df \u05d4\u05dd \u05de\u05e9\u05ea\u05de\u05e2\u05d9\u05dd. \u05db\u05d0\u05e9\u05e8 \u05e2\u05d5\u05e9\u05d9\u05dd \u05e0\u05d5\u05de\u05e8\u05d9\u05e7\u05d4, \u05dc\u05e4\u05e2\u05de\u05d9\u05dd \u05e0\u05d7\u05de\u05d3 \u05dc\u05d4\u05d2\u05d3\u05d9\u05e8 \u05d0\u05d5\u05ea\u05dd \u05d1\u05de\u05e4\u05d5\u05e8\u05e9.\n",
      "\n",
      "\u05e2\u05d1\u05d5\u05e8 \u05de\u05e2\u05d9\u05e3 \u05e4\u05d9\u05d9\u05ea\u05d5\u05e0\u05d9, \u05de\u05d5\u05d2\u05d3\u05e8 \"\u05d8\u05d9\u05e4\u05d5\u05e1 \u05d4\u05e0\u05ea\u05d5\u05e0\u05d9\u05dd \u05e9\u05dc \u05d4\u05de\u05e2\u05e8\u05da\", \n",
      "dtype."
     ]
    },
    {
     "cell_type": "code",
     "collapsed": false,
     "input": [
      "a = np.array([1,2,3])\n",
      "a.dtype"
     ],
     "language": "python",
     "metadata": {
      "internals": {},
      "slideshow": {
       "slide_type": "-"
      }
     },
     "outputs": [
      {
       "metadata": {},
       "output_type": "pyout",
       "prompt_number": 39,
       "text": [
        "dtype('int64')"
       ]
      }
     ],
     "prompt_number": 39
    },
    {
     "cell_type": "code",
     "collapsed": false,
     "input": [
      "b = np.array([1.,2.,3.])\n",
      "b.dtype"
     ],
     "language": "python",
     "metadata": {
      "internals": {
       "slide_helper": "subslide_end"
      },
      "slide_helper": "subslide_end",
      "slideshow": {
       "slide_type": "-"
      }
     },
     "outputs": [
      {
       "metadata": {},
       "output_type": "pyout",
       "prompt_number": 40,
       "text": [
        "dtype('float64')"
       ]
      }
     ],
     "prompt_number": 40
    },
    {
     "cell_type": "markdown",
     "metadata": {
      "internals": {
       "slide_type": "subslide"
      },
      "slideshow": {
       "slide_type": "subslide"
      }
     },
     "source": [
      "\u05d0\u05e4\u05e9\u05e8 \u05d2\u05dd \u05dc\u05d4\u05d2\u05d3\u05d9\u05e8 \u05de\u05e4\u05d5\u05e8\u05e9\u05d5\u05ea:"
     ]
    },
    {
     "cell_type": "code",
     "collapsed": false,
     "input": [
      "c = np.array([1,2,3,], dtype=float)\n",
      "c.dtype"
     ],
     "language": "python",
     "metadata": {
      "internals": {
       "slide_helper": "subslide_end"
      },
      "slide_helper": "subslide_end",
      "slideshow": {
       "slide_type": "-"
      }
     },
     "outputs": [
      {
       "metadata": {},
       "output_type": "pyout",
       "prompt_number": 41,
       "text": [
        "dtype('float64')"
       ]
      }
     ],
     "prompt_number": 41
    },
    {
     "cell_type": "markdown",
     "metadata": {
      "internals": {
       "slide_type": "subslide"
      },
      "slideshow": {
       "slide_type": "subslide"
      }
     },
     "source": [
      "\u05e1\u05d5\u05d2\u05d9\u05dd \u05e0\u05d5\u05e1\u05e4\u05d9\u05dd \u05d1\u05de\u05ea\u05e9\u05de\u05e2:"
     ]
    },
    {
     "cell_type": "code",
     "collapsed": false,
     "input": [
      "d = np.array([1+2j, 3+4j, 5+6*1j])\n",
      "d.dtype"
     ],
     "language": "python",
     "metadata": {
      "internals": {},
      "slideshow": {
       "slide_type": "-"
      }
     },
     "outputs": [
      {
       "metadata": {},
       "output_type": "pyout",
       "prompt_number": 42,
       "text": [
        "dtype('complex128')"
       ]
      }
     ],
     "prompt_number": 42
    },
    {
     "cell_type": "code",
     "collapsed": false,
     "input": [
      "e = np.array([True, False, False, True])\n",
      "e.dtype\n"
     ],
     "language": "python",
     "metadata": {
      "internals": {},
      "slideshow": {
       "slide_type": "-"
      }
     },
     "outputs": [
      {
       "metadata": {},
       "output_type": "pyout",
       "prompt_number": 43,
       "text": [
        "dtype('bool')"
       ]
      }
     ],
     "prompt_number": 43
    },
    {
     "cell_type": "code",
     "collapsed": false,
     "input": [
      "f = np.array(['Bonjour', 'Hello', 'Hallo',])\n",
      "f.dtype     # <--- strings containing max. 7 letters\n"
     ],
     "language": "python",
     "metadata": {
      "internals": {
       "slide_helper": "subslide_end"
      },
      "slide_helper": "slide_end",
      "slideshow": {
       "slide_type": "-"
      }
     },
     "outputs": [
      {
       "metadata": {},
       "output_type": "pyout",
       "prompt_number": 44,
       "text": [
        "dtype('S7')"
       ]
      }
     ],
     "prompt_number": 44
    },
    {
     "cell_type": "markdown",
     "metadata": {
      "internals": {
       "slide_type": "subslide"
      },
      "slideshow": {
       "slide_type": "slide"
      }
     },
     "source": [
      "# \u05d0\u05d9\u05e0\u05d3\u05d5\u05e7\u05e1 \u05d5\u05d7\u05d9\u05ea\u05d5\u05da"
     ]
    },
    {
     "cell_type": "markdown",
     "metadata": {
      "internals": {},
      "slideshow": {
       "slide_type": "-"
      }
     },
     "source": [
      "\u05e6\u05d5\u05e8\u05ea \u05d4\u05d2\u05d9\u05e9\u05d4 \u05dc\u05d0\u05d9\u05d1\u05e8\u05d9\u05dd \u05d1\u05de\u05e2\u05e8\u05da \u05e9\u05dc numpy \n",
      "\u05e9\u05d5\u05e0\u05d4 \u05d1\u05de\u05e2\u05d8 \u05de\u05e6\u05d5\u05e8\u05ea \u05d4\u05d2\u05d9\u05e9\u05d4 \u05dc\u05d0\u05d9\u05d1\u05e8\u05d9\u05dd \u05d1\u05de\u05e2\u05e8\u05da (\u05d0\u05d5: \u05e8\u05e9\u05d9\u05de\u05d4) \u05e4\u05d9\u05d9\u05ea\u05d5\u05e0\u05d9 \u05e8\u05d2\u05d9\u05dc, \u05d1\u05e4\u05e8\u05d8, \u05d1\u05de\u05e2\u05e8\u05da \u05e8\u05d1 \u05de\u05de\u05d3\u05d9, \u05d0\u05dd \u05db\u05d9 \u05e6\u05d5\u05e8\u05ea \u05d4\u05d2\u05d9\u05e9\u05d4 \u05d4\u05e1\u05d8\u05e0\u05d3\u05e8\u05d8\u05d9\u05ea \u05e2\u05d5\u05d1\u05d3\u05ea \u05d2\u05dd \u05d4\u05d9\u05d0. "
     ]
    },
    {
     "cell_type": "code",
     "collapsed": false,
     "input": [
      "a = np.diag(np.arange(3))\n",
      "a"
     ],
     "language": "python",
     "metadata": {
      "internals": {},
      "slideshow": {
       "slide_type": "-"
      }
     },
     "outputs": [
      {
       "metadata": {},
       "output_type": "pyout",
       "prompt_number": 45,
       "text": [
        "array([[0, 0, 0],\n",
        "       [0, 1, 0],\n",
        "       [0, 0, 2]])"
       ]
      }
     ],
     "prompt_number": 45
    },
    {
     "cell_type": "code",
     "collapsed": false,
     "input": [
      "a[1, 1]"
     ],
     "language": "python",
     "metadata": {
      "internals": {
       "slide_helper": "subslide_end"
      },
      "slide_helper": "subslide_end",
      "slideshow": {
       "slide_type": "-"
      }
     },
     "outputs": [
      {
       "metadata": {},
       "output_type": "pyout",
       "prompt_number": 46,
       "text": [
        "1"
       ]
      }
     ],
     "prompt_number": 46
    },
    {
     "cell_type": "code",
     "collapsed": false,
     "input": [
      "a[2, 1] = 10 # third line, second column\n",
      "a"
     ],
     "language": "python",
     "metadata": {
      "internals": {
       "slide_type": "subslide"
      },
      "slideshow": {
       "slide_type": "subslide"
      }
     },
     "outputs": [
      {
       "metadata": {},
       "output_type": "pyout",
       "prompt_number": 47,
       "text": [
        "array([[ 0,  0,  0],\n",
        "       [ 0,  1,  0],\n",
        "       [ 0, 10,  2]])"
       ]
      }
     ],
     "prompt_number": 47
    },
    {
     "cell_type": "code",
     "collapsed": false,
     "input": [
      "a[1]"
     ],
     "language": "python",
     "metadata": {
      "internals": {},
      "slideshow": {
       "slide_type": "-"
      }
     },
     "outputs": [
      {
       "metadata": {},
       "output_type": "pyout",
       "prompt_number": 48,
       "text": [
        "array([0, 1, 0])"
       ]
      }
     ],
     "prompt_number": 48
    },
    {
     "cell_type": "markdown",
     "metadata": {
      "internals": {
       "slide_helper": "subslide_end"
      },
      "slide_helper": "subslide_end",
      "slideshow": {
       "slide_type": "-"
      }
     },
     "source": [
      "\u05e0\u05e9\u05d9\u05dd \u05dc\u05d1 \u05e9\u05d1\u05d3\u05d5 \u05de\u05de\u05d3, \u05d4\u05de\u05de\u05d3 \u05d4\u05e8\u05d0\u05e9\u05d5\u05df \u05de\u05ea\u05d9\u05d9\u05d7\u05e1 \u05dc\u05e9\u05d5\u05e8\u05d5\u05ea \u05d5\u05d4\u05e9\u05e0\u05d9 \u05dc\u05e2\u05de\u05d5\u05d3\u05d5\u05ea."
     ]
    },
    {
     "cell_type": "markdown",
     "metadata": {
      "internals": {
       "slide_type": "subslide"
      },
      "slideshow": {
       "slide_type": "subslide"
      }
     },
     "source": [
      "**\u05e4\u05e8\u05d9\u05e1\u05d4**\n",
      "\u05e9\u05dc \u05de\u05e2\u05e8\u05da, \u05db\u05de\u05d5 \u05e2\u05d1\u05d5\u05e8 \u05e8\u05e9\u05d9\u05de\u05d5\u05ea:"
     ]
    },
    {
     "cell_type": "code",
     "collapsed": false,
     "input": [
      "a = np.arange(10)\n",
      "a"
     ],
     "language": "python",
     "metadata": {
      "internals": {},
      "slideshow": {
       "slide_type": "-"
      }
     },
     "outputs": [
      {
       "metadata": {},
       "output_type": "pyout",
       "prompt_number": 49,
       "text": [
        "array([0, 1, 2, 3, 4, 5, 6, 7, 8, 9])"
       ]
      }
     ],
     "prompt_number": 49
    },
    {
     "cell_type": "code",
     "collapsed": false,
     "input": [
      "a[2:9:3] # [start:end:step]"
     ],
     "language": "python",
     "metadata": {
      "internals": {
       "slide_helper": "subslide_end"
      },
      "slide_helper": "subslide_end",
      "slideshow": {
       "slide_type": "-"
      }
     },
     "outputs": [
      {
       "metadata": {},
       "output_type": "pyout",
       "prompt_number": 50,
       "text": [
        "array([2, 5, 8])"
       ]
      }
     ],
     "prompt_number": 50
    },
    {
     "cell_type": "markdown",
     "metadata": {
      "internals": {
       "slide_helper": "subslide_end",
       "slide_type": "subslide"
      },
      "slide_helper": "subslide_end",
      "slideshow": {
       "slide_type": "subslide"
      }
     },
     "source": [
      "![slicing](http://scipy-lectures.github.io/_images/numpy_indexing.png)"
     ]
    },
    {
     "cell_type": "markdown",
     "metadata": {
      "internals": {
       "slide_type": "subslide"
      },
      "slideshow": {
       "slide_type": "subslide"
      }
     },
     "source": [
      "\u05d0\u05dd \u05de\u05e6\u05d9\u05d1\u05d9\u05dd \u05e2\u05e8\u05db\u05d9\u05dd \u05dc\u05ea\u05d5\u05da \"\u05d7\u05dc\u05e7\" \u05de\u05de\u05e2\u05e8\u05da, \u05d6\u05d4 \u05e2\u05d5\u05d1\u05d3 \u05d9\u05d5\u05e4\u05d9,\n"
     ]
    },
    {
     "cell_type": "code",
     "collapsed": false,
     "input": [
      "a"
     ],
     "language": "python",
     "metadata": {
      "internals": {},
      "slideshow": {
       "slide_type": "-"
      }
     },
     "outputs": [
      {
       "metadata": {},
       "output_type": "pyout",
       "prompt_number": 52,
       "text": [
        "array([0, 1, 2, 3, 4, 5, 6, 7, 8, 9])"
       ]
      }
     ],
     "prompt_number": 52
    },
    {
     "cell_type": "code",
     "collapsed": false,
     "input": [
      "a[5:] = 10\n",
      "a"
     ],
     "language": "python",
     "metadata": {
      "internals": {},
      "slideshow": {
       "slide_type": "-"
      }
     },
     "outputs": [
      {
       "metadata": {},
       "output_type": "pyout",
       "prompt_number": 53,
       "text": [
        "array([ 0,  1,  2,  3,  4, 10, 10, 10, 10, 10])"
       ]
      }
     ],
     "prompt_number": 53
    },
    {
     "cell_type": "code",
     "collapsed": false,
     "input": [
      "b = np.arange(5)\n",
      "a[5:] = b[::-1]\n",
      "a"
     ],
     "language": "python",
     "metadata": {
      "internals": {
       "slide_helper": "subslide_end"
      },
      "slide_helper": "subslide_end",
      "slideshow": {
       "slide_type": "-"
      }
     },
     "outputs": [
      {
       "metadata": {},
       "output_type": "pyout",
       "prompt_number": 55,
       "text": [
        "array([0, 1, 2, 3, 4, 4, 3, 2, 1, 0])"
       ]
      }
     ],
     "prompt_number": 55
    },
    {
     "cell_type": "markdown",
     "metadata": {
      "internals": {
       "slide_type": "subslide"
      },
      "slideshow": {
       "slide_type": "subslide"
      }
     },
     "source": [
      "## \u05d0\u05d9\u05e0\u05d3\u05d5\u05e7\u05e1 \u05de\u05ea\u05d7\u05db\u05dd \u05d9\u05d5\u05ea\u05e8"
     ]
    },
    {
     "cell_type": "markdown",
     "metadata": {
      "internals": {},
      "slideshow": {
       "slide_type": "-"
      }
     },
     "source": [
      "\u05d4\u05de\u05d5\u05e9\u05d2 \u05d4\u05de\u05e7\u05e6\u05d5\u05e2\u05d9 \u05db\u05d0\u05df \u05d4\u05d5\u05d0 \n",
      "fancy indexing"
     ]
    },
    {
     "cell_type": "markdown",
     "metadata": {
      "internals": {},
      "slideshow": {
       "slide_type": "-"
      }
     },
     "source": [
      "### \u05d0\u05d9\u05e0\u05d3\u05d5\u05e7\u05e1 \u05d1\u05d0\u05de\u05e6\u05e2\u05d5\u05ea \"\u05de\u05e1\u05db\u05d4 \u05d1\u05d5\u05dc\u05d9\u05d0\u05e0\u05d9\u05ea\"\n",
      "\u05de\u05e2\u05d1\u05d9\u05e8\u05d9\u05dd \u05de\u05e2\u05e8\u05da \u05d0\u05dd \u05d0\u05d5\u05ea\u05d5 \u05d0\u05d5\u05e8\u05da \u05db\u05de\u05d5 \u05d4\u05de\u05e2\u05e8\u05da \u05d4\u05de\u05e7\u05d5\u05e8\u05d9, \u05db\u05da \u05e9\u05e2\u05e8\u05db\u05d9 \u05d4\u05de\u05e2\u05e8\u05da \u05d4\u05dd \n",
      "True\n",
      "\u05d0\u05d5 \n",
      "False.\n",
      "\u05de\u05e7\u05d1\u05dc\u05d9\u05dd \u05e8\u05e7 \u05d0\u05ea \u05d4\u05d0\u05d9\u05d1\u05e8\u05d9\u05dd \u05de\u05d4\u05de\u05e2\u05e8\u05da \u05d4\u05de\u05e7\u05d5\u05e8\u05d9 \u05e2\u05d1\u05d5\u05e8\u05dd \u05d4\u05e2\u05d1\u05e8\u05e0\u05d5 True."
     ]
    },
    {
     "cell_type": "code",
     "collapsed": false,
     "input": [
      "np.random.seed(3)\n",
      "a = np.random.random_integers(0,20,15)\n",
      "a"
     ],
     "language": "python",
     "metadata": {
      "internals": {},
      "slideshow": {
       "slide_type": "-"
      }
     },
     "outputs": [
      {
       "metadata": {},
       "output_type": "pyout",
       "prompt_number": 56,
       "text": [
        "array([10,  3,  8,  0, 19, 10, 11,  9, 10,  6,  0, 20, 12,  7, 14])"
       ]
      }
     ],
     "prompt_number": 56
    },
    {
     "cell_type": "code",
     "collapsed": false,
     "input": [
      "mask = (a%3 == 0)\n",
      "mask"
     ],
     "language": "python",
     "metadata": {
      "internals": {
       "slide_helper": "subslide_end"
      },
      "slide_helper": "subslide_end",
      "slideshow": {
       "slide_type": "-"
      }
     },
     "outputs": [
      {
       "metadata": {},
       "output_type": "pyout",
       "prompt_number": 58,
       "text": [
        "array([False,  True, False,  True, False, False, False,  True, False,\n",
        "        True,  True, False,  True, False, False], dtype=bool)"
       ]
      }
     ],
     "prompt_number": 58
    },
    {
     "cell_type": "markdown",
     "metadata": {
      "internals": {
       "slide_type": "subslide"
      },
      "slideshow": {
       "slide_type": "subslide"
      }
     },
     "source": [
      "\u05db\u05dc\u05d5\u05de\u05e8, \u05e7\u05d9\u05d1\u05dc\u05e0\u05d5 \u05de\u05e2\u05e8\u05da \u05d4\u05de\u05ea\u05d0\u05d9\u05dd \u05dc\u05de\u05e2\u05e8\u05da \u05d4\u05de\u05e7\u05d5\u05e8\u05d9, \u05d0\u05d1\u05db\u05dc \u05de\u05e7\u05d5\u05dd \u05e9\u05d1\u05d5 \u05d1\u05de\u05e2\u05e8\u05da \u05d4\u05de\u05e7\u05d5\u05e8\u05d9 \u05d9\u05e9 \u05de\u05e1\u05e4\u05e8 \u05e9\u05de\u05ea\u05d7\u05dc\u05e7 \u05d1-3, \u05d1\u05de\u05e1\u05db\u05d4 \u05d9\u05e9 True.\n"
     ]
    },
    {
     "cell_type": "code",
     "collapsed": false,
     "input": [
      "extract_from_a = a[mask]\n",
      "extract_from_a"
     ],
     "language": "python",
     "metadata": {
      "internals": {},
      "slideshow": {
       "slide_type": "-"
      }
     },
     "outputs": [
      {
       "metadata": {},
       "output_type": "pyout",
       "prompt_number": 59,
       "text": [
        "array([ 3,  0,  9,  6,  0, 12])"
       ]
      }
     ],
     "prompt_number": 59
    },
    {
     "cell_type": "markdown",
     "metadata": {
      "internals": {},
      "slideshow": {
       "slide_type": "-"
      }
     },
     "source": [
      "\u05d0\u05e4\u05e9\u05e8 \u05d2\u05dd \u05dc\u05e2\u05e9\u05d5\u05ea \u05d0\u05ea \u05d6\u05d4 \u05d9\u05e9\u05d9\u05e8\u05d5\u05ea, \u05d5\u05d0\u05e4\u05d9\u05dc\u05d5 \u05dc\u05d4\u05e6\u05d9\u05d1 \u05de\u05e1\u05e4\u05e8\u05d9\u05dd.\n",
      "\n",
      "\u05e0\u05e6\u05d9\u05d1 \n",
      "$-1$\n",
      "\u05d1\u05db\u05dc \u05d4\u05de\u05e1\u05e4\u05e8\u05d9\u05dd \u05e9\u05de\u05ea\u05d7\u05dc\u05e7\u05d9\u05dd \u05d1-3"
     ]
    },
    {
     "cell_type": "code",
     "collapsed": false,
     "input": [
      "a[a%3 == 0] = -1\n",
      "a"
     ],
     "language": "python",
     "metadata": {
      "internals": {
       "slide_helper": "subslide_end"
      },
      "slide_helper": "subslide_end",
      "slideshow": {
       "slide_type": "-"
      }
     },
     "outputs": [
      {
       "metadata": {},
       "output_type": "pyout",
       "prompt_number": 60,
       "text": [
        "array([10, -1,  8, -1, 19, 10, 11, -1, 10, -1, -1, 20, -1,  7, 14])"
       ]
      }
     ],
     "prompt_number": 60
    },
    {
     "cell_type": "code",
     "collapsed": false,
     "input": [
      "np.random.seed(3) \n",
      "b = np.random.random_integers(0, 20, (8,2))\n",
      "b"
     ],
     "language": "python",
     "metadata": {
      "internals": {
       "slide_type": "subslide"
      },
      "slideshow": {
       "slide_type": "subslide"
      }
     },
     "outputs": [
      {
       "metadata": {},
       "output_type": "pyout",
       "prompt_number": 76,
       "text": [
        "array([[10,  3],\n",
        "       [ 8,  0],\n",
        "       [19, 10],\n",
        "       [11,  9],\n",
        "       [10,  6],\n",
        "       [ 0, 20],\n",
        "       [12,  7],\n",
        "       [14, 17]])"
       ]
      }
     ],
     "prompt_number": 76
    },
    {
     "cell_type": "code",
     "collapsed": false,
     "input": [
      "b[b[:,0]>10,1] = -1\n",
      "b"
     ],
     "language": "python",
     "metadata": {
      "internals": {},
      "slideshow": {
       "slide_type": "-"
      }
     },
     "outputs": [
      {
       "metadata": {},
       "output_type": "pyout",
       "prompt_number": 77,
       "text": [
        "array([[10,  3],\n",
        "       [ 8,  0],\n",
        "       [19, -1],\n",
        "       [11, -1],\n",
        "       [10,  6],\n",
        "       [ 0, 20],\n",
        "       [12, -1],\n",
        "       [14, -1]])"
       ]
      }
     ],
     "prompt_number": 77
    },
    {
     "cell_type": "markdown",
     "metadata": {
      "internals": {
       "slide_helper": "subslide_end"
      },
      "slide_helper": "subslide_end",
      "slideshow": {
       "slide_type": "fragment"
      }
     },
     "source": [
      "\u05d4\u05e6\u05d1\u05e0\u05d5 1 \u05d1\u05e2\u05de\u05d5\u05d3\u05d4 \u05d4\u05e9\u05e0\u05d9\u05d4, \u05d1\u05db\u05dc \u05de\u05e7\u05d5\u05dd \u05d1\u05d5 \u05d4\u05e2\u05de\u05d5\u05d3\u05d4 \u05d4\u05e8\u05d0\u05e9\u05d5\u05e0\u05d4 \u05d2\u05d3\u05d5\u05dc\u05d4 \u05de-10!\n"
     ]
    },
    {
     "cell_type": "markdown",
     "metadata": {
      "internals": {
       "slide_type": "subslide"
      },
      "slideshow": {
       "slide_type": "subslide"
      }
     },
     "source": [
      "### \u05d0\u05d9\u05e0\u05d3\u05d5\u05e7\u05e1 \u05d1\u05d0\u05de\u05e6\u05e2\u05d5\u05ea \u05de\u05e2\u05e8\u05da \u05e9\u05dc \u05e9\u05dc\u05de\u05d9\u05dd"
     ]
    },
    {
     "cell_type": "code",
     "collapsed": false,
     "input": [
      "a = np.arange(0, 100, 10)\n",
      "a"
     ],
     "language": "python",
     "metadata": {
      "internals": {},
      "slideshow": {
       "slide_type": "-"
      }
     },
     "outputs": [
      {
       "metadata": {},
       "output_type": "pyout",
       "prompt_number": 79,
       "text": [
        "array([ 0, 10, 20, 30, 40, 50, 60, 70, 80, 90])"
       ]
      }
     ],
     "prompt_number": 79
    },
    {
     "cell_type": "code",
     "collapsed": false,
     "input": [
      "a[[2, 3, 2, 4, 2]]  # note: [2, 3, 2, 4, 2] is a Python list"
     ],
     "language": "python",
     "metadata": {
      "internals": {
       "slide_helper": "subslide_end"
      },
      "slide_helper": "subslide_end",
      "slideshow": {
       "slide_type": "-"
      }
     },
     "outputs": [
      {
       "metadata": {},
       "output_type": "pyout",
       "prompt_number": 80,
       "text": [
        "array([20, 30, 20, 40, 20])"
       ]
      }
     ],
     "prompt_number": 80
    },
    {
     "cell_type": "markdown",
     "metadata": {
      "internals": {
       "slide_type": "subslide"
      },
      "slideshow": {
       "slide_type": "subslide"
      }
     },
     "source": [
      "\u05e0\u05d9\u05ea\u05df \u05dc\u05d4\u05e6\u05d9\u05d1 \u05d2\u05dd \u05e2\u05e8\u05db\u05d9\u05dd \u05d7\u05d3\u05e9\u05d9\u05dd:"
     ]
    },
    {
     "cell_type": "code",
     "collapsed": false,
     "input": [
      "a[[9, 7]] = -100\n",
      "a"
     ],
     "language": "python",
     "metadata": {
      "internals": {
       "slide_helper": "subslide_end"
      },
      "slide_helper": "slide_end",
      "slideshow": {
       "slide_type": "-"
      }
     },
     "outputs": [
      {
       "metadata": {},
       "output_type": "pyout",
       "prompt_number": 82,
       "text": [
        "array([   0,   10,   20,   30,   40,   50,   60, -100,   80, -100])"
       ]
      }
     ],
     "prompt_number": 82
    },
    {
     "cell_type": "markdown",
     "metadata": {
      "internals": {
       "slide_type": "subslide"
      },
      "slideshow": {
       "slide_type": "slide"
      }
     },
     "source": [
      "## \u05e4\u05e2\u05d5\u05dc\u05d5\u05ea \u05e2\u05dc \u05d0\u05d1\u05e8\u05d9 \u05d4\u05de\u05e2\u05e8\u05da"
     ]
    },
    {
     "cell_type": "markdown",
     "metadata": {
      "internals": {},
      "slideshow": {
       "slide_type": "-"
      }
     },
     "source": [
      "\u05e0\u05d9\u05ea\u05df \u05dc\u05d1\u05e6\u05e2 \u05e4\u05e2\u05d5\u05dc\u05d5\u05ea \u05e2\u05dd \u05e1\u05e7\u05d0\u05dc\u05e8\u05d9\u05dd"
     ]
    },
    {
     "cell_type": "code",
     "collapsed": false,
     "input": [
      "a = np.array([1, 2, 3, 4])\n",
      "a + 1\n"
     ],
     "language": "python",
     "metadata": {
      "internals": {},
      "slideshow": {
       "slide_type": "-"
      }
     },
     "outputs": [
      {
       "metadata": {},
       "output_type": "pyout",
       "prompt_number": 83,
       "text": [
        "array([2, 3, 4, 5])"
       ]
      }
     ],
     "prompt_number": 83
    },
    {
     "cell_type": "code",
     "collapsed": false,
     "input": [
      "a**2"
     ],
     "language": "python",
     "metadata": {
      "internals": {
       "slide_helper": "subslide_end"
      },
      "slide_helper": "subslide_end",
      "slideshow": {
       "slide_type": "-"
      }
     },
     "outputs": [
      {
       "metadata": {},
       "output_type": "pyout",
       "prompt_number": 85,
       "text": [
        "array([ 1,  4,  9, 16])"
       ]
      }
     ],
     "prompt_number": 85
    },
    {
     "cell_type": "markdown",
     "metadata": {
      "internals": {
       "slide_type": "subslide"
      },
      "slideshow": {
       "slide_type": "subslide"
      }
     },
     "source": [
      "\u05d5\u05dc\u05d1\u05e6\u05e2 \u05e4\u05e2\u05d5\u05dc\u05d5\u05ea \u05d0\u05e8\u05d9\u05ea\u05de\u05d8\u05d9\u05d5\u05ea \u05d1\u05d9\u05df \u05de\u05e2\u05e8\u05db\u05d9\u05dd (\u05d0\u05d9\u05d1\u05e8-\u05d0\u05d9\u05d1\u05e8)"
     ]
    },
    {
     "cell_type": "code",
     "collapsed": false,
     "input": [
      "b = np.ones(4) + 1\n",
      "a - b"
     ],
     "language": "python",
     "metadata": {
      "internals": {},
      "slideshow": {
       "slide_type": "-"
      }
     },
     "outputs": [
      {
       "metadata": {},
       "output_type": "pyout",
       "prompt_number": 86,
       "text": [
        "array([-1.,  0.,  1.,  2.])"
       ]
      }
     ],
     "prompt_number": 86
    },
    {
     "cell_type": "code",
     "collapsed": false,
     "input": [
      "a * b"
     ],
     "language": "python",
     "metadata": {
      "internals": {},
      "slideshow": {
       "slide_type": "-"
      }
     },
     "outputs": [
      {
       "metadata": {},
       "output_type": "pyout",
       "prompt_number": 87,
       "text": [
        "array([ 2.,  4.,  6.,  8.])"
       ]
      }
     ],
     "prompt_number": 87
    },
    {
     "cell_type": "code",
     "collapsed": false,
     "input": [
      "j = np.arange(5)\n",
      "2**(j + 1) - j"
     ],
     "language": "python",
     "metadata": {
      "internals": {},
      "slideshow": {
       "slide_type": "-"
      }
     },
     "outputs": [
      {
       "metadata": {},
       "output_type": "pyout",
       "prompt_number": 88,
       "text": [
        "array([ 2,  3,  6, 13, 28])"
       ]
      }
     ],
     "prompt_number": 88
    },
    {
     "cell_type": "markdown",
     "metadata": {
      "internals": {
       "slide_helper": "subslide_end"
      },
      "slide_helper": "subslide_end",
      "slideshow": {
       "slide_type": "-"
      }
     },
     "source": [
      "\u05d1\u05de\u05e7\u05e8\u05d4 \u05d6\u05d4, \u05d7\u05e9\u05d5\u05d1 \u05dc\u05e9\u05d9\u05dd \u05dc\u05d1 \u05e9\u05d4\u05de\u05e2\u05e8\u05db\u05d9\u05dd \u05d4\u05dd \u05de\u05d0\u05d5\u05ea\u05d5 \u05d2\u05d5\u05d3\u05dc!\n",
      "\n",
      "\u05e4\u05e2\u05d5\u05dc\u05d5\u05ea \u05d0\u05dc\u05d5 \u05de\u05d4\u05d9\u05e8\u05d5\u05ea \u05d1\u05d4\u05e8\u05d1\u05d4 \u05de\u05d0\u05e9\u05e8 \u05d1\u05d9\u05e6\u05d5\u05e2 \u05e4\u05e2\u05d5\u05dc\u05d5\u05ea \u05d0\u05d9\u05d1\u05e8-\u05d0\u05d9\u05d1\u05e8 \u05e2\u05dc \u05de\u05e2\u05e8\u05da \u05d1\u05d0\u05de\u05e6\u05e2\u05d5\u05ea \u05dc\u05d5\u05dc\u05d0\u05d5\u05ea."
     ]
    },
    {
     "cell_type": "markdown",
     "metadata": {
      "internals": {
       "slide_type": "subslide"
      },
      "slideshow": {
       "slide_type": "subslide"
      }
     },
     "source": [
      "### \u05db\u05e4\u05dc\n",
      "\u05d7\u05e9\u05d5\u05d1 \u05dc\u05d4\u05d1\u05d3\u05d9\u05dc \u05d1\u05d9\u05df \u05db\u05e4\u05dc-\u05de\u05d8\u05e8\u05d9\u05e6\u05d5\u05ea \u05e9\u05de\u05ea\u05d1\u05e6\u05e2 \u05d1\u05d0\u05de\u05e6\u05e2\u05d5\u05ea\n",
      "dot,\n",
      "\n",
      "\u05dc\u05d1\u05d9\u05ea \u05db\u05e4\u05dc \u05d0\u05d9\u05d1\u05e8-\u05d0\u05d9\u05d1\u05e8"
     ]
    },
    {
     "cell_type": "code",
     "collapsed": false,
     "input": [
      "c = np.ones((3,3))\n",
      "c*c"
     ],
     "language": "python",
     "metadata": {
      "internals": {},
      "slideshow": {
       "slide_type": "-"
      }
     },
     "outputs": [
      {
       "metadata": {},
       "output_type": "pyout",
       "prompt_number": 89,
       "text": [
        "array([[ 1.,  1.,  1.],\n",
        "       [ 1.,  1.,  1.],\n",
        "       [ 1.,  1.,  1.]])"
       ]
      }
     ],
     "prompt_number": 89
    },
    {
     "cell_type": "code",
     "collapsed": false,
     "input": [
      "c.dot(c)"
     ],
     "language": "python",
     "metadata": {
      "internals": {
       "slide_helper": "subslide_end"
      },
      "slide_helper": "subslide_end",
      "slideshow": {
       "slide_type": "-"
      }
     },
     "outputs": [
      {
       "metadata": {},
       "output_type": "pyout",
       "prompt_number": 90,
       "text": [
        "array([[ 3.,  3.,  3.],\n",
        "       [ 3.,  3.,  3.],\n",
        "       [ 3.,  3.,  3.]])"
       ]
      }
     ],
     "prompt_number": 90
    },
    {
     "cell_type": "markdown",
     "metadata": {
      "internals": {
       "slide_type": "subslide"
      },
      "slideshow": {
       "slide_type": "subslide"
      }
     },
     "source": [
      "### \u05e2\u05d5\u05d3 \u05d3\u05d5\u05d2\u05de\u05d0\u05d5\u05ea\n",
      "\u05d4\u05e9\u05d5\u05d5\u05d0\u05d5\u05ea"
     ]
    },
    {
     "cell_type": "code",
     "collapsed": false,
     "input": [
      "a = np.array([1, 2, 3, 4])\n",
      "b = np.array([4, 2, 2, 4])\n",
      "a == b"
     ],
     "language": "python",
     "metadata": {
      "internals": {},
      "slideshow": {
       "slide_type": "-"
      }
     },
     "outputs": [
      {
       "metadata": {},
       "output_type": "pyout",
       "prompt_number": 91,
       "text": [
        "array([False,  True, False,  True], dtype=bool)"
       ]
      }
     ],
     "prompt_number": 91
    },
    {
     "cell_type": "code",
     "collapsed": false,
     "input": [
      "a > b"
     ],
     "language": "python",
     "metadata": {
      "internals": {
       "slide_helper": "subslide_end"
      },
      "slide_helper": "subslide_end",
      "slideshow": {
       "slide_type": "-"
      }
     },
     "outputs": [
      {
       "metadata": {},
       "output_type": "pyout",
       "prompt_number": 92,
       "text": [
        "array([False, False,  True, False], dtype=bool)"
       ]
      }
     ],
     "prompt_number": 92
    },
    {
     "cell_type": "markdown",
     "metadata": {
      "internals": {
       "slide_type": "subslide"
      },
      "slideshow": {
       "slide_type": "subslide"
      }
     },
     "source": [
      "\u05e4\u05e2\u05d5\u05dc\u05d5\u05ea \u05dc\u05d5\u05d2\u05d9\u05d5\u05ea"
     ]
    },
    {
     "cell_type": "code",
     "collapsed": false,
     "input": [
      "a = np.array([1, 1, 0, 0], dtype=bool)\n",
      "b = np.array([1, 0, 1, 0], dtype=bool)\n",
      "np.logical_or(a, b)"
     ],
     "language": "python",
     "metadata": {
      "internals": {},
      "slideshow": {
       "slide_type": "-"
      }
     },
     "outputs": [
      {
       "metadata": {},
       "output_type": "pyout",
       "prompt_number": 94,
       "text": [
        "array([ True,  True,  True, False], dtype=bool)"
       ]
      }
     ],
     "prompt_number": 94
    },
    {
     "cell_type": "code",
     "collapsed": false,
     "input": [
      "np.logical_and(a, b)"
     ],
     "language": "python",
     "metadata": {
      "internals": {
       "slide_helper": "subslide_end"
      },
      "slide_helper": "subslide_end",
      "slideshow": {
       "slide_type": "-"
      }
     },
     "outputs": [
      {
       "metadata": {},
       "output_type": "pyout",
       "prompt_number": 95,
       "text": [
        "array([ True, False, False, False], dtype=bool)"
       ]
      }
     ],
     "prompt_number": 95
    },
    {
     "cell_type": "markdown",
     "metadata": {
      "internals": {
       "slide_type": "subslide"
      },
      "slideshow": {
       "slide_type": "subslide"
      }
     },
     "source": [
      "\u05e4\u05d5\u05e0\u05e7\u05e6\u05d9\u05d5\u05ea \u05e9\u05d5\u05e0\u05d5\u05ea"
     ]
    },
    {
     "cell_type": "code",
     "collapsed": false,
     "input": [
      "a = np.arange(10)\n",
      "np.sin(a)"
     ],
     "language": "python",
     "metadata": {
      "internals": {},
      "slideshow": {
       "slide_type": "-"
      }
     },
     "outputs": [
      {
       "metadata": {},
       "output_type": "pyout",
       "prompt_number": 96,
       "text": [
        "array([ 0.        ,  0.84147098,  0.90929743,  0.14112001, -0.7568025 ,\n",
        "       -0.95892427, -0.2794155 ,  0.6569866 ,  0.98935825,  0.41211849])"
       ]
      }
     ],
     "prompt_number": 96
    },
    {
     "cell_type": "code",
     "collapsed": false,
     "input": [
      "np.log(a)"
     ],
     "language": "python",
     "metadata": {
      "internals": {},
      "slideshow": {
       "slide_type": "-"
      }
     },
     "outputs": [
      {
       "output_type": "stream",
       "stream": "stderr",
       "text": [
        "-c:1: RuntimeWarning: divide by zero encountered in log\n"
       ]
      },
      {
       "metadata": {},
       "output_type": "pyout",
       "prompt_number": 97,
       "text": [
        "array([       -inf,  0.        ,  0.69314718,  1.09861229,  1.38629436,\n",
        "        1.60943791,  1.79175947,  1.94591015,  2.07944154,  2.19722458])"
       ]
      }
     ],
     "prompt_number": 97
    },
    {
     "cell_type": "code",
     "collapsed": false,
     "input": [
      "np.exp(a)"
     ],
     "language": "python",
     "metadata": {
      "internals": {
       "slide_helper": "subslide_end"
      },
      "slide_helper": "subslide_end",
      "slideshow": {
       "slide_type": "-"
      }
     },
     "outputs": [
      {
       "metadata": {},
       "output_type": "pyout",
       "prompt_number": 98,
       "text": [
        "array([  1.00000000e+00,   2.71828183e+00,   7.38905610e+00,\n",
        "         2.00855369e+01,   5.45981500e+01,   1.48413159e+02,\n",
        "         4.03428793e+02,   1.09663316e+03,   2.98095799e+03,\n",
        "         8.10308393e+03])"
       ]
      }
     ],
     "prompt_number": 98
    },
    {
     "cell_type": "markdown",
     "metadata": {
      "internals": {
       "slide_type": "subslide"
      },
      "slideshow": {
       "slide_type": "subslide"
      }
     },
     "source": [
      "\u05d5\u05e9\u05d5\u05d1, \u05d4\u05d2\u05d5\u05d3\u05dc \u05d7\u05d9\u05d9\u05d1 \u05dc\u05d4\u05d9\u05d5\u05ea \u05ea\u05d5\u05d0\u05dd:"
     ]
    },
    {
     "cell_type": "code",
     "collapsed": false,
     "input": [
      "a = np.arange(4)\n",
      "a + np.array([1, 2])  \n"
     ],
     "language": "python",
     "metadata": {
      "internals": {
       "slide_helper": "subslide_end"
      },
      "slide_helper": "subslide_end",
      "slideshow": {
       "slide_type": "-"
      }
     },
     "outputs": [
      {
       "ename": "ValueError",
       "evalue": "operands could not be broadcast together with shapes (4) (2) ",
       "output_type": "pyerr",
       "traceback": [
        "\u001b[1;31m---------------------------------------------------------------------------\u001b[0m\n\u001b[1;31mValueError\u001b[0m                                Traceback (most recent call last)",
        "\u001b[1;32m<ipython-input-99-82c1c1d5b8c1>\u001b[0m in \u001b[0;36m<module>\u001b[1;34m()\u001b[0m\n\u001b[0;32m      1\u001b[0m \u001b[0ma\u001b[0m \u001b[1;33m=\u001b[0m \u001b[0mnp\u001b[0m\u001b[1;33m.\u001b[0m\u001b[0marange\u001b[0m\u001b[1;33m(\u001b[0m\u001b[1;36m4\u001b[0m\u001b[1;33m)\u001b[0m\u001b[1;33m\u001b[0m\u001b[0m\n\u001b[1;32m----> 2\u001b[1;33m \u001b[0ma\u001b[0m \u001b[1;33m+\u001b[0m \u001b[0mnp\u001b[0m\u001b[1;33m.\u001b[0m\u001b[0marray\u001b[0m\u001b[1;33m(\u001b[0m\u001b[1;33m[\u001b[0m\u001b[1;36m1\u001b[0m\u001b[1;33m,\u001b[0m \u001b[1;36m2\u001b[0m\u001b[1;33m]\u001b[0m\u001b[1;33m)\u001b[0m\u001b[1;33m\u001b[0m\u001b[0m\n\u001b[0m",
        "\u001b[1;31mValueError\u001b[0m: operands could not be broadcast together with shapes (4) (2) "
       ]
      }
     ],
     "prompt_number": 99
    },
    {
     "cell_type": "markdown",
     "metadata": {
      "internals": {
       "slide_type": "subslide"
      },
      "slideshow": {
       "slide_type": "subslide"
      }
     },
     "source": [
      "\u05e9\u05d7\u05dc\u05d5\u05e3:"
     ]
    },
    {
     "cell_type": "code",
     "collapsed": false,
     "input": [
      "a = np.triu(np.ones((3, 3)), 1)\n",
      "a"
     ],
     "language": "python",
     "metadata": {
      "internals": {},
      "slideshow": {
       "slide_type": "-"
      }
     },
     "outputs": [
      {
       "metadata": {},
       "output_type": "pyout",
       "prompt_number": 101,
       "text": [
        "array([[ 0.,  1.,  1.],\n",
        "       [ 0.,  0.,  1.],\n",
        "       [ 0.,  0.,  0.]])"
       ]
      }
     ],
     "prompt_number": 101
    },
    {
     "cell_type": "code",
     "collapsed": false,
     "input": [
      "a.T"
     ],
     "language": "python",
     "metadata": {
      "internals": {
       "slide_helper": "subslide_end"
      },
      "slide_helper": "slide_end",
      "slideshow": {
       "slide_type": "-"
      }
     },
     "outputs": [
      {
       "metadata": {},
       "output_type": "pyout",
       "prompt_number": 102,
       "text": [
        "array([[ 0.,  0.,  0.],\n",
        "       [ 1.,  0.,  0.],\n",
        "       [ 1.,  1.,  0.]])"
       ]
      }
     ],
     "prompt_number": 102
    },
    {
     "cell_type": "markdown",
     "metadata": {
      "internals": {
       "slide_type": "subslide"
      },
      "slideshow": {
       "slide_type": "slide"
      }
     },
     "source": [
      "### \u05e6\u05de\u05e6\u05d5\u05dd \u05e8\u05e9\u05d9\u05de\u05d5\u05ea"
     ]
    },
    {
     "cell_type": "code",
     "collapsed": false,
     "input": [
      "x = np.array([1, 2, 3, 4])\n",
      "np.sum(x)"
     ],
     "language": "python",
     "metadata": {
      "internals": {},
      "slideshow": {
       "slide_type": "-"
      }
     },
     "outputs": [
      {
       "metadata": {},
       "output_type": "pyout",
       "prompt_number": 103,
       "text": [
        "10"
       ]
      }
     ],
     "prompt_number": 103
    },
    {
     "cell_type": "code",
     "collapsed": false,
     "input": [
      "x.sum()"
     ],
     "language": "python",
     "metadata": {
      "internals": {
       "slide_helper": "subslide_end"
      },
      "slide_helper": "subslide_end",
      "slideshow": {
       "slide_type": "-"
      }
     },
     "outputs": [
      {
       "metadata": {},
       "output_type": "pyout",
       "prompt_number": 104,
       "text": [
        "10"
       ]
      }
     ],
     "prompt_number": 104
    },
    {
     "cell_type": "markdown",
     "metadata": {
      "internals": {
       "slide_type": "subslide"
      },
      "slideshow": {
       "slide_type": "subslide"
      }
     },
     "source": [
      "\u05d1\u05de\u05e2\u05e8\u05db\u05d9\u05dd \u05e8\u05d1 \u05de\u05de\u05d3\u05d9\u05d9\u05dd, \u05e0\u05d9\u05ea\u05df \u05dc\u05e6\u05de\u05e6\u05dd \u05dc\u05e4\u05d9 \u05e6\u05d9\u05e8 \u05e1\u05e4\u05e6\u05d9\u05e4\u05d9,"
     ]
    },
    {
     "cell_type": "code",
     "collapsed": false,
     "input": [
      "x = np.array([[1, 1], [2, 2]])\n",
      "x"
     ],
     "language": "python",
     "metadata": {
      "internals": {},
      "slideshow": {
       "slide_type": "-"
      }
     },
     "outputs": [
      {
       "metadata": {},
       "output_type": "pyout",
       "prompt_number": 129,
       "text": [
        "array([[1, 1],\n",
        "       [2, 2]])"
       ]
      }
     ],
     "prompt_number": 129
    },
    {
     "cell_type": "code",
     "collapsed": false,
     "input": [
      "x.sum(axis=0)   # columns (first dimension)"
     ],
     "language": "python",
     "metadata": {
      "internals": {
       "slide_helper": "subslide_end"
      },
      "slide_helper": "subslide_end",
      "slideshow": {
       "slide_type": "-"
      }
     },
     "outputs": [
      {
       "metadata": {},
       "output_type": "pyout",
       "prompt_number": 130,
       "text": [
        "array([3, 3])"
       ]
      }
     ],
     "prompt_number": 130
    },
    {
     "cell_type": "code",
     "collapsed": false,
     "input": [
      "x[:, 0].sum(), x[:, 1].sum()"
     ],
     "language": "python",
     "metadata": {
      "internals": {
       "slide_type": "subslide"
      },
      "slideshow": {
       "slide_type": "subslide"
      }
     },
     "outputs": [
      {
       "metadata": {},
       "output_type": "pyout",
       "prompt_number": 108,
       "text": [
        "(3, 3)"
       ]
      }
     ],
     "prompt_number": 108
    },
    {
     "cell_type": "code",
     "collapsed": false,
     "input": [
      "x.sum(axis=1)   # rows (second dimension)"
     ],
     "language": "python",
     "metadata": {
      "internals": {},
      "slideshow": {
       "slide_type": "-"
      }
     },
     "outputs": [
      {
       "metadata": {},
       "output_type": "pyout",
       "prompt_number": 109,
       "text": [
        "array([2, 4])"
       ]
      }
     ],
     "prompt_number": 109
    },
    {
     "cell_type": "code",
     "collapsed": false,
     "input": [
      "x[0, :].sum(), x[1, :].sum()"
     ],
     "language": "python",
     "metadata": {
      "internals": {
       "slide_helper": "subslide_end"
      },
      "slide_helper": "subslide_end",
      "slideshow": {
       "slide_type": "-"
      }
     },
     "outputs": [
      {
       "metadata": {},
       "output_type": "pyout",
       "prompt_number": 110,
       "text": [
        "(2, 4)"
       ]
      }
     ],
     "prompt_number": 110
    },
    {
     "cell_type": "markdown",
     "metadata": {
      "internals": {
       "slide_type": "subslide"
      },
      "slideshow": {
       "slide_type": "subslide"
      }
     },
     "source": [
      "\u05d0\u05d1\u05dc \u05d2\u05dd,"
     ]
    },
    {
     "cell_type": "code",
     "collapsed": false,
     "input": [
      "y = np.array([[1, 2, 3], [5, 6, 1]])\n",
      "y.mean(0)"
     ],
     "language": "python",
     "metadata": {
      "internals": {},
      "slideshow": {
       "slide_type": "-"
      }
     },
     "outputs": [
      {
       "metadata": {},
       "output_type": "pyout",
       "prompt_number": 114,
       "text": [
        "array([ 3.,  4.,  2.])"
       ]
      }
     ],
     "prompt_number": 114
    },
    {
     "cell_type": "code",
     "collapsed": false,
     "input": [
      "y.std(0)"
     ],
     "language": "python",
     "metadata": {
      "internals": {},
      "slideshow": {
       "slide_type": "-"
      }
     },
     "outputs": [
      {
       "metadata": {},
       "output_type": "pyout",
       "prompt_number": 115,
       "text": [
        "array([ 2.,  2.,  1.])"
       ]
      }
     ],
     "prompt_number": 115
    },
    {
     "cell_type": "code",
     "collapsed": false,
     "input": [
      "y.min()"
     ],
     "language": "python",
     "metadata": {
      "internals": {},
      "slideshow": {
       "slide_type": "-"
      }
     },
     "outputs": [
      {
       "metadata": {},
       "output_type": "pyout",
       "prompt_number": 116,
       "text": [
        "1"
       ]
      }
     ],
     "prompt_number": 116
    },
    {
     "cell_type": "code",
     "collapsed": false,
     "input": [
      "y.min(0)"
     ],
     "language": "python",
     "metadata": {
      "internals": {},
      "slideshow": {
       "slide_type": "-"
      }
     },
     "outputs": [
      {
       "metadata": {},
       "output_type": "pyout",
       "prompt_number": 117,
       "text": [
        "array([1, 2, 1])"
       ]
      }
     ],
     "prompt_number": 117
    },
    {
     "cell_type": "markdown",
     "metadata": {
      "internals": {
       "slide_helper": "subslide_end"
      },
      "slide_helper": "slide_end",
      "slideshow": {
       "slide_type": "-"
      }
     },
     "source": [
      "\u05d5\u05e2\u05d5\u05d3"
     ]
    },
    {
     "cell_type": "markdown",
     "metadata": {
      "internals": {
       "slide_type": "subslide"
      },
      "slideshow": {
       "slide_type": "slide"
      }
     },
     "source": [
      "## \u05de\u05e0\u05d9\u05e4\u05d5\u05dc\u05e6\u05d9\u05d4 \u05e2\u05dc \u05d4\u05e6\u05d5\u05e8\u05d4 \u05e9\u05dc \u05de\u05e2\u05e8\u05da"
     ]
    },
    {
     "cell_type": "markdown",
     "metadata": {
      "internals": {},
      "slideshow": {
       "slide_type": "-"
      }
     },
     "source": [
      "\u05e9\u05d9\u05d8\u05d5\u05d7"
     ]
    },
    {
     "cell_type": "code",
     "collapsed": false,
     "input": [
      "a = np.array([[1, 2, 3], [4, 5, 6]])\n",
      "a.ravel()"
     ],
     "language": "python",
     "metadata": {
      "internals": {},
      "slideshow": {
       "slide_type": "-"
      }
     },
     "outputs": [
      {
       "metadata": {},
       "output_type": "pyout",
       "prompt_number": 119,
       "text": [
        "array([1, 2, 3, 4, 5, 6])"
       ]
      }
     ],
     "prompt_number": 119
    },
    {
     "cell_type": "code",
     "collapsed": false,
     "input": [
      "a.T"
     ],
     "language": "python",
     "metadata": {
      "internals": {},
      "slideshow": {
       "slide_type": "-"
      }
     },
     "outputs": [
      {
       "metadata": {},
       "output_type": "pyout",
       "prompt_number": 120,
       "text": [
        "array([[1, 4],\n",
        "       [2, 5],\n",
        "       [3, 6]])"
       ]
      }
     ],
     "prompt_number": 120
    },
    {
     "cell_type": "code",
     "collapsed": false,
     "input": [
      "a.T.ravel()"
     ],
     "language": "python",
     "metadata": {
      "internals": {
       "slide_helper": "subslide_end"
      },
      "slide_helper": "subslide_end",
      "slideshow": {
       "slide_type": "-"
      }
     },
     "outputs": [
      {
       "metadata": {},
       "output_type": "pyout",
       "prompt_number": 121,
       "text": [
        "array([1, 4, 2, 5, 3, 6])"
       ]
      }
     ],
     "prompt_number": 121
    },
    {
     "cell_type": "markdown",
     "metadata": {
      "internals": {
       "slide_type": "subslide"
      },
      "slideshow": {
       "slide_type": "subslide"
      }
     },
     "source": [
      "\u05e9\u05d9\u05e0\u05d5\u05d9 \u05e6\u05d5\u05e8\u05d4"
     ]
    },
    {
     "cell_type": "code",
     "collapsed": false,
     "input": [
      "a.shape"
     ],
     "language": "python",
     "metadata": {
      "internals": {},
      "slideshow": {
       "slide_type": "-"
      }
     },
     "outputs": [
      {
       "metadata": {},
       "output_type": "pyout",
       "prompt_number": 123,
       "text": [
        "(2, 3)"
       ]
      }
     ],
     "prompt_number": 123
    },
    {
     "cell_type": "code",
     "collapsed": false,
     "input": [
      "b = a.ravel()\n",
      "b = b.reshape((2, 3))\n",
      "b"
     ],
     "language": "python",
     "metadata": {
      "internals": {},
      "slideshow": {
       "slide_type": "-"
      }
     },
     "outputs": [
      {
       "metadata": {},
       "output_type": "pyout",
       "prompt_number": 124,
       "text": [
        "array([[1, 2, 3],\n",
        "       [4, 5, 6]])"
       ]
      }
     ],
     "prompt_number": 124
    },
    {
     "cell_type": "code",
     "collapsed": false,
     "input": [
      "a.reshape((2, -1))    # unspecified (-1) value is inferred\n"
     ],
     "language": "python",
     "metadata": {
      "internals": {
       "slide_helper": "subslide_end"
      },
      "slide_helper": "subslide_end",
      "slideshow": {
       "slide_type": "-"
      }
     },
     "outputs": [
      {
       "metadata": {},
       "output_type": "pyout",
       "prompt_number": 125,
       "text": [
        "array([[1, 2, 3],\n",
        "       [4, 5, 6]])"
       ]
      }
     ],
     "prompt_number": 125
    },
    {
     "cell_type": "markdown",
     "metadata": {
      "internals": {
       "slide_type": "subslide"
      },
      "slideshow": {
       "slide_type": "subslide"
      }
     },
     "source": [
      "\u05e9\u05d9\u05e0\u05d5\u05d9 \u05d2\u05d5\u05d3\u05dc"
     ]
    },
    {
     "cell_type": "code",
     "collapsed": false,
     "input": [
      "a = np.arange(4)\n",
      "a.resize((8,))\n",
      "a\n"
     ],
     "language": "python",
     "metadata": {
      "internals": {
       "slide_helper": "subslide_end"
      },
      "slide_helper": "subslide_end",
      "slideshow": {
       "slide_type": "-"
      }
     },
     "outputs": [
      {
       "metadata": {},
       "output_type": "pyout",
       "prompt_number": 126,
       "text": [
        "array([0, 1, 2, 3, 0, 0, 0, 0])"
       ]
      }
     ],
     "prompt_number": 126
    },
    {
     "cell_type": "markdown",
     "metadata": {
      "internals": {
       "slide_type": "subslide"
      },
      "slideshow": {
       "slide_type": "subslide"
      }
     },
     "source": [
      "\u05d0\u05d1\u05dc \u05d0\u05dd \u05d4\u05de\u05e2\u05e8\u05da \u05d4\u05d5\u05d0 \u05d4\u05e4\u05e0\u05d9\u05d4 \u05dc\u05de\u05e2\u05e8\u05da \u05d0\u05d7\u05e8, \u05d6\u05d4 \u05dc\u05d0 \u05d9\u05e2\u05d1\u05d5\u05d3:"
     ]
    },
    {
     "cell_type": "code",
     "collapsed": false,
     "input": [
      "b = a\n",
      "a.resize((4,))   \n"
     ],
     "language": "python",
     "metadata": {
      "internals": {},
      "slideshow": {
       "slide_type": "-"
      }
     },
     "outputs": [
      {
       "ename": "ValueError",
       "evalue": "cannot resize an array references or is referenced\nby another array in this way.  Use the resize function",
       "output_type": "pyerr",
       "traceback": [
        "\u001b[1;31m---------------------------------------------------------------------------\u001b[0m\n\u001b[1;31mValueError\u001b[0m                                Traceback (most recent call last)",
        "\u001b[1;32m<ipython-input-127-fa61239db0dc>\u001b[0m in \u001b[0;36m<module>\u001b[1;34m()\u001b[0m\n\u001b[0;32m      1\u001b[0m \u001b[0mb\u001b[0m \u001b[1;33m=\u001b[0m \u001b[0ma\u001b[0m\u001b[1;33m\u001b[0m\u001b[0m\n\u001b[1;32m----> 2\u001b[1;33m \u001b[0ma\u001b[0m\u001b[1;33m.\u001b[0m\u001b[0mresize\u001b[0m\u001b[1;33m(\u001b[0m\u001b[1;33m(\u001b[0m\u001b[1;36m4\u001b[0m\u001b[1;33m,\u001b[0m\u001b[1;33m)\u001b[0m\u001b[1;33m)\u001b[0m\u001b[1;33m\u001b[0m\u001b[0m\n\u001b[0m",
        "\u001b[1;31mValueError\u001b[0m: cannot resize an array references or is referenced\nby another array in this way.  Use the resize function"
       ]
      }
     ],
     "prompt_number": 127
    },
    {
     "cell_type": "code",
     "collapsed": false,
     "input": [],
     "language": "python",
     "metadata": {
      "internals": {
       "slide_helper": "subslide_end"
      },
      "slide_helper": "slide_end",
      "slideshow": {
       "slide_type": "-"
      }
     },
     "outputs": []
    }
   ],
   "metadata": {}
  }
 ]
}