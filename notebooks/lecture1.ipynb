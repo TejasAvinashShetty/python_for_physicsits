{
 "metadata": {
  "name": ""
 },
 "nbformat": 3,
 "nbformat_minor": 0,
 "worksheets": [
  {
   "cells": [
    {
     "cell_type": "markdown",
     "metadata": {
      "internals": {
       "slide_helper": "subslide_end",
       "slide_type": "subslide"
      },
      "slide_helper": "slide_end",
      "slideshow": {
       "slide_type": "slide"
      }
     },
     "source": [
      "<h1>\n",
      "<center>\n",
      "\u05e1\u05d3\u05e0\u05d0\u05ea \u05e4\u05d9\u05d9\u05ea\u05d5\u05df \u05dc\u05e4\u05d9\u05d6\u05d9\u05e7\u05d0\u05d9\u05dd\n",
      "</center>\n",
      "</h1>\n",
      "\n",
      "\u05d4\u05e4\u05e7\u05d5\u05dc\u05d8\u05d4 \u05dc\u05e4\u05d9\u05d6\u05d9\u05e7\u05d4, \u05d4\u05d8\u05db\u05e0\u05d9\u05d5\u05df.\n",
      "\u05d7\u05d5\u05e8\u05e3 2013\n",
      "\n",
      "\u05de\u05e8\u05e6\u05d4: \u05e8\u05d5\u05e0\u05df \u05d0\u05d1\u05e8\u05d1\u05e0\u05d0\u05dc\n",
      "\n",
      "http://ronenabr.github.io/python_for_physicsits/"
     ]
    },
    {
     "cell_type": "markdown",
     "metadata": {
      "internals": {
       "slide_helper": "subslide_end",
       "slide_type": "subslide"
      },
      "slide_helper": "subslide_end",
      "slideshow": {
       "slide_type": "slide"
      }
     },
     "source": [
      "\u05e8\u05d2\u05e2 \u05dc\u05e4\u05e0\u05d9 \u05e9\u05de\u05ea\u05d7\u05d9\u05dc\u05d9\u05dd:\n",
      "=================\n",
      "* \u05d1\u05e1\u05d3\u05e0\u05d4 \u05d4\u05d6\u05d5 \u05e0\u05db\u05ea\u05d5\u05d1 \u05e7\u05d5\u05d3. \u05dc\u05db\u05df, \u05de\u05d5\u05de\u05dc\u05e5 \u05e9\u05ea\u05d4\u05d9\u05d5 \u05de\u05d5\u05dc \u05de\u05d7\u05e9\u05d1, \u05d5\u05ea\u05d4\u05d9\u05d4 \u05dc\u05db\u05dd \u05d4\u05ea\u05e7\u05e0\u05d4 \u05db\u05dc\u05e9\u05d4\u05d9 \u05e9\u05dc \u05e4\u05d9\u05d9\u05ea\u05d5\u05df.\n",
      "* \u05db\u05dc \u05d4\u05d7\u05d5\u05de\u05e8 \u05dc\u05e1\u05d3\u05e0\u05d0 \u05e0\u05de\u05e6\u05d0 \u05d1- https://github.com/ronenabr/python_for_physicsits .\n",
      "* \u05d0\u05ea\u05dd \u05e6\u05e8\u05d9\u05db\u05d9\u05dd \u05e8\u05e7\u05e2 \u05d1\u05e1\u05d9\u05e1\u05d9 \u05d1\u05e9\u05e4\u05ea \u05ea\u05db\u05e0\u05d5\u05ea \u05db\u05dc\u05e9\u05d4\u05d9\n",
      "  -  \u05dc\u05d0\u05d5 \u05d3\u05d5\u05d5\u05e7\u05d0 \u05dc\u05d6\u05db\u05d5\u05e8 \u05d0\u05d9\u05da \u05de\u05ea\u05db\u05e0\u05ea\u05d9\u05dd, \u05d0\u05d1\u05dc \u05db\u05df \u05dc\u05d6\u05db\u05d5\u05e8 \u05d0\u05ea \u05d4\u05e7\u05d5\u05e0\u05e1\u05e4\u05d8\u05d9\u05dd \u05d4\u05de\u05e8\u05db\u05d6\u05d9\u05d9\u05dd (\u05dc\u05d5\u05dc\u05d0\u05d5\u05ea, \u05ea\u05e0\u05d0\u05d9\u05dd, \u05e4\u05d5\u05e0\u05e7\u05e6\u05d9\u05d5\u05ea, \u05de\u05e9\u05ea\u05e0\u05d9\u05dd \u05d5\u05db\u05d5')\n",
      "\n",
      " \n",
      "  "
     ]
    },
    {
     "cell_type": "markdown",
     "metadata": {
      "internals": {
       "slide_helper": "subslide_end",
       "slide_type": "subslide"
      },
      "slide_helper": "slide_end",
      "slideshow": {
       "slide_type": "subslide"
      }
     },
     "source": [
      "\n",
      "\n",
      " ## \u05de\u05e7\u05d5\u05e8\u05d5\u05ea \u05de\u05d9\u05d3\u05e2 \u05e0\u05d5\u05e1\u05e4\u05d9\u05dd \n",
      "\n",
      " \n",
      "  \n",
      "  -  [Scipy lecture notes](http://scipy-lectures.github.io/index.html)\n",
      "  -  [Python for Data analysis](http://shop.oreilly.com/product/0636920023784.do), Wes McKinney (\u05e1\u05e4\u05e8, \u05e0\u05de\u05e6\u05d0 \u05d1\u05e1\u05e4\u05e8\u05d9\u05d9\u05ea \u05d4\u05d8\u05db\u05e0\u05d9\u05d5\u05df)"
     ]
    },
    {
     "cell_type": "markdown",
     "metadata": {
      "internals": {
       "slide_helper": "subslide_end",
       "slide_type": "subslide"
      },
      "slide_helper": "subslide_end",
      "slideshow": {
       "slide_type": "slide"
      }
     },
     "source": [
      "### \u05de\u05d4 \u05e0\u05dc\u05de\u05d3? ###\n",
      "* \u05e8\u05e7\u05e2 \u05db\u05dc\u05dc\u05d9\n",
      "* \u05e9\u05d9\u05de\u05d5\u05e9 \u05d1\u05e1\u05d9\u05e1\u05d9 \u05d1\u05e4\u05d9\u05d9\u05ea\u05d5\u05df\n",
      " - \u05e9\u05d9\u05de\u05d5\u05e9 \u05d1\u05d8\u05d9\u05e4\u05d5\u05e1\u05d9 \u05de\u05e9\u05ea\u05e0\u05d9\u05dd \u05e9\u05d5\u05e0\u05d9\u05dd\n",
      " - \u05d6\u05e8\u05d9\u05de\u05ea \u05ea\u05d5\u05db\u05e0\u05d9\u05ea \u05d1\u05e4\u05d9\u05d9\u05ea\u05d5\u05df: \u05ea\u05e0\u05d0\u05d9\u05dd \u05d5\u05dc\u05d5\u05dc\u05d0\u05d5\u05ea\n",
      " - \u05db\u05ea\u05d9\u05d1\u05ea \u05e4\u05d5\u05e0\u05e7\u05e6\u05d9\u05d5\u05ea \u05dc\u05d1\u05d9\u05e6\u05d5\u05e2 \u05e4\u05e2\u05d5\u05dc\u05d5\u05ea \u05de\u05d5\u05e8\u05db\u05d1\u05d5\u05ea. \n",
      "\n"
     ]
    },
    {
     "cell_type": "markdown",
     "metadata": {
      "internals": {
       "slide_helper": "subslide_end",
       "slide_type": "subslide"
      },
      "slide_helper": "subslide_end",
      "slideshow": {
       "slide_type": "subslide"
      }
     },
     "source": [
      "* \u05db\u05dc\u05d9\u05dd \u05dc\u05e9\u05d9\u05de\u05d5\u05e9 \u05de\u05d3\u05e2\u05d9 \u05d1\u05e4\u05d9\u05d9\u05ea\u05d5\u05df\n",
      " - \u05d7\u05d9\u05e9\u05d5\u05d1 \u05e2\u05dc \u05de\u05d8\u05e8\u05d9\u05e6\u05d5\u05ea \u05d5\u05db\u05de\u05d5\u05d9\u05d5\u05ea \u05d2\u05d3\u05d5\u05dc\u05d5\u05ea \u05e9\u05dc \u05de\u05d9\u05d3\u05e2 \u05d1\u05d0\u05de\u05e6\u05e2\u05d5\u05ea Numpy\n",
      " - \u05db\u05dc\u05d9\u05dd \u05de\u05d3\u05e2\u05d9\u05d9\u05dd \u05de\u05ea\u05e7\u05d3\u05de\u05d9\u05dd \u05d1-Scipy\n",
      " - \u05e6\u05d9\u05d5\u05e8 \u05ea\u05e8\u05e9\u05d9\u05de\u05d9\u05dd \u05d1\u05d0\u05de\u05e6\u05e2\u05d5\u05ea matplotlib\n",
      " - \u05e2\u05d9\u05d1\u05d5\u05d3 \u05e0\u05ea\u05d5\u05e0\u05d9\u05dd \u05d1\u05d0\u05de\u05e6\u05e2\u05d5\u05ea Pandas"
     ]
    },
    {
     "cell_type": "markdown",
     "metadata": {
      "internals": {
       "slide_helper": "subslide_end",
       "slide_type": "subslide"
      },
      "slide_helper": "slide_end",
      "slideshow": {
       "slide_type": "subslide"
      }
     },
     "source": [
      "* \u05db\u05dc\u05d9\u05dd\n",
      " - \u05e2\u05d1\u05d5\u05d3\u05d4 \u05e2\u05dd \u05de\u05e4\u05e8\u05e9 (Interpeter) \u05e8\u05d2\u05d9\u05dc.\n",
      " - \u05e2\u05d1\u05d5\u05d3\u05d4 \u05d0\u05d9\u05e0\u05d8\u05e8\u05d0\u05e7\u05d8\u05d9\u05d1\u05d9\u05ea \u05e2\u05dd IPython\n",
      " - \u05e1\u05d1\u05d9\u05d1\u05ea \u05e2\u05d1\u05d5\u05d3\u05d4 \u05de\u05e9\u05d5\u05dc\u05d1\u05ea \u05dc\u05e9\u05d9\u05de\u05d5\u05e9 \u05de\u05d3\u05e2\u05d9, spyder."
     ]
    },
    {
     "cell_type": "markdown",
     "metadata": {
      "internals": {
       "slide_helper": "subslide_end",
       "slide_type": "subslide"
      },
      "slide_helper": "subslide_end",
      "slideshow": {
       "slide_type": "slide"
      }
     },
     "source": [
      "## \u05e4\u05d9\u05d9\u05ea\u05d5\u05df, \u05d1\u05d4\u05e9\u05d5\u05d5\u05d0\u05d4 \u05dc\u05db\u05dc\u05d9\u05dd \u05d0\u05d7\u05e8\u05d9\u05dd\n",
      "\u05d0\u05d6, \u05d0\u05ea\u05dd \u05e6\u05e8\u05d9\u05db\u05d9\u05dd \u05dc\u05e2\u05e9\u05d5\u05ea \u05de\u05e9\u05d4\u05d5 \u05e9\u05d0\u05d5\u05dc\u05d9 \u05e2\u05d3\u05d9\u05e3 \u05dc\u05e2\u05e9\u05d5\u05ea \u05e2\u05dc \u05d9\u05d3\u05d9 \u05de\u05d7\u05e9\u05d1: \u05dc\u05db\u05ea\u05d5\u05d1 \u05e1\u05d9\u05de\u05d5\u05dc\u05e6\u05d9\u05d4, \u05dc\u05e2\u05d1\u05d3 \u05ea\u05d5\u05e6\u05d0\u05d5\u05ea \u05e0\u05d9\u05e1\u05d5\u05d9, \u05d0\u05d5 \u05dc\u05e6\u05d9\u05d9\u05e8 \u05e4\u05d5\u05e0\u05e7\u05e6\u05d9\u05d4. \u05d1\u05e9\u05d1\u05d9\u05dc \u05d0\u05d9\u05dc\u05d5 \u05de\u05d4\u05d3\u05d1\u05e8\u05d9\u05dd \u05d4\u05d0\u05dc\u05d5 \u05e2\u05d3\u05d9\u05e3 \u05dc\u05d4\u05e9\u05ea\u05de\u05e9 \u05d1\u05e4\u05d9\u05d9\u05ea\u05d5\u05df, \u05d5\u05de\u05ea\u05d9 \u05db\u05d3\u05d0\u05d9 \u05dc\u05d4\u05e9\u05ea\u05de\u05e9 \u05d1\u05e1\u05d1\u05d9\u05d1\u05d5\u05ea \u05e2\u05d1\u05d5\u05d3\u05d4 / \u05e9\u05e4\u05d5\u05ea \u05d0\u05d7\u05e8\u05d5\u05ea.\n",
      "\n"
     ]
    },
    {
     "cell_type": "markdown",
     "metadata": {
      "internals": {
       "slide_helper": "subslide_end",
       "slide_type": "subslide"
      },
      "slide_helper": "subslide_end",
      "slideshow": {
       "slide_type": "subslide"
      }
     },
     "source": [
      "###\u05de\u05e2\u05e8\u05db\u05d5\u05ea \u05d0\u05dc\u05d2\u05d1\u05e8\u05d4 \u05de\u05de\u05d5\u05d7\u05e9\u05d1\u05d5\u05ea (\"Computer Algebra system\", CAS)\n",
      "\u05db\u05de\u05d5 \"\u05de\u05ea\u05de\u05d8\u05d9\u05e7\u05d4\" \u05d0\u05d5 \"\u05de\u05d9\u05d9\u05e4\u05dc\".  \n",
      "\n",
      "\u05de\u05d5\u05e6\u05dc\u05d7\u05d5\u05ea \u05d1\u05de\u05d9\u05d5\u05d7\u05d3 \u05dc\u05de\u05e0\u05d9\u05e4\u05d5\u05dc\u05e6\u05d9\u05d5\u05ea \u05e1\u05d9\u05de\u05d1\u05d5\u05dc\u05d9\u05d5\u05ea \u05e2\u05dc \u05d1\u05d9\u05d8\u05d5\u05d9\u05d9\u05dd \u05de\u05ea\u05de\u05d8\u05d9\u05d9\u05dd, \u05d5\u05dc\u05e8\u05d5\u05d1 \u05d2\u05dd \u05dc\u05d0 \u05e8\u05e2\u05d5\u05ea \u05d1\u05d5\u05d9\u05d6\u05d5\u05d0\u05dc\u05d6\u05d9\u05e6\u05d9\u05d4 (\"\u05e6\u05d9\u05d5\u05e8\" \u05e9\u05dc \u05e4\u05d5\u05e0\u05e7\u05e6\u05d9\u05d5\u05ea \u05de\u05d5\u05e8\u05db\u05d1\u05d5\u05ea).  \u05dc\u05e8\u05d5\u05d1 \u05de\u05e1\u05d5\u05d1\u05db\u05d5\u05ea \u05d5\u05de\u05e2\u05e6\u05d1\u05e0\u05d5\u05ea \u05dc\u05de\u05d3\u05d9 \u05db\u05e9\u05e4\u05d5\u05e0\u05d9\u05dd \u05dc\"\u05ea\u05db\u05e0\u05d5\u05ea\" \u05d0\u05de\u05d9\u05ea\u05d9.  \n",
      "\n",
      "\u05dc\u05de\u05e8\u05d5\u05ea \u05e9\u05dc\u05e4\u05d9\u05d9\u05ea\u05d5\u05df \u05d9\u05e9 \u05d9\u05db\u05d5\u05dc\u05d5\u05ea \u05dc\u05d0 \u05de\u05d5\u05e2\u05d8\u05d5\u05ea \u05e9\u05dc \n",
      "CAS\n",
      "(\u05d5\u05d0\u05e3 \u05de\u05e2\u05e8\u05db\u05ea CAS \u05de\u05dc\u05d0\u05d4 \u05d4\u05db\u05ea\u05d5\u05d1\u05d4 \u05d1\u05e4\u05d9\u05d9\u05ea\u05d5\u05df \u05d1\u05e9\u05dd Sage), \u05d0\u05e0\u05d7\u05e0\u05d5 \u05dc\u05d0 \u05e0\u05d3\u05d1\u05e8 \u05d9\u05db\u05d5\u05dc\u05d5\u05ea \u05e9\u05dc CAS \u05d1\u05e1\u05d3\u05e0\u05d4 \u05d6\u05d5."
     ]
    },
    {
     "cell_type": "markdown",
     "metadata": {
      "internals": {
       "slide_helper": "subslide_end",
       "slide_type": "subslide"
      },
      "slide_helper": "subslide_end",
      "slideshow": {
       "slide_type": "subslide"
      }
     },
     "source": [
      "## \u05e9\u05e4\u05d5\u05ea \u05ea\u05db\u05e0\u05d5\u05ea \"\u05d0\u05de\u05d9\u05ea\u05d9\u05d5\u05ea\" \n",
      "\u05db\u05de\u05d5\n",
      "C, C++ \u05d0\u05d5 \u05e4\u05d5\u05e8\u05d8\u05e8\u05df\n",
      "\n",
      "\u05d4\u05d9\u05d9\u05ea\u05e8\u05d5\u05df \u05d4\u05e2\u05d9\u05e7\u05e8\u05d9 \u05e9\u05dc\u05d4\u05df \u05d4\u05df \u05e9\u05d4\u05df \u05de\u05d4\u05d9\u05e8\u05d5\u05ea \u05dc\u05de\u05d3\u05d9 (\u05d6\u05de\u05df \u05d4\u05d4\u05e8\u05e6\u05d4 \u05e9\u05dc\u05d4\u05df, \u05d0\u05dd \u05d4\u05ea\u05d5\u05db\u05e0\u05d4 \u05db\u05ea\u05d5\u05d1\u05d4 \u05d4\u05d9\u05d8\u05d1, \u05e7\u05e6\u05e8 \u05d1\u05d4\u05e8\u05d1\u05d4 \u05d1\u05d4\u05e8\u05d1\u05d4 \u05de\u05e7\u05e8\u05d9\u05dd \u05d1\u05ea\u05d5\u05db\u05e0\u05d9\u05d5\u05ea \u05e9\u05db\u05ea\u05d5\u05d1\u05d5\u05ea \u05d1\"\u05e1\u05d5\u05d2\u05d9\u05dd\" \u05d0\u05d7\u05e8\u05d9\u05dd \u05e9\u05dc \u05e9\u05e4\u05d5\u05ea).  \n",
      "\u05db\u05de\u05d5 \u05db\u05df, \u05d9\u05e9 \u05d4\u05de\u05d5\u05df \u05e1\u05e4\u05e8\u05d9\u05d5\u05ea \u05d5\u05db\u05dc\u05d9\u05dd \u05e9\u05e2\u05d5\u05d6\u05e8\u05d9\u05dd \u05dc\u05e2\u05e9\u05d5\u05ea \u05de\u05d3\u05e2 .\n",
      "\n",
      "\u05d4\u05d1\u05e2\u05d9\u05d4 \u05d4\u05d9\u05d0 \u05e9\u05d6\u05de\u05df \u05d4\u05e4\u05d9\u05ea\u05d5\u05d7 \u05d1\u05e9\u05e4\u05d5\u05ea \u05d0\u05dc\u05d5 \u05d0\u05e8\u05d5\u05da \u05d1\u05d4\u05e8\u05d1\u05d4 \u05de\u05d0\u05e9\u05e8 \u05d1\u05e7\u05d8\u05d2\u05d5\u05e8\u05d9\u05d5\u05ea \u05d4\u05d0\u05d7\u05e8\u05d5\u05df, \u05e7\u05e9\u05d4 \u05d9\u05d5\u05ea\u05e8 \u05dc\u05d4\u05de\u05e0\u05e2 \u05de\u05d1\u05e2\u05d9\u05d5\u05ea \u05d7\u05de\u05d5\u05e8\u05d5\u05ea \u05d1\u05db\u05ea\u05d9\u05d1\u05ea \u05d4\u05e7\u05d5\u05d3 \u05d5\u05d4\u05df \u05e7\u05e9\u05d5\u05ea \u05d9\u05d5\u05ea\u05e8 \u05dc\u05dc\u05de\u05d9\u05d3\u05d4. "
     ]
    },
    {
     "cell_type": "markdown",
     "metadata": {
      "internals": {
       "slide_helper": "subslide_end",
       "slide_type": "subslide"
      },
      "slide_helper": "subslide_end",
      "slideshow": {
       "slide_type": "subslide"
      }
     },
     "source": [
      "## \u05de\u05d8\u05dc\u05d1\n",
      "\n",
      "\u05e9\u05e4\u05d4 \u05d0\u05d9\u05e0\u05d8\u05e8\u05d0\u05e7\u05d8\u05d9\u05d1\u05d9\u05ea \u05e4\u05e9\u05d5\u05d8\u05d4 \u05dc\u05dc\u05de\u05d9\u05d3\u05d4 \u05d5\u05dc\u05e9\u05d9\u05de\u05d5\u05e9 \u05e2\u05dd \u05d4\u05de\u05d5\u05df \u05db\u05dc\u05d9\u05dd (toolbox) \n",
      "\u05e0\u05d5\u05d7\u05d9\u05dd \u05dc\u05e9\u05d9\u05de\u05d5\u05e9 \u05dc\u05de\u05d3\u05e2\u05e0\u05d9\u05dd \u05d5\u05de\u05d4\u05e0\u05d3\u05e1\u05d9\u05dd. \u05e1\u05e4\u05e8\u05d9\u05d5\u05ea \u05de\u05ea\u05de\u05d8\u05d9\u05d5\u05ea \u05de\u05d4\u05d9\u05e8\u05d5\u05ea \u05dc\u05de\u05d3\u05d9. \n",
      "\u05d4\u05d9\u05d0 \u05e0\u05e4\u05d5\u05e6\u05d4 \u05dc\u05de\u05d3\u05d9 \u05d5\u05e2\u05dd \u05d1\u05e1\u05d9\u05e1 \u05d9\u05d3\u05e2 \u05e8\u05d7\u05d1. \n",
      "\n",
      "\u05de\u05e6\u05d3 \u05e9\u05e0\u05d9, \u05d4\u05d9\u05d0  [\u05dc\u05d0 \u05db\u05dc \u05db\u05da \u05de\u05d5\u05e6\u05dc\u05d7\u05ea](http://abandonmatlab.wordpress.com/) \u05d1\u05ea\u05d5\u05e8 \u05e9\u05e4\u05d4 \u05dc\u05e9\u05d9\u05de\u05d5\u05e9 \u05db\u05dc\u05dc\u05d9. \n",
      "\u05d5\u05dc\u05de\u05d9 \u05de\u05db\u05dd \u05e9\u05d6\u05d4 \u05de\u05d8\u05e8\u05d9\u05d3 \u05d0\u05d5\u05ea\u05d5, \u05de\u05d8\u05dc\u05d1 \u05e2\u05e6\u05de\u05d4, \u05d5\u05d7\u05dc\u05e7 \u05e0\u05d9\u05db\u05e8 \u05de\u05d4\u05db\u05dc\u05d9\u05dd \u05e9\u05d1\u05d0\u05d9\u05dd \u05d0\u05d9\u05ea\u05d4, \u05d9\u05e7\u05e8\u05d9\u05dd \u05dc\u05de\u05d3\u05d9. \n"
     ]
    },
    {
     "cell_type": "markdown",
     "metadata": {
      "internals": {
       "slide_helper": "subslide_end",
       "slide_type": "subslide"
      },
      "slide_helper": "slide_end",
      "slideshow": {
       "slide_type": "subslide"
      }
     },
     "source": [
      "## \u05e4\u05d9\u05d9\u05ea\u05d5\u05df\n",
      "\n",
      "\u05d1\u05e8\u05d0\u05e9 \u05d5\u05d1\u05e8\u05d0\u05e9\u05d5\u05e0\u05d4 - \u05e9\u05e4\u05ea \u05e1\u05e7\u05e8\u05d9\u05e4\u05d8 \u05dc\u05e9\u05d9\u05de\u05d5\u05e9 \u05db\u05dc\u05dc\u05d9. \u05e7\u05dc\u05d4 \u05dc\u05e9\u05d9\u05de\u05d5\u05e9 \u05d5\u05dc\u05de\u05d9\u05d3\u05d4 , \u05d5\u05e2\u05dd \u05de\u05e4\u05e2\u05e0\u05d7 \u05d0\u05d9\u05e0\u05d8\u05e8\u05d0\u05e7\u05d8\u05d9\u05d1\u05d9. \n",
      "\u05d1\u05e0\u05d5\u05e1\u05e3 \u05dc\u05db\u05da, \u05dc\u05e4\u05d9\u05d9\u05ea\u05d5\u05df \u05d9\u05e9 \u05d4\u05de\u05d5\u05dd \u05db\u05dc\u05d9\u05dd \u05d5\u05e1\u05e4\u05e8\u05d9\u05d5\u05ea (\"\u05ea\u05d5\u05e1\u05e4\u05d5\u05ea \u05dc\u05e9\u05e4\u05d4\") \u05e9\u05de\u05e7\u05dc\u05d5\u05ea \u05de\u05d0\u05d5\u05d3 \u05e2\u05dc \u05e4\u05d9\u05ea\u05d5\u05d7 \u05dc\u05e6\u05e8\u05db\u05d9\u05dd \u05de\u05d3\u05e2\u05d9\u05d9\u05dd. \u05d4\u05df \u05e1\u05e4\u05e8\u05d9\u05d5\u05ea \u05db\u05dc\u05dc\u05d9\u05d5\u05ea \u05dc\u05d0\u05dc\u05d2\u05d1\u05e8\u05d4 \u05dc\u05d9\u05e0\u05d0\u05e8\u05d9\u05ea, \u05d7\u05d9\u05e9\u05d5\u05d1\u05d9\u05dd \u05e1\u05d8\u05d8\u05d9\u05e1\u05d8\u05d9\u05d9\u05dd, \u05e2\u05d9\u05d1\u05d5\u05d3 \u05e0\u05ea\u05d5\u05e0\u05d9\u05dd, \u05d5\u05d9\u05d6\u05d0\u05d5\u05dc\u05d9\u05d6\u05e6\u05d9\u05d4 \u05d5\u05db\u05d9\u05d5\"\u05d1, \n",
      "\u05d5\u05d4\u05df \u05db\u05dc\u05d9\u05dd \u05e1\u05e4\u05e6\u05d9\u05e4\u05d9\u05d9\u05dd \u05dc\u05ea\u05d7\u05d5\u05de\u05d9\u05dd \u05e6\u05e8\u05d9\u05dd\n",
      "(astropy, pyroot, pyalps \u05dc\u05d0\u05e1\u05d8\u05e8\u05d5\u05e4\u05d9\u05d6\u05d9\u05e7\u05d4, \u05d7\u05dc\u05e7\u05d9\u05e7\u05d9\u05dd \u05d5\u05de\u05e6\u05d1 \u05de\u05d5\u05e6\u05e7, \u05dc\u05d3\u05d5\u05d2\u05de\u05d4)\n",
      ".\n",
      "\n",
      "\u05d7\u05d5\u05e5 \u05de\u05d6\u05d4, \u05e4\u05d9\u05d9\u05ea\u05d5\u05df \u05d4\u05d9\u05d0 \u05e9\u05e4\u05d4 \u05d7\u05d5\u05e4\u05e9\u05d9\u05ea, \u05d5\u05db\u05da \u05d2\u05dd \u05d7\u05dc\u05e7 \u05e0\u05d9\u05db\u05e8 \u05de\u05d4\u05e1\u05e4\u05e8\u05d9\u05d5\u05ea \u05d5\u05d4\u05db\u05dc\u05d9\u05dd \u05d4\u05e0\u05d5\u05e1\u05e4\u05d9\u05dd \u05d4\u05e7\u05e9\u05d5\u05e8\u05d9\u05dd \u05d0\u05dc\u05d9\u05d4. \u05d4\u05d9\u05d0 \u05de\u05db\u05d9\u05dc\u05d4 \u05d0\u05d9\u05e0\u05e1\u05e4\u05d5\u05e8 \u05e1\u05e4\u05e8\u05d9\u05d5\u05ea \u05d5\u05db\u05dc\u05d9\u05dd. \n",
      "\u05d1\u05e4\u05e8\u05d8, \u05d4\u05d9\u05d0 \u05e9\u05e4\u05d4 \u05dc\u05d0 \u05e8\u05e2\u05d4 \u05d2\u05dd \u05e2\u05d1\u05d5\u05e8 \u05e4\u05e8\u05d5\u05d9\u05e7\u05d8\u05d9\u05dd \u05d2\u05d3\u05d5\u05dc\u05d9\u05dd \u05de\u05d0\u05d5\u05d3. \n",
      "\n",
      "\u05dc\u05de\u05e8\u05d5\u05ea \u05d6\u05d0\u05ea, \u05d1\u05ea\u05d7\u05d5\u05de\u05d9\u05dd \u05e9\u05d5\u05e0\u05d9\u05dd,  \u05dc\u05e1\u05d1\u05d9\u05d1\u05d5\u05ea \u05d0\u05d7\u05e8\u05d5\u05ea \u05d9\u05e9 \u05db\u05dc\u05d9\u05dd \u05de\u05e7\u05d9\u05e4\u05d9\u05dd \u05d9\u05d5\u05ea\u05e8. \u05dc\u05e4\u05e2\u05de\u05d9\u05dd, \u05d6\u05d5 \u05e1\u05d9\u05d1\u05d4 \u05de\u05e1\u05e4\u05d9\u05e7\u05d4. "
     ]
    },
    {
     "cell_type": "markdown",
     "metadata": {
      "internals": {
       "slide_helper": "subslide_end",
       "slide_type": "subslide"
      },
      "slide_helper": "slide_end",
      "slideshow": {
       "slide_type": "slide"
      }
     },
     "source": [
      "\u05e1\u05d1\u05d9\u05d1\u05ea \u05d4\u05e2\u05d1\u05d5\u05d3\u05d4\n",
      "===========\n",
      "* \u05d1\u05d7\u05dc\u05d5\u05e0\u05d5\u05ea, [winpython](http://code.google.com/p/winpython/) \u05db\u05d5\u05dc\u05dc\u05ea \u05d0\u05ea \u05db\u05dc \u05d4\u05db\u05dc\u05d9\u05dd \u05e9\u05e0\u05d6\u05d3\u05e7\u05e7 \u05dc\u05d4\u05dd \u05d1\u05e1\u05d3\u05e0\u05d0 \u05d6\u05d5. (\u05dc\u05d0 \u05dc\u05d4\u05ea\u05d1\u05dc\u05d1\u05dc \u05e2\u05dd PythonWin), \u05d5\u05db\u05d5\u05dc\u05dc\u05ea \u05d4\u05ea\u05e7\u05e0\u05d4 \u05e4\u05d5\u05e8\u05d8\u05d5\u05d1\u05d9\u05dc\u05d9\u05ea\n",
      "  - \u05d4\u05d5\u05e8\u05d9\u05d3\u05d5 \u05e2\u05db\u05e9\u05d9\u05d5 \u05d2\u05e8\u05e1\u05d0 \u05de\u05ea\u05d0\u05d9\u05de\u05d4, \u05d0\u05d5 \u05d4\u05e2\u05ea\u05d9\u05e7\u05d5 \u05de\u05d4\u05db\u05d5\u05e0\u05df \u05d4\u05e0\u05d9\u05d9\u05d3 \u05e9\u05e2\u05d5\u05d1\u05e8 \u05d1\u05d9\u05e0\u05db\u05dd\n",
      "  - [\u05ea\u05e4\u05e2\u05d5\u05dc \u05e9\u05dc winPython]()\n",
      "* \u05d1\u05dc\u05d9\u05e0\u05d5\u05e7\u05e1, \u05d4\u05ea\u05e7\u05d9\u05e0\u05d5 \u05d0\u05ea \u05d4\u05d7\u05d1\u05d9\u05dc\u05d5\u05ea \u05e9\u05e0\u05d3\u05d5\u05df \u05d1\u05d4\u05df \u05de\u05de\u05e0\u05d4\u05dc \u05d4\u05d7\u05d1\u05d9\u05dc\u05d5\u05ea \u05e9\u05dc \u05d4\u05d4\u05e4\u05e6\u05d4.\n",
      "* \u05d0\u05dd \u05d0\u05ea\u05dd \u05de\u05e9\u05ea\u05de\u05e9\u05d9\u05dd \u05d1-OS X, \u05ea\u05d0\u05dc\u05e6\u05d5 \u05dc\u05d4\u05e1\u05ea\u05d3\u05e8 \u05dc\u05d1\u05d3."
     ]
    },
    {
     "cell_type": "markdown",
     "metadata": {
      "internals": {
       "slide_helper": "subslide_end",
       "slide_type": "subslide"
      },
      "slide_helper": "subslide_end",
      "slideshow": {
       "slide_type": "slide"
      }
     },
     "source": [
      "\u05d4\u05de\u05e4\u05e8\u05e9  (interpreter) \u05e9\u05dc \u05e4\u05d9\u05d9\u05ea\u05d5\u05df\n",
      "============\n",
      "\n",
      "\u05de\u05d1\u05e6\u05e2 \u05e4\u05e7\u05d5\u05d3\u05d5\u05ea \u05d4\u05de\u05d5\u05d6\u05e0\u05d5\u05ea \u05d0\u05dc\u05d9\u05d5 \u05d1\u05d6\u05d5 \u05d0\u05d7\u05e8 \u05d6\u05d5. \n",
      "\n",
      "* \u05dc\u05de\u05e4\u05e8\u05e9 \u05e9\u05dc \u05e4\u05d9\u05d9\u05ea\u05d5\u05df \u05e0\u05d9\u05ea\u05df \u05dc\u05d4\u05d6\u05d9\u05df \u05e7\u05d1\u05e6\u05d9\u05dd \u05e9\u05dc\u05de\u05d9\u05dd (\"\u05ea\u05d5\u05db\u05e0\u05d9\u05ea \u05e4\u05d9\u05d9\u05ea\u05d5\u05df\") \u05d0\u05d5 \u05dc\u05d4\u05e7\u05dc\u05d9\u05d3 \u05e4\u05e7\u05d5\u05d3\u05d5\u05ea \u05d1\u05d5\u05d3\u05d3\u05d5\u05ea, \u05d1\u05e6\u05d5\u05e8\u05d4 \u05d0\u05d9\u05e0\u05d8\u05e8\u05d0\u05e7\u05d8\u05d9\u05d1\u05d9\u05ea.\n",
      "* \u05ea\u05d5\u05db\u05e0\u05d9\u05ea \u05e4\u05d9\u05d9\u05ea\u05d5\u05df \u05d4\u05d9\u05d0 \u05e7\u05d5\u05d1\u05e5 \u05d8\u05e7\u05e1\u05d8 \u05d4\u05de\u05db\u05d9\u05dc \u05e4\u05e7\u05d5\u05d3\u05d5\u05ea \u05dc\u05de\u05e4\u05e8\u05e9.\n",
      "* \u05dc\u05e4\u05e2\u05de\u05d9\u05dd \u05e0\u05d5\u05d7 \u05d9\u05d5\u05ea\u05e8 \u05dc\u05d4\u05e7\u05dc\u05d9\u05d3 \u05dc\u05de\u05e4\u05e8\u05e9 \u05e4\u05e7\u05d5\u05d3\u05d5\u05ea \u05d1\u05d5\u05d3\u05d3\u05d5\u05ea:\n",
      " - \u05db\u05d3\u05d9 \u05dc\u05d1\u05d3\u05d5\u05e7 \u05de\u05d4 \u05e4\u05e7\u05d5\u05d3\u05d4 \u05e2\u05d5\u05e9\u05d4 \u05d1\u05dc\u05d9 \u05dc\u05d4\u05e8\u05d9\u05e5 \u05ea\u05d5\u05db\u05e0\u05d9\u05ea \u05e9\u05dc\u05de\u05d4.\n",
      " - \u05d0\u05e4\u05e9\u05e8 \u05dc\u05d4\u05e9\u05ea\u05de\u05e9 \u05d1\u05d5 \u05db\u05de\u05d7\u05e9\u05d1\u05d5\u05df.\n",
      " - \u05db\u05d3\u05d9 \"\u05dc\u05e9\u05d7\u05e7\" \u05d0\u05dd \u05e0\u05ea\u05d5\u05e0\u05d9\u05dd (\"exploration\")\n",
      "\n",
      "\u05d4\u05de\u05e4\u05e8\u05e9 \u05d4\"\u05d1\u05e1\u05d9\u05e1\u05d9\" \u05e9\u05dc \u05e4\u05d9\u05d9\u05ea\u05d5\u05df  \u05dc\u05d0 \u05de\u05d0\u05d5\u05d3 \u05e0\u05d5\u05d7 \u05dc\u05e9\u05d9\u05de\u05d5\u05e9. \u05d1\u05e1\u05d3\u05e0\u05d0 \u05d6\u05d5, \u05e0\u05e9\u05ea\u05de\u05e9 \u05d1\u05de\u05d2\u05d5\u05d5\u05df \u05e2\u05d8\u05d9\u05e4\u05d5\u05ea \u05dc\u05de\u05e4\u05e8\u05e9 \u05e9\u05d9\u05e7\u05dc\u05d5 \u05d0\u05ea \u05d4\u05e9\u05d9\u05de\u05d5\u05e9 \u05d1\u05d5. "
     ]
    },
    {
     "cell_type": "code",
     "collapsed": false,
     "input": [
      " print \"hello nice world\"    "
     ],
     "language": "python",
     "metadata": {
      "internals": {
       "slide_helper": "subslide_end",
       "slide_type": "subslide"
      },
      "slide_helper": "subslide_end",
      "slideshow": {
       "slide_type": "subslide"
      }
     },
     "outputs": [
      {
       "output_type": "stream",
       "stream": "stdout",
       "text": [
        "hello nice world\n"
       ]
      }
     ],
     "prompt_number": 4
    },
    {
     "cell_type": "code",
     "collapsed": false,
     "input": [
      "a = 3\n",
      "b = 2*a\n",
      "type(b)"
     ],
     "language": "python",
     "metadata": {
      "internals": {
       "slide_type": "subslide"
      },
      "slideshow": {
       "slide_type": "subslide"
      }
     },
     "outputs": [
      {
       "metadata": {},
       "output_type": "pyout",
       "prompt_number": 1,
       "text": [
        "int"
       ]
      }
     ],
     "prompt_number": 1
    },
    {
     "cell_type": "code",
     "collapsed": false,
     "input": [
      "print b"
     ],
     "language": "python",
     "metadata": {
      "internals": {},
      "slideshow": {
       "slide_type": "-"
      }
     },
     "outputs": [
      {
       "output_type": "stream",
       "stream": "stdout",
       "text": [
        "6\n"
       ]
      }
     ],
     "prompt_number": 2
    },
    {
     "cell_type": "code",
     "collapsed": false,
     "input": [
      "a*b"
     ],
     "language": "python",
     "metadata": {
      "internals": {},
      "slideshow": {
       "slide_type": "-"
      }
     },
     "outputs": [
      {
       "metadata": {},
       "output_type": "pyout",
       "prompt_number": 3,
       "text": [
        "18"
       ]
      }
     ],
     "prompt_number": 3
    },
    {
     "cell_type": "code",
     "collapsed": false,
     "input": [
      "print a*b"
     ],
     "language": "python",
     "metadata": {
      "internals": {},
      "slideshow": {
       "slide_type": "-"
      }
     },
     "outputs": [
      {
       "output_type": "stream",
       "stream": "stdout",
       "text": [
        "18\n"
       ]
      }
     ],
     "prompt_number": 4
    },
    {
     "cell_type": "code",
     "collapsed": false,
     "input": [
      "b + b"
     ],
     "language": "python",
     "metadata": {
      "internals": {},
      "slideshow": {
       "slide_type": "-"
      }
     },
     "outputs": [
      {
       "metadata": {},
       "output_type": "pyout",
       "prompt_number": 5,
       "text": [
        "12"
       ]
      }
     ],
     "prompt_number": 5
    },
    {
     "cell_type": "code",
     "collapsed": false,
     "input": [
      "b*b"
     ],
     "language": "python",
     "metadata": {
      "internals": {},
      "slideshow": {
       "slide_type": "-"
      }
     },
     "outputs": [
      {
       "metadata": {},
       "output_type": "pyout",
       "prompt_number": 6,
       "text": [
        "36"
       ]
      }
     ],
     "prompt_number": 6
    },
    {
     "cell_type": "code",
     "collapsed": false,
     "input": [
      "b = 'hello'\n",
      "type(b)"
     ],
     "language": "python",
     "metadata": {
      "internals": {
       "slide_helper": "subslide_end"
      },
      "slide_helper": "subslide_end",
      "slideshow": {
       "slide_type": "-"
      }
     },
     "outputs": [
      {
       "metadata": {},
       "output_type": "pyout",
       "prompt_number": 7,
       "text": [
        "str"
       ]
      }
     ],
     "prompt_number": 7
    },
    {
     "cell_type": "markdown",
     "metadata": {
      "internals": {
       "slide_helper": "subslide_end",
       "slide_type": "subslide"
      },
      "slide_helper": "slide_end",
      "slideshow": {
       "slide_type": "subslide"
      }
     },
     "source": [
      "\u05db\u05d3\u05d9 \u05dc\u05d4\u05e8\u05d9\u05e5 \u05ea\u05d5\u05db\u05e0\u05d9\u05ea \u05e9\u05dc\u05de\u05d4 \u05d1\u05d0\u05de\u05e6\u05e2\u05d5\u05ea \u05d4\u05de\u05e4\u05e2\u05e0\u05d7:\n",
      "    \n",
      "    python code.py (linux)\n",
      "    pythonw code.py  (windows)\n",
      " "
     ]
    },
    {
     "cell_type": "markdown",
     "metadata": {
      "internals": {
       "slide_helper": "subslide_end",
       "slide_type": "subslide"
      },
      "slide_helper": "slide_end",
      "slideshow": {
       "slide_type": "slide"
      }
     },
     "source": [
      "#\u05ea\u05e8\u05d2\u05d9\u05dc\u05d5\u05df\n",
      "\n",
      "1. \u05e4\u05ea\u05d7\u05d5 \u05d0\u05ea \u05d4\u05de\u05e4\u05e2\u05e0\u05d7 \u05d5\u05db\u05ea\u05d1\u05d5 \u05ea\u05d5\u05db\u05e0\u05d9\u05ea \u05e9\u05de\u05d3\u05e4\u05d9\u05e1\u05d4 \"Hello, world\"\n",
      "2. \u05db\u05ea\u05d1\u05d5 \u05e7\u05d5\u05d1\u05e5 \u05d8\u05e7\u05e1\u05d8 \u05e2\u05dd \u05e1\u05d9\u05d5\u05de\u05ea .py \u05e9\u05de\u05db\u05d9\u05dc \u05e7\u05d5\u05d3 \u05dc\u05d4\u05d3\u05e4\u05e1\u05ea \"Hello, world\". \u05d4\u05e8\u05d9\u05e6\u05d5 \u05d0\u05d5\u05ea\u05d5 \u05d1\u05d0\u05de\u05e6\u05e2\u05d5\u05ea \u05d4\u05de\u05e4\u05e2\u05e0\u05d7."
     ]
    }
   ],
   "metadata": {}
  }
 ]
}