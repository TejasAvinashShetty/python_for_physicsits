{
 "metadata": {
  "name": ""
 },
 "nbformat": 3,
 "nbformat_minor": 0,
 "worksheets": [
  {
   "cells": [
    {
     "cell_type": "markdown",
     "metadata": {
      "internals": {
       "slide_helper": "subslide_end",
       "slide_type": "subslide"
      },
      "slide_helper": "slide_end",
      "slideshow": {
       "slide_type": "slide"
      }
     },
     "source": [
      "<h1>\n",
      "<center>\n",
      "\u05e1\u05d3\u05e0\u05d0\u05ea \u05e4\u05d9\u05d9\u05ea\u05d5\u05df \u05dc\u05e4\u05d9\u05d6\u05d9\u05e7\u05d0\u05d9\u05dd\n",
      "</center>\n",
      "</h1>\n",
      "\n",
      "## \u05e4\u05d5\u05e0\u05e7\u05e6\u05d9\u05d5\u05ea\n",
      "\n",
      "\u05d4\u05e4\u05e7\u05d5\u05dc\u05d8\u05d4 \u05dc\u05e4\u05d9\u05d6\u05d9\u05e7\u05d4, \u05d4\u05d8\u05db\u05e0\u05d9\u05d5\u05df.\n",
      "\u05d7\u05d5\u05e8\u05e3 2013\n",
      "\n",
      "\u05de\u05e8\u05e6\u05d4: \u05e8\u05d5\u05e0\u05df \u05d0\u05d1\u05e8\u05d1\u05e0\u05d0\u05dc\n"
     ]
    },
    {
     "cell_type": "markdown",
     "metadata": {
      "internals": {
       "slide_helper": "subslide_end",
       "slide_type": "subslide"
      },
      "slide_helper": "slide_end",
      "slideshow": {
       "slide_type": "slide"
      }
     },
     "source": [
      "**\u05e4\u05d5\u05e0\u05e7\u05e6\u05d9\u05d5\u05ea**\n",
      "\u05d4\u05df \u05e7\u05d8\u05e2\u05d9 \u05e7\u05d5\u05d3 \u05d4\u05e0\u05db\u05ea\u05d1\u05d9\u05dd \u05e4\u05e2\u05dd \u05d0\u05d7\u05ea, \u05d5\u05de\u05d1\u05e6\u05e2\u05d9\u05dd \u05e1\u05d3\u05e8\u05d4 \u05e9\u05dc \u05e4\u05e2\u05d5\u05dc\u05d5\u05ea \u05d1\u05db\u05dc \u05e4\u05e2\u05dd \u05e9\u05d4\u05df \u05e0\u05e7\u05e8\u05d0\u05d5\u05ea. \u05e9\u05d9\u05de\u05d5\u05e9 \u05d8\u05d5\u05d1 \u05d1\u05e4\u05d5\u05e0\u05e7\u05e6\u05d9\u05d5\u05ea \u05de\u05d0\u05e4\u05e9\u05e8 \u05dc\u05db\u05ea\u05d5\u05d1 \u05e7\u05d5\u05d3 \u05e7\u05e8\u05d9\u05d0 \u05d9\u05d5\u05ea\u05e8, \u05d5\u05d1\u05e7\u05dc\u05d5\u05ea \u05e8\u05d1\u05d4 \u05d9\u05d5\u05ea\u05e8. \n",
      "\n",
      "\u05e4\u05d5\u05e0\u05e7\u05e6\u05d9\u05d5\u05ea \u05d1-C:\n",
      "\n",
      "    float location(int time, float x0, float v0, float a)\n",
      "    {\n",
      "        return x0 + v0*t + a*a*t/2;\n",
      "    }\n",
      "    \n",
      "\u05d1\u05e4\u05d9\u05d9\u05ea\u05d5\u05df, \u05db\u05de\u05d5 \u05d1\u05e4\u05d9\u05d9\u05ea\u05d5\u05df, \u05d0\u05d9\u05df \u05e6\u05d5\u05e8\u05da \u05dc\u05d4\u05e6\u05d4\u05d9\u05e8 \u05e2\u05dc \u05d8\u05d9\u05e4\u05d5\u05e1\u05d9 \u05e4\u05e8\u05de\u05d8\u05e8\u05d9\u05dd \u05d5\u05e2\u05dc \u05e2\u05e8\u05da \u05d4\u05d7\u05d6\u05e8\u05d4."
     ]
    },
    {
     "cell_type": "markdown",
     "metadata": {
      "internals": {
       "slide_type": "subslide"
      },
      "slideshow": {
       "slide_type": "slide"
      }
     },
     "source": [
      "## \u05d4\u05d2\u05d3\u05e8\u05ea \u05e4\u05d5\u05e0\u05e7\u05e6\u05d9\u05d5\u05ea"
     ]
    },
    {
     "cell_type": "code",
     "collapsed": false,
     "input": [
      "def test():\n",
      "    print \"in test function\"\n",
      "\n",
      "test()"
     ],
     "language": "python",
     "metadata": {
      "internals": {},
      "slideshow": {
       "slide_type": "-"
      }
     },
     "outputs": [
      {
       "output_type": "stream",
       "stream": "stdout",
       "text": [
        "in test function\n"
       ]
      }
     ],
     "prompt_number": 1
    },
    {
     "cell_type": "markdown",
     "metadata": {
      "internals": {
       "slide_helper": "subslide_end"
      },
      "slide_helper": "subslide_end",
      "slideshow": {
       "slide_type": "-"
      }
     },
     "source": [
      "\u05ea\u05d5\u05db\u05df \u05d4\u05e4\u05d5\u05e0\u05e7\u05e6\u05d9\u05d4 \u05de\u05d5\u05d6\u05d7 \u05e4\u05e0\u05d9\u05de\u05d4, \u05dc\u05e6\u05d9\u05d9\u05df \u05e9\u05de\u05d3\u05d5\u05d1\u05e8 \u05d1*\u05d1\u05dc\u05d5\u05e7* \u05d7\u05d3\u05e9."
     ]
    },
    {
     "cell_type": "markdown",
     "metadata": {
      "internals": {
       "slide_type": "subslide"
      },
      "slideshow": {
       "slide_type": "subslide"
      }
     },
     "source": [
      "## \u05d4\u05d7\u05d6\u05e8\u05ea \u05e2\u05e8\u05da\n",
      "\u05de\u05ea\u05d1\u05e6\u05e2\u05ea \u05d1\u05d0\u05de\u05e6\u05e2\u05d5\u05ea *return*. \u05d0\u05d9\u05df \u05e6\u05d5\u05e8\u05da \u05dc\u05d4\u05e6\u05d4\u05d9\u05e8 \u05e2\u05dc \u05d8\u05d9\u05e4\u05d5\u05e1 \u05d4\u05e0\u05ea\u05d5\u05e0\u05d9\u05dd \u05d4\u05de\u05d5\u05d7\u05d6\u05e8.\n"
     ]
    },
    {
     "cell_type": "code",
     "collapsed": false,
     "input": [
      "def disk_area(radius):\n",
      "    return 3.14 * radius * radius\n",
      "\n",
      "disk_area(1.5)"
     ],
     "language": "python",
     "metadata": {
      "internals": {},
      "slideshow": {
       "slide_type": "-"
      }
     },
     "outputs": [
      {
       "metadata": {},
       "output_type": "pyout",
       "prompt_number": 2,
       "text": [
        "7.0649999999999995"
       ]
      }
     ],
     "prompt_number": 2
    },
    {
     "cell_type": "markdown",
     "metadata": {
      "internals": {
       "slide_helper": "subslide_end"
      },
      "slide_helper": "slide_end",
      "slideshow": {
       "slide_type": "fragment"
      }
     },
     "source": [
      "** \u05d4\u05d2\u05d3\u05e8\u05ea \u05e4\u05d5\u05e0\u05e7\u05e6\u05d9\u05d4 \u05de\u05d5\u05e8\u05db\u05d1\u05ea \u05de\u05de\u05e1\u05e4\u05e8 \u05d7\u05dc\u05e7\u05d9\u05dd **\n",
      "\n",
      "* \u05d4\u05de\u05d9\u05dc\u05d4 \u05d4\u05e9\u05de\u05d5\u05e8\u05d4 *def*\n",
      "* \u05dc\u05d0\u05d7\u05e8\u05d9\u05d4, \u05e9\u05dd \u05d4\u05e4\u05d5\u05e0\u05e7\u05e6\u05d9\u05d4.\n",
      "* \u05dc\u05d0\u05d7\u05e8 \u05de\u05db\u05df, \u05d4\u05d0\u05e8\u05d2\u05d5\u05de\u05e0\u05d8\u05d9\u05dd \u05d4\u05de\u05d5\u05e2\u05d1\u05e8\u05d9\u05dd \u05dc\u05e4\u05d5\u05e0\u05e7\u05e6\u05d9\u05d4, \u05de\u05d5\u05e7\u05e4\u05d9\u05dd \u05d1\u05e1\u05d5\u05d2\u05e8\u05d9\u05d9\u05dd \u05d5\u05de\u05d5\u05e4\u05e8\u05d3\u05d9\u05dd \u05e2\u05dc \u05d9\u05d3\u05d9 \u05e4\u05e1\u05d9\u05e7.\n",
      "  \u05dc\u05d0\u05d7\u05e8 \u05d4\u05e1\u05d5\u05d2\u05e8\u05d9\u05d9\u05dd, \u05d4\u05e9\u05d5\u05e8\u05d4 \u05de\u05e1\u05ea\u05d9\u05d9\u05de\u05ea \u05d1\u05e0\u05e7\u05d5\u05d3\u05ea\u05d9\u05d9\u05dd.\n",
      "* \u05d2\u05d5\u05e3 \u05d4\u05e4\u05d5\u05e0\u05e7\u05e6\u05d9\u05d4.\n",
      "* \u05d4\u05d7\u05d6\u05e8\u05ea \u05e2\u05e8\u05da, *return*"
     ]
    },
    {
     "cell_type": "markdown",
     "metadata": {
      "internals": {
       "slide_type": "subslide"
      },
      "slideshow": {
       "slide_type": "slide"
      }
     },
     "source": [
      "## \u05d4\u05e2\u05d1\u05e8\u05ea \u05e4\u05e8\u05de\u05d8\u05e8\u05d9\u05dd \u05dc\u05e4\u05d5\u05e0\u05e7\u05e6\u05d9\u05d4\n",
      "\n",
      "\u05e4\u05e8\u05de\u05d8\u05e8\u05d9\u05dd \u05d4\u05db\u05e8\u05d7\u05d9\u05d9\u05dd \u05de\u05d5\u05e2\u05d1\u05e8\u05d9\u05dd \u05dc\u05e4\u05d5\u05e0\u05e7\u05e6\u05d9\u05d4 \u05dc\u05e4\u05d9 \u05d4\u05e1\u05d3\u05e8"
     ]
    },
    {
     "cell_type": "code",
     "collapsed": false,
     "input": [
      "def double_it(x):\n",
      "    return x*2\n",
      "double_it(3)"
     ],
     "language": "python",
     "metadata": {
      "internals": {
       "slide_helper": "subslide_end"
      },
      "slide_helper": "subslide_end",
      "slideshow": {
       "slide_type": "-"
      }
     },
     "outputs": [
      {
       "metadata": {},
       "output_type": "pyout",
       "prompt_number": 2,
       "text": [
        "6"
       ]
      }
     ],
     "prompt_number": 2
    },
    {
     "cell_type": "markdown",
     "metadata": {
      "internals": {
       "slide_type": "subslide"
      },
      "slideshow": {
       "slide_type": "subslide"
      }
     },
     "source": [
      "\u05d0\u05dd \u05de\u05e1\u05e4\u05e8 \u05d4\u05e4\u05e8\u05de\u05d8\u05e8\u05d9\u05dd \u05d4\u05de\u05d5\u05e2\u05d1\u05e8\u05d9\u05dd \u05dc\u05e4\u05d5\u05e0\u05e7\u05e6\u05d9\u05d4 \u05e9\u05d5\u05e0\u05d4 \u05de\u05de\u05e1\u05e4\u05e8 \u05d4\u05e4\u05e8\u05de\u05d8\u05e8\u05d9\u05dd \u05d4\u05d4\u05db\u05e8\u05d7\u05d9\u05d9\u05dd, \u05ea\u05ea\u05e8\u05d7\u05e9 \u05e9\u05d2\u05d9\u05d0\u05d4,"
     ]
    },
    {
     "cell_type": "code",
     "collapsed": false,
     "input": [
      "double_it()"
     ],
     "language": "python",
     "metadata": {
      "internals": {
       "slide_helper": "subslide_end"
      },
      "slide_helper": "subslide_end",
      "slideshow": {
       "slide_type": "-"
      }
     },
     "outputs": [
      {
       "ename": "TypeError",
       "evalue": "double_it() takes exactly 1 argument (0 given)",
       "output_type": "pyerr",
       "traceback": [
        "\u001b[1;31m---------------------------------------------------------------------------\u001b[0m\n\u001b[1;31mTypeError\u001b[0m                                 Traceback (most recent call last)",
        "\u001b[1;32m<ipython-input-3-51cdedbb81b0>\u001b[0m in \u001b[0;36m<module>\u001b[1;34m()\u001b[0m\n\u001b[1;32m----> 1\u001b[1;33m \u001b[0mdouble_it\u001b[0m\u001b[1;33m(\u001b[0m\u001b[1;33m)\u001b[0m\u001b[1;33m\u001b[0m\u001b[0m\n\u001b[0m",
        "\u001b[1;31mTypeError\u001b[0m: double_it() takes exactly 1 argument (0 given)"
       ]
      }
     ],
     "prompt_number": 3
    },
    {
     "cell_type": "markdown",
     "metadata": {
      "internals": {
       "slide_type": "subslide"
      },
      "slideshow": {
       "slide_type": "subslide"
      }
     },
     "source": [
      "\u05e0\u05d9\u05ea\u05df \u05dc\u05d4\u05d2\u05d3\u05d9\u05e8 \u05e4\u05e8\u05de\u05d8\u05e8\u05d9\u05dd \u05d0\u05d5\u05e4\u05e6\u05d9\u05d5\u05e0\u05d0\u05dc\u05d9\u05dd, \u05d5\u05dc\u05d4\u05dd \u05e2\u05e8\u05da \u05d1\u05e8\u05d9\u05e8\u05ea \u05de\u05d7\u05d3\u05dc.  \u05e4\u05e8\u05de\u05d8\u05e8\u05d9\u05dd \u05db\u05d0\u05dc\u05d5 \u05dc\u05d0 \u05d7\u05d9\u05d9\u05d1\u05d9\u05dd \u05dc\u05d4\u05e2\u05d1\u05d9\u05e8 \u05dc\u05e4\u05d5\u05e0\u05e7\u05e6\u05d9\u05d4. "
     ]
    },
    {
     "cell_type": "code",
     "collapsed": false,
     "input": [
      "def double_it(x=2):\n",
      "    return x*2\n",
      "double_it()"
     ],
     "language": "python",
     "metadata": {
      "internals": {},
      "slideshow": {
       "slide_type": "-"
      }
     },
     "outputs": [
      {
       "metadata": {},
       "output_type": "pyout",
       "prompt_number": 5,
       "text": [
        "4"
       ]
      }
     ],
     "prompt_number": 5
    },
    {
     "cell_type": "code",
     "collapsed": false,
     "input": [
      "double_it(3)"
     ],
     "language": "python",
     "metadata": {
      "internals": {
       "slide_helper": "subslide_end"
      },
      "slide_helper": "subslide_end",
      "slideshow": {
       "slide_type": "-"
      }
     },
     "outputs": [
      {
       "metadata": {},
       "output_type": "pyout",
       "prompt_number": 6,
       "text": [
        "6"
       ]
      }
     ],
     "prompt_number": 6
    },
    {
     "cell_type": "markdown",
     "metadata": {
      "internals": {
       "slide_type": "subslide"
      },
      "slideshow": {
       "slide_type": "subslide"
      }
     },
     "source": [
      "\u05e4\u05e8\u05de\u05d8\u05e8\u05d9\u05dd \u05d0\u05d5\u05e4\u05e6\u05d9\u05d5\u05e0\u05d0\u05dc\u05d9\u05d9\u05dd \u05d7\u05d9\u05d9\u05d1\u05d9\u05dd \u05dc\u05d1\u05d5\u05d0 \u05d0\u05d7\u05e8\u05d5\u05e0\u05d9\u05dd (\u05d0\u05dc\u05d0 \u05d0\u05dd \u05db\u05df \u05e7\u05d5\u05e8\u05d0\u05d9\u05dd \u05d1\u05e9\u05de\u05dd)"
     ]
    },
    {
     "cell_type": "code",
     "collapsed": false,
     "input": [
      "def location(t, x0=0, v0=0, a=9.8):\n",
      "    return x0 + v0*t + (a*t**2)/2\n",
      "location(5)"
     ],
     "language": "python",
     "metadata": {
      "internals": {},
      "slideshow": {
       "slide_type": "-"
      }
     },
     "outputs": [
      {
       "metadata": {},
       "output_type": "pyout",
       "prompt_number": 9,
       "text": [
        "122.50000000000001"
       ]
      }
     ],
     "prompt_number": 9
    },
    {
     "cell_type": "code",
     "collapsed": false,
     "input": [
      "location(5, 0,0, 42)"
     ],
     "language": "python",
     "metadata": {
      "internals": {
       "slide_helper": "subslide_end"
      },
      "slide_helper": "subslide_end",
      "slideshow": {
       "slide_type": "-"
      }
     },
     "outputs": [
      {
       "metadata": {},
       "output_type": "pyout",
       "prompt_number": 10,
       "text": [
        "525"
       ]
      }
     ],
     "prompt_number": 10
    },
    {
     "cell_type": "markdown",
     "metadata": {
      "internals": {
       "slide_type": "subslide"
      },
      "slideshow": {
       "slide_type": "subslide"
      }
     },
     "source": [
      "\u05e0\u05d9\u05ea\u05df \u05dc\u05d4\u05e2\u05d1\u05d9\u05e8 \u05e4\u05e8\u05de\u05d8\u05e8\u05d9\u05dd \u05d2\u05dd \u05dc\u05e4\u05d9 \u05e9\u05de\u05dd: \u05d4\u05e4\u05e8\u05de\u05d8\u05e8\u05d9\u05dd \u05d4\u05e8\u05d0\u05e9\u05d5\u05e0\u05d9\u05dd \u05d7\u05d9\u05d9\u05d1\u05d9\u05dd \u05dc\u05d1\u05d5\u05d0 \u05dc\u05e4\u05d9 \u05d4\u05e1\u05d3\u05e8, \u05d5\u05dc\u05d0\u05d7\u05e8 \u05de\u05db\u05df, \u05d1\u05db\u05dc \u05e1\u05d3\u05e8 \u05e9\u05d4\u05d5\u05d0:"
     ]
    },
    {
     "cell_type": "code",
     "collapsed": false,
     "input": [
      "location(5, a=42)"
     ],
     "language": "python",
     "metadata": {
      "internals": {},
      "slideshow": {
       "slide_type": "-"
      }
     },
     "outputs": [
      {
       "metadata": {},
       "output_type": "pyout",
       "prompt_number": 11,
       "text": [
        "525"
       ]
      }
     ],
     "prompt_number": 11
    },
    {
     "cell_type": "code",
     "collapsed": false,
     "input": [
      "location(5, a=42, x0=-1)"
     ],
     "language": "python",
     "metadata": {
      "internals": {
       "slide_helper": "subslide_end"
      },
      "slide_helper": "slide_end",
      "slideshow": {
       "slide_type": "-"
      }
     },
     "outputs": [
      {
       "metadata": {},
       "output_type": "pyout",
       "prompt_number": 12,
       "text": [
        "524"
       ]
      }
     ],
     "prompt_number": 12
    },
    {
     "cell_type": "markdown",
     "metadata": {
      "internals": {
       "slide_type": "subslide"
      },
      "slideshow": {
       "slide_type": "slide"
      }
     },
     "source": [
      "## \u05de\u05e9\u05ea\u05e0\u05d9\u05dd \u05d2\u05dc\u05d5\u05d1\u05d0\u05dc\u05d9\u05d9\u05dd\n",
      "\n",
      "\u05dc\u05de\u05e9\u05ea\u05e0\u05d9\u05dd \u05d4\u05de\u05d5\u05d2\u05d3\u05e8\u05d9\u05dd \u05de\u05d7\u05d5\u05e5 \u05dc\u05e4\u05d5\u05e0\u05e7\u05e6\u05d9\u05d4, \u05e0\u05d9\u05ea\u05df \u05dc\u05d4\u05ea\u05d9\u05d9\u05d7\u05e1 \u05d1\u05ea\u05d5\u05da \u05d4\u05e4\u05d5\u05e0\u05e7\u05e6\u05d9\u05d4:"
     ]
    },
    {
     "cell_type": "code",
     "collapsed": false,
     "input": [
      "x = 5\n",
      "def addx(y):\n",
      "    return x+y\n",
      "addx(10)"
     ],
     "language": "python",
     "metadata": {
      "internals": {
       "slide_helper": "subslide_end"
      },
      "slide_helper": "subslide_end",
      "slideshow": {
       "slide_type": "-"
      }
     },
     "outputs": [
      {
       "metadata": {},
       "output_type": "pyout",
       "prompt_number": 13,
       "text": [
        "15"
       ]
      }
     ],
     "prompt_number": 13
    },
    {
     "cell_type": "markdown",
     "metadata": {
      "internals": {
       "slide_type": "subslide"
      },
      "slideshow": {
       "slide_type": "subslide"
      }
     },
     "source": [
      "\u05d0\u05d1\u05dc \u05de\u05e9\u05ea\u05e0\u05d9\u05dd \u05db\u05d0\u05dc\u05d5, \u05dc\u05d0 \u05e0\u05d9\u05ea\u05df \u05dc\u05e9\u05e0\u05d5\u05ea \u05d1\u05ea\u05d5\u05da \u05d4\u05e4\u05d5\u05e0\u05e7\u05e6\u05d9\u05d4, \u05d0\u05dc\u05d0 \u05d0\u05dd \u05db\u05df \u05de\u05d7\u05e8\u05d9\u05d6\u05d9\u05dd \u05e2\u05dc\u05d9\u05d4\u05dd \u05db\u05d2\u05dc\u05d5\u05d1\u05dc\u05d9\u05dd."
     ]
    },
    {
     "cell_type": "markdown",
     "metadata": {
      "internals": {},
      "slideshow": {
       "slide_type": "-"
      }
     },
     "source": [
      "\u05d4\u05d3\u05d5\u05d2\u05de\u05d4 \u05d4\u05d1\u05d0\u05d4 \u05d0\u05d9\u05e0\u05d4 \u05e2\u05d5\u05d1\u05d3\u05ea:"
     ]
    },
    {
     "cell_type": "code",
     "collapsed": false,
     "input": [
      "x=5\n",
      "def setx(y):\n",
      "    x = y\n",
      "    print \"x is now %d\" % x\n",
      "setx(10)\n",
      "print x"
     ],
     "language": "python",
     "metadata": {
      "internals": {
       "slide_helper": "subslide_end"
      },
      "slide_helper": "subslide_end",
      "slideshow": {
       "slide_type": "-"
      }
     },
     "outputs": [
      {
       "output_type": "stream",
       "stream": "stdout",
       "text": [
        "x is now 10\n",
        "5\n"
       ]
      }
     ],
     "prompt_number": 16
    },
    {
     "cell_type": "markdown",
     "metadata": {
      "internals": {
       "slide_type": "subslide"
      },
      "slideshow": {
       "slide_type": "subslide"
      }
     },
     "source": [
      "\u05d0\u05dd \u05e0\u05e9\u05ea\u05de\u05e9 \u05d1\u05de\u05d9\u05dc\u05d4 \u05d4\u05e9\u05de\u05d5\u05e8\u05d4 *global*..."
     ]
    },
    {
     "cell_type": "code",
     "collapsed": false,
     "input": [
      "x=5\n",
      "def setx(y):\n",
      "    global x\n",
      "    x = y\n",
      "    print \"x is now %d, for real\" % x\n",
      "\n",
      "setx(10)\n",
      "print x"
     ],
     "language": "python",
     "metadata": {
      "internals": {
       "slide_helper": "subslide_end"
      },
      "slide_helper": "slide_end",
      "slideshow": {
       "slide_type": "-"
      }
     },
     "outputs": [
      {
       "output_type": "stream",
       "stream": "stdout",
       "text": [
        "x is now 10, for real\n",
        "10\n"
       ]
      }
     ],
     "prompt_number": 18
    },
    {
     "cell_type": "markdown",
     "metadata": {
      "internals": {
       "slide_helper": "subslide_end",
       "slide_type": "subslide"
      },
      "slide_helper": "slide_end",
      "slideshow": {
       "slide_type": "slide"
      }
     },
     "source": [
      "## \u05e2\u05dc \u05de\u05d4 \u05dc\u05d0 \u05d3\u05d9\u05d1\u05e8\u05e0\u05d5?\n",
      "\u05e7\u05e6\u05e8\u05d4 \u05d4\u05d9\u05e8\u05d9\u05e2\u05d4 \u05dc\u05ea\u05d0\u05e8 \u05d0\u05ea \u05db\u05dc \u05d4\u05de\u05d0\u05e4\u05d9\u05d9\u05e0\u05d9\u05dd \u05e9\u05dc \u05e4\u05d5\u05e0\u05e7\u05e6\u05d9\u05d5\u05ea \u05d1\u05e4\u05d9\u05d9\u05ea\u05d5\u05df. \u05d4\u05e0\u05d4 \u05db\u05de\u05d4 \u05d3\u05d1\u05e8\u05d9\u05dd \u05e9\u05dc\u05d0 \u05e0\u05d3\u05d1\u05e8 \u05e2\u05dc\u05d9\u05d4\u05dd:\n",
      "\n",
      "* \u05db\u05ea\u05d9\u05d1\u05ea \u05ea\u05d9\u05e2\u05d5\u05d3 \u05d1\u05ea\u05d5\u05da \u05e7\u05d5\u05d3 \u05d4\u05e4\u05d5\u05e0\u05e7\u05e6\u05d9\u05d4, *docstring*\n",
      "* \u05e9\u05d9\u05e0\u05d5\u05d9 \u05e2\u05e8\u05db\u05d9\u05dd \u05e9\u05dc \u05e4\u05e8\u05de\u05d8\u05e8\u05d9\u05dd \u05d1\u05ea\u05d5\u05da \u05e4\u05d5\u05e0\u05e7\u05e6\u05d9\u05d4\n",
      "* \u05d4\u05e2\u05d1\u05e8\u05ea \u05de\u05e1\u05e4\u05e8 \u05dc\u05d0 \u05d9\u05d3\u05d5\u05e2 \u05e9\u05dc \u05e4\u05e8\u05de\u05d8\u05e8\u05d9\u05dd \u05dc\u05e4\u05d5\u05e0\u05e7\u05e6\u05d9\u05d4: *args, **kwargs\n",
      "* \u05e9\u05d9\u05de\u05d5\u05e9 \u05d1\u05e4\u05d5\u05e0\u05e7\u05e6\u05d9\u05d5\u05ea \u05d1\u05ea\u05d5\u05e8 \"\u05de\u05e9\u05ea\u05e0\u05d4\""
     ]
    },
    {
     "cell_type": "markdown",
     "metadata": {
      "slideshow": {
       "slide_type": "slide"
      }
     },
     "source": [
      "# \u05ea\u05e8\u05d2\u05d9\u05dc\u05d5\u05df\n",
      "\u05e0\u05d9\u05ea\u05df \u05dc\u05d1\u05e6\u05e2 \u05d0\u05ea \u05d4\u05ea\u05e8\u05d2\u05d9\u05dc\u05d9\u05dd \u05d4\u05df \u05d1\u05de\u05e4\u05e2\u05e0\u05d7 \u05d5\u05d4\u05df \u05d1\u05e7\u05d5\u05d1\u05e5 \u05e0\u05e4\u05e8\u05d3\n",
      "\n",
      "\n",
      "1.   \u05e7\u05d1\u05e2\u05d5 \u05de\u05e9\u05ea\u05e0\u05d9\u05dd \u05d2\u05dc\u05d5\u05d1\u05d0\u05dc\u05d9\u05d9\u05dd \u05d4\u05de\u05d0\u05db\u05e1\u05e0\u05d9\u05dd \u05d0\u05ea \u05d4\u05de\u05d4\u05d9\u05e8\u05d5\u05ea \u05d4\u05d4\u05ea\u05d7\u05dc\u05ea\u05d9\u05ea \u05d5\u05d4\u05ea\u05d0\u05d5\u05e6\u05d4. \u05db\u05ea\u05d1\u05d5 \u05e4\u05d5\u05e0\u05e7\u05e6\u05d9\u05d4 \u05d4\u05de\u05e7\u05d1\u05dc\u05ea \u05de\u05d9\u05e7\u05d5\u05dd \u05d4\u05ea\u05d7\u05dc\u05ea\u05d9 \u05d5\u05d6\u05de\u05df  \u05d5\u05de\u05d7\u05d6\u05d9\u05e8\u05d4 \u05d0\u05ea \u05de\u05d9\u05e7\u05d5\u05de\u05d5 \u05e9\u05dc \u05d4\u05d7\u05dc\u05e7\u05d9\u05e7.\n",
      "2. \u05db\u05ea\u05d1\u05d5 \u05e4\u05d5\u05e0\u05e7\u05e6\u05d9\u05d4 \u05d4\u05de\u05e9\u05e0\u05d4 \u05d0\u05ea \u05d4\u05de\u05e9\u05ea\u05e0\u05d4 \u05d4\"\u05e9\u05de\u05d5\u05e8\" \u05d4\u05de\u05db\u05d9\u05dc \u05d0\u05ea \u05d4\u05ea\u05d0\u05d5\u05e6\u05d4, \u05d5\u05e4\u05d5\u05e0\u05e7\u05e6\u05d9\u05d4 \u05d0\u05d7\u05e8\u05ea \u05d4\u05de\u05e9\u05e0\u05d4 \u05d0\u05ea \u05d4\u05de\u05d4\u05d9\u05e8\u05d5\u05ea \u05d4\u05d4\u05ea\u05d7\u05dc\u05ea\u05d9\u05ea \u05d4\u05e9\u05de\u05d5\u05e8\u05d4.\n",
      "4. \u05db\u05ea\u05d1\u05d5 \u05e4\u05d5\u05e0\u05e7\u05e6\u05d9\u05d4 \u05d4\u05de\u05e7\u05d1\u05dc\u05ea:\n",
      "  * \u05d6\u05de\u05df\n",
      "  * \u05e8\u05e9\u05d9\u05de\u05d4 \u05d4\u05de\u05db\u05d9\u05dc\u05d4 \u05d0\u05ea \u05d4\u05db\u05d5\u05d7 \u05d4\u05e4\u05d5\u05e2\u05dc \u05e2\u05dc \u05d2\u05d5\u05e3 \u05d1\u05db\u05dc \u05e9\u05e0\u05d9\u05d4 (\u05d1\u05ea\u05d0 \u05d4\u05e8\u05d0\u05e9\u05d5\u05df \u05d4\u05db\u05d5\u05d7 \u05d1\u05de\u05d4\u05dc\u05da \u05d4\u05e9\u05e0\u05d9\u05d4 \u05d4\u05e8\u05d0\u05e9\u05d5\u05e0\u05d4, \u05d1\u05ea\u05d0 \u05d4\u05e9\u05e0\u05d9 \u05d1\u05e9\u05e0\u05d9\u05d4 \u05d4\u05e9\u05e0\u05d9\u05d4 \u05d5\u05db\u05df \u05d4\u05dc\u05d0\u05d4)\n",
      "  \u05d4\u05e4\u05d5\u05e0\u05e7\u05e6\u05d9\u05d4 \u05de\u05e9\u05ea\u05de\u05e9\u05ea \u05d1\u05e2\u05e8\u05da \u05d4\u05de\u05e1\u05d4 \u05d4\u05e9\u05de\u05d5\u05e8 \u05d1\u05de\u05e9\u05ea\u05e0\u05d4 \u05d2\u05dc\u05d5\u05d1\u05d0\u05dc\u05d9, \u05d5\u05de\u05d7\u05e9\u05d1\u05ea \u05d0\u05ea \u05de\u05d9\u05e7\u05d5\u05de\u05d5 \u05e9\u05dc \u05d4\u05d7\u05dc\u05e7\u05d9\u05e7 \u05d1\u05d6\u05de\u05df \u05d4\u05de\u05d5\u05e2\u05d1\u05e8.\n",
      "  \n",
      "  \u05e0\u05d9\u05ea\u05df \u05dc\u05db\u05ea\u05d5\u05d1 \u05e4\u05d5\u05e0\u05e7\u05e6\u05d9\u05d5\u05ea \u05e2\u05d6\u05e8. \u05de\u05d5\u05de\u05dc\u05e5 \u05dc\u05d4\u05e9\u05ea\u05de\u05e9 \u05d1\u05dc\u05d5\u05dc\u05d0\u05d4. "
     ]
    }
   ],
   "metadata": {}
  }
 ]
}