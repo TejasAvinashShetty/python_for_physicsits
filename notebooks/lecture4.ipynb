{
 "metadata": {
  "name": ""
 },
 "nbformat": 3,
 "nbformat_minor": 0,
 "worksheets": [
  {
   "cells": [
    {
     "cell_type": "markdown",
     "metadata": {},
     "source": [
      "<h1>\n",
      "<center>\n",
      "\u05e1\u05d3\u05e0\u05d0\u05ea \u05e4\u05d9\u05d9\u05ea\u05d5\u05df \u05dc\u05e4\u05d9\u05d6\u05d9\u05e7\u05d0\u05d9\u05dd\n",
      "</center>\n",
      "</h1>\n",
      "\n",
      "## \u05e4\u05d5\u05e0\u05e7\u05e6\u05d9\u05d5\u05ea\n",
      "\n",
      "\u05d4\u05e4\u05e7\u05d5\u05dc\u05d8\u05d4 \u05dc\u05e4\u05d9\u05d6\u05d9\u05e7\u05d4, \u05d4\u05d8\u05db\u05e0\u05d9\u05d5\u05df.\n",
      "\u05d7\u05d5\u05e8\u05e3 2013\n",
      "\n",
      "\u05de\u05e8\u05e6\u05d4: \u05e8\u05d5\u05e0\u05df \u05d0\u05d1\u05e8\u05d1\u05e0\u05d0\u05dc\n"
     ]
    },
    {
     "cell_type": "markdown",
     "metadata": {},
     "source": []
    },
    {
     "cell_type": "markdown",
     "metadata": {},
     "source": [
      "## \u05d4\u05d2\u05d3\u05e8\u05ea \u05e4\u05d5\u05e0\u05e7\u05e6\u05d9\u05d5\u05ea"
     ]
    },
    {
     "cell_type": "code",
     "collapsed": false,
     "input": [
      "def test():\n",
      "    print \"in test function\"\n",
      "\n",
      "test()"
     ],
     "language": "python",
     "metadata": {},
     "outputs": [
      {
       "output_type": "stream",
       "stream": "stdout",
       "text": [
        "in test function\n"
       ]
      }
     ],
     "prompt_number": 1
    },
    {
     "cell_type": "markdown",
     "metadata": {},
     "source": [
      "## \u05d4\u05d7\u05d6\u05e8\u05ea \u05e2\u05e8\u05da\n",
      "\u05de\u05ea\u05d1\u05e6\u05e2\u05ea \u05d1\u05d0\u05de\u05e6\u05e2\u05d5\u05ea *return*. \u05d0\u05d9\u05df \u05e6\u05d5\u05e8\u05da \u05dc\u05d4\u05e6\u05d4\u05d9\u05e8 \u05e2\u05dc \u05d8\u05d9\u05e4\u05d5\u05e1 \u05d4\u05e0\u05ea\u05d5\u05e0\u05d9\u05dd \u05d4\u05de\u05d5\u05d7\u05d6\u05e8.\n"
     ]
    },
    {
     "cell_type": "code",
     "collapsed": false,
     "input": [
      "def disk_area(radius):\n",
      "    return 3.14 * radius * radius\n",
      "\n",
      "disk_area(1.5)"
     ],
     "language": "python",
     "metadata": {},
     "outputs": [
      {
       "metadata": {},
       "output_type": "pyout",
       "prompt_number": 2,
       "text": [
        "7.0649999999999995"
       ]
      }
     ],
     "prompt_number": 2
    },
    {
     "cell_type": "markdown",
     "metadata": {},
     "source": [
      "** \u05d4\u05d2\u05d3\u05e8\u05ea \u05e4\u05d5\u05e0\u05e7\u05e6\u05d9\u05d4 \u05de\u05d5\u05e8\u05db\u05d1\u05ea \u05de\u05de\u05e1\u05e4\u05e8 \u05d7\u05dc\u05e7\u05d9\u05dd **\n",
      "\n",
      "* \u05d4\u05de\u05d9\u05dc\u05d4 \u05d4\u05e9\u05de\u05d5\u05e8\u05d4 *def*\n",
      "* \u05dc\u05d0\u05d7\u05e8\u05d9\u05d4, \u05e9\u05dd \u05d4\u05e4\u05d5\u05e0\u05e7\u05e6\u05d9\u05d4.\n",
      "* \u05dc\u05d0\u05d7\u05e8 \u05de\u05db\u05df, \u05d4\u05d0\u05e8\u05d2\u05d5\u05de\u05e0\u05d8\u05d9\u05dd \u05d4\u05de\u05d5\u05e2\u05d1\u05e8\u05d9\u05dd \u05dc\u05e4\u05d5\u05e0\u05e7\u05e6\u05d9\u05d4, \u05de\u05d5\u05e7\u05e4\u05d9\u05dd \u05d1\u05e1\u05d5\u05d2\u05e8\u05d9\u05d9\u05dd \u05d5\u05de\u05d5\u05e4\u05e8\u05d3\u05d9\u05dd \u05e2\u05dc \u05d9\u05d3\u05d9 \u05e4\u05e1\u05d9\u05e7.\n",
      "  \u05dc\u05d0\u05d7\u05e8 \u05d4\u05e1\u05d5\u05d2\u05e8\u05d9\u05d9\u05dd, \u05d4\u05e9\u05d5\u05e8\u05d4 \u05de\u05e1\u05ea\u05d9\u05d9\u05de\u05ea \u05d1\u05e0\u05e7\u05d5\u05d3\u05ea\u05d9\u05d9\u05dd.\n",
      "* \u05d2\u05d5\u05e3 \u05d4\u05e4\u05d5\u05e0\u05e7\u05e6\u05d9\u05d4.\n",
      "* \u05d4\u05d7\u05d6\u05e8\u05ea \u05e2\u05e8\u05da, *return*"
     ]
    },
    {
     "cell_type": "code",
     "collapsed": false,
     "input": [],
     "language": "python",
     "metadata": {},
     "outputs": []
    }
   ],
   "metadata": {}
  }
 ]
}