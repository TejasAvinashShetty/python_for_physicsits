{
 "metadata": {
  "name": ""
 },
 "nbformat": 3,
 "nbformat_minor": 0,
 "worksheets": [
  {
   "cells": [
    {
     "cell_type": "markdown",
     "metadata": {},
     "source": [
      "# \u05e1\u05d3\u05e0\u05d0\u05ea \u05e4\u05d9\u05d9\u05ea\u05d5\u05df \u05dc\u05e4\u05d9\u05d6\u05d9\u05e7\u05d0\u05d9\u05dd\n",
      "\n",
      "\n",
      "## \u05d3\u05d5\u05d2\u05de\u05d4: \u05e4\u05ea\u05e8\u05d5\u05df \u05de\u05e9\u05d5\u05d5\u05d0\u05ea \u05e9\u05e8\u05d3\u05d9\u05e0\u05d2\u05e8    \n",
      "\n",
      "\u05d4\u05e4\u05e7\u05d5\u05dc\u05d8\u05d4 \u05dc\u05e4\u05d9\u05d6\u05d9\u05e7\u05d4, \u05d4\u05d8\u05db\u05e0\u05d9\u05d5\u05df.\n",
      "\u05d7\u05d5\u05e8\u05e3 2013\n",
      "\n",
      "\u05de\u05e8\u05e6\u05d4: \u05e8\u05d5\u05e0\u05df \u05d0\u05d1\u05e8\u05d1\u05e0\u05d0\u05dc\n"
     ]
    },
    {
     "cell_type": "markdown",
     "metadata": {},
     "source": [
      "\u05d1\u05d7\u05dc\u05e7 \u05d4\u05d6\u05d4 \u05e9\u05dc \u05d4\u05e1\u05d3\u05e0\u05d4 \u05e0\u05e2\u05e7\u05d5\u05d1 \u05d0\u05d7\u05e8\u05d9 \u05de\u05e7\u05e8\u05d4 \u05dc\u05d3\u05d5\u05d2\u05de\u05d4 - \u05e4\u05ea\u05e8\u05d5\u05df \u05de\u05e9\u05d5\u05d5\u05d0\u05ea \u05e9\u05e8\u05d3\u05d9\u05e0\u05d2\u05e8 \u05d4\u05ea\u05dc\u05d5\u05d9\u05d4 \u05d1\u05d6\u05de\u05df \u05e2\u05d1\u05d5\u05e8 \u05e4\u05d5\u05d8\u05e0\u05e6\u05d9\u05d0\u05dc \u05e9\u05e8\u05d9\u05e8\u05d5\u05ea\u05d9. \n",
      "\n",
      "\u05d4\u05d3\u05d5\u05d2\u05de\u05d4 \u05de\u05d1\u05d5\u05e1\u05ea \u05e2\u05dc \u05e4\u05d5\u05e1\u05d8 \u05d1\u05d1\u05dc\u05d5\u05d2 \u05e9\u05dc\n",
      "[\u05d2'\u05d9\u05d9\u05e7 \u05d5\u05d0\u05e0\u05d3\u05e8\u05e4\u05dc\u05e1](http://jakevdp.github.io/blog/2012/09/05/quantum-python/).\n",
      "\n",
      "\u05d3\u05e8\u05da \u05d4\u05d3\u05d5\u05d2\u05de\u05d4 \u05e0\u05e9\u05d7\u05e7 \u05e2\u05dd \u05e7\u05d5\u05d3 \u05e4\u05d9\u05d9\u05ea\u05d5\u05df \u05e7\u05e6\u05ea \u05d0\u05e8\u05d5\u05da \u05d9\u05d5\u05ea\u05e8, \u05d5\u05e0\u05e9\u05d7\u05e7 \u05e2\u05dd numpy, scipy.fftpack \u05d5-matplotlib."
     ]
    },
    {
     "cell_type": "markdown",
     "metadata": {},
     "source": [
      "\u05de\u05e9\u05d5\u05d5\u05d0\u05ea \u05e9\u05e8\u05d3\u05d9\u05e0\u05d2\u05e8 \u05d4\u05d7\u05d3 \u05de\u05de\u05d3\u05d9\u05ea \u05d4\u05ea\u05dc\u05d5\u05d9\u05d4 \u05d1\u05d6\u05de\u05df,\n",
      "\n",
      "\\\\[i\\hbar\\frac{\\partial\\psi}{\\partial t}=-\\frac{\\hbar^{2}}{2m}\\frac{\\partial^{2}\\psi}{\\partial x^{2}}+V\\psi\\\\]\n",
      "\n",
      "\u05db\u05d0\u05e9\u05e8\n",
      "$V$\n",
      "\u05d4\u05d9\u05d0 \u05e4\u05d5\u05e0\u05e7\u05e6\u05d9\u05d4 \u05db\u05dc\u05e9\u05d4\u05d9 \u05e9\u05dc \n",
      "$x$\n",
      "\u05d5-$\\psi$ \n",
      "\u05d4\u05d9\u05d0 \u05e4\u05d5\u05e0\u05e7\u05e6\u05d9\u05d9\u05ea \u05d4\u05d2\u05dc, \u05d4\u05ea\u05dc\u05d5\u05d9\u05d4 \u05d1\u05d6\u05de\u05df \u05d5\u05d1\u05de\u05e7\u05d5\u05dd..\n",
      "\n"
     ]
    },
    {
     "cell_type": "markdown",
     "metadata": {},
     "source": [
      "\u05db\u05d3\u05d9 \u05dc\u05e4\u05ea\u05d5\u05e8 \u05d0\u05ea \u05d4\u05de\u05e9\u05d5\u05d5\u05d0\u05d4 \u05e0\u05e9\u05de\u05e9 \u05d1**\u05d8\u05e8\u05e0\u05e1\u05e4\u05d5\u05e8\u05dd \u05e4\u05d5\u05e8\u05d9\u05d9\u05d4** \u05dc\u05e4\u05d9 \u05d4\u05d4\u05d2\u05d3\u05e8\u05d4 \u05d4\u05d1\u05d0\u05d4:\n",
      "\n",
      "\\\\[\\tilde{\\psi}\\left(k,t\\right)=\\frac{1}{\\sqrt{2\\pi}}\\int_{-\\infty}^{\\infty}\\psi\\left(x,t\\right)e^{-ikx}{\\rm d}x\\\\]\n",
      "\n",
      "\u05d5\u05d8\u05e8\u05e0\u05e1\u05e4\u05d5\u05e8\u05dd \u05d4\u05e4\u05d5\u05da \u05de\u05d5\u05d2\u05d3\u05e8 \u05e2\u05dc \u05d9\u05d3\u05d9:\n",
      "\\\\[\\psi\\left(x,t\\right)=\\frac{1}{\\sqrt{2\\pi}}\\int_{-\\infty}^{\\infty}\\tilde{\\psi}\\left(k,t\\right)e^{ikx}{\\rm d}k\\\\]\n",
      "\n",
      "\u05d0\u05dd \u05e0\u05e6\u05d9\u05d1 \u05d0\u05ea $\\tilde{\\psi}$ \n",
      "\u05dc\u05ea\u05d5\u05da \u05de\u05e9\u05d5\u05d5\u05d0\u05ea \u05e9\u05e8\u05d3\u05d9\u05e0\u05d2\u05e8, \u05e0\u05e7\u05d1\u05dc \u05d0\u05ea \u05d4\u05de\u05e9\u05d5\u05d5\u05d0\u05d4,\n",
      "\\\\[i\\hbar\\frac{\\partial\\tilde{\\psi}}{\\partial t}=\\frac{\\hbar^{2}k^{2}}{2m}\\tilde{\\psi}+\\left[V\\left(i\\frac{\\partial}{\\partial k}\\right)\\right]\\tilde{\\psi}\\\\]\n",
      "\n",
      "\u05e2\u05d1\u05d5\u05e8 $\\tilde{\\psi}$.\n"
     ]
    },
    {
     "cell_type": "markdown",
     "metadata": {},
     "source": [
      "\u05d4\u05de\u05e9\u05d5\u05d5\u05d0\u05d4 \u05d4\u05d6\u05d5 \u05e2\u05d3\u05d9\u05d9\u05df \u05dc\u05d0 \u05de\u05de\u05e9 \u05e4\u05ea\u05d9\u05e8\u05d4, \u05d4\u05d9\u05d0 \u05de\u05e7\u05dc\u05d4 \u05e2\u05dc\u05d9\u05e0\u05d5 \u05dc\u05d4\u05e4\u05e8\u05d9\u05d3 \u05dc\u05de\u05e7\u05e8\u05d9\u05dd \u05e9\u05d5\u05e0\u05d9\u05dd. \n",
      "\n",
      "\u05e8\u05d0\u05e9\u05d9\u05ea, \u05e0\u05e4\u05ea\u05d5\u05e8 \u05d9\u05e9\u05d9\u05e8\u05d5\u05ea (\u05e4\u05d5\u05e8\u05de\u05dc\u05d9\u05ea)  \u05d0\u05ea \u05d4\u05de\u05e9\u05d5\u05d5\u05d0\u05d4\n",
      "\\\\[i\\hbar\\frac{\\partial\\psi}{\\partial t}=V\\left(x\\right)\\psi\\\\]\n",
      "\u05d5\u05e2\u05d1\u05d5\u05e8 \u05de\u05e7\u05d8\u05e2 \u05d6\u05de\u05df\n",
      "$\\Delta t$ \n",
      "\u05e7\u05d8\u05df,  \u05e0\u05e7\u05d1\u05dc \u05e9\u05d4\u05e4\u05ea\u05e8\u05d5\u05df \u05d4\u05d5\u05d0, \n",
      "\\\\[\\psi\\left(x,t+\\Delta t\\right)=\\psi\\left(x,t\\right)e^{-iV\\left(x\\right)\\Delta t/\\hbar}\\\\]\n",
      "\n",
      "\u05e9\u05e0\u05d9\u05ea, \u05e0\u05e4\u05ea\u05d5\u05e8 \u05d9\u05e9\u05d9\u05e8\u05d5\u05ea \u05d1\u05de\u05d9\u05e9\u05d5\u05e8  \n",
      "$k$\n",
      "\u05d0\u05ea \u05d4\u05de\u05e9\u05d5\u05d5\u05d0\u05d4,\n",
      "\\\\[i\\hbar\\frac{\\partial\\tilde{\\psi}}{\\partial t}=\\frac{\\hbar^{2}k^{2}}{2m}\\tilde{\\psi}\\\\] \n",
      "\u05d5\u05e0\u05e7\u05d1\u05dc \u05e4\u05ea\u05e8\u05d5\u05df \u05de\u05d4\u05e6\u05d5\u05e8\u05d4,\n",
      "\n",
      "\\\\[\\tilde{\\psi}\\left(k,t+\\Delta t\\right)=\\tilde{\\psi}\\left(k,t\\right)e^{-i\\hbar k^{2}\\Delta t/2m }\\\\]\n"
     ]
    },
    {
     "cell_type": "code",
     "collapsed": false,
     "input": [],
     "language": "python",
     "metadata": {},
     "outputs": []
    }
   ],
   "metadata": {}
  }
 ]
}