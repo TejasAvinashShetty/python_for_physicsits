{
 "metadata": {
  "name": ""
 },
 "nbformat": 3,
 "nbformat_minor": 0,
 "worksheets": [
  {
   "cells": [
    {
     "cell_type": "markdown",
     "metadata": {
      "internals": {
       "slide_helper": "subslide_end",
       "slide_type": "subslide"
      },
      "slide_helper": "subslide_end",
      "slideshow": {
       "slide_type": "slide"
      }
     },
     "source": [
      "<h1>\n",
      "<center>\n",
      "\u05e1\u05d3\u05e0\u05d0\u05ea \u05e4\u05d9\u05d9\u05ea\u05d5\u05df \u05dc\u05e4\u05d9\u05d6\u05d9\u05e7\u05d0\u05d9\u05dd\n",
      "</center>\n",
      "</h1>\n",
      "\n",
      "## \u05d8\u05d9\u05e4\u05d5\u05e1\u05d9 \u05de\u05e9\u05ea\u05e0\u05d9\u05dd\n",
      "\n",
      "\u05d4\u05e4\u05e7\u05d5\u05dc\u05d8\u05d4 \u05dc\u05e4\u05d9\u05d6\u05d9\u05e7\u05d4, \u05d4\u05d8\u05db\u05e0\u05d9\u05d5\u05df.\n",
      "\u05d7\u05d5\u05e8\u05e3 2013\n",
      "\n",
      "\u05de\u05e8\u05e6\u05d4: \u05e8\u05d5\u05e0\u05df \u05d0\u05d1\u05e8\u05d1\u05e0\u05d0\u05dc\n"
     ]
    },
    {
     "cell_type": "markdown",
     "metadata": {
      "internals": {
       "slide_type": "subslide"
      },
      "slideshow": {
       "slide_type": "subslide"
      }
     },
     "source": [
      "\u05d1\u05e4\u05d9\u05d9\u05ea\u05d5\u05df, \u05d0\u05d9\u05df \u05e6\u05d5\u05e8\u05da \u05dc\u05d4\u05e6\u05d4\u05d9\u05e8 \u05de\u05e4\u05d5\u05e8\u05e9\u05d5\u05ea \u05e2\u05dc \u05d8\u05d9\u05e4\u05d5\u05e1\u05d9  \u05de\u05e9\u05ea\u05e0\u05d9\u05dd.  \u05dc\u05e9\u05dd \u05e7\u05d1\u05d9\u05e2\u05ea \u05de\u05e9\u05ea\u05e0\u05d4, \u05d9\u05e9 \u05dc\u05d4\u05e6\u05d9\u05d1 \u05d1\u05d5  \u05e2\u05e8\u05da \u05de\u05ea\u05d0\u05d9\u05dd.\n"
     ]
    },
    {
     "cell_type": "code",
     "collapsed": false,
     "input": [
      "b=3\n",
      "a=3.14"
     ],
     "language": "python",
     "metadata": {
      "internals": {},
      "slideshow": {
       "slide_type": "-"
      }
     },
     "outputs": [],
     "prompt_number": 1
    },
    {
     "cell_type": "markdown",
     "metadata": {
      "internals": {
       "slide_helper": "subslide_end"
      },
      "slide_helper": "slide_end",
      "slideshow": {
       "slide_type": "-"
      }
     },
     "source": [
      "\u05e0\u05d3\u05d5\u05df \u05d1\u05d8\u05d9\u05e4\u05d5\u05e1\u05d9 \u05d4\u05de\u05e9\u05ea\u05e0\u05d9\u05dd \u05d4\u05e9\u05d5\u05e0\u05d9\u05dd"
     ]
    },
    {
     "cell_type": "markdown",
     "metadata": {
      "internals": {
       "slide_type": "subslide"
      },
      "slideshow": {
       "slide_type": "slide"
      }
     },
     "source": [
      "## \u05d8\u05d9\u05e4\u05d5\u05e1\u05d9\u05dd \u05de\u05e1\u05e4\u05e8\u05d9\u05d9\u05dd ##\n"
     ]
    },
    {
     "cell_type": "markdown",
     "metadata": {
      "internals": {},
      "slideshow": {
       "slide_type": "-"
      }
     },
     "source": [
      " \u05de\u05e1\u05e4\u05e8 \u05e9\u05dc\u05dd (integer)"
     ]
    },
    {
     "cell_type": "code",
     "collapsed": false,
     "input": [
      "1+1"
     ],
     "language": "python",
     "metadata": {
      "internals": {},
      "slideshow": {
       "slide_type": "-"
      }
     },
     "outputs": [
      {
       "metadata": {},
       "output_type": "pyout",
       "prompt_number": 2,
       "text": [
        "2"
       ]
      }
     ],
     "prompt_number": 2
    },
    {
     "cell_type": "code",
     "collapsed": false,
     "input": [
      "a=4\n",
      "type(a)\n"
     ],
     "language": "python",
     "metadata": {
      "internals": {
       "slide_helper": "subslide_end"
      },
      "slide_helper": "subslide_end",
      "slideshow": {
       "slide_type": "-"
      }
     },
     "outputs": [
      {
       "metadata": {},
       "output_type": "pyout",
       "prompt_number": 3,
       "text": [
        "int"
       ]
      }
     ],
     "prompt_number": 3
    },
    {
     "cell_type": "markdown",
     "metadata": {
      "internals": {
       "slide_type": "subslide"
      },
      "slideshow": {
       "slide_type": "subslide"
      }
     },
     "source": [
      "\u05de\u05e1\u05e4\u05e8 \u05de\u05de\u05e9\u05d9 (float, \u05e0\u05e7\u05d5\u05d3\u05ea \u05e6\u05e4\u05d4)"
     ]
    },
    {
     "cell_type": "code",
     "collapsed": false,
     "input": [
      "c = 2.1\n",
      "type(c)"
     ],
     "language": "python",
     "metadata": {
      "internals": {
       "slide_helper": "subslide_end"
      },
      "slide_helper": "subslide_end",
      "slideshow": {
       "slide_type": "-"
      }
     },
     "outputs": [
      {
       "metadata": {},
       "output_type": "pyout",
       "prompt_number": 4,
       "text": [
        "float"
       ]
      }
     ],
     "prompt_number": 4
    },
    {
     "cell_type": "markdown",
     "metadata": {
      "internals": {
       "slide_type": "subslide"
      },
      "slideshow": {
       "slide_type": "subslide"
      }
     },
     "source": [
      "\u05de\u05e1\u05e4\u05e8\u05d9\u05dd \u05de\u05e8\u05d5\u05db\u05d1\u05d9\u05dd (complex)"
     ]
    },
    {
     "cell_type": "code",
     "collapsed": false,
     "input": [
      "d = 1.5 + 0.5j\n",
      "d.real"
     ],
     "language": "python",
     "metadata": {
      "internals": {},
      "slideshow": {
       "slide_type": "-"
      }
     },
     "outputs": [
      {
       "metadata": {},
       "output_type": "pyout",
       "prompt_number": 5,
       "text": [
        "1.5"
       ]
      }
     ],
     "prompt_number": 5
    },
    {
     "cell_type": "code",
     "collapsed": false,
     "input": [
      "d.imag"
     ],
     "language": "python",
     "metadata": {
      "internals": {},
      "slideshow": {
       "slide_type": "-"
      }
     },
     "outputs": [
      {
       "metadata": {},
       "output_type": "pyout",
       "prompt_number": 6,
       "text": [
        "0.5"
       ]
      }
     ],
     "prompt_number": 6
    },
    {
     "cell_type": "code",
     "collapsed": false,
     "input": [
      "d.conjugate()"
     ],
     "language": "python",
     "metadata": {
      "internals": {},
      "slideshow": {
       "slide_type": "-"
      }
     },
     "outputs": [
      {
       "metadata": {},
       "output_type": "pyout",
       "prompt_number": 10,
       "text": [
        "(1.5-0.5j)"
       ]
      }
     ],
     "prompt_number": 10
    },
    {
     "cell_type": "code",
     "collapsed": false,
     "input": [
      "type(1.0 + 0j)"
     ],
     "language": "python",
     "metadata": {
      "internals": {
       "slide_helper": "subslide_end"
      },
      "slide_helper": "subslide_end",
      "slideshow": {
       "slide_type": "-"
      }
     },
     "outputs": [
      {
       "metadata": {},
       "output_type": "pyout",
       "prompt_number": 20,
       "text": [
        "complex"
       ]
      }
     ],
     "prompt_number": 20
    },
    {
     "cell_type": "markdown",
     "metadata": {
      "internals": {
       "slide_type": "subslide"
      },
      "slideshow": {
       "slide_type": "subslide"
      }
     },
     "source": [
      "\u05de\u05e9\u05ea\u05e0\u05d9\u05dd \u05d1\u05d5\u05dc\u05d9\u05d0\u05e0\u05d9\u05dd (Booleans, True/False)"
     ]
    },
    {
     "cell_type": "code",
     "collapsed": false,
     "input": [
      "3>4"
     ],
     "language": "python",
     "metadata": {
      "internals": {},
      "slideshow": {
       "slide_type": "-"
      }
     },
     "outputs": [
      {
       "metadata": {},
       "output_type": "pyout",
       "prompt_number": 3,
       "text": [
        "False"
       ]
      }
     ],
     "prompt_number": 3
    },
    {
     "cell_type": "code",
     "collapsed": false,
     "input": [
      "test = (3<4)\n",
      "test"
     ],
     "language": "python",
     "metadata": {
      "internals": {},
      "slideshow": {
       "slide_type": "-"
      }
     },
     "outputs": [
      {
       "metadata": {},
       "output_type": "pyout",
       "prompt_number": 11,
       "text": [
        "True"
       ]
      }
     ],
     "prompt_number": 11
    },
    {
     "cell_type": "code",
     "collapsed": false,
     "input": [
      "type(test)"
     ],
     "language": "python",
     "metadata": {
      "internals": {
       "slide_helper": "subslide_end"
      },
      "slide_helper": "subslide_end",
      "slideshow": {
       "slide_type": "-"
      }
     },
     "outputs": [
      {
       "metadata": {},
       "output_type": "pyout",
       "prompt_number": 23,
       "text": [
        "bool"
       ]
      }
     ],
     "prompt_number": 23
    },
    {
     "cell_type": "markdown",
     "metadata": {
      "internals": {
       "slide_type": "subslide"
      },
      "slideshow": {
       "slide_type": "subslide"
      }
     },
     "source": [
      "\u05d0\u05e4\u05e9\u05e8 \u05dc\u05d4\u05e9\u05ea\u05de\u05e9 \u05d1\u05de\u05e4\u05e8\u05e9 \u05e9\u05dc \u05e4\u05d9\u05d9\u05ea\u05d5\u05df (\u05d0\u05d5 \u05d1\u05de\u05de\u05e9\u05e7 \u05d0\u05d7\u05e8 \u05e9\u05dc\u05d5) \u05dc\u05d7\u05d9\u05e9\u05d5\u05d1\u05d9\u05dd \u05e4\u05e9\u05d5\u05d8\u05d9\u05dd, \u05d1\u05d0\u05de\u05e6\u05e2\u05d5\u05ea \u05e4\u05e2\u05d5\u05dc\u05d5\u05ea \u05d4\u05d7\u05e9\u05d1\u05d5\u05df \u05d1\u05d1\u05e1\u05d9\u05e1\u05d9\u05d5\u05ea: +, -, /, %\n"
     ]
    },
    {
     "cell_type": "code",
     "collapsed": false,
     "input": [
      "7*3"
     ],
     "language": "python",
     "metadata": {
      "internals": {},
      "slideshow": {
       "slide_type": "-"
      }
     },
     "outputs": [
      {
       "metadata": {},
       "output_type": "pyout",
       "prompt_number": 24,
       "text": [
        "21"
       ]
      }
     ],
     "prompt_number": 24
    },
    {
     "cell_type": "code",
     "collapsed": false,
     "input": [
      "3**10"
     ],
     "language": "python",
     "metadata": {
      "internals": {},
      "slideshow": {
       "slide_type": "-"
      }
     },
     "outputs": [
      {
       "metadata": {},
       "output_type": "pyout",
       "prompt_number": 12,
       "text": [
        "59049"
       ]
      }
     ],
     "prompt_number": 12
    },
    {
     "cell_type": "code",
     "collapsed": false,
     "input": [
      "8%3"
     ],
     "language": "python",
     "metadata": {
      "internals": {
       "slide_helper": "subslide_end"
      },
      "slide_helper": "subslide_end",
      "slideshow": {
       "slide_type": "-"
      }
     },
     "outputs": [
      {
       "metadata": {},
       "output_type": "pyout",
       "prompt_number": 13,
       "text": [
        "2"
       ]
      }
     ],
     "prompt_number": 13
    },
    {
     "cell_type": "markdown",
     "metadata": {
      "internals": {
       "slide_type": "subslide"
      },
      "slideshow": {
       "slide_type": "subslide"
      }
     },
     "source": [
      "### \u05d4\u05d6\u05d4\u05e8\u05d4: \u05d7\u05d9\u05dc\u05d5\u05e7 \u05e9\u05dc\u05de\u05d9\u05dd\n",
      "\n",
      "\u05d1\u05d7\u05dc\u05d5\u05e7\u05ea \u05e9\u05dc\u05de\u05d9\u05dd \u05de\u05ea\u05e7\u05d1\u05dc \u05de\u05e1\u05e4\u05e8 \u05e9\u05dc\u05dd:"
     ]
    },
    {
     "cell_type": "code",
     "collapsed": false,
     "input": [
      "3/2"
     ],
     "language": "python",
     "metadata": {
      "internals": {},
      "slideshow": {
       "slide_type": "-"
      }
     },
     "outputs": [
      {
       "metadata": {},
       "output_type": "pyout",
       "prompt_number": 27,
       "text": [
        "1"
       ]
      }
     ],
     "prompt_number": 27
    },
    {
     "cell_type": "code",
     "collapsed": false,
     "input": [
      "a=3\n",
      "b=2\n",
      "a/b"
     ],
     "language": "python",
     "metadata": {
      "internals": {
       "slide_helper": "subslide_end"
      },
      "slide_helper": "subslide_end",
      "slideshow": {
       "slide_type": "-"
      }
     },
     "outputs": [
      {
       "metadata": {},
       "output_type": "pyout",
       "prompt_number": 14,
       "text": [
        "1"
       ]
      }
     ],
     "prompt_number": 14
    },
    {
     "cell_type": "markdown",
     "metadata": {
      "internals": {
       "slide_type": "subslide"
      },
      "slideshow": {
       "slide_type": "subslide"
      }
     },
     "source": [
      "\u05db\u05d3\u05d9 \u05dc\u05d1\u05e6\u05e2 \u05d7\u05d9\u05dc\u05d5\u05e7 \u05d0\u05de\u05d9\u05ea\u05d9 \u05e0\u05d9\u05ea\u05df \u05dc\u05d4\u05de\u05d9\u05e8 \u05d0\u05ea \u05d4\u05de\u05e9\u05ea\u05e0\u05d4,"
     ]
    },
    {
     "cell_type": "code",
     "collapsed": false,
     "input": [
      "3/2.0"
     ],
     "language": "python",
     "metadata": {
      "internals": {},
      "slideshow": {
       "slide_type": "-"
      }
     },
     "outputs": [
      {
       "metadata": {},
       "output_type": "pyout",
       "prompt_number": 29,
       "text": [
        "1.5"
       ]
      }
     ],
     "prompt_number": 29
    },
    {
     "cell_type": "code",
     "collapsed": false,
     "input": [
      "a=3; b=2\n",
      "1.0*a/b"
     ],
     "language": "python",
     "metadata": {
      "internals": {},
      "slideshow": {
       "slide_type": "-"
      }
     },
     "outputs": [
      {
       "metadata": {},
       "output_type": "pyout",
       "prompt_number": 30,
       "text": [
        "1.5"
       ]
      }
     ],
     "prompt_number": 30
    },
    {
     "cell_type": "code",
     "collapsed": false,
     "input": [
      "float(b) "
     ],
     "language": "python",
     "metadata": {
      "internals": {
       "slide_helper": "subslide_end"
      },
      "slide_helper": "slide_end",
      "slideshow": {
       "slide_type": "-"
      }
     },
     "outputs": [
      {
       "metadata": {},
       "output_type": "pyout",
       "prompt_number": 16,
       "text": [
        "2.0"
       ]
      }
     ],
     "prompt_number": 16
    },
    {
     "cell_type": "markdown",
     "metadata": {
      "internals": {
       "slide_type": "subslide"
      },
      "slideshow": {
       "slide_type": "slide"
      }
     },
     "source": [
      "# \u05d8\u05d9\u05e4\u05d5\u05e1\u05d9 \u05e0\u05ea\u05d5\u05e0\u05d9\u05dd \u05de\u05d5\u05e8\u05db\u05d1\u05d9\u05dd - \u05de\u05d9\u05db\u05dc\u05d9\u05dd\n",
      "\n",
      "(containers)\n",
      "\u05e4\u05d9\u05d9\u05ea\u05d5\u05df \u05de\u05db\u05d9\u05dc \u05de\u05e1\u05e4\u05e8 \u05e1\u05d5\u05d2\u05d9 \u05de\u05d9\u05db\u05dc\u05d9\u05dd \u05d9\u05e2\u05d9\u05dc\u05d9\u05dd \u05dc\u05de\u05d3\u05d9, \u05d1\u05d4\u05dd \u05e0\u05d9\u05ea\u05df \u05dc\u05d0\u05db\u05e1\u05df \u05de\u05e1\u05e4\u05e8 \u05de\u05e9\u05ea\u05e0\u05d9\u05dd \"\u05d1\u05e1\u05d9\u05e1\u05d9\u05d9\u05dd\"\n"
     ]
    },
    {
     "cell_type": "markdown",
     "metadata": {
      "internals": {},
      "slideshow": {
       "slide_type": "-"
      }
     },
     "source": [
      "## \u05e8\u05e9\u05d9\u05de\u05d5\u05ea \n",
      "\n",
      "\u05e8\u05e9\u05d9\u05de\u05d4 \u05d4\u05d9\u05d0 \u05d0\u05d5\u05e1\u05e3 \u05de\u05e1\u05d5\u05d3\u05e8 \u05e9\u05dc \u05d0\u05d5\u05d1\u05d9\u05e7\u05d8\u05d9\u05dd, \u05d0\u05e9\u05e8 \u05d9\u05db\u05d5\u05dc \u05dc\u05d4\u05d9\u05d5\u05ea \u05dc\u05d4\u05dd \u05d8\u05d9\u05e4\u05d5\u05e1 \u05e9\u05d5\u05e0\u05d4. \u05dc\u05d3\u05d5\u05d2\u05de\u05d4,"
     ]
    },
    {
     "cell_type": "code",
     "collapsed": false,
     "input": [
      "L=[3,1.2,\"bar\",2j]\n",
      "L"
     ],
     "language": "python",
     "metadata": {},
     "outputs": [
      {
       "metadata": {},
       "output_type": "pyout",
       "prompt_number": 18,
       "text": [
        "[3, 1.2, 'bar', 2j]"
       ]
      }
     ],
     "prompt_number": 18
    },
    {
     "cell_type": "code",
     "collapsed": false,
     "input": [
      "L=['red','blue','green', \n",
      "   'black', 'white']\n",
      "type(L)"
     ],
     "language": "python",
     "metadata": {
      "internals": {
       "slide_helper": "subslide_end"
      },
      "slide_helper": "slide_end",
      "slideshow": {
       "slide_type": "-"
      }
     },
     "outputs": [
      {
       "metadata": {},
       "output_type": "pyout",
       "prompt_number": 19,
       "text": [
        "list"
       ]
      }
     ],
     "prompt_number": 19
    },
    {
     "cell_type": "markdown",
     "metadata": {
      "internals": {
       "slide_type": "subslide"
      },
      "slideshow": {
       "slide_type": "slide"
      }
     },
     "source": [
      "\u05e0\u05d9\u05ea\u05df \u05dc\u05d2\u05e9\u05ea \u05dc\u05d0\u05d1\u05e8\u05d9\u05dd \u05d1\u05ea\u05d5\u05da \u05e8\u05e9\u05d9\u05de\u05d4 \u05d1\u05d0\u05de\u05e6\u05e2\u05d5\u05ea \u05d4\u05d0\u05d9\u05e0\u05d3\u05e7\u05e1 \u05e9\u05dc\u05d4\u05dd - \u05d4\u05de\u05d9\u05e7\u05d5\u05dd \u05d1\u05e8\u05e9\u05d9\u05de\u05d4.\n",
      "\u05d1\u05e4\u05d9\u05d9\u05ea\u05d5\u05df,  \u05db\u05de\u05d5 \u05d1-C, \u05d4\u05d0\u05d9\u05e0\u05d3\u05e7\u05e1 \u05de\u05ea\u05d7\u05d9\u05dc \u05d1\u05d0\u05e4\u05e1. "
     ]
    },
    {
     "cell_type": "code",
     "collapsed": false,
     "input": [
      "L[2]"
     ],
     "language": "python",
     "metadata": {
      "internals": {},
      "slideshow": {
       "slide_type": "-"
      }
     },
     "outputs": [
      {
       "metadata": {},
       "output_type": "pyout",
       "prompt_number": 33,
       "text": [
        "'green'"
       ]
      }
     ],
     "prompt_number": 33
    },
    {
     "cell_type": "code",
     "collapsed": false,
     "input": [
      "L[0]"
     ],
     "language": "python",
     "metadata": {
      "internals": {
       "slide_helper": "subslide_end"
      },
      "slide_helper": "subslide_end",
      "slideshow": {
       "slide_type": "-"
      }
     },
     "outputs": [
      {
       "metadata": {},
       "output_type": "pyout",
       "prompt_number": 34,
       "text": [
        "'red'"
       ]
      }
     ],
     "prompt_number": 34
    },
    {
     "cell_type": "markdown",
     "metadata": {
      "internals": {
       "slide_type": "subslide"
      },
      "slideshow": {
       "slide_type": "subslide"
      }
     },
     "source": [
      "\u05d0\u05d9\u05e0\u05d3\u05e7\u05e1\u05d9\u05dd \u05e9\u05dc\u05d9\u05dc\u05d9\u05d9\u05dd \u05d9\u05d2\u05e9\u05dc\u05d5 \u05dc\u05e8\u05e9\u05d9\u05de\u05d4 \u05de\u05d4\u05e1\u05d5\u05e3:"
     ]
    },
    {
     "cell_type": "code",
     "collapsed": false,
     "input": [
      "L[-1]"
     ],
     "language": "python",
     "metadata": {
      "internals": {},
      "slideshow": {
       "slide_type": "-"
      }
     },
     "outputs": [
      {
       "metadata": {},
       "output_type": "pyout",
       "prompt_number": 35,
       "text": [
        "'white'"
       ]
      }
     ],
     "prompt_number": 35
    },
    {
     "cell_type": "code",
     "collapsed": false,
     "input": [
      "L[-2]"
     ],
     "language": "python",
     "metadata": {
      "internals": {
       "slide_helper": "subslide_end"
      },
      "slide_helper": "subslide_end",
      "slideshow": {
       "slide_type": "-"
      }
     },
     "outputs": [
      {
       "metadata": {},
       "output_type": "pyout",
       "prompt_number": 36,
       "text": [
        "'black'"
       ]
      }
     ],
     "prompt_number": 36
    },
    {
     "cell_type": "markdown",
     "metadata": {
      "internals": {
       "slide_type": "subslide"
      },
      "slideshow": {
       "slide_type": "subslide"
      }
     },
     "source": [
      "\u05d5\u05db\u05da \u05dc\u05d1\u05d7\u05d5\u05e8 \u05e4\u05e8\u05d5\u05e1\u05d4 \u05de\u05d4\u05e8\u05e9\u05d9\u05de\u05d4 (\"slicing\")  \u05e2\u05dc \u05d9\u05d3\u05d9 \u05e9\u05dc\u05d9\u05e4\u05ea \u05d8\u05d5\u05d5\u05d7 \u05d0\u05d9\u05e0\u05d3\u05e7\u05e1\u05d9:"
     ]
    },
    {
     "cell_type": "code",
     "collapsed": false,
     "input": [
      "L[2:4]"
     ],
     "language": "python",
     "metadata": {
      "internals": {},
      "slideshow": {
       "slide_type": "-"
      }
     },
     "outputs": [
      {
       "metadata": {},
       "output_type": "pyout",
       "prompt_number": 37,
       "text": [
        "['green', 'black']"
       ]
      }
     ],
     "prompt_number": 37
    },
    {
     "cell_type": "code",
     "collapsed": false,
     "input": [
      "L[:-1]"
     ],
     "language": "python",
     "metadata": {
      "internals": {
       "slide_helper": "subslide_end"
      },
      "slide_helper": "subslide_end",
      "slideshow": {
       "slide_type": "-"
      }
     },
     "outputs": [
      {
       "metadata": {},
       "output_type": "pyout",
       "prompt_number": 20,
       "text": [
        "['red', 'blue', 'green', 'black']"
       ]
      }
     ],
     "prompt_number": 20
    },
    {
     "cell_type": "markdown",
     "metadata": {
      "internals": {
       "slide_type": "subslide"
      },
      "slideshow": {
       "slide_type": "subslide"
      }
     },
     "source": [
      "\u05d1\u05d0\u05d5\u05e4\u05df \u05db\u05dc\u05dc\u05d9, \u05d4\u05ea\u05d7\u05d1\u05d9\u05e8 \u05e9\u05dc \u05e4\u05e8\u05d9\u05e1\u05ea \u05e8\u05e9\u05d9\u05de\u05d5\u05ea \u05d4\u05d5\u05d0 \u05de\u05d4\u05e6\u05d5\u05e8\u05d4,\n",
      "\n",
      "    L[start:stop:stride]\n",
      "\n",
      "\u05db\u05d1\u05e8 \u05e8\u05d0\u05d9\u05e0\u05d5 \u05d0\u05ea \u05e9\u05e0\u05d9 \u05d4\u05e4\u05e8\u05de\u05d8\u05e8\u05d9\u05dd \u05d4\u05e8\u05d0\u05e9\u05d5\u05e0\u05d9\u05dd. \u05d4\u05e4\u05e8\u05de\u05d8\u05e8 \u05d4\u05e9\u05dc\u05d9\u05e9\u05d9 \u05de\u05d2\u05d3\u05d9\u05e8 \u05d0\u05ea \u05d4\"\u05d3\u05d9\u05dc\u05d5\u05d2\" \u05dc\u05d0\u05d5\u05e8\u05da \u05d4\u05e8\u05e9\u05d9\u05de\u05d4. \n",
      "\n",
      "\u05db\u05dc \u05d4\u05e4\u05e8\u05de\u05d8\u05e8\u05d9\u05dd \u05d0\u05d5\u05e4\u05e6\u05d9\u05d5\u05e0\u05d0\u05dc\u05d9\u05d9\u05dd"
     ]
    },
    {
     "cell_type": "code",
     "collapsed": false,
     "input": [
      "L[::2]"
     ],
     "language": "python",
     "metadata": {
      "internals": {},
      "slideshow": {
       "slide_type": "-"
      }
     },
     "outputs": [
      {
       "metadata": {},
       "output_type": "pyout",
       "prompt_number": 39,
       "text": [
        "['red', 'green', 'white']"
       ]
      }
     ],
     "prompt_number": 39
    },
    {
     "cell_type": "code",
     "collapsed": false,
     "input": [
      "print L2\n",
      "print L"
     ],
     "language": "python",
     "metadata": {},
     "outputs": [
      {
       "output_type": "stream",
       "stream": "stdout",
       "text": [
        "['white', 'black', 'green', 'blue', 'red']\n",
        "['red', 'blue', 'green', 'black', 'white']\n"
       ]
      }
     ],
     "prompt_number": 22
    },
    {
     "cell_type": "code",
     "collapsed": false,
     "input": [
      "L2 = L[::-1]"
     ],
     "language": "python",
     "metadata": {
      "internals": {
       "slide_helper": "subslide_end"
      },
      "slide_helper": "subslide_end",
      "slideshow": {
       "slide_type": "-"
      }
     },
     "outputs": [],
     "prompt_number": 21
    },
    {
     "cell_type": "code",
     "collapsed": false,
     "input": [],
     "language": "python",
     "metadata": {},
     "outputs": []
    },
    {
     "cell_type": "code",
     "collapsed": false,
     "input": [],
     "language": "python",
     "metadata": {},
     "outputs": []
    },
    {
     "cell_type": "markdown",
     "metadata": {
      "internals": {
       "slide_type": "subslide"
      },
      "slideshow": {
       "slide_type": "subslide"
      }
     },
     "source": [
      "\u05d0\u05e4\u05e9\u05e8 \u05dc\u05e9\u05e0\u05d5\u05ea \u05d0\u05ea \u05d4\u05ea\u05d5\u05db\u05df \u05e9\u05dc \u05e8\u05e9\u05d9\u05de\u05d5\u05ea:\n"
     ]
    },
    {
     "cell_type": "code",
     "collapsed": false,
     "input": [
      "L[1] = 3 \n",
      "L[2] = \"navy\"\n",
      "L"
     ],
     "language": "python",
     "metadata": {
      "internals": {},
      "slideshow": {
       "slide_type": "-"
      }
     },
     "outputs": [
      {
       "metadata": {},
       "output_type": "pyout",
       "prompt_number": 41,
       "text": [
        "['red', 3, 'navy', 'black', 'white']"
       ]
      }
     ],
     "prompt_number": 41
    },
    {
     "cell_type": "code",
     "collapsed": false,
     "input": [
      "L.append(\"UV\")\n",
      "L"
     ],
     "language": "python",
     "metadata": {
      "internals": {},
      "slideshow": {
       "slide_type": "-"
      }
     },
     "outputs": [
      {
       "metadata": {},
       "output_type": "pyout",
       "prompt_number": 42,
       "text": [
        "['red', 3, 'navy', 'black', 'white', 'UV']"
       ]
      }
     ],
     "prompt_number": 42
    },
    {
     "cell_type": "code",
     "collapsed": false,
     "input": [
      "L.pop() #Removes and returns the last item"
     ],
     "language": "python",
     "metadata": {
      "internals": {
       "slide_helper": "subslide_end"
      },
      "slide_helper": "subslide_end",
      "slideshow": {
       "slide_type": "-"
      }
     },
     "outputs": [
      {
       "metadata": {},
       "output_type": "pyout",
       "prompt_number": 43,
       "text": [
        "'UV'"
       ]
      }
     ],
     "prompt_number": 43
    },
    {
     "cell_type": "code",
     "collapsed": false,
     "input": [],
     "language": "python",
     "metadata": {
      "internals": {
       "slide_type": "subslide"
      },
      "slideshow": {
       "slide_type": "subslide"
      }
     },
     "outputs": [],
     "prompt_number": 43
    },
    {
     "cell_type": "code",
     "collapsed": false,
     "input": [
      "L.extend([\"UV\",\"IR\"]) #Exttend L in place\n",
      "L2 = [\"UV\",\"IR\"]"
     ],
     "language": "python",
     "metadata": {
      "internals": {},
      "slideshow": {
       "slide_type": "-"
      }
     },
     "outputs": [],
     "prompt_number": 24
    },
    {
     "cell_type": "code",
     "collapsed": false,
     "input": [
      "L2.extend(L)"
     ],
     "language": "python",
     "metadata": {},
     "outputs": [],
     "prompt_number": 25
    },
    {
     "cell_type": "code",
     "collapsed": false,
     "input": [
      "L2 "
     ],
     "language": "python",
     "metadata": {
      "internals": {
       "slide_helper": "subslide_end"
      },
      "slide_helper": "subslide_end",
      "slideshow": {
       "slide_type": "-"
      }
     },
     "outputs": [
      {
       "metadata": {},
       "output_type": "pyout",
       "prompt_number": 26,
       "text": [
        "['UV', 'IR', 'red', 'blue', 'green', 'black', 'white', 'UV', 'IR', 'UV', 'IR']"
       ]
      }
     ],
     "prompt_number": 26
    },
    {
     "cell_type": "code",
     "collapsed": false,
     "input": [
      "L.sort() #in place\n",
      "L"
     ],
     "language": "python",
     "metadata": {
      "internals": {
       "slide_helper": "subslide_end",
       "slide_type": "subslide"
      },
      "slide_helper": "subslide_end",
      "slideshow": {
       "slide_type": "subslide"
      }
     },
     "outputs": [
      {
       "metadata": {},
       "output_type": "pyout",
       "prompt_number": 46,
       "text": [
        "[3, 'black', 'navy', 'red', 'white']"
       ]
      }
     ],
     "prompt_number": 46
    },
    {
     "cell_type": "markdown",
     "metadata": {
      "internals": {
       "slide_type": "subslide"
      },
      "slideshow": {
       "slide_type": "subslide"
      }
     },
     "source": [
      "\u05e0\u05d9\u05ea\u05df \u05dc\u05d7\u05d1\u05e8 \u05e8\u05e9\u05d9\u05de\u05d5\u05ea"
     ]
    },
    {
     "cell_type": "code",
     "collapsed": false,
     "input": [
      "r = L[::-1]\n",
      "r+L"
     ],
     "language": "python",
     "metadata": {
      "internals": {},
      "slideshow": {
       "slide_type": "-"
      }
     },
     "outputs": [
      {
       "metadata": {},
       "output_type": "pyout",
       "prompt_number": 47,
       "text": [
        "['white', 'red', 'navy', 'black', 3, 3, 'black', 'navy', 'red', 'white']"
       ]
      }
     ],
     "prompt_number": 47
    },
    {
     "cell_type": "markdown",
     "metadata": {
      "internals": {},
      "slideshow": {
       "slide_type": "-"
      }
     },
     "source": [
      "\u05d0\u05d5 \u05dc\u05d4\u05db\u05e4\u05d9\u05dc \u05d0\u05d5\u05ea\u05df (\u05dc\u05d7\u05d1\u05e8 \u05e8\u05e9\u05d9\u05de\u05d4 \u05dc\u05e2\u05e6\u05de\u05d4..)"
     ]
    },
    {
     "cell_type": "code",
     "collapsed": false,
     "input": [
      "r*2"
     ],
     "language": "python",
     "metadata": {
      "internals": {
       "slide_helper": "subslide_end"
      },
      "slide_helper": "subslide_end",
      "slideshow": {
       "slide_type": "-"
      }
     },
     "outputs": [
      {
       "metadata": {},
       "output_type": "pyout",
       "prompt_number": 48,
       "text": [
        "['white', 'red', 'navy', 'black', 3, 'white', 'red', 'navy', 'black', 3]"
       ]
      }
     ],
     "prompt_number": 48
    },
    {
     "cell_type": "markdown",
     "metadata": {
      "internals": {
       "slide_helper": "subslide_end",
       "slide_type": "subslide"
      },
      "slide_helper": "slide_end",
      "slideshow": {
       "slide_type": "subslide"
      }
     },
     "source": [
      "**\u05d4\u05e2\u05e8\u05d4** \n",
      "\u05d0\u05dd \u05d0\u05ea\u05dd \u05dc\u05d0 \u05d9\u05d5\u05d3\u05e2\u05d9\u05dd \u05d0\u05d9\u05d6\u05d4 \u05e4\u05d5\u05e0\u05e7\u05e6\u05d9\u05d5\u05ea \"\u05e9\u05d9\u05d9\u05db\u05d5\u05ea\" \u05dc\u05d0\u05d5\u05d1\u05d9\u05d9\u05e7\u05d8, \u05d4\u05e4\u05e7\u05d5\u05d3\u05d4 dir() \u05ea\u05d3\u05e4\u05d9\u05e1 \u05d0\u05ea \u05e8\u05e9\u05d9\u05de\u05ea \u05d4\u05e4\u05d5\u05e0\u05e7\u05e6\u05d9\u05d5\u05ea.\n",
      "\n",
      "\u05d1\u05de\u05e4\u05e8\u05e9 \u05d0\u05d9\u05e0\u05d8\u05e8\u05d0\u05e7\u05d8\u05d9\u05d1\u05d9 (\u05dc\u05d3\u05d5\u05d2\u05de\u05d4, IPython) \u05e0\u05d9\u05ea\u05df \u05dc\u05d4\u05e9\u05dc\u05d9\u05dd \u05de\u05ea\u05d5\u05d3\u05d5\u05ea \u05d1\u05d0\u05de\u05e6\u05e2\u05d5\u05ea <Tab>"
     ]
    },
    {
     "cell_type": "markdown",
     "metadata": {
      "internals": {
       "slide_type": "subslide"
      },
      "slideshow": {
       "slide_type": "slide"
      }
     },
     "source": [
      "## \u05de\u05d7\u05e8\u05d5\u05d6\u05d5\u05ea (Strings)\n",
      "\n",
      "\u05d9\u05e9 \u05de\u05e1\u05e4\u05e8 \u05ea\u05d7\u05d1\u05d9\u05e8\u05d9\u05dd \u05d0\u05e4\u05e9\u05e8\u05d9\u05d9\u05dd \u05dc\u05de\u05d7\u05e8\u05d5\u05d6\u05ea,"
     ]
    },
    {
     "cell_type": "code",
     "collapsed": false,
     "input": [
      "s1 = 'Look at me, im a string'\n",
      "s2 = \"I'm a string too, and I can use ' \"\n",
      "s3 = \"\"\"\" I'm a multiline string\n",
      "\n",
      "Look at me!\"\"\"\n",
      "s4 = '''There is more then one way \n",
      "for multiline'''"
     ],
     "language": "python",
     "metadata": {
      "internals": {
       "slide_helper": "subslide_end"
      },
      "slide_helper": "subslide_end",
      "slideshow": {
       "slide_type": "-"
      }
     },
     "outputs": [],
     "prompt_number": 27
    },
    {
     "cell_type": "code",
     "collapsed": false,
     "input": [
      "s5 = 'I'm a string'"
     ],
     "language": "python",
     "metadata": {
      "internals": {
       "slide_helper": "subslide_end",
       "slide_type": "subslide"
      },
      "slide_helper": "subslide_end",
      "slideshow": {
       "slide_type": "subslide"
      }
     },
     "outputs": [
      {
       "ename": "SyntaxError",
       "evalue": "invalid syntax (<ipython-input-50-fccbb4e2b03b>, line 1)",
       "output_type": "pyerr",
       "traceback": [
        "\u001b[1;36m  File \u001b[1;32m\"<ipython-input-50-fccbb4e2b03b>\"\u001b[1;36m, line \u001b[1;32m1\u001b[0m\n\u001b[1;33m    s5 = 'I'm a string'\u001b[0m\n\u001b[1;37m            ^\u001b[0m\n\u001b[1;31mSyntaxError\u001b[0m\u001b[1;31m:\u001b[0m invalid syntax\n"
       ]
      }
     ],
     "prompt_number": 50
    },
    {
     "cell_type": "code",
     "collapsed": false,
     "input": [
      "s6 = 'I\\'m a string \\nwith newline and \\t tab and \\\\'\n",
      "s6 "
     ],
     "language": "python",
     "metadata": {
      "internals": {
       "slide_type": "subslide"
      },
      "slideshow": {
       "slide_type": "subslide"
      }
     },
     "outputs": [
      {
       "metadata": {},
       "output_type": "pyout",
       "prompt_number": 4,
       "text": [
        "\"I'm a string \\nwith newline and \\t tab and \\\\\""
       ]
      }
     ],
     "prompt_number": 4
    },
    {
     "cell_type": "code",
     "collapsed": false,
     "input": [
      "print s6 "
     ],
     "language": "python",
     "metadata": {
      "internals": {},
      "slideshow": {
       "slide_type": "fragment"
      }
     },
     "outputs": [
      {
       "output_type": "stream",
       "stream": "stdout",
       "text": [
        "I'm a string \n",
        "with newline and \t tab and \\\n"
       ]
      }
     ],
     "prompt_number": 5
    },
    {
     "cell_type": "code",
     "collapsed": false,
     "input": [
      "s7 = r\"i'm a string\\not string\"\n",
      "print s7    "
     ],
     "language": "python",
     "metadata": {
      "internals": {},
      "slideshow": {
       "slide_type": "fragment"
      }
     },
     "outputs": [
      {
       "output_type": "stream",
       "stream": "stdout",
       "text": [
        "i'm a string\\not string\n"
       ]
      }
     ],
     "prompt_number": 28
    },
    {
     "cell_type": "code",
     "collapsed": false,
     "input": [
      "pri   t s7 "
     ],
     "language": "python",
     "metadata": {
      "internals": {
       "slide_helper": "subslide_end"
      },
      "slide_helper": "subslide_end",
      "slideshow": {
       "slide_type": "fragment"
      }
     },
     "outputs": [
      {
       "output_type": "stream",
       "stream": "stdout",
       "text": [
        "i'm a string\\not string\n"
       ]
      }
     ],
     "prompt_number": 4
    },
    {
     "cell_type": "markdown",
     "metadata": {
      "internals": {
       "slide_type": "subslide"
      },
      "slideshow": {
       "slide_type": "subslide"
      }
     },
     "source": [
      "\u05e0\u05d9\u05ea\u05df \u05dc\u05e4\u05e8\u05d5\u05e1\n",
      "(slice)\n",
      "\u05de\u05d7\u05e8\u05d5\u05d6\u05ea \u05db\u05de\u05d5 \u05e9\u05e4\u05d5\u05e8\u05e1\u05d9\u05dd \u05e8\u05e9\u05d9\u05de\u05d4,"
     ]
    },
    {
     "cell_type": "code",
     "collapsed": false,
     "input": [
      "a = \"hello, world!\"\n",
      "a[7:10]"
     ],
     "language": "python",
     "metadata": {
      "internals": {
       "slide_helper": "subslide_end"
      },
      "slide_helper": "subslide_end",
      "slideshow": {
       "slide_type": "-"
      }
     },
     "outputs": [
      {
       "metadata": {},
       "output_type": "pyout",
       "prompt_number": 55,
       "text": [
        "'wor'"
       ]
      }
     ],
     "prompt_number": 55
    },
    {
     "cell_type": "markdown",
     "metadata": {
      "internals": {
       "slide_type": "subslide"
      },
      "slideshow": {
       "slide_type": "subslide"
      }
     },
     "source": [
      "\u05d0\u05d1\u05dc \u05dc\u05d0 \u05e0\u05d9\u05ea\u05df \u05dc\u05e9\u05e0\u05d5\u05ea \u05ea\u05d5\u05d5\u05d9\u05dd \u05d1\u05d5\u05d3\u05d3\u05d9\u05dd \u05d1\u05d0\u05de\u05e6\u05e2\u05d5\u05ea \u05de\u05e7\u05d5\u05dd. \u05d9\u05e9 \u05dc\u05e2\u05d6\u05d5\u05ea \u05d0\u05ea \u05d6\u05d4 \"\u05db\u05de\u05d5 \u05e9\u05e6\u05e8\u05d9\u05da\""
     ]
    },
    {
     "cell_type": "code",
     "collapsed": false,
     "input": [
      "a = \"hello, world!\"\n",
      "a[2] = 'z'"
     ],
     "language": "python",
     "metadata": {
      "internals": {
       "slide_helper": "subslide_end"
      },
      "slide_helper": "subslide_end",
      "slideshow": {
       "slide_type": "-"
      }
     },
     "outputs": [
      {
       "ename": "TypeError",
       "evalue": "'str' object does not support item assignment",
       "output_type": "pyerr",
       "traceback": [
        "\u001b[1;31m---------------------------------------------------------------------------\u001b[0m\n\u001b[1;31mTypeError\u001b[0m                                 Traceback (most recent call last)",
        "\u001b[1;32m<ipython-input-2-8f124c87c8cf>\u001b[0m in \u001b[0;36m<module>\u001b[1;34m()\u001b[0m\n\u001b[0;32m      1\u001b[0m \u001b[0ma\u001b[0m \u001b[1;33m=\u001b[0m \u001b[1;34m\"hello, world!\"\u001b[0m\u001b[1;33m\u001b[0m\u001b[0m\n\u001b[1;32m----> 2\u001b[1;33m \u001b[0ma\u001b[0m\u001b[1;33m[\u001b[0m\u001b[1;36m2\u001b[0m\u001b[1;33m]\u001b[0m \u001b[1;33m=\u001b[0m \u001b[1;34m'z'\u001b[0m\u001b[1;33m\u001b[0m\u001b[0m\n\u001b[0m",
        "\u001b[1;31mTypeError\u001b[0m: 'str' object does not support item assignment"
       ]
      }
     ],
     "prompt_number": 2
    },
    {
     "cell_type": "code",
     "collapsed": false,
     "input": [
      "a.replace('l','z',1)"
     ],
     "language": "python",
     "metadata": {
      "internals": {
       "slide_type": "subslide"
      },
      "slideshow": {
       "slide_type": "subslide"
      }
     },
     "outputs": [
      {
       "metadata": {},
       "output_type": "pyout",
       "prompt_number": 3,
       "text": [
        "'hezlo, world!'"
       ]
      }
     ],
     "prompt_number": 3
    },
    {
     "cell_type": "code",
     "collapsed": false,
     "input": [
      "a.replace('l','z')"
     ],
     "language": "python",
     "metadata": {
      "internals": {
       "slide_helper": "subslide_end"
      },
      "slide_helper": "subslide_end",
      "slideshow": {
       "slide_type": "-"
      }
     },
     "outputs": [
      {
       "metadata": {},
       "output_type": "pyout",
       "prompt_number": 4,
       "text": [
        "'hezzo, worzd!'"
       ]
      }
     ],
     "prompt_number": 4
    },
    {
     "cell_type": "markdown",
     "metadata": {
      "internals": {
       "slide_type": "subslide"
      },
      "slideshow": {
       "slide_type": "subslide"
      }
     },
     "source": [
      "\u05d0\u05e4\u05e9\u05e8 \u05dc\u05e7\u05d1\u05dc \u05e2\u05d6\u05e8\u05d4 \u05e2\u05dc \u05e4\u05d5\u05e0\u05e7\u05e6\u05d9\u05d5\u05ea \u05d5\u05d0\u05d5\u05d1\u05d9\u05d9\u05e7\u05d8\u05d9\u05dd \u05d1\u05d0\u05de\u05e6\u05e2\u05d5\u05ea \u05d4\u05e4\u05d5\u05e0\u05e7\u05e6\u05d9\u05d4 help()"
     ]
    },
    {
     "cell_type": "markdown",
     "metadata": {
      "internals": {
       "slide_helper": "subslide_end"
      },
      "slide_helper": "subslide_end",
      "slideshow": {
       "slide_type": "-"
      }
     },
     "source": [
      "    help(str)\n",
      "    help(\"a\")\n",
      "    help(\"a\".replace)\n",
      "    ?\"a\" #In Ipython"
     ]
    },
    {
     "cell_type": "markdown",
     "metadata": {
      "internals": {
       "slide_type": "subslide"
      },
      "slideshow": {
       "slide_type": "subslide"
      }
     },
     "source": [
      "\u05e0\u05d9\u05ea\u05df \u05dc\u05d4\u05db\u05e0\u05d9\u05e1 \u05de\u05e9\u05ea\u05e0\u05d9\u05dd \u05dc\u05ea\u05d5\u05da \u05de\u05d7\u05e8\u05d5\u05d6\u05d5\u05ea (\u05db\u05de\u05d5 \u05d1-printf \u05d1-c)"
     ]
    },
    {
     "cell_type": "code",
     "collapsed": false,
     "input": [
      "\"an integer %d\" % 42"
     ],
     "language": "python",
     "metadata": {
      "internals": {},
      "slideshow": {
       "slide_type": "-"
      }
     },
     "outputs": [
      {
       "metadata": {},
       "output_type": "pyout",
       "prompt_number": 5,
       "text": [
        "'an integer 42'"
       ]
      }
     ],
     "prompt_number": 5
    },
    {
     "cell_type": "code",
     "collapsed": false,
     "input": [
      "pi = 3.1415\n",
      "\"an integer %d, a float %f, and a string %s\"  %  (42, pi, \"moo\")"
     ],
     "language": "python",
     "metadata": {
      "internals": {},
      "slideshow": {
       "slide_type": "-"
      }
     },
     "outputs": [
      {
       "metadata": {},
       "output_type": "pyout",
       "prompt_number": 7,
       "text": [
        "'and integer 42, a float 3.141500, and a string moo'"
       ]
      }
     ],
     "prompt_number": 7
    },
    {
     "cell_type": "code",
     "collapsed": false,
     "input": [
      "\"formated float %.2f\" % pi"
     ],
     "language": "python",
     "metadata": {
      "internals": {},
      "slideshow": {
       "slide_type": "-"
      }
     },
     "outputs": [
      {
       "metadata": {},
       "output_type": "pyout",
       "prompt_number": 8,
       "text": [
        "'formated float 3.14'"
       ]
      }
     ],
     "prompt_number": 8
    },
    {
     "cell_type": "markdown",
     "metadata": {
      "internals": {
       "slide_helper": "subslide_end"
      },
      "slide_helper": "slide_end",
      "slideshow": {
       "slide_type": "-"
      }
     },
     "source": [
      "\u05d5\u05e2\u05d5\u05d3 \u05d4\u05e8\u05d1\u05d4 \u05d0\u05d7\u05e8\u05d9\u05dd. \u05e4\u05d9\u05d9\u05ea\u05d5\u05df \u05de\u05d0\u05d5\u05d3 \u05d7\u05d6\u05e7 \u05d1\u05db\u05dc \u05d4\u05e0\u05d5\u05d2\u05e2 \u05dc\u05de\u05e0\u05d9\u05e4\u05d5\u05dc\u05e6\u05d9\u05d4 \u05e2\u05dc \u05de\u05d7\u05e8\u05d5\u05d6\u05d5\u05ea. "
     ]
    },
    {
     "cell_type": "markdown",
     "metadata": {
      "internals": {
       "slide_type": "subslide"
      },
      "slideshow": {
       "slide_type": "slide"
      }
     },
     "source": [
      "## \u05de\u05d9\u05dc\u05d5\u05e0\u05d9\u05dd\n",
      "\u05d8\u05d1\u05dc\u05d4 \u05e9\u05de\u05de\u05e4\u05d4 \u05de\u05e4\u05ea\u05d7 (key) \u05dc\u05e2\u05e8\u05da (value)"
     ]
    },
    {
     "cell_type": "code",
     "collapsed": false,
     "input": [
      "tel = {\"Noam\": 1234,\n",
      "       \"Irit\" : 5678,\n",
      "       \"Ronen\" :  9123 }\n",
      "tel"
     ],
     "language": "python",
     "metadata": {
      "internals": {},
      "slideshow": {
       "slide_type": "-"
      }
     },
     "outputs": [
      {
       "metadata": {},
       "output_type": "pyout",
       "prompt_number": 59,
       "text": [
        "{'Irit': 5678, 'Noam': 1234, 'Ronen': 9123}"
       ]
      }
     ],
     "prompt_number": 59
    },
    {
     "cell_type": "code",
     "collapsed": false,
     "input": [
      "tel[\"Noam\"]"
     ],
     "language": "python",
     "metadata": {
      "internals": {
       "slide_helper": "subslide_end"
      },
      "slide_helper": "subslide_end",
      "slideshow": {
       "slide_type": "-"
      }
     },
     "outputs": [
      {
       "metadata": {},
       "output_type": "pyout",
       "prompt_number": 60,
       "text": [
        "1234"
       ]
      }
     ],
     "prompt_number": 60
    },
    {
     "cell_type": "markdown",
     "metadata": {
      "internals": {
       "slide_type": "subslide"
      },
      "slideshow": {
       "slide_type": "subslide"
      }
     },
     "source": [
      "\u05e0\u05d9\u05ea\u05df \u05dc\u05e9\u05e0\u05d5\u05ea \u05d0\u05ea \u05e2\u05e8\u05db\u05d5 \u05e9\u05dc \u05de\u05e4\u05ea\u05d7 \u05d1\u05de\u05d9\u05dc\u05d5\u05df, \u05d0\u05d5 \u05dc\u05d4\u05d5\u05e1\u05d9\u05e3 \u05de\u05e4\u05ea\u05d7 \u05d7\u05d3\u05e9, "
     ]
    },
    {
     "cell_type": "code",
     "collapsed": false,
     "input": [
      "tel[\"Noam\"] = 4675\n",
      "tel"
     ],
     "language": "python",
     "metadata": {
      "internals": {},
      "slideshow": {
       "slide_type": "-"
      }
     },
     "outputs": [
      {
       "metadata": {},
       "output_type": "pyout",
       "prompt_number": 61,
       "text": [
        "{'Irit': 5678, 'Noam': 4675, 'Ronen': 9123}"
       ]
      }
     ],
     "prompt_number": 61
    },
    {
     "cell_type": "code",
     "collapsed": false,
     "input": [
      "tel[\"Shira\"] = 111\n",
      "tel"
     ],
     "language": "python",
     "metadata": {
      "internals": {
       "slide_helper": "subslide_end"
      },
      "slide_helper": "subslide_end",
      "slideshow": {
       "slide_type": "-"
      }
     },
     "outputs": [
      {
       "metadata": {},
       "output_type": "pyout",
       "prompt_number": 62,
       "text": [
        "{'Irit': 5678, 'Noam': 4675, 'Ronen': 9123, 'Shira': 111}"
       ]
      }
     ],
     "prompt_number": 62
    },
    {
     "cell_type": "markdown",
     "metadata": {
      "internals": {
       "slide_type": "subslide"
      },
      "slideshow": {
       "slide_type": "subslide"
      }
     },
     "source": [
      "\u05dc\u05e9\u05dc\u05d5\u05e3 \u05d0\u05ea \u05d4\u05de\u05e4\u05ea\u05d7\u05d5\u05ea \u05d0\u05d5 \u05d4\u05e2\u05e8\u05db\u05d9\u05dd,"
     ]
    },
    {
     "cell_type": "code",
     "collapsed": false,
     "input": [
      "tel.keys()"
     ],
     "language": "python",
     "metadata": {
      "internals": {},
      "slideshow": {
       "slide_type": "-"
      }
     },
     "outputs": [
      {
       "metadata": {},
       "output_type": "pyout",
       "prompt_number": 63,
       "text": [
        "['Shira', 'Noam', 'Ronen', 'Irit']"
       ]
      }
     ],
     "prompt_number": 63
    },
    {
     "cell_type": "code",
     "collapsed": false,
     "input": [
      "tel.values()"
     ],
     "language": "python",
     "metadata": {
      "internals": {
       "slide_helper": "subslide_end"
      },
      "slide_helper": "subslide_end",
      "slideshow": {
       "slide_type": "-"
      }
     },
     "outputs": [
      {
       "metadata": {},
       "output_type": "pyout",
       "prompt_number": 64,
       "text": [
        "[111, 4675, 9123, 5678]"
       ]
      }
     ],
     "prompt_number": 64
    },
    {
     "cell_type": "markdown",
     "metadata": {
      "internals": {
       "slide_type": "subslide"
      },
      "slideshow": {
       "slide_type": "subslide"
      }
     },
     "source": [
      "## Tuples\n",
      "\u05db\u05de\u05d5 \u05e8\u05e9\u05d9\u05de\u05d5\u05ea, \u05d0\u05d1\u05dc \u05d0\u05d9 \u05d0\u05e4\u05e9\u05e8 \u05dc\u05e9\u05e0\u05d5\u05ea \u05d0\u05d5\u05ea\u05df. \u05e0\u05e9\u05de\u05e2 \u05e7\u05e6\u05ea \u05de\u05d8\u05d5\u05e4\u05e9, \u05d0\u05d1\u05dc \u05e0\u05e9\u05ea\u05de\u05e9 \u05d1\u05d4\u05df \u05d4\u05e8\u05d1\u05d4 \u05d1\u05d4\u05de\u05e9\u05da."
     ]
    },
    {
     "cell_type": "code",
     "collapsed": false,
     "input": [
      "t = 123, \"abc\", 2j+1\n",
      "t"
     ],
     "language": "python",
     "metadata": {
      "internals": {
       "slide_helper": "subslide_end"
      },
      "slide_helper": "subslide_end",
      "slideshow": {
       "slide_type": "-"
      }
     },
     "outputs": [
      {
       "metadata": {},
       "output_type": "pyout",
       "prompt_number": 65,
       "text": [
        "(123, 'abc', (1+2j))"
       ]
      }
     ],
     "prompt_number": 65
    },
    {
     "cell_type": "markdown",
     "metadata": {
      "internals": {
       "slide_type": "subslide"
      },
      "slideshow": {
       "slide_type": "subslide"
      }
     },
     "source": [
      "\u05e4\u05e2\u05d5\u05dc\u05d5\u05ea \u05d4\u05e9\u05de\u05d4 \u05de\u05e9\u05de\u05e9\u05d5\u05ea \u05dc\u05d4\u05e6\u05d1\u05ea \u05e9\u05de\u05d5\u05ea \u05dc\u05e2\u05e8\u05db\u05d9\u05dd, \u05d5\u05e2\u05dc \u05de\u05e0\u05ea \u05dc\u05e9\u05e0\u05d5\u05ea \u05d0\u05ea \u05d4\u05d4\u05e4\u05e8\u05d8\u05d9\u05dd \u05d1\u05d0\u05d5\u05d1\u05d9\u05d9\u05e7\u05d8\u05d9\u05dd \u05e9\u05e0\u05d9\u05ea\u05e0\u05d9\u05dd \u05dc\u05e9\u05e0\u05d5\u05ea \u05d0\u05d5\u05ea\u05dd (\u05db\u05de\u05d5 \u05e8\u05e9\u05d9\u05de\u05d5\u05ea, \u05dc\u05d4\u05d1\u05d3\u05d9\u05dc \u05de\u05d5-tuples)\n",
      "\n",
      "\u05d1\u05e7\u05e6\u05e8\u05d4, \u05d4\u05e9\u05de\u05d4 \u05de\u05ea\u05d1\u05e6\u05e2\u05ea \u05db\u05d3\u05dc\u05d4\u05dc\u05df\n",
      ":\n",
      "\n",
      "1. \u05d4\u05d1\u05d9\u05d8\u05d5\u05d9 \u05de\u05e6\u05d3 \u05d9\u05de\u05d9\u05df \u05de\u05d5\u05e2\u05e8\u05da, \u05d5\u05e0\u05d5\u05e6\u05e8 \u05d4\u05d0\u05d5\u05d1\u05d9\u05e7\u05d8 \u05d4\u05de\u05ea\u05d0\u05d9\u05dd.\n",
      "2. \u05d4\u05d0\u05d5\u05d1\u05d9\u05e7\u05d8 \u05e9\u05e0\u05d5\u05e6\u05e8 \u05de\u05d5\u05e6\u05d1 \u05e2\u05d1\u05d5\u05e8 \u05d4\u05e2\u05e8\u05da \u05d1\u05e6\u05d3 \u05d9\u05de\u05d9\u05df."
     ]
    },
    {
     "cell_type": "code",
     "collapsed": false,
     "input": [
      "a = [1,2,3]\n",
      "b = a\n",
      "a"
     ],
     "language": "python",
     "metadata": {
      "internals": {},
      "slideshow": {
       "slide_type": "-"
      }
     },
     "outputs": [
      {
       "metadata": {},
       "output_type": "pyout",
       "prompt_number": 9,
       "text": [
        "[1, 2, 3]"
       ]
      }
     ],
     "prompt_number": 9
    },
    {
     "cell_type": "code",
     "collapsed": false,
     "input": [
      "b"
     ],
     "language": "python",
     "metadata": {
      "internals": {},
      "slideshow": {
       "slide_type": "-"
      }
     },
     "outputs": [
      {
       "metadata": {},
       "output_type": "pyout",
       "prompt_number": 10,
       "text": [
        "[1, 2, 3]"
       ]
      }
     ],
     "prompt_number": 10
    },
    {
     "cell_type": "code",
     "collapsed": false,
     "input": [
      "a is b"
     ],
     "language": "python",
     "metadata": {
      "internals": {
       "slide_helper": "subslide_end"
      },
      "slide_helper": "subslide_end",
      "slideshow": {
       "slide_type": "-"
      }
     },
     "outputs": [
      {
       "metadata": {},
       "output_type": "pyout",
       "prompt_number": 68,
       "text": [
        "True"
       ]
      }
     ],
     "prompt_number": 68
    },
    {
     "cell_type": "code",
     "collapsed": false,
     "input": [
      "b[1] = \"hi\"\n",
      "a"
     ],
     "language": "python",
     "metadata": {
      "internals": {
       "slide_helper": "subslide_end",
       "slide_type": "subslide"
      },
      "slide_helper": "slide_end",
      "slideshow": {
       "slide_type": "subslide"
      }
     },
     "outputs": [
      {
       "metadata": {},
       "output_type": "pyout",
       "prompt_number": 69,
       "text": [
        "[1, 'hi', 3]"
       ]
      }
     ],
     "prompt_number": 69
    },
    {
     "cell_type": "markdown",
     "metadata": {
      "internals": {
       "slide_helper": "subslide_end",
       "slide_type": "subslide"
      },
      "slide_helper": "slide_end",
      "slideshow": {
       "slide_type": "slide"
      }
     },
     "source": [
      "# \u05ea\u05e8\u05d2\u05d9\u05dc\u05d5\u05df\n",
      "\u05dc\u05d1\u05d9\u05e6\u05d5\u05e2 \u05d1\u05de\u05e4\u05e2\u05e0\u05d7.\n",
      "\n",
      "1. \u05e6\u05e8\u05d5 \u05de\u05d7\u05e8\u05d5\u05d6\u05ea \u05d1\u05e9\u05dd myString \u05e2\u05dd \u05d4\u05e2\u05e8\u05da Hello, \"world\" \u05d1\u05ea\u05d5\u05db\u05d4. \u05e9\u05d9\u05de\u05d5 \u05dc\u05d1 \u05dc\u05d0 \u05dc\u05d4\u05e1\u05ea\u05d1\u05da \u05e2\u05dd \u05d4\u05de\u05e8\u05db\u05d0\u05d5\u05ea.\n",
      "  * \u05d4\u05d3\u05e4\u05d9\u05e1\u05d5 \u05d0\u05ea \u05d4\u05ea\u05d5 \u05d4\u05e9\u05e0\u05d9 \u05e2\u05d3 \u05d4\u05e8\u05d1\u05d9\u05e2\u05d9 \u05e9\u05dc \u05d4\u05de\u05d7\u05e8\u05d5\u05d6.\n",
      "2. \u05e6\u05e8\u05d5 \u05de\u05e9\u05ea\u05e0\u05d4 \u05e9\u05dc\u05dd (integer) \u05d1\u05e9\u05dd myInt \u05e2\u05dd \u05d4\u05e2\u05e8\u05da 6.\n",
      "3. \u05e6\u05e8\u05d5 \u05de\u05e9\u05ea\u05e0\u05d4 \u05d1\u05e9\u05dd divided \u05d5\u05d4\u05e6\u05d9\u05d1\u05d5 \u05d1\u05d5 \u05d0\u05ea \u05e2\u05e8\u05db\u05d5 \u05e9\u05dc myInt \u05de\u05d7\u05d5\u05dc\u05e7 \u05d1-4\n",
      "  * \u05d4\u05d0\u05dd \u05d4\u05e2\u05e8\u05da \u05e9\u05dc divided \u05d4\u05d5\u05d0 \u05de\u05e1\u05e4\u05e8 \u05e9\u05dc\u05dd? \u05d4\u05d0\u05dd \u05d4\u05d5\u05d0 \u05d4\u05ea\u05d5\u05e6\u05d0\u05d4 \u05d4\u05e0\u05db\u05d5\u05e0\u05d4?\n",
      "  * \u05d1\u05de\u05e9\u05ea\u05e0\u05d4 divided_f  \u05d4\u05e6\u05d9\u05d1\u05d5 \u05d0\u05ea \u05d0\u05ea \u05e2\u05e8\u05db\u05d5 \u05e9\u05dc myInt  \u05de\u05d7\u05d5\u05dc\u05e7 \u05d1-4.0. \u05de\u05d4 \u05d8\u05d9\u05e4\u05d5\u05e1 \u05d4\u05de\u05e9\u05ea\u05e0\u05d9\u05dd \u05e9\u05dc divide_f?\n",
      "  \n",
      "4. \u05e6\u05e8\u05d5 \u05e8\u05e9\u05d9\u05de\u05d4 \u05e8\u05d9\u05e7\u05d4 \u05d1\u05e9\u05dd myList.\n",
      "  * \u05d4\u05d5\u05e1\u05d9\u05e4\u05d5 \u05dc\u05e8\u05e9\u05d9\u05de\u05d4 \u05d1\u05d6\u05d4 \u05d0\u05d7\u05e8 \u05d6\u05d4 \u05d0\u05ea \u05d0\u05e8\u05d1\u05e2\u05ea \u05d4\u05de\u05e9\u05ea\u05e0\u05d9\u05dd \u05e9\u05d9\u05e6\u05e8\u05ea\u05dd \u05dc\u05e2\u05d9\u05dc, \u05dc\u05e4\u05d9 \u05e1\u05d3\u05e8 \u05d4\u05d9\u05e6\u05d9\u05e8\u05d4.\n",
      "  * \u05e1\u05d3\u05e8\u05d5 \u05d0\u05ea \u05d4\u05e8\u05e9\u05d9\u05de\u05d4\n",
      "  * \u05d4\u05d3\u05e4\u05d9\u05e1\u05d5 \u05d0\u05ea \u05d4\u05d0\u05d9\u05d1\u05e8 \u05d4\u05e9\u05dc\u05d9\u05e9\u05d9\n",
      "  * \u05d1\u05d3\u05e7\u05d5 \u05d4\u05d0\u05dd \u05d4\u05de\u05e1\u05e4\u05e8 1 \u05e0\u05de\u05e6\u05d0 \u05d1\u05e8\u05e9\u05d9\u05de\u05d4. \u05d5\u05d4\u05de\u05e1\u05e4\u05e8 1.5?\n",
      "  \n",
      "5. \u05d4\u05e4\u05db\u05d5 \u05d0\u05ea \u05d4\u05de\u05d7\u05e8\u05d5\u05d6\u05ea \u05e9\u05d9\u05e6\u05e8\u05ea\u05dd \u05d1\u05e1\u05e2\u05d9\u05e3 1 \u05dc\u05e8\u05e9\u05d9\u05de\u05d4, \u05e9\u05db\u05dc \u05d0\u05d7\u05d3 \u05de\u05d4\u05e2\u05e8\u05db\u05d9\u05dd \u05d1\u05d4 \u05d4\u05d5\u05d0 \u05d0\u05d7\u05ea \u05d4\u05de\u05d9\u05dc\u05d9\u05dd \u05e9\u05d1\u05de\u05d7\u05e8\u05d5\u05d6\u05ea. "
     ]
    }
   ],
   "metadata": {}
  }
 ]
}