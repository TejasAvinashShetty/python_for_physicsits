{
 "metadata": {
  "name": ""
 },
 "nbformat": 3,
 "nbformat_minor": 0,
 "worksheets": [
  {
   "cells": [
    {
     "cell_type": "markdown",
     "metadata": {
      "internals": {
       "slide_helper": "subslide_end",
       "slide_type": "subslide"
      },
      "slide_helper": "slide_end",
      "slideshow": {
       "slide_type": "slide"
      }
     },
     "source": [
      "<h1>\n",
      "<center>\n",
      "\u05e1\u05d3\u05e0\u05d0\u05ea \u05e4\u05d9\u05d9\u05ea\u05d5\u05df \u05dc\u05e4\u05d9\u05d6\u05d9\u05e7\u05d0\u05d9\u05dd\n",
      "</center>\n",
      "</h1>\n",
      "\n",
      "## \u05d1\u05e7\u05e8\u05ea \u05d6\u05e8\u05d9\u05de\u05d4\n",
      "\n",
      "\u05e9\u05dc\u05d9\u05d8\u05d4 \u05d1\u05e1\u05d3\u05e8 \u05d1\u05d9\u05e6\u05d5\u05e2 \u05d4\u05ea\u05d5\u05db\u05e0\u05d9\u05ea: \u05ea\u05e0\u05d0\u05d9\u05dd \u05d5\u05dc\u05d5\u05dc\u05d0\u05d5\u05ea\n",
      "    \n",
      "\n",
      "\u05d4\u05e4\u05e7\u05d5\u05dc\u05d8\u05d4 \u05dc\u05e4\u05d9\u05d6\u05d9\u05e7\u05d4, \u05d4\u05d8\u05db\u05e0\u05d9\u05d5\u05df.\n",
      "\u05d7\u05d5\u05e8\u05e3 2013\n",
      "\n",
      "\u05de\u05e8\u05e6\u05d4: \u05e8\u05d5\u05e0\u05df \u05d0\u05d1\u05e8\u05d1\u05e0\u05d0\u05dc\n"
     ]
    },
    {
     "cell_type": "markdown",
     "metadata": {
      "internals": {
       "slide_type": "subslide"
      },
      "slideshow": {
       "slide_type": "slide"
      }
     },
     "source": [
      "## \u05ea\u05e0\u05d0\u05d9\u05dd\n",
      "### if/elif/else"
     ]
    },
    {
     "cell_type": "code",
     "collapsed": false,
     "input": [
      "if 2**4 == 4:\n",
      "    print \"well, clearly\""
     ],
     "language": "python",
     "metadata": {
      "internals": {},
      "slideshow": {
       "slide_type": "-"
      }
     },
     "outputs": [],
     "prompt_number": 92
    },
    {
     "cell_type": "markdown",
     "metadata": {
      "internals": {},
      "slideshow": {
       "slide_type": "-"
      }
     },
     "source": [
      "\u05d6\u05d5 \u05d4\u05d3\u05d5\u05d2\u05de\u05d4 \u05d4\u05e8\u05d0\u05e9\u05d5\u05e0\u05d4 \u05e9\u05e8\u05d0\u05d9\u05e0\u05d5 \u05dc\u05d1\u05dc\u05d5\u05e7\u05d9\u05dd\n",
      "\n",
      "\u05db\u05d3\u05d9 \u05dc\u05d4\u05e8\u05d0\u05d5\u05ea \u05e9\u05e7\u05d5\u05d3 \"\u05e9\u05d9\u05d9\u05da\" \u05dc\u05e7\u05d5\u05d3 \u05d0\u05d7\u05e8, \u05de\u05e9\u05ea\u05de\u05e9\u05d9\u05dd \u05d1\u05e1\u05d5\u05d2\u05e8\u05d9\u05d9\u05dd \u05de\u05e1\u05dc\u05d5\u05e1\u05dc\u05d9\u05dd:\n",
      "\n",
      "    if (2==3-1)\n",
      "    {\n",
      "        pritnf(\"it's right!\")\n",
      "    }\n",
      "\n",
      "\u05d1\u05e4\u05d9\u05d9\u05ea\u05d5\u05df, \u05de\u05e9\u05ea\u05de\u05e9\u05d9\u05dd \u05d1\u05d4\u05d6\u05d7\u05d5\u05ea (\"\u05d8\u05d0\u05d1\", indentation) \u05db\u05d3\u05d9 \u05dc\u05e2\u05e9\u05d5\u05ea \u05d0\u05ea \u05d0\u05d5\u05ea\u05d5 \u05d4\u05d3\u05d1\u05e8:"
     ]
    },
    {
     "cell_type": "code",
     "collapsed": false,
     "input": [
      "a = 10\n",
      "\n",
      "if a == 1:\n",
      "    print 1\n",
      "elif a == 2:\n",
      "    print 2\n",
      "else:\n",
      "    print 'A lot' "
     ],
     "language": "python",
     "metadata": {
      "internals": {},
      "slideshow": {
       "slide_type": "subslide"
      }
     },
     "outputs": [
      {
       "output_type": "stream",
       "stream": "stdout",
       "text": [
        "A lot\n"
       ]
      }
     ],
     "prompt_number": 93
    },
    {
     "cell_type": "markdown",
     "metadata": {
      "internals": {
       "slide_helper": "subslide_end"
      },
      "slide_helper": "subslide_end",
      "slideshow": {
       "slide_type": "-"
      }
     },
     "source": [
      "\u05d2\u05dd \u05db\u05e9\u05db\u05d5\u05ea\u05d1\u05d9\u05dd \u05d9\u05e9\u05d9\u05e8\u05d5\u05ea \u05dc\u05de\u05e4\u05e8\u05e9, \u05d5\u05d2\u05dd \u05db\u05e9\u05db\u05d5\u05ea\u05d1\u05d9\u05dd \u05e1\u05e7\u05e8\u05d9\u05e4\u05d8\u05d9\u05dd, \u05d4\u05d4\u05d6\u05d7\u05d4 \u05de\u05e9\u05e0\u05d4! \u05d4\u05d9\u05d0 \u05d0\u05d5\u05de\u05e8\u05ea \u05dc\u05de\u05e4\u05e8\u05e9 \u05d0\u05d9\u05d6\u05d4 \u05e7\u05d5\u05d3 \u05e6\u05e8\u05d9\u05da \u05dc\u05e8\u05d5\u05e5."
     ]
    },
    {
     "cell_type": "markdown",
     "metadata": {
      "internals": {
       "slide_type": "subslide"
      },
      "slideshow": {
       "slide_type": "subslide"
      }
     },
     "source": [
      "** \u05d4\u05e2\u05e8\u05d4 \u05d7\u05e9\u05d5\u05d1\u05d4** \n",
      "\u05de\u05e0\u05d5\u05de\u05e1 \u05dc\u05d3\u05d7\u05d5\u05e3 \u05db\u05dc \u05d1\u05dc\u05d5\u05e7 \u05d1\u05d0\u05e8\u05d1\u05e2\u05d4 \u05e8\u05d5\u05d5\u05d7\u05d9\u05dd. \u05d8\u05d5\u05d1 \u05de\u05d0\u05d5\u05d3 \u05dc\u05e9\u05de\u05d5\u05e8 \u05e2\u05dc \u05d4\u05e0\u05d5\u05d4\u05d2 \u05d4\u05d6\u05d4, \u05d0\u05d1\u05dc \u05d4\u05d5\u05d0 \u05dc\u05d0 \u05d7\u05d9\u05d5\u05e0\u05d9 \u05e2\u05d1\u05d5\u05e8 \u05d4\u05e9\u05e4\u05d4:\n",
      "\n",
      "\u05db\u05dc \u05de\u05e1\u05e4\u05e8 \u05e9\u05d5\u05e0\u05d4 \u05e9\u05dc \u05e8\u05d5\u05d5\u05d7\u05d9\u05dd/ \u05d8\u05d0\u05d1\u05d9\u05dd \u05d4\u05d5\u05d0 \u05d1\u05dc\u05d5\u05e7 \u05e9\u05d5\u05e0\u05d4.  \u05e9\u05d9\u05de\u05d5 \u05dc\u05d1 \u05dc\u05d0 \u05dc\u05d1\u05dc\u05d1\u05dc \u05d0\u05ea \u05de\u05e1\u05e4\u05e8 \u05d4\u05e8\u05d5\u05d5\u05d7\u05d9\u05dd.\n",
      "\n",
      "\u05e8\u05d5\u05d1 \u05e2\u05d5\u05e8\u05db\u05d9 \u05d4\u05d8\u05e7\u05e1\u05d8, \u05db\u05e9\u05d4\u05dd \u05e2\u05d5\u05e8\u05db\u05d9\u05dd \u05e7\u05d5\u05d3 \u05e4\u05d9\u05d9\u05ea\u05d5\u05df, \u05d3\u05d5\u05d0\u05d2\u05d9\u05dd \u05e9\u05d8\u05d0\u05d1 \u05d9\u05d4\u05d9\u05d4 \u05d1\u05d3\u05d9\u05d5\u05e7 4 \u05e8\u05d5\u05d5\u05d7\u05d9\u05dd.  \u05d0\u05d1\u05dc \u05d6\u05d4 \u05dc\u05d0 \u05ea\u05de\u05d9\u05d3 \u05db\u05da. \u05e9\u05d9\u05de\u05d5 \u05dc\u05d1!"
     ]
    },
    {
     "cell_type": "code",
     "collapsed": false,
     "input": [
      "a = 30\n",
      "if a%5 == 0:\n",
      "    if a%2 == 0:\n",
      "        print \"a is divided by 10!\""
     ],
     "language": "python",
     "metadata": {
      "internals": {
       "slide_helper": "subslide_end"
      },
      "slide_helper": "slide_end",
      "slideshow": {
       "slide_type": "-"
      }
     },
     "outputs": [
      {
       "output_type": "stream",
       "stream": "stdout",
       "text": [
        "a is divided by 10!\n"
       ]
      }
     ],
     "prompt_number": 96
    },
    {
     "cell_type": "markdown",
     "metadata": {
      "slideshow": {
       "slide_type": "subslide"
      }
     },
     "source": [
      "\u05db\u05d0\u05e9\u05e8 \u05d9\u05e9 \u05e7\u05d5\u05d3 \u05e2\u05dd \u05d4\u05d6\u05d7\u05d5\u05ea \u05e9\u05d5\u05e0\u05d5\u05ea \u05d0\u05d1\u05dc \u05d1\u05dc\u05d9 \u05e4\u05ea\u05d9\u05d7\u05d4 \u05e9\u05dc \u05d1\u05dc\u05d5\u05e7 \u05d7\u05d3\u05e9 (\u05e2\u05dd \u05e0\u05e7\u05d5\u05d3\u05d5\u05ea\u05d9\u05d9\u05dd), \u05d9\u05e9 \u05e6\u05e8\u05d5\u05ea,"
     ]
    },
    {
     "cell_type": "code",
     "collapsed": false,
     "input": [
      "if 3==4:\n",
      "    print \"no way!\"\n",
      "      print \"maybe yes?\""
     ],
     "language": "python",
     "metadata": {
      "internals": {},
      "slideshow": {
       "slide_type": "-"
      }
     },
     "outputs": [
      {
       "ename": "IndentationError",
       "evalue": "unexpected indent (<ipython-input-94-7a4f0bbf1ece>, line 3)",
       "output_type": "pyerr",
       "traceback": [
        "\u001b[1;36m  File \u001b[1;32m\"<ipython-input-94-7a4f0bbf1ece>\"\u001b[1;36m, line \u001b[1;32m3\u001b[0m\n\u001b[1;33m    print \"maybe yes?\"\u001b[0m\n\u001b[1;37m    ^\u001b[0m\n\u001b[1;31mIndentationError\u001b[0m\u001b[1;31m:\u001b[0m unexpected indent\n"
       ]
      }
     ],
     "prompt_number": 94
    },
    {
     "cell_type": "markdown",
     "metadata": {
      "internals": {
       "slide_type": "subslide"
      },
      "slideshow": {
       "slide_type": "slide"
      }
     },
     "source": [
      "## \u05dc\u05d5\u05dc\u05d0\u05d5\u05ea for\n",
      "\u05d1-C, \u05dc\u05d5\u05dc\u05d0\u05d5\u05ea for \u05e2\u05d5\u05d1\u05e8\u05d5\u05ea \u05e2\u05dc \u05de\u05e9\u05ea\u05e0\u05d4 \u05d5\u05de\u05d1\u05e6\u05e2\u05d5\u05ea \u05e4\u05e2\u05d5\u05dc\u05d4 \u05e2\u05d1\u05d5\u05e8 \u05db\u05dc \u05e2\u05e8\u05da \u05e9\u05dc\u05d5:\n",
      "\n",
      "    for (int i=0; i<10; i++)\n",
      "    {\n",
      "       printf(\"my i is %d\" , i)\n",
      "    }\n",
      "   \n",
      "\u05d1\u05e4\u05d9\u05d9\u05ea\u05d5\u05df, \u05dc\u05d5\u05dc\u05d0\u05d5\u05ea \u05e2\u05d5\u05d1\u05e8\u05d5\u05ea \u05e2\u05dc \u05e8\u05e9\u05d9\u05de\u05d4"
     ]
    },
    {
     "cell_type": "code",
     "collapsed": false,
     "input": [
      "for i in range(10):\n",
      "    print \"my i is %d\" % i"
     ],
     "language": "python",
     "metadata": {
      "internals": {
       "slide_helper": "subslide_end"
      },
      "slide_helper": "subslide_end",
      "slideshow": {
       "slide_type": "-"
      }
     },
     "outputs": [
      {
       "output_type": "stream",
       "stream": "stdout",
       "text": [
        "my i is 0\n",
        "my i is 1\n",
        "my i is 2\n",
        "my i is 3\n",
        "my i is 4\n",
        "my i is 5\n",
        "my i is 6\n",
        "my i is 7\n",
        "my i is 8\n",
        "my i is 9\n"
       ]
      }
     ],
     "prompt_number": 97
    },
    {
     "cell_type": "markdown",
     "metadata": {
      "internals": {
       "slide_type": "subslide"
      },
      "slideshow": {
       "slide_type": "subslide"
      }
     },
     "source": [
      "\u05d4\u05e4\u05e7\u05d5\u05d3\u05d4 range \u05d9\u05d5\u05e6\u05e8\u05ea \u05e8\u05e9\u05d9\u05de\u05ea \u05de\u05e1\u05e4\u05e8\u05d9\u05dd, \u05de\u05d0\u05e4\u05e1 \u05d5\u05e2\u05d3 \u05d4\u05de\u05e1\u05e4\u05e8 \u05d4\u05e0\u05d3\u05e8\u05e9. \u05dc\u05e4\u05e2\u05de\u05d9\u05dd, \u05e0\u05d7\u05de\u05d3 \u05dc\u05e1\u05e8\u05d5\u05e7 \u05e8\u05e9\u05d9\u05de\u05d5\u05ea \u05d0\u05d7\u05e8\u05d5\u05ea,"
     ]
    },
    {
     "cell_type": "code",
     "collapsed": false,
     "input": [
      "for word in ('cool', 'powerful', 'readable'):\n",
      "    print('Python is %s' % word)"
     ],
     "language": "python",
     "metadata": {
      "internals": {},
      "slideshow": {
       "slide_type": "-"
      }
     },
     "outputs": [
      {
       "output_type": "stream",
       "stream": "stdout",
       "text": [
        "Python is cool\n",
        "Python is powerful\n",
        "Python is readable\n"
       ]
      }
     ],
     "prompt_number": 98
    },
    {
     "cell_type": "markdown",
     "metadata": {
      "slideshow": {
       "slide_type": "slide"
      }
     },
     "source": [
      "## \u05dc\u05d5\u05dc\u05d0\u05d5\u05ea while\n",
      "\u05de\u05ea\u05d1\u05e6\u05e2\u05ea \u05e2\u05d3 \u05e9\u05de\u05ea\u05e7\u05d9\u05d9\u05dd \u05ea\u05e0\u05d0\u05d9 \u05de\u05e1\u05d5\u05d9\u05d9\u05dd"
     ]
    },
    {
     "cell_type": "code",
     "collapsed": false,
     "input": [
      "z = 1+1j\n",
      "while abs(z) < 100:\n",
      "    z = z**2 +1 \n",
      "z"
     ],
     "language": "python",
     "metadata": {},
     "outputs": [
      {
       "metadata": {},
       "output_type": "pyout",
       "prompt_number": 1,
       "text": [
        "(-134+352j)"
       ]
      }
     ],
     "prompt_number": 1
    },
    {
     "cell_type": "markdown",
     "metadata": {
      "slideshow": {
       "slide_type": "subslide"
      }
     },
     "source": [
      "\u05d0\u05e4\u05e9\u05e8 \u05dc\u05e2\u05e6\u05d5\u05ea \u05dc\u05d5\u05dc\u05d0\u05d5\u05ea \u05d1\u05d0\u05de\u05e6\u05e2 \u05d1\u05d0\u05de\u05e6\u05e2\u05d5\u05ea *break*"
     ]
    },
    {
     "cell_type": "code",
     "collapsed": false,
     "input": [
      "a = 2.1\n",
      "while a < 100:\n",
      "    a *= -1.1\n",
      "    if a < -100: \n",
      "        print \"braking\"\n",
      "        break\n",
      "    a * 3\n",
      "print a"
     ],
     "language": "python",
     "metadata": {},
     "outputs": [
      {
       "output_type": "stream",
       "stream": "stdout",
       "text": [
        "braking\n",
        "-104.548880362\n"
       ]
      }
     ],
     "prompt_number": 6
    },
    {
     "cell_type": "markdown",
     "metadata": {
      "slideshow": {
       "slide_type": "subslide"
      }
     },
     "source": [
      "\u05d0\u05d5 \u05dc\u05d3\u05dc\u05d2 \u05e2\u05dc \u05d1\u05d9\u05e6\u05d5\u05e2 \"\u05de\u05d7\u05d6\u05d5\u05e8\" \u05de\u05e1\u05d5\u05d9\u05d9\u05dd \u05e9\u05dc \u05d4\u05dc\u05d5\u05dc\u05d0\u05d4 \u05d1\u05d0\u05de\u05e6\u05e2\u05d5\u05ea *continue*"
     ]
    },
    {
     "cell_type": "code",
     "collapsed": false,
     "input": [
      "a = [1,0,2,4]\n",
      "for element in a:\n",
      "    if element  == 0:\n",
      "        continue\n",
      "    print 1. / element"
     ],
     "language": "python",
     "metadata": {},
     "outputs": [
      {
       "output_type": "stream",
       "stream": "stdout",
       "text": [
        "1.0\n",
        "0.5\n",
        "0.25\n"
       ]
      }
     ],
     "prompt_number": 3
    },
    {
     "cell_type": "code",
     "collapsed": false,
     "input": [],
     "language": "python",
     "metadata": {},
     "outputs": []
    }
   ],
   "metadata": {}
  }
 ]
}