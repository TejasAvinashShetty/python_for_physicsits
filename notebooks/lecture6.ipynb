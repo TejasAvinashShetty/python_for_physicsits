{
 "metadata": {
  "name": ""
 },
 "nbformat": 3,
 "nbformat_minor": 0,
 "worksheets": [
  {
   "cells": [
    {
     "cell_type": "markdown",
     "metadata": {
      "internals": {
       "slide_type": "subslide"
      },
      "slideshow": {
       "slide_type": "slide"
      }
     },
     "source": [
      "# \u05e1\u05d3\u05e0\u05d0\u05ea \u05e4\u05d9\u05d9\u05ea\u05d5\u05df \u05dc\u05e4\u05d9\u05d6\u05d9\u05e7\u05d0\u05d9\u05dd\n",
      "\n",
      "\n",
      "## SciPy, \u05d0\u05d5\u05e1\u05e3 \u05e1\u05e4\u05e8\u05d9\u05d5\u05ea \u05e4\u05d9\u05d9\u05ea\u05d5\u05df \u05dc\u05e9\u05d9\u05de\u05d5\u05e9 \u05de\u05d3\u05e2\u05d9    \n",
      "\n",
      "\u05d4\u05e4\u05e7\u05d5\u05dc\u05d8\u05d4 \u05dc\u05e4\u05d9\u05d6\u05d9\u05e7\u05d4, \u05d4\u05d8\u05db\u05e0\u05d9\u05d5\u05df.\n",
      "\u05d7\u05d5\u05e8\u05e3 2013\n",
      "\n",
      "\u05de\u05e8\u05e6\u05d4: \u05e8\u05d5\u05e0\u05df \u05d0\u05d1\u05e8\u05d1\u05e0\u05d0\u05dc\n"
     ]
    },
    {
     "cell_type": "markdown",
     "metadata": {
      "internals": {
       "slide_helper": "subslide_end"
      },
      "slide_helper": "subslide_end",
      "slideshow": {
       "slide_type": "-"
      }
     },
     "source": [
      "\u05e4\u05d9\u05d9\u05ea\u05d5\u05df \u05d4\u05d9\u05d0 \u05e9\u05e4\u05ea \u05ea\u05db\u05e0\u05d5\u05ea \u05dc\u05e9\u05d9\u05de\u05d5\u05e9 \u05db\u05dc\u05dc\u05d9, \u05d5\u05db\u05db\u05d6\u05d5, \u05d4\u05d9\u05d0 \u05dc\u05d0 \u05db\u05d5\u05dc\u05dc\u05ea \u05db\u05dc\u05d9\u05dd \u05e0\u05e4\u05d5\u05e6\u05d9\u05dd \u05e9\u05d4\u05d9\u05d9\u05e0\u05d5 \u05de\u05e6\u05e4\u05d9\u05dd \u05dc\u05de\u05e6\u05d5\u05d0 \u05d1\u05e1\u05d1\u05d9\u05d1\u05ea \u05e2\u05d1\u05d5\u05d3\u05d4 \u05db\u05d6\u05d5.  \u05d1-\n",
      "[SciPy.org](http://www.scipy.org)  \n",
      "\u05de\u05e8\u05db\u05d6\u05d9\u05dd \u05d0\u05d5\u05e1\u05e3 \u05e9\u05dc \u05e1\u05e4\u05e8\u05d9\u05d5\u05ea, \u05e1\u05d8\u05e0\u05d3\u05e8\u05d8\u05d9\u05d5\u05ea \u05d9\u05d7\u05e1\u05d9\u05ea, \u05d4\u05de\u05e9\u05dc\u05d9\u05de\u05d5\u05ea \u05d0\u05ea \u05d4\u05d7\u05e1\u05da \u05d4\u05d6\u05d4.\n",
      "\n"
     ]
    },
    {
     "cell_type": "markdown",
     "metadata": {
      "internals": {
       "slide_helper": "subslide_end",
       "slide_type": "subslide"
      },
      "slide_helper": "subslide_end",
      "slideshow": {
       "slide_type": "subslide"
      }
     },
     "source": [
      "**SciPy** (pronounced \u201cSigh Pie\u201d) is a Python-based ecosystem of open-source software for mathematics, science, and engineering. In particular, these are some of the core packages:\n",
      "<div style=\"font-size:50\">\n",
      "<ul class=\"thumbnails packageicons\">\n",
      "\n",
      "<li class=\"span4\">\n",
      "<div class=\"thumbnail\">\n",
      "<div class=\"pull-left img\">\n",
      "  <a href=\"http://numpy.scipy.org\">\n",
      "  <img alt=\"numpy\" src=\"http://www.scipy.org/_static/images/numpylogo_med.png\" width=\"64\">\n",
      "  </a>\n",
      "</div>\n",
      "<div class=\"img-label\">\n",
      "  <h4 class=\"media-heading\"><a href=\"http://numpy.scipy.org\">NumPy</a></h4>\n",
      "  Base N-dimensional array package\n",
      "</div>\n",
      "</div>\n",
      "</li>\n",
      "\n",
      "<li class=\"span4\">\n",
      "<div class=\"thumbnail\">\n",
      "<div class=\"pull-left img\">\n",
      "  <a href=\"scipylib/index.html\">\n",
      "  <img alt=\"scipy\" src=\"http://www.scipy.org/_static/images/scipy_med.png\" width=\"64\">\n",
      "  </a>\n",
      "</div>\n",
      "<div class=\"img-label\">\n",
      "  <h4 class=\"media-heading\"><a href=\"http://www.scipy.org/scipylib/index.html\">SciPy library</a></h4>\n",
      "  Fundamental library for scientific computing\n",
      "</div>\n",
      "</div>\n",
      "</li>\n",
      "</ul>\n",
      "</div>"
     ]
    },
    {
     "cell_type": "markdown",
     "metadata": {
      "internals": {
       "slide_helper": "subslide_end",
       "slide_type": "subslide"
      },
      "slide_helper": "subslide_end",
      "slideshow": {
       "slide_type": "subslide"
      }
     },
     "source": [
      "<div>\n",
      "<ul>\n",
      "<li class=\"span4\">\n",
      "<div class=\"thumbnail\">\n",
      "<div class=\"pull-left img\">\n",
      "  <a href=\"http://matplotlib.org/\">\n",
      "  <img alt=\"matplotlib\" src=\"http://www.scipy.org/_static/images/matplotlib_med.png\" width=\"64\">\n",
      "  </a>\n",
      "</div>\n",
      "<div class=\"img-label\">\n",
      "  <h4 class=\"media-heading\"><a href=\"http://matplotlib.org/\">Matplotlib</a></h4>\n",
      "  Comprehensive 2D Plotting\n",
      "</div>\n",
      "</div>\n",
      "</li>\n",
      "\n",
      "<li class=\"span4\">\n",
      "<div class=\"thumbnail\">\n",
      "<div class=\"pull-left img\">\n",
      "  <a href=\"http://ipython.org\">\n",
      "  <img alt=\"ipython\" src=\"http://www.scipy.org/_static/images/ipython.png\" width=\"64\">\n",
      "  </a>\n",
      "</div>\n",
      "<div class=\"img-label\">\n",
      "  <h4 class=\"media-heading\"><a href=\"http://ipython.org\">IPython</a></h4>\n",
      "  Enhanced Interactive Console\n",
      "</div>\n",
      "</div>\n",
      "</li>\n",
      "\n",
      "<li class=\"span4\">\n",
      "<div class=\"thumbnail\">\n",
      "<div class=\"pull-left img\">\n",
      "  <a href=\"http://sympy.org/\">\n",
      "  <img alt=\"sympy\" src=\"http://www.scipy.org/_static/images/sympy_logo.png\" width=\"64\">\n",
      "  </a>\n",
      "</div>\n",
      "<div class=\"img-label\">\n",
      "  <h4 class=\"media-heading\"><a href=\"http://sympy.org/\">Sympy</a></h4>\n",
      "  Symbolic mathematics\n",
      "</div>\n",
      "</div>\n",
      "</li>\n",
      "\n",
      "<li class=\"span4\">\n",
      "<div class=\"thumbnail\">\n",
      "<div class=\"pull-left img\">\n",
      "  <a href=\"http://pandas.pydata.org/\">\n",
      "  <img alt=\"pandas badge\" src=\"http://www.scipy.org/_static/images/pandas_badge2.jpg\" width=\"64\">\n",
      "  </a>\n",
      "</div>\n",
      "<div class=\"img-label\">\n",
      "  <h4 class=\"media-heading\"><a href=\"http://pandas.pydata.org/\">pandas</a></h4>\n",
      "  Data structures &amp; analysis\n",
      "</div>\n",
      "</div>\n",
      "</li>\n",
      "\n",
      "</ul>\n",
      "</div>"
     ]
    },
    {
     "cell_type": "markdown",
     "metadata": {
      "internals": {
       "slide_helper": "subslide_end",
       "slide_type": "subslide"
      },
      "slide_helper": "slide_end",
      "slideshow": {
       "slide_type": "subslide"
      }
     },
     "source": [
      "\u05d1\u05e9\u05d5\u05dd \u05d0\u05d5\u05e4\u05df \u05d4\u05df \u05dc\u05d0 \u05d4\u05e1\u05e4\u05e8\u05d9\u05d5\u05ea \u05d4\u05d9\u05d7\u05d9\u05d3\u05d5\u05ea. \u05db\u05de\u05e2\u05d8 \u05dc\u05db\u05dc \u05d0\u05d7\u05ea \u05d5\u05d4\u05d0\u05d7\u05ea \u05de\u05d4\u05e1\u05e4\u05e8\u05d9\u05d5\u05ea \u05d4\u05dc\u05dc\u05d5 \u05e7\u05d9\u05d9\u05de\u05ea \u05d7\u05dc\u05d5\u05e4\u05d4 \u05e1\u05d1\u05d9\u05e8\u05d4. \u05d0\u05d1\u05dc \u05d0\u05dc\u05d5 \u05d4\u05e1\u05e4\u05e8\u05d9\u05d5\u05ea \u05d4\"\u05e1\u05d8\u05e0\u05d3\u05e8\u05d8\u05d9\u05d5\u05ea\", \u05d4\u05e0\u05e4\u05d5\u05e6\u05d5\u05ea \u05d1\u05d9\u05d5\u05ea\u05e8.\n",
      "\n",
      "\u05d9\u05d5\u05e6\u05d0\u05ea \u05de\u05d4\u05db\u05dc\u05dc \u05db\u05d0\u05df \u05d4\u05d5\u05d0numpy, \u05e9\u05de\u05d2\u05d3\u05d9\u05e8\u05d4 \u05d0\u05ea \u05d4\u05e1\u05d8\u05e0\u05d3\u05e8\u05d8 \u05d1\u05d4\u05ea\u05d9\u05d9\u05d7\u05e1\u05d5\u05ea \u05dc\u05de\u05e2\u05e8\u05db\u05d9\u05dd \u05d5\u05de\u05d8\u05e8\u05d9\u05e6\u05d5\u05ea, \u05d5\u05db\u05de\u05e2\u05d8 \u05db\u05dc \u05e1\u05e4\u05e8\u05d9\u05d9\u05ea \u05e4\u05d9\u05d9\u05ea\u05d5\u05df \u05de\u05d5\u05d3\u05e8\u05e0\u05d9\u05dd \u05e2\u05dd \u05e9\u05d9\u05de\u05d5\u05e9 \u05de\u05d3\u05e2\u05d9/\u05d4\u05e0\u05d3\u05e1\u05d9/\u05de\u05ea\u05de\u05d8\u05d9 \u05db\u05dc\u05e9\u05d4\u05d5, \u05de\u05e9\u05ea\u05de\u05e9\u05ea \u05d1\u05d4 \u05d1\u05ea\u05d5\u05e8 \u05d1\u05e1\u05d9\u05e1, \u05d0\u05d5 \u05de\u05de\u05e9\u05e8\u05ea \u05d0\u05ea \u05d0\u05d5\u05ea\u05d5 \u05d4\u05de\u05de\u05e9\u05e7.\n",
      "\n",
      "\u05db\u05dc \u05d4\u05e1\u05e4\u05e8\u05d9\u05d5\u05ea \u05d4\u05e0\"\u05dc \u05d1\u05e4\u05d9\u05ea\u05d5\u05d7 \u05e8\u05e6\u05d9\u05e3, \u05d5\u05d2\u05e8\u05e1\u05d0\u05d5\u05ea \u05d7\u05d3\u05e9\u05d5\u05ea, \u05e2\u05dd \u05ea\u05db\u05d5\u05e0\u05d5\u05ea \u05d7\u05d3\u05e9\u05d5\u05ea \u05d5\u05ea\u05d9\u05e7\u05d5\u05e0\u05d9 \u05d1\u05d0\u05d2\u05d9\u05dd, \u05de\u05e9\u05ea\u05d7\u05e8\u05e8\u05d5\u05ea \u05d0\u05d7\u05ea \u05dc~\u05d7\u05e6\u05d9 \u05e9\u05e0\u05d4."
     ]
    },
    {
     "cell_type": "markdown",
     "metadata": {
      "internals": {
       "slide_helper": "subslide_end",
       "slide_type": "subslide"
      },
      "slide_helper": "subslide_end",
      "slideshow": {
       "slide_type": "slide"
      }
     },
     "source": [
      "# \u05d4\u05e1\u05e4\u05e8\u05d9\u05d4 [numpy](http://www.numpy.org/)\n",
      "![numpy logo](http://ches.communitymodeling.org/images/numpylogo.png)\n",
      "\n",
      "\u05de\u05d9\u05de\u05d5\u05e9 \u05de\u05d4\u05d9\u05e8 \u05d5\u05d9\u05e2\u05d9\u05dc \u05e9\u05dc \u05de\u05e2\u05e8\u05db\u05d9\u05dd (\u05d5\u05de\u05d8\u05e8\u05d9\u05e6\u05d5\u05ea) \u05de\u05de\u05d3 \u05db\u05dc\u05e9\u05d4\u05d5. \u05de\u05e9\u05de\u05e9\u05ea \u05db\u05e9\u05dc\u05d3 \u05dc\u05db\u05dc \u05d8\u05d9\u05e4\u05d5\u05dc \u05d1\u05e0\u05ea\u05d5\u05e0\u05d9\u05dd \u05e9\u05de\u05ea\u05d1\u05e6\u05e2 \u05d1\u05e1\u05d1\u05d9\u05d1\u05d5\u05ea \u05e4\u05d9\u05d9\u05ea\u05d5\u05df.\n",
      "\n",
      "\u05d0\u05dd \u05d0\u05ea\u05dd \u05db\u05d1\u05e8 \u05e9\u05d5\u05dc\u05d8\u05d9\u05dd \u05d1\u05de\u05d0\u05d8\u05dc\u05d1, \u05db\u05d3\u05d0\u05d9 \u05dc\u05db\u05dd \u05d0\u05d5\u05dc\u05d9 \u05dc\u05d4\u05e6\u05d9\u05e5 \u05d1\u05d8\u05d1\u05dc\u05d4\n",
      "[\u05d4\u05d6\u05d5](http://wiki.scipy.org/NumPy_for_Matlab_Users) \n",
      "\u05e9\u05de\u05e9\u05d5\u05d5\u05d4 \u05e9\u05d9\u05de\u05d5\u05e9 \u05d1\u05e1\u05d9\u05e1\u05d9 \u05d1\u05de\u05d8\u05dc\u05d1 \u05dc\u05e9\u05d9\u05de\u05d5\u05e9 \u05d1\u05e1\u05d9\u05e1\u05d9 \u05d1\u05de\u05e2\u05e8\u05db\u05d9\u05dd \u05e9\u05dc numpy."
     ]
    },
    {
     "cell_type": "markdown",
     "metadata": {
      "internals": {
       "slide_helper": "subslide_end",
       "slide_type": "subslide"
      },
      "slide_helper": "subslide_end",
      "slideshow": {
       "slide_type": "subslide"
      }
     },
     "source": [
      "\u05d4\u05d0\u05dc\u05de\u05e0\u05d8 \u05d4\u05d1\u05e1\u05d9\u05e1\u05d9 \u05d1-numpy\n",
      "\u05d4\u05d5\u05d0 \u05d4\u05de\u05e2\u05e8\u05db\u05d9\u05dd. \u05de\u05e2\u05e8\u05db\u05d9\u05dd \u05d1-numpy \n",
      "\u05d3\u05d5\u05de\u05d9\u05dd \u05dc\u05e8\u05e9\u05d9\u05de\u05d5\u05ea \u05e9\u05dc \u05e4\u05d9\u05d9\u05ea\u05d5\u05df, \u05d0\u05d1\u05dc \u05d4\u05d8\u05d9\u05e4\u05d5\u05dc \u05d1\u05d4\u05dd \u05d4\u05d5\u05d0 \u05d4\u05e8\u05d1\u05d4 \u05e4\u05e2\u05de\u05d9\u05dd \u05d9\u05e2\u05d9\u05dc \u05d9\u05d5\u05ea\u05e8, \u05d5\u05e0\u05d9\u05ea\u05df \u05dc\u05d1\u05e6\u05e2 \u05e4\u05e2\u05d5\u05dc\u05d5\u05ea \"\u05de\u05ea\u05de\u05d8\u05d9\u05d5\u05ea\" \u05d9\u05d5\u05ea\u05e8 \u05d1\u05e7\u05dc\u05d5\u05ea \u05e8\u05d1\u05d4 \u05d9\u05d5\u05ea\u05e8."
     ]
    },
    {
     "cell_type": "code",
     "collapsed": false,
     "input": [
      "import numpy as np \n",
      "a = np.array([0,1,2,3,4])\n",
      "a"
     ],
     "language": "python",
     "metadata": {
      "internals": {
       "slide_type": "subslide"
      },
      "slideshow": {
       "slide_type": "subslide"
      }
     },
     "outputs": [
      {
       "metadata": {},
       "output_type": "pyout",
       "prompt_number": 6,
       "text": [
        "array([0, 1, 2, 3, 4])"
       ]
      }
     ],
     "prompt_number": 6
    },
    {
     "cell_type": "code",
     "collapsed": false,
     "input": [
      "L = range(10000)\n",
      "%timeit [i**2 for i in L]"
     ],
     "language": "python",
     "metadata": {
      "internals": {},
      "slideshow": {
       "slide_type": "-"
      }
     },
     "outputs": [
      {
       "output_type": "stream",
       "stream": "stdout",
       "text": [
        "1000 loops, best of 3: 754 \u00b5s per loop\n"
       ]
      }
     ],
     "prompt_number": 9
    },
    {
     "cell_type": "code",
     "collapsed": false,
     "input": [
      "a = np.arange(10000)\n",
      "%timeit a**2"
     ],
     "language": "python",
     "metadata": {
      "internals": {
       "slide_helper": "subslide_end"
      },
      "slide_helper": "subslide_end",
      "slideshow": {
       "slide_type": "-"
      }
     },
     "outputs": [
      {
       "output_type": "stream",
       "stream": "stdout",
       "text": [
        "100000 loops, best of 3: 11.4 \u00b5s per loop\n"
       ]
      }
     ],
     "prompt_number": 10
    },
    {
     "cell_type": "markdown",
     "metadata": {
      "internals": {
       "slide_type": "subslide"
      },
      "slideshow": {
       "slide_type": "subslide"
      }
     },
     "source": [
      "\u05d1\u05e9\u05d5\u05e8\u05d5\u05ea \u05d4\u05dc\u05dc\u05d5 \u05d0\u05e0\u05d7\u05e0\u05d5 \u05d9\u05db\u05d5\u05dc\u05d9\u05dd \u05dc\u05e8\u05d0\u05d5\u05ea \u05e9\u05e0\u05d9 \u05d3\u05d1\u05e8\u05d9\u05dd: \u05d4\u05e2\u05dc\u05d0\u05ea \u05db\u05dc \u05d0\u05d9\u05d1\u05e8 \u05d1\u05e8\u05d9\u05d1\u05d5\u05e2 (\u05d0\u05d5 \u05d1\u05d0\u05d5\u05e4\u05df \u05db\u05dc\u05dc\u05d9, \u05d1\u05d9\u05e6\u05d5\u05e2 \u05e4\u05e2\u05d5\u05dc\u05d4 \u05d7\u05e9\u05d1\u05d5\u05e0\u05d9\u05ea \u05e2\u05dc \u05db\u05dc \u05d0\u05d7\u05d3 \u05de\u05d4\u05d0\u05d9\u05d1\u05e8\u05d9\u05dd) \u05e4\u05e9\u05d5\u05d8\u05d4 \u05d4\u05e8\u05d1\u05d4 \u05d9\u05d5\u05ea\u05e8 \u05dc\u05d1\u05d9\u05e6\u05d5\u05e2 \u05db\u05e9\u05de\u05d3\u05d5\u05d1\u05e8 \u05d1-numpy array \u05d5\u05d4\u05d9\u05d0 \u05de\u05d1\u05d5\u05e6\u05e2\u05ea (\u05d4\u05e8\u05d1\u05d4) \u05d9\u05d5\u05ea\u05e8 \u05de\u05d4\u05e8."
     ]
    },
    {
     "cell_type": "code",
     "collapsed": false,
     "input": [
      "L = [1,2,3]\n",
      "L+L"
     ],
     "language": "python",
     "metadata": {
      "internals": {},
      "slideshow": {
       "slide_type": "-"
      }
     },
     "outputs": [
      {
       "metadata": {},
       "output_type": "pyout",
       "prompt_number": 7,
       "text": [
        "[1, 2, 3, 1, 2, 3]"
       ]
      }
     ],
     "prompt_number": 7
    },
    {
     "cell_type": "code",
     "collapsed": false,
     "input": [
      "a = np.array([1,2,3])\n",
      "a+a"
     ],
     "language": "python",
     "metadata": {
      "internals": {
       "slide_helper": "subslide_end"
      },
      "slide_helper": "subslide_end",
      "slideshow": {
       "slide_type": "-"
      }
     },
     "outputs": [
      {
       "metadata": {},
       "output_type": "pyout",
       "prompt_number": 9,
       "text": [
        "array([2, 4, 6])"
       ]
      }
     ],
     "prompt_number": 9
    },
    {
     "cell_type": "code",
     "collapsed": false,
     "input": [
      "a = np.random.randint(0,10,(5,5))\n",
      "print a.shape\n",
      "a"
     ],
     "language": "python",
     "metadata": {
      "internals": {
       "slide_type": "subslide"
      },
      "slideshow": {
       "slide_type": "subslide"
      }
     },
     "outputs": [
      {
       "output_type": "stream",
       "stream": "stdout",
       "text": [
        "(5, 5)\n"
       ]
      },
      {
       "metadata": {},
       "output_type": "pyout",
       "prompt_number": 74,
       "text": [
        "array([[1, 6, 8, 6, 5],\n",
        "       [3, 6, 5, 7, 8],\n",
        "       [4, 1, 2, 8, 7],\n",
        "       [6, 4, 7, 9, 7],\n",
        "       [8, 0, 6, 7, 6]])"
       ]
      }
     ],
     "prompt_number": 74
    },
    {
     "cell_type": "code",
     "collapsed": false,
     "input": [
      "a*a"
     ],
     "language": "python",
     "metadata": {
      "internals": {
       "slide_helper": "subslide_end"
      },
      "slide_helper": "subslide_end",
      "slideshow": {
       "slide_type": "-"
      }
     },
     "outputs": [
      {
       "metadata": {},
       "output_type": "pyout",
       "prompt_number": 75,
       "text": [
        "array([[ 1, 36, 64, 36, 25],\n",
        "       [ 9, 36, 25, 49, 64],\n",
        "       [16,  1,  4, 64, 49],\n",
        "       [36, 16, 49, 81, 49],\n",
        "       [64,  0, 36, 49, 36]])"
       ]
      }
     ],
     "prompt_number": 75
    },
    {
     "cell_type": "code",
     "collapsed": false,
     "input": [
      "a.dot(a)"
     ],
     "language": "python",
     "metadata": {
      "internals": {
       "slide_type": "subslide"
      },
      "slideshow": {
       "slide_type": "subslide"
      }
     },
     "outputs": [
      {
       "metadata": {},
       "output_type": "pyout",
       "prompt_number": 76,
       "text": [
        "array([[127,  74, 126, 201, 181],\n",
        "       [147,  87, 161, 219, 195],\n",
        "       [119,  64, 139, 168, 140],\n",
        "       [156, 103, 187, 250, 216],\n",
        "       [122,  82, 161, 201, 167]])"
       ]
      }
     ],
     "prompt_number": 76
    },
    {
     "cell_type": "code",
     "collapsed": false,
     "input": [
      "b = np.matrix(a)\n",
      "b*b"
     ],
     "language": "python",
     "metadata": {
      "internals": {
       "slide_helper": "subslide_end"
      },
      "slide_helper": "subslide_end",
      "slideshow": {
       "slide_type": "-"
      }
     },
     "outputs": [
      {
       "metadata": {},
       "output_type": "pyout",
       "prompt_number": 77,
       "text": [
        "matrix([[127,  74, 126, 201, 181],\n",
        "        [147,  87, 161, 219, 195],\n",
        "        [119,  64, 139, 168, 140],\n",
        "        [156, 103, 187, 250, 216],\n",
        "        [122,  82, 161, 201, 167]])"
       ]
      }
     ],
     "prompt_number": 77
    },
    {
     "cell_type": "markdown",
     "metadata": {
      "internals": {
       "slide_helper": "subslide_end",
       "slide_type": "subslide"
      },
      "slide_helper": "slide_end",
      "slideshow": {
       "slide_type": "subslide"
      }
     },
     "source": [
      "\u05d4\u05de\u05e2\u05e8\u05db\u05d9\u05dd \u05e9\u05dc numpy \u05d4\u05dd, \u05db\u05d0\u05de\u05d5\u05e8, \u05d4\u05e9\u05dc\u05d3, \u05d5\u05e2\u05d5\u05d3 \u05e0\u05d7\u05d6\u05d5\u05e8 \u05d0\u05dc\u05d9\u05d5 \u05d1\u05d4\u05de\u05e9\u05da."
     ]
    },
    {
     "cell_type": "markdown",
     "metadata": {
      "internals": {
       "slide_helper": "subslide_end",
       "slide_type": "subslide"
      },
      "slide_helper": "subslide_end",
      "slideshow": {
       "slide_type": "slide"
      }
     },
     "source": [
      "# \u05d4\u05e1\u05e4\u05e8\u05d9\u05d4 [Scipy](http://www.scipy.org/scipylib/index.html)\n",
      "![scipy logo](http://scipy.org/_static/images/scipy_med.png)\n",
      "\n",
      "\u05db\u05d0\u05df \u05e0\u05d3\u05d1\u05e8 \u05e2\u05dc \u05d4\u05e1\u05e4\u05e8\u05d9\u05d4 scipy  \u05d5\u05dc\u05d0 \u05e2\u05dc \u05d4\u05d0\u05d5\u05e1\u05e3 \u05d1\u05db\u05dc\u05dc\u05d5\u05ea\u05d5. \u05db\u05dc\u05d5\u05de\u05e8, \u05dc\u05d0 \u05e2\u05dc \u05db\u05dc \u05d4\u05e1\u05e4\u05e8\u05d9\u05d5\u05ea \u05e9\u05e8\u05d0\u05d9\u05e0\u05d5 \u05dc\u05e2\u05d9\u05dc, \u05d0\u05dc\u05d0 \u05e4\u05e9\u05d5\u05d8 \u05e2\u05dc \"\u05de\u05d4 \u05e9\u05de\u05e7\u05d1\u05dc\u05d9\u05dd\" \u05db\u05e9\u05de\u05d1\u05e6\u05e2\u05d9\u05dd\n",
      "    \n",
      "    import scipy"
     ]
    },
    {
     "cell_type": "markdown",
     "metadata": {
      "internals": {
       "slide_type": "subslide"
      },
      "slideshow": {
       "slide_type": "subslide"
      }
     },
     "source": [
      "\u05dc-scipy \u05d9\u05e9 \u05d4\u05e8\u05d1\u05d4 \u05ea\u05ea \u05d7\u05d1\u05d9\u05dc\u05d5\u05ea,\n",
      "\u05db\u05dc \u05d0\u05d7\u05ea \u05de\u05d4\u05df \u05d4\u05d9\u05d0 \u05e2\u05e6\u05de\u05d0\u05d9\u05ea \u05d5\u05db\u05dc \u05d0\u05d7\u05ea \u05de\u05d4\u05df \u05e9\u05d9\u05de\u05d5\u05e9\u05d9\u05ea \u05dc\u05de\u05d3\u05d9 \u05db\u05e9\u05dc\u05e2\u05e6\u05de\u05d4. \n"
     ]
    },
    {
     "cell_type": "markdown",
     "metadata": {
      "internals": {
       "slide_helper": "subslide_end"
      },
      "slide_helper": "subslide_end",
      "slideshow": {
       "slide_type": "-"
      }
     },
     "source": [
      "<table border=\"1\" class=\"docutils\">\n",
      "<colgroup>\n",
      "<col width=\"36%\">\n",
      "<col width=\"64%\">\n",
      "</colgroup>\n",
      "<tbody valign=\"top\">\n",
      "<tr class=\"row-odd\"><td><a class=\"reference external\" href=\"http://docs.scipy.org/doc/scipy/reference/cluster.html#scipy.cluster\" title=\"(in SciPy v0.12)\"><tt class=\"xref py py-mod docutils literal\"><span class=\"pre\">scipy.cluster</span></tt></a></td>\n",
      "<td>Vector quantization / Kmeans</td>\n",
      "</tr>\n",
      "<tr class=\"row-even\"><td><a class=\"reference external\" href=\"http://docs.scipy.org/doc/scipy/reference/constants.html#scipy.constants\" title=\"(in SciPy v0.12)\"><tt class=\"xref py py-mod docutils literal\"><span class=\"pre\">scipy.constants</span></tt></a></td>\n",
      "<td>Physical and mathematical constants</td>\n",
      "</tr>\n",
      "<tr class=\"row-odd\"><td><a class=\"reference external\" href=\"http://docs.scipy.org/doc/scipy/reference/fftpack.html#scipy.fftpack\" title=\"(in SciPy v0.12)\"><tt class=\"xref py py-mod docutils literal\"><span class=\"pre\">scipy.fftpack</span></tt></a></td>\n",
      "<td>Fourier transform</td>\n",
      "</tr>\n",
      "<tr class=\"row-even\"><td><a class=\"reference external\" href=\"http://docs.scipy.org/doc/scipy/reference/integrate.html#scipy.integrate\" title=\"(in SciPy v0.12)\"><tt class=\"xref py py-mod docutils literal\"><span class=\"pre\">scipy.integrate</span></tt></a></td>\n",
      "<td>Integration routines</td>\n",
      "</tr>\n",
      "<tr class=\"row-odd\"><td><a class=\"reference external\" href=\"http://docs.scipy.org/doc/scipy/reference/interpolate.html#scipy.interpolate\" title=\"(in SciPy v0.12)\"><tt class=\"xref py py-mod docutils literal\"><span class=\"pre\">scipy.interpolate</span></tt></a></td>\n",
      "<td>Interpolation</td>\n",
      "</tr>\n",
      "<tr class=\"row-even\"><td><a class=\"reference external\" href=\"http://docs.scipy.org/doc/scipy/reference/io.html#scipy.io\" title=\"(in SciPy v0.12)\"><tt class=\"xref py py-mod docutils literal\"><span class=\"pre\">scipy.io</span></tt></a></td>\n",
      "<td>Data input and output</td>\n",
      "</tr>\n",
      "<tr class=\"row-odd\"><td><a class=\"reference external\" href=\"http://docs.scipy.org/doc/scipy/reference/linalg.html#scipy.linalg\" title=\"(in SciPy v0.12)\"><tt class=\"xref py py-mod docutils literal\"><span class=\"pre\">scipy.linalg</span></tt></a></td>\n",
      "<td>Linear algebra routines</td>\n",
      "</tr>\n",
      "<tr class=\"row-even\"><td><a class=\"reference external\" href=\"http://docs.scipy.org/doc/scipy/reference/ndimage.html#scipy.ndimage\" title=\"(in SciPy v0.12)\"><tt class=\"xref py py-mod docutils literal\"><span class=\"pre\">scipy.ndimage</span></tt></a></td>\n",
      "<td>n-dimensional image package</td>\n",
      "</tr>\n",
      "<tr class=\"row-odd\"><td><a class=\"reference external\" href=\"http://docs.scipy.org/doc/scipy/reference/odr.html#scipy.odr\" title=\"(in SciPy v0.12)\"><tt class=\"xref py py-mod docutils literal\"><span class=\"pre\">scipy.odr</span></tt></a></td>\n",
      "<td>Orthogonal distance regression</td>\n",
      "</tr>\n",
      "<tr class=\"row-even\"><td><a class=\"reference external\" href=\"http://docs.scipy.org/doc/scipy/reference/optimize.html#scipy.optimize\" title=\"(in SciPy v0.12)\"><tt class=\"xref py py-mod docutils literal\"><span class=\"pre\">scipy.optimize</span></tt></a></td>\n",
      "<td>Optimization</td>\n",
      "</tr>\n",
      "<tr class=\"row-odd\"><td><a class=\"reference external\" href=\"http://docs.scipy.org/doc/scipy/reference/signal.html#scipy.signal\" title=\"(in SciPy v0.12)\"><tt class=\"xref py py-mod docutils literal\"><span class=\"pre\">scipy.signal</span></tt></a></td>\n",
      "<td>Signal processing</td>\n",
      "</tr>\n",
      "<tr class=\"row-even\"><td><a class=\"reference external\" href=\"http://docs.scipy.org/doc/scipy/reference/sparse.html#scipy.sparse\" title=\"(in SciPy v0.12)\"><tt class=\"xref py py-mod docutils literal\"><span class=\"pre\">scipy.sparse</span></tt></a></td>\n",
      "<td>Sparse matrices</td>\n",
      "</tr>\n",
      "<tr class=\"row-odd\"><td><a class=\"reference external\" href=\"http://docs.scipy.org/doc/scipy/reference/spatial.html#scipy.spatial\" title=\"(in SciPy v0.12)\"><tt class=\"xref py py-mod docutils literal\"><span class=\"pre\">scipy.spatial</span></tt></a></td>\n",
      "<td>Spatial data structures and algorithms</td>\n",
      "</tr>\n",
      "<tr class=\"row-even\"><td><a class=\"reference external\" href=\"http://docs.scipy.org/doc/scipy/reference/special.html#scipy.special\" title=\"(in SciPy v0.12)\"><tt class=\"xref py py-mod docutils literal\"><span class=\"pre\">scipy.special</span></tt></a></td>\n",
      "<td>Any special mathematical functions</td>\n",
      "</tr>\n",
      "<tr class=\"row-odd\"><td><a class=\"reference external\" href=\"http://docs.scipy.org/doc/scipy/reference/stats.html#scipy.stats\" title=\"(in SciPy v0.12)\"><tt class=\"xref py py-mod docutils literal\"><span class=\"pre\">scipy.stats</span></tt></a></td>\n",
      "<td>Statistics</td>\n",
      "</tr>\n",
      "</tbody>\n",
      "</table>"
     ]
    },
    {
     "cell_type": "markdown",
     "metadata": {
      "internals": {
       "slide_type": "subslide"
      },
      "slideshow": {
       "slide_type": "subslide"
      }
     },
     "source": [
      "\u05d1\u05d4\u05e8\u05e6\u05d0\u05d4 \u05d4\u05d6\u05d5, \u05dc\u05d0 \u05e0\u05d3\u05d5\u05df \u05d1\u05d4\u05df \u05d1\u05e6\u05d5\u05e8\u05d4 \u05e8\u05d9\u05d2\u05d5\u05e8\u05d5\u05d6\u05d9\u05ea, \u05d0\u05dc\u05d0 \u05e0\u05d9\u05ea\u05df \u05d3\u05d5\u05d2\u05de\u05d0\u05d5\u05ea \u05db\u05e9\u05e0\u05d3\u05e8\u05e9 \u05dc\u05d4\u05df.\n",
      "\n",
      "\u05d1\u05db\u05dc \u05de\u05e7\u05e8\u05d4,"
     ]
    },
    {
     "cell_type": "code",
     "collapsed": false,
     "input": [
      "import scipy.linalg\n",
      "help(scipy.linalg)\n",
      "?scipy.linalg #in IPython. "
     ],
     "language": "python",
     "metadata": {
      "internals": {},
      "slideshow": {
       "slide_type": "-"
      }
     },
     "outputs": [
      {
       "output_type": "stream",
       "stream": "stdout",
       "text": [
        "Help on package scipy.linalg in scipy:\n",
        "\n",
        "NAME\n",
        "    scipy.linalg\n",
        "\n",
        "FILE\n",
        "    /usr/lib/python2.7/dist-packages/scipy/linalg/__init__.py\n",
        "\n",
        "DESCRIPTION\n",
        "    ====================================\n",
        "    Linear algebra (:mod:`scipy.linalg`)\n",
        "    ====================================\n",
        "    \n",
        "    .. currentmodule:: scipy.linalg\n",
        "    \n",
        "    Linear algebra functions.\n",
        "    \n",
        "    .. seealso::\n",
        "    \n",
        "       `numpy.linalg` for more linear algebra functions.  Note that\n",
        "       although `scipy.linalg` imports most of them, identically named\n",
        "       functions from `scipy.linalg` may offer more or slightly differing\n",
        "       functionality.\n",
        "    \n",
        "    \n",
        "    Basics\n",
        "    ======\n",
        "    \n",
        "    .. autosummary::\n",
        "       :toctree: generated/\n",
        "    \n",
        "       inv - Find the inverse of a square matrix\n",
        "       solve - Solve a linear system of equations\n",
        "       solve_banded - Solve a banded linear system\n",
        "       solveh_banded - Solve a Hermitian or symmetric banded system\n",
        "       solve_triangular - Solve a triangular matrix\n",
        "       det - Find the determinant of a square matrix\n",
        "       norm - Matrix and vector norm\n",
        "       lstsq - Solve a linear least-squares problem\n",
        "       pinv - Pseudo-inverse (Moore-Penrose) using lstsq\n",
        "       pinv2 - Pseudo-inverse using svd\n",
        "       kron - Kronecker product of two arrays\n",
        "       tril - Construct a lower-triangular matrix from a given matrix\n",
        "       triu - Construct an upper-triangular matrix from a given matrix\n",
        "    \n",
        "    Eigenvalue Problems\n",
        "    ===================\n",
        "    \n",
        "    .. autosummary::\n",
        "       :toctree: generated/\n",
        "    \n",
        "       eig - Find the eigenvalues and eigenvectors of a square matrix\n",
        "       eigvals - Find just the eigenvalues of a square matrix\n",
        "       eigh - Find the e-vals and e-vectors of a Hermitian or symmetric matrix\n",
        "       eigvalsh - Find just the eigenvalues of a Hermitian or symmetric matrix\n",
        "       eig_banded - Find the eigenvalues and eigenvectors of a banded matrix\n",
        "       eigvals_banded - Find just the eigenvalues of a banded matrix\n",
        "    \n",
        "    Decompositions\n",
        "    ==============\n",
        "    \n",
        "    .. autosummary::\n",
        "       :toctree: generated/\n",
        "    \n",
        "       lu - LU decomposition of a matrix\n",
        "       lu_factor - LU decomposition returning unordered matrix and pivots\n",
        "       lu_solve - Solve Ax=b using back substitution with output of lu_factor\n",
        "       svd - Singular value decomposition of a matrix\n",
        "       svdvals - Singular values of a matrix\n",
        "       diagsvd - Construct matrix of singular values from output of svd\n",
        "       orth - Construct orthonormal basis for the range of A using svd\n",
        "       cholesky - Cholesky decomposition of a matrix\n",
        "       cholesky_banded - Cholesky decomp. of a sym. or Hermitian banded matrix\n",
        "       cho_factor - Cholesky decomposition for use in solving a linear system\n",
        "       cho_solve - Solve previously factored linear system\n",
        "       cho_solve_banded - Solve previously factored banded linear system\n",
        "       qr - QR decomposition of a matrix\n",
        "       qr_multiply - QR decomposition and multiplication by Q\n",
        "       qz - QZ decomposition of a pair of matrices\n",
        "       schur - Schur decomposition of a matrix\n",
        "       rsf2csf - Real to complex Schur form\n",
        "       hessenberg - Hessenberg form of a matrix\n",
        "    \n",
        "    Matrix Functions\n",
        "    ================\n",
        "    \n",
        "    .. autosummary::\n",
        "       :toctree: generated/\n",
        "    \n",
        "       expm - Matrix exponential using Pade approximation\n",
        "       expm2 - Matrix exponential using eigenvalue decomposition\n",
        "       expm3 - Matrix exponential using Taylor-series expansion\n",
        "       logm - Matrix logarithm\n",
        "       cosm - Matrix cosine\n",
        "       sinm - Matrix sine\n",
        "       tanm - Matrix tangent\n",
        "       coshm - Matrix hyperbolic cosine\n",
        "       sinhm - Matrix hyperbolic sine\n",
        "       tanhm - Matrix hyperbolic tangent\n",
        "       signm - Matrix sign\n",
        "       sqrtm - Matrix square root\n",
        "       funm - Evaluating an arbitrary matrix function\n",
        "    \n",
        "    \n",
        "    Matrix Equation Solvers\n",
        "    =======================\n",
        "    \n",
        "    .. autosummary::\n",
        "       :toctree: generated/\n",
        "    \n",
        "       solve_sylvester - Solve the Sylvester matrix equation\n",
        "       solve_continuous_are - Solve the continuous-time algebraic Riccati equation\n",
        "       solve_discrete_are - Solve the discrete-time algebraic Riccati equation\n",
        "       solve_discrete_lyapunov - Solve the discrete-time Lyapunov equation\n",
        "       solve_lyapunov - Solve the (continous-time) Lyapunov equation\n",
        "    \n",
        "    \n",
        "    Special Matrices\n",
        "    ================\n",
        "    \n",
        "    .. autosummary::\n",
        "       :toctree: generated/\n",
        "    \n",
        "       block_diag - Construct a block diagonal matrix from submatrices\n",
        "       circulant - Circulant matrix\n",
        "       companion - Companion matrix\n",
        "       hadamard - Hadamard matrix of order 2**n\n",
        "       hankel - Hankel matrix\n",
        "       hilbert - Hilbert matrix\n",
        "       invhilbert - Inverse Hilbert matrix\n",
        "       leslie - Leslie matrix\n",
        "       pascal - Pascal matrix\n",
        "       toeplitz - Toeplitz matrix\n",
        "       tri - Construct a matrix filled with ones at and below a given diagonal\n",
        "\n",
        "PACKAGE CONTENTS\n",
        "    _decomp_qz\n",
        "    _flinalg\n",
        "    _solvers\n",
        "    _testutils\n",
        "    atlas_version\n",
        "    basic\n",
        "    blas\n",
        "    calc_lwork\n",
        "    cblas\n",
        "    clapack\n",
        "    decomp\n",
        "    decomp_cholesky\n",
        "    decomp_lu\n",
        "    decomp_qr\n",
        "    decomp_schur\n",
        "    decomp_svd\n",
        "    fblas\n",
        "    flapack\n",
        "    flinalg\n",
        "    interface_gen\n",
        "    lapack\n",
        "    linalg_version\n",
        "    matfuncs\n",
        "    misc\n",
        "    scons_support\n",
        "    setup\n",
        "    setup_atlas_version\n",
        "    setupscons\n",
        "    special_matrices\n",
        "\n",
        "CLASSES\n",
        "    exceptions.Exception(exceptions.BaseException)\n",
        "        numpy.linalg.linalg.LinAlgError\n",
        "    \n",
        "    class LinAlgError(exceptions.Exception)\n",
        "     |  Generic Python-exception-derived object raised by linalg functions.\n",
        "     |  \n",
        "     |  General purpose exception class, derived from Python's exception.Exception\n",
        "     |  class, programmatically raised in linalg functions when a Linear\n",
        "     |  Algebra-related condition would prevent further correct execution of the\n",
        "     |  function.\n",
        "     |  \n",
        "     |  Parameters\n",
        "     |  ----------\n",
        "     |  None\n",
        "     |  \n",
        "     |  Examples\n",
        "     |  --------\n",
        "     |  >>> from numpy import linalg as LA\n",
        "     |  >>> LA.inv(np.zeros((2,2)))\n",
        "     |  Traceback (most recent call last):\n",
        "     |    File \"<stdin>\", line 1, in <module>\n",
        "     |    File \"...linalg.py\", line 350,\n",
        "     |      in inv return wrap(solve(a, identity(a.shape[0], dtype=a.dtype)))\n",
        "     |    File \"...linalg.py\", line 249,\n",
        "     |      in solve\n",
        "     |      raise LinAlgError('Singular matrix')\n",
        "     |  numpy.linalg.LinAlgError: Singular matrix\n",
        "     |  \n",
        "     |  Method resolution order:\n",
        "     |      LinAlgError\n",
        "     |      exceptions.Exception\n",
        "     |      exceptions.BaseException\n",
        "     |      __builtin__.object\n",
        "     |  \n",
        "     |  Data descriptors defined here:\n",
        "     |  \n",
        "     |  __weakref__\n",
        "     |      list of weak references to the object (if defined)\n",
        "     |  \n",
        "     |  ----------------------------------------------------------------------\n",
        "     |  Methods inherited from exceptions.Exception:\n",
        "     |  \n",
        "     |  __init__(...)\n",
        "     |      x.__init__(...) initializes x; see help(type(x)) for signature\n",
        "     |  \n",
        "     |  ----------------------------------------------------------------------\n",
        "     |  Data and other attributes inherited from exceptions.Exception:\n",
        "     |  \n",
        "     |  __new__ = <built-in method __new__ of type object>\n",
        "     |      T.__new__(S, ...) -> a new object with type S, a subtype of T\n",
        "     |  \n",
        "     |  ----------------------------------------------------------------------\n",
        "     |  Methods inherited from exceptions.BaseException:\n",
        "     |  \n",
        "     |  __delattr__(...)\n",
        "     |      x.__delattr__('name') <==> del x.name\n",
        "     |  \n",
        "     |  __getattribute__(...)\n",
        "     |      x.__getattribute__('name') <==> x.name\n",
        "     |  \n",
        "     |  __getitem__(...)\n",
        "     |      x.__getitem__(y) <==> x[y]\n",
        "     |  \n",
        "     |  __getslice__(...)\n",
        "     |      x.__getslice__(i, j) <==> x[i:j]\n",
        "     |      \n",
        "     |      Use of negative indices is not supported.\n",
        "     |  \n",
        "     |  __reduce__(...)\n",
        "     |  \n",
        "     |  __repr__(...)\n",
        "     |      x.__repr__() <==> repr(x)\n",
        "     |  \n",
        "     |  __setattr__(...)\n",
        "     |      x.__setattr__('name', value) <==> x.name = value\n",
        "     |  \n",
        "     |  __setstate__(...)\n",
        "     |  \n",
        "     |  __str__(...)\n",
        "     |      x.__str__() <==> str(x)\n",
        "     |  \n",
        "     |  __unicode__(...)\n",
        "     |  \n",
        "     |  ----------------------------------------------------------------------\n",
        "     |  Data descriptors inherited from exceptions.BaseException:\n",
        "     |  \n",
        "     |  __dict__\n",
        "     |  \n",
        "     |  args\n",
        "     |  \n",
        "     |  message\n",
        "\n",
        "FUNCTIONS\n",
        "    all_mat(*args)\n",
        "    \n",
        "    block_diag(*arrs)\n",
        "        Create a block diagonal matrix from provided arrays.\n",
        "        \n",
        "        Given the inputs `A`, `B` and `C`, the output will have these\n",
        "        arrays arranged on the diagonal::\n",
        "        \n",
        "            [[A, 0, 0],\n",
        "             [0, B, 0],\n",
        "             [0, 0, C]]\n",
        "        \n",
        "        Parameters\n",
        "        ----------\n",
        "        A, B, C, ... : array_like, up to 2-D\n",
        "            Input arrays.  A 1-D array or array_like sequence of length `n`is\n",
        "            treated as a 2-D array with shape ``(1,n)``.\n",
        "        \n",
        "        Returns\n",
        "        -------\n",
        "        D : ndarray\n",
        "            Array with `A`, `B`, `C`, ... on the diagonal.  `D` has the\n",
        "            same dtype as `A`.\n",
        "        \n",
        "        Notes\n",
        "        -----\n",
        "        If all the input arrays are square, the output is known as a\n",
        "        block diagonal matrix.\n",
        "        \n",
        "        Examples\n",
        "        --------\n",
        "        >>> from scipy.linalg import block_diag\n",
        "        >>> A = [[1, 0],\n",
        "        ...      [0, 1]]\n",
        "        >>> B = [[3, 4, 5],\n",
        "        ...      [6, 7, 8]]\n",
        "        >>> C = [[7]]\n",
        "        >>> block_diag(A, B, C)\n",
        "        [[1 0 0 0 0 0]\n",
        "         [0 1 0 0 0 0]\n",
        "         [0 0 3 4 5 0]\n",
        "         [0 0 6 7 8 0]\n",
        "         [0 0 0 0 0 7]]\n",
        "        >>> block_diag(1.0, [2, 3], [[4, 5], [6, 7]])\n",
        "        array([[ 1.,  0.,  0.,  0.,  0.],\n",
        "               [ 0.,  2.,  3.,  0.,  0.],\n",
        "               [ 0.,  0.,  0.,  4.,  5.],\n",
        "               [ 0.,  0.,  0.,  6.,  7.]])\n",
        "    \n",
        "    cho_factor(a, lower=False, overwrite_a=False)\n",
        "        Compute the Cholesky decomposition of a matrix, to use in cho_solve\n",
        "        \n",
        "        Returns a matrix containing the Cholesky decomposition,\n",
        "        ``A = L L*`` or ``A = U* U`` of a Hermitian positive-definite matrix `a`.\n",
        "        The return value can be directly used as the first parameter to cho_solve.\n",
        "        \n",
        "        .. warning::\n",
        "            The returned matrix also contains random data in the entries not\n",
        "            used by the Cholesky decomposition. If you need to zero these\n",
        "            entries, use the function `cholesky` instead.\n",
        "        \n",
        "        Parameters\n",
        "        ----------\n",
        "        a : array, shape (M, M)\n",
        "            Matrix to be decomposed\n",
        "        lower : boolean\n",
        "            Whether to compute the upper or lower triangular Cholesky factorization\n",
        "            (Default: upper-triangular)\n",
        "        overwrite_a : boolean\n",
        "            Whether to overwrite data in a (may improve performance)\n",
        "        \n",
        "        Returns\n",
        "        -------\n",
        "        c : array, shape (M, M)\n",
        "            Matrix whose upper or lower triangle contains the Cholesky factor\n",
        "            of `a`. Other parts of the matrix contain random data.\n",
        "        lower : boolean\n",
        "            Flag indicating whether the factor is in the lower or upper triangle\n",
        "        \n",
        "        Raises\n",
        "        ------\n",
        "        LinAlgError\n",
        "            Raised if decomposition fails.\n",
        "        \n",
        "        See also\n",
        "        --------\n",
        "        cho_solve : Solve a linear set equations using the Cholesky factorization\n",
        "                    of a matrix.\n",
        "    \n",
        "    cho_solve((c, lower), b, overwrite_b=False)\n",
        "        Solve the linear equations A x = b, given the Cholesky factorization of A.\n",
        "        \n",
        "        Parameters\n",
        "        ----------\n",
        "        (c, lower) : tuple, (array, bool)\n",
        "            Cholesky factorization of a, as given by cho_factor\n",
        "        b : array\n",
        "            Right-hand side\n",
        "        \n",
        "        Returns\n",
        "        -------\n",
        "        x : array\n",
        "            The solution to the system A x = b\n",
        "        \n",
        "        See also\n",
        "        --------\n",
        "        cho_factor : Cholesky factorization of a matrix\n",
        "    \n",
        "    cho_solve_banded((cb, lower), b, overwrite_b=False)\n",
        "        Solve the linear equations A x = b, given the Cholesky factorization of A.\n",
        "        \n",
        "        Parameters\n",
        "        ----------\n",
        "        (cb, lower) : tuple, (array, bool)\n",
        "            `cb` is the Cholesky factorization of A, as given by cholesky_banded.\n",
        "            `lower` must be the same value that was given to cholesky_banded.\n",
        "        b : array\n",
        "            Right-hand side\n",
        "        overwrite_b : bool\n",
        "            If True, the function will overwrite the values in `b`.\n",
        "        \n",
        "        Returns\n",
        "        -------\n",
        "        x : array\n",
        "            The solution to the system A x = b\n",
        "        \n",
        "        See also\n",
        "        --------\n",
        "        cholesky_banded : Cholesky factorization of a banded matrix\n",
        "        \n",
        "        Notes\n",
        "        -----\n",
        "        \n",
        "        .. versionadded:: 0.8.0\n",
        "    \n",
        "    cholesky(a, lower=False, overwrite_a=False)\n",
        "        Compute the Cholesky decomposition of a matrix.\n",
        "        \n",
        "        Returns the Cholesky decomposition, :math:`A = L L^*` or\n",
        "        :math:`A = U^* U` of a Hermitian positive-definite matrix A.\n",
        "        \n",
        "        Parameters\n",
        "        ----------\n",
        "        a : ndarray, shape (M, M)\n",
        "            Matrix to be decomposed\n",
        "        lower : bool\n",
        "            Whether to compute the upper or lower triangular Cholesky\n",
        "            factorization.  Default is upper-triangular.\n",
        "        overwrite_a : bool\n",
        "            Whether to overwrite data in `a` (may improve performance).\n",
        "        \n",
        "        Returns\n",
        "        -------\n",
        "        c : ndarray, shape (M, M)\n",
        "            Upper- or lower-triangular Cholesky factor of `a`.\n",
        "        \n",
        "        Raises\n",
        "        ------\n",
        "        LinAlgError : if decomposition fails.\n",
        "        \n",
        "        Examples\n",
        "        --------\n",
        "        >>> from scipy import array, linalg, dot\n",
        "        >>> a = array([[1,-2j],[2j,5]])\n",
        "        >>> L = linalg.cholesky(a, lower=True)\n",
        "        >>> L\n",
        "        array([[ 1.+0.j,  0.+0.j],\n",
        "               [ 0.+2.j,  1.+0.j]])\n",
        "        >>> dot(L, L.T.conj())\n",
        "        array([[ 1.+0.j,  0.-2.j],\n",
        "               [ 0.+2.j,  5.+0.j]])\n",
        "    \n",
        "    cholesky_banded(ab, overwrite_ab=False, lower=False)\n",
        "        Cholesky decompose a banded Hermitian positive-definite matrix\n",
        "        \n",
        "        The matrix a is stored in ab either in lower diagonal or upper\n",
        "        diagonal ordered form:\n",
        "        \n",
        "            ab[u + i - j, j] == a[i,j]        (if upper form; i <= j)\n",
        "            ab[    i - j, j] == a[i,j]        (if lower form; i >= j)\n",
        "        \n",
        "        Example of ab (shape of a is (6,6), u=2)::\n",
        "        \n",
        "            upper form:\n",
        "            *   *   a02 a13 a24 a35\n",
        "            *   a01 a12 a23 a34 a45\n",
        "            a00 a11 a22 a33 a44 a55\n",
        "        \n",
        "            lower form:\n",
        "            a00 a11 a22 a33 a44 a55\n",
        "            a10 a21 a32 a43 a54 *\n",
        "            a20 a31 a42 a53 *   *\n",
        "        \n",
        "        Parameters\n",
        "        ----------\n",
        "        ab : array, shape (u + 1, M)\n",
        "            Banded matrix\n",
        "        overwrite_ab : boolean\n",
        "            Discard data in ab (may enhance performance)\n",
        "        lower : boolean\n",
        "            Is the matrix in the lower form. (Default is upper form)\n",
        "        \n",
        "        Returns\n",
        "        -------\n",
        "        c : array, shape (u+1, M)\n",
        "            Cholesky factorization of a, in the same banded format as ab\n",
        "    \n",
        "    circulant(c)\n",
        "        Construct a circulant matrix.\n",
        "        \n",
        "        Parameters\n",
        "        ----------\n",
        "        c : array_like\n",
        "            1-D array, the first column of the matrix.\n",
        "        \n",
        "        Returns\n",
        "        -------\n",
        "        A : array, shape (len(c), len(c))\n",
        "            A circulant matrix whose first column is `c`.\n",
        "        \n",
        "        See also\n",
        "        --------\n",
        "        toeplitz : Toeplitz matrix\n",
        "        hankel : Hankel matrix\n",
        "        \n",
        "        Notes\n",
        "        -----\n",
        "        .. versionadded:: 0.8.0\n",
        "        \n",
        "        Examples\n",
        "        --------\n",
        "        >>> from scipy.linalg import circulant\n",
        "        >>> circulant([1, 2, 3])\n",
        "        array([[1, 3, 2],\n",
        "               [2, 1, 3],\n",
        "               [3, 2, 1]])\n",
        "    \n",
        "    companion(a)\n",
        "        Create a companion matrix.\n",
        "        \n",
        "        Create the companion matrix [1]_ associated with the polynomial whose\n",
        "        coefficients are given in `a`.\n",
        "        \n",
        "        Parameters\n",
        "        ----------\n",
        "        a : array_like\n",
        "            1-D array of polynomial coefficients.  The length of `a` must be\n",
        "            at least two, and ``a[0]`` must not be zero.\n",
        "        \n",
        "        Returns\n",
        "        -------\n",
        "        c : ndarray\n",
        "            A square array of shape ``(n-1, n-1)``, where `n` is the length\n",
        "            of `a`.  The first row of `c` is ``-a[1:]/a[0]``, and the first\n",
        "            sub-diagonal is all ones.  The data-type of the array is the same\n",
        "            as the data-type of ``1.0*a[0]``.\n",
        "        \n",
        "        Raises\n",
        "        ------\n",
        "        ValueError\n",
        "            If any of the following are true: a) ``a.ndim != 1``;\n",
        "            b) ``a.size < 2``; c) ``a[0] == 0``.\n",
        "        \n",
        "        Notes\n",
        "        -----\n",
        "        .. versionadded:: 0.8.0\n",
        "        \n",
        "        References\n",
        "        ----------\n",
        "        .. [1] R. A. Horn & C. R. Johnson, *Matrix Analysis*.  Cambridge, UK:\n",
        "            Cambridge University Press, 1999, pp. 146-7.\n",
        "        \n",
        "        Examples\n",
        "        --------\n",
        "        >>> from scipy.linalg import companion\n",
        "        >>> companion([1, -10, 31, -30])\n",
        "        array([[ 10., -31.,  30.],\n",
        "               [  1.,   0.,   0.],\n",
        "               [  0.,   1.,   0.]])\n",
        "    \n",
        "    coshm(A)\n",
        "        Compute the hyperbolic matrix cosine.\n",
        "        \n",
        "        This routine uses expm to compute the matrix exponentials.\n",
        "        \n",
        "        Parameters\n",
        "        ----------\n",
        "        A : array, shape(M,M)\n",
        "        \n",
        "        Returns\n",
        "        -------\n",
        "        coshA : array, shape(M,M)\n",
        "            Hyperbolic matrix cosine of A\n",
        "    \n",
        "    cosm(A)\n",
        "        Compute the matrix cosine.\n",
        "        \n",
        "        This routine uses expm to compute the matrix exponentials.\n",
        "        \n",
        "        Parameters\n",
        "        ----------\n",
        "        A : array, shape(M,M)\n",
        "        \n",
        "        Returns\n",
        "        -------\n",
        "        cosA : array, shape(M,M)\n",
        "            Matrix cosine of A\n",
        "    \n",
        "    det(a, overwrite_a=False)\n",
        "        Compute the determinant of a matrix\n",
        "        \n",
        "        The determinant of a square matrix is a value derived arithmetically\n",
        "        from the coefficients of the matrix.\n",
        "        \n",
        "        The determinant for a 3x3 matrix, for example, is computed as follows::\n",
        "        \n",
        "            a    b    c\n",
        "            d    e    f = A\n",
        "            g    h    i\n",
        "        \n",
        "            det(A) = a*e*i +b*f*g + c*d*h - c*e*g - b*d*i - a*f*h\n",
        "        \n",
        "        Parameters\n",
        "        ----------\n",
        "        a : array_like, shape (M, M)\n",
        "            A square matrix.\n",
        "        overwrite_a : bool\n",
        "            Allow overwriting data in a (may enhance performance).\n",
        "        \n",
        "        Returns\n",
        "        -------\n",
        "        det : float or complex\n",
        "            Determinant of `a`.\n",
        "        \n",
        "        Notes\n",
        "        -----\n",
        "        The determinant is computed via LU factorization, LAPACK routine z/dgetrf.\n",
        "        \n",
        "        Examples\n",
        "        --------\n",
        "        >>> a = np.array([[1,2,3],[4,5,6],[7,8,9]])\n",
        "        >>> linalg.det(a)\n",
        "        0.0\n",
        "        >>> a = np.array([[0,2,3],[4,5,6],[7,8,9]])\n",
        "        >>> linalg.det(a)\n",
        "        3.0\n",
        "    \n",
        "    diagsvd(s, M, N)\n",
        "        Construct the sigma matrix in SVD from singular values and size M, N.\n",
        "        \n",
        "        Parameters\n",
        "        ----------\n",
        "        s : array_like, shape (M,) or (N,)\n",
        "            Singular values\n",
        "        M : int\n",
        "            Size of the matrix whose singular values are `s`.\n",
        "        N : int\n",
        "            Size of the matrix whose singular values are `s`.\n",
        "        \n",
        "        Returns\n",
        "        -------\n",
        "        S : array, shape (M, N)\n",
        "            The S-matrix in the singular value decomposition\n",
        "    \n",
        "    eig(a, b=None, left=False, right=True, overwrite_a=False, overwrite_b=False)\n",
        "        Solve an ordinary or generalized eigenvalue problem of a square matrix.\n",
        "        \n",
        "        Find eigenvalues w and right or left eigenvectors of a general matrix::\n",
        "        \n",
        "            a   vr[:,i] = w[i]        b   vr[:,i]\n",
        "            a.H vl[:,i] = w[i].conj() b.H vl[:,i]\n",
        "        \n",
        "        where ``.H`` is the Hermitian conjugation.\n",
        "        \n",
        "        Parameters\n",
        "        ----------\n",
        "        a : array_like, shape (M, M)\n",
        "            A complex or real matrix whose eigenvalues and eigenvectors\n",
        "            will be computed.\n",
        "        b : array_like, shape (M, M), optional\n",
        "            Right-hand side matrix in a generalized eigenvalue problem.\n",
        "            Default is None, identity matrix is assumed.\n",
        "        left : bool, optional\n",
        "            Whether to calculate and return left eigenvectors.  Default is False.\n",
        "        right : bool, optional\n",
        "            Whether to calculate and return right eigenvectors.  Default is True.\n",
        "        overwrite_a : bool, optional\n",
        "            Whether to overwrite `a`; may improve performance.  Default is False.\n",
        "        overwrite_b : bool, optional\n",
        "            Whether to overwrite `b`; may improve performance.  Default is False.\n",
        "        \n",
        "        Returns\n",
        "        -------\n",
        "        w : double or complex ndarray\n",
        "            The eigenvalues, each repeated according to its multiplicity.\n",
        "            Of shape (M,).\n",
        "        vl : double or complex ndarray\n",
        "            The normalized left eigenvector corresponding to the eigenvalue\n",
        "            ``w[i]`` is the column v[:,i]. Only returned if ``left=True``.\n",
        "            Of shape ``(M, M)``.\n",
        "        vr : double or complex array\n",
        "            The normalized right eigenvector corresponding to the eigenvalue\n",
        "            ``w[i]`` is the column ``vr[:,i]``.  Only returned if ``right=True``.\n",
        "            Of shape ``(M, M)``.\n",
        "        \n",
        "        Raises\n",
        "        ------\n",
        "        LinAlgError\n",
        "            If eigenvalue computation does not converge.\n",
        "        \n",
        "        See Also\n",
        "        --------\n",
        "        eigh : Eigenvalues and right eigenvectors for symmetric/Hermitian arrays.\n",
        "    \n",
        "    eig_banded(a_band, lower=False, eigvals_only=False, overwrite_a_band=False, select='a', select_range=None, max_ev=0)\n",
        "        Solve real symmetric or complex hermitian band matrix eigenvalue problem.\n",
        "        \n",
        "        Find eigenvalues w and optionally right eigenvectors v of a::\n",
        "        \n",
        "            a v[:,i] = w[i] v[:,i]\n",
        "            v.H v    = identity\n",
        "        \n",
        "        The matrix a is stored in a_band either in lower diagonal or upper\n",
        "        diagonal ordered form:\n",
        "        \n",
        "            a_band[u + i - j, j] == a[i,j]        (if upper form; i <= j)\n",
        "            a_band[    i - j, j] == a[i,j]        (if lower form; i >= j)\n",
        "        \n",
        "        where u is the number of bands above the diagonal.\n",
        "        \n",
        "        Example of a_band (shape of a is (6,6), u=2)::\n",
        "        \n",
        "            upper form:\n",
        "            *   *   a02 a13 a24 a35\n",
        "            *   a01 a12 a23 a34 a45\n",
        "            a00 a11 a22 a33 a44 a55\n",
        "        \n",
        "            lower form:\n",
        "            a00 a11 a22 a33 a44 a55\n",
        "            a10 a21 a32 a43 a54 *\n",
        "            a20 a31 a42 a53 *   *\n",
        "        \n",
        "        Cells marked with * are not used.\n",
        "        \n",
        "        Parameters\n",
        "        ----------\n",
        "        a_band : array, shape (u+1, M)\n",
        "            The bands of the M by M matrix a.\n",
        "        lower : boolean\n",
        "            Is the matrix in the lower form. (Default is upper form)\n",
        "        eigvals_only : boolean\n",
        "            Compute only the eigenvalues and no eigenvectors.\n",
        "            (Default: calculate also eigenvectors)\n",
        "        overwrite_a_band:\n",
        "            Discard data in a_band (may enhance performance)\n",
        "        select: {'a', 'v', 'i'}\n",
        "            Which eigenvalues to calculate\n",
        "        \n",
        "            ======  ========================================\n",
        "            select  calculated\n",
        "            ======  ========================================\n",
        "            'a'     All eigenvalues\n",
        "            'v'     Eigenvalues in the interval (min, max]\n",
        "            'i'     Eigenvalues with indices min <= i <= max\n",
        "            ======  ========================================\n",
        "        select_range : (min, max)\n",
        "            Range of selected eigenvalues\n",
        "        max_ev : integer\n",
        "            For select=='v', maximum number of eigenvalues expected.\n",
        "            For other values of select, has no meaning.\n",
        "        \n",
        "            In doubt, leave this parameter untouched.\n",
        "        \n",
        "        Returns\n",
        "        -------\n",
        "        w : array, shape (M,)\n",
        "            The eigenvalues, in ascending order, each repeated according to its\n",
        "            multiplicity.\n",
        "        \n",
        "        v : double or complex double array, shape (M, M)\n",
        "            The normalized eigenvector corresponding to the eigenvalue w[i] is\n",
        "            the column v[:,i].\n",
        "        \n",
        "        Raises LinAlgError if eigenvalue computation does not converge\n",
        "    \n",
        "    eigh(a, b=None, lower=True, eigvals_only=False, overwrite_a=False, overwrite_b=False, turbo=True, eigvals=None, type=1)\n",
        "        Solve an ordinary or generalized eigenvalue problem for a complex\n",
        "        Hermitian or real symmetric matrix.\n",
        "        \n",
        "        Find eigenvalues w and optionally eigenvectors v of matrix a, where\n",
        "        b is positive definite::\n",
        "        \n",
        "                          a v[:,i] = w[i] b v[:,i]\n",
        "            v[i,:].conj() a v[:,i] = w[i]\n",
        "            v[i,:].conj() b v[:,i] = 1\n",
        "        \n",
        "        \n",
        "        Parameters\n",
        "        ----------\n",
        "        a : array, shape (M, M)\n",
        "            A complex Hermitian or real symmetric matrix whose eigenvalues and\n",
        "            eigenvectors will be computed.\n",
        "        b : array, shape (M, M)\n",
        "            A complex Hermitian or real symmetric definite positive matrix in.\n",
        "            If omitted, identity matrix is assumed.\n",
        "        lower : boolean\n",
        "            Whether the pertinent array data is taken from the lower or upper\n",
        "            triangle of a. (Default: lower)\n",
        "        eigvals_only : boolean\n",
        "            Whether to calculate only eigenvalues and no eigenvectors.\n",
        "            (Default: both are calculated)\n",
        "        turbo : boolean\n",
        "            Use divide and conquer algorithm (faster but expensive in memory,\n",
        "            only for generalized eigenvalue problem and if eigvals=None)\n",
        "        eigvals : tuple (lo, hi)\n",
        "            Indexes of the smallest and largest (in ascending order) eigenvalues\n",
        "            and corresponding eigenvectors to be returned: 0 <= lo < hi <= M-1.\n",
        "            If omitted, all eigenvalues and eigenvectors are returned.\n",
        "        type: integer\n",
        "            Specifies the problem type to be solved:\n",
        "               type = 1: a   v[:,i] = w[i] b v[:,i]\n",
        "               type = 2: a b v[:,i] = w[i]   v[:,i]\n",
        "               type = 3: b a v[:,i] = w[i]   v[:,i]\n",
        "        overwrite_a : boolean\n",
        "            Whether to overwrite data in a (may improve performance)\n",
        "        overwrite_b : boolean\n",
        "            Whether to overwrite data in b (may improve performance)\n",
        "        \n",
        "        Returns\n",
        "        -------\n",
        "        w : real array, shape (N,)\n",
        "            The N (1<=N<=M) selected eigenvalues, in ascending order, each\n",
        "            repeated according to its multiplicity.\n",
        "        \n",
        "        (if eigvals_only == False)\n",
        "        v : complex array, shape (M, N)\n",
        "            The normalized selected eigenvector corresponding to the\n",
        "            eigenvalue w[i] is the column v[:,i]. Normalization:\n",
        "            type 1 and 3:       v.conj() a      v  = w\n",
        "            type 2:        inv(v).conj() a  inv(v) = w\n",
        "            type = 1 or 2:      v.conj() b      v  = I\n",
        "            type = 3     :      v.conj() inv(b) v  = I\n",
        "        \n",
        "        Raises LinAlgError if eigenvalue computation does not converge,\n",
        "        an error occurred, or b matrix is not definite positive. Note that\n",
        "        if input matrices are not symmetric or hermitian, no error is reported\n",
        "        but results will be wrong.\n",
        "        \n",
        "        See Also\n",
        "        --------\n",
        "        eig : eigenvalues and right eigenvectors for non-symmetric arrays\n",
        "    \n",
        "    eigvals(a, b=None, overwrite_a=False)\n",
        "        Compute eigenvalues from an ordinary or generalized eigenvalue problem.\n",
        "        \n",
        "        Find eigenvalues of a general matrix::\n",
        "        \n",
        "            a   vr[:,i] = w[i]        b   vr[:,i]\n",
        "        \n",
        "        Parameters\n",
        "        ----------\n",
        "        a : array_like, shape (M, M)\n",
        "            A complex or real matrix whose eigenvalues and eigenvectors\n",
        "            will be computed.\n",
        "        b : array_like, shape (M, M), optional\n",
        "            Right-hand side matrix in a generalized eigenvalue problem.\n",
        "            If omitted, identity matrix is assumed.\n",
        "        overwrite_a : boolean, optional\n",
        "            Whether to overwrite data in a (may improve performance)\n",
        "        \n",
        "        Returns\n",
        "        -------\n",
        "        w : double or complex ndarray, shape (M,)\n",
        "            The eigenvalues, each repeated according to its multiplicity,\n",
        "            but not in any specific order.  Of shape (M,).\n",
        "        \n",
        "        Raises\n",
        "        ------\n",
        "        LinAlgError\n",
        "            If eigenvalue computation does not converge\n",
        "        \n",
        "        See Also\n",
        "        --------\n",
        "        eigvalsh : eigenvalues of symmetric or Hermitian arrays,\n",
        "        eig : eigenvalues and right eigenvectors of general arrays.\n",
        "        eigh : eigenvalues and eigenvectors of symmetric/Hermitian arrays.\n",
        "    \n",
        "    eigvals_banded(a_band, lower=False, overwrite_a_band=False, select='a', select_range=None)\n",
        "        Solve real symmetric or complex hermitian band matrix eigenvalue problem.\n",
        "        \n",
        "        Find eigenvalues w of a::\n",
        "        \n",
        "            a v[:,i] = w[i] v[:,i]\n",
        "            v.H v    = identity\n",
        "        \n",
        "        The matrix a is stored in a_band either in lower diagonal or upper\n",
        "        diagonal ordered form:\n",
        "        \n",
        "            a_band[u + i - j, j] == a[i,j]        (if upper form; i <= j)\n",
        "            a_band[    i - j, j] == a[i,j]        (if lower form; i >= j)\n",
        "        \n",
        "        where u is the number of bands above the diagonal.\n",
        "        \n",
        "        Example of a_band (shape of a is (6,6), u=2)::\n",
        "        \n",
        "            upper form:\n",
        "            *   *   a02 a13 a24 a35\n",
        "            *   a01 a12 a23 a34 a45\n",
        "            a00 a11 a22 a33 a44 a55\n",
        "        \n",
        "            lower form:\n",
        "            a00 a11 a22 a33 a44 a55\n",
        "            a10 a21 a32 a43 a54 *\n",
        "            a20 a31 a42 a53 *   *\n",
        "        \n",
        "        Cells marked with * are not used.\n",
        "        \n",
        "        Parameters\n",
        "        ----------\n",
        "        a_band : array, shape (u+1, M)\n",
        "            The bands of the M by M matrix a.\n",
        "        lower : boolean\n",
        "            Is the matrix in the lower form. (Default is upper form)\n",
        "        overwrite_a_band:\n",
        "            Discard data in a_band (may enhance performance)\n",
        "        select: {'a', 'v', 'i'}\n",
        "            Which eigenvalues to calculate\n",
        "        \n",
        "            ======  ========================================\n",
        "            select  calculated\n",
        "            ======  ========================================\n",
        "            'a'     All eigenvalues\n",
        "            'v'     Eigenvalues in the interval (min, max]\n",
        "            'i'     Eigenvalues with indices min <= i <= max\n",
        "            ======  ========================================\n",
        "        select_range : (min, max)\n",
        "            Range of selected eigenvalues\n",
        "        \n",
        "        Returns\n",
        "        -------\n",
        "        w : array, shape (M,)\n",
        "            The eigenvalues, in ascending order, each repeated according to its\n",
        "            multiplicity.\n",
        "        \n",
        "        Raises LinAlgError if eigenvalue computation does not converge\n",
        "        \n",
        "        See Also\n",
        "        --------\n",
        "        eig_banded : eigenvalues and right eigenvectors for symmetric/Hermitian band matrices\n",
        "        eigvals : eigenvalues of general arrays\n",
        "        eigh : eigenvalues and right eigenvectors for symmetric/Hermitian arrays\n",
        "        eig : eigenvalues and right eigenvectors for non-symmetric arrays\n",
        "    \n",
        "    eigvalsh(a, b=None, lower=True, overwrite_a=False, overwrite_b=False, turbo=True, eigvals=None, type=1)\n",
        "        Solve an ordinary or generalized eigenvalue problem for a complex\n",
        "        Hermitian or real symmetric matrix.\n",
        "        \n",
        "        Find eigenvalues w of matrix a, where b is positive definite::\n",
        "        \n",
        "                          a v[:,i] = w[i] b v[:,i]\n",
        "            v[i,:].conj() a v[:,i] = w[i]\n",
        "            v[i,:].conj() b v[:,i] = 1\n",
        "        \n",
        "        \n",
        "        Parameters\n",
        "        ----------\n",
        "        a : array, shape (M, M)\n",
        "            A complex Hermitian or real symmetric matrix whose eigenvalues and\n",
        "            eigenvectors will be computed.\n",
        "        b : array, shape (M, M)\n",
        "            A complex Hermitian or real symmetric definite positive matrix in.\n",
        "            If omitted, identity matrix is assumed.\n",
        "        lower : boolean\n",
        "            Whether the pertinent array data is taken from the lower or upper\n",
        "            triangle of a. (Default: lower)\n",
        "        turbo : boolean\n",
        "            Use divide and conquer algorithm (faster but expensive in memory,\n",
        "            only for generalized eigenvalue problem and if eigvals=None)\n",
        "        eigvals : tuple (lo, hi)\n",
        "            Indexes of the smallest and largest (in ascending order) eigenvalues\n",
        "            and corresponding eigenvectors to be returned: 0 <= lo < hi <= M-1.\n",
        "            If omitted, all eigenvalues and eigenvectors are returned.\n",
        "        type: integer\n",
        "            Specifies the problem type to be solved:\n",
        "               type = 1: a   v[:,i] = w[i] b v[:,i]\n",
        "               type = 2: a b v[:,i] = w[i]   v[:,i]\n",
        "               type = 3: b a v[:,i] = w[i]   v[:,i]\n",
        "        overwrite_a : boolean\n",
        "            Whether to overwrite data in a (may improve performance)\n",
        "        overwrite_b : boolean\n",
        "            Whether to overwrite data in b (may improve performance)\n",
        "        \n",
        "        Returns\n",
        "        -------\n",
        "        w : real array, shape (N,)\n",
        "            The N (1<=N<=M) selected eigenvalues, in ascending order, each\n",
        "            repeated according to its multiplicity.\n",
        "        \n",
        "        Raises LinAlgError if eigenvalue computation does not converge,\n",
        "        an error occurred, or b matrix is not definite positive. Note that\n",
        "        if input matrices are not symmetric or hermitian, no error is reported\n",
        "        but results will be wrong.\n",
        "        \n",
        "        See Also\n",
        "        --------\n",
        "        eigvals : eigenvalues of general arrays\n",
        "        eigh : eigenvalues and right eigenvectors for symmetric/Hermitian arrays\n",
        "        eig : eigenvalues and right eigenvectors for non-symmetric arrays\n",
        "    \n",
        "    expm(A, q=False)\n",
        "        Compute the matrix exponential using Pade approximation.\n",
        "        \n",
        "        Parameters\n",
        "        ----------\n",
        "        A : array, shape(M,M)\n",
        "            Matrix to be exponentiated\n",
        "        \n",
        "        Returns\n",
        "        -------\n",
        "        expA : array, shape(M,M)\n",
        "            Matrix exponential of A\n",
        "        \n",
        "        References\n",
        "        ----------\n",
        "        N. J. Higham,\n",
        "        \"The Scaling and Squaring Method for the Matrix Exponential Revisited\",\n",
        "        SIAM. J. Matrix Anal. & Appl. 26, 1179 (2005).\n",
        "    \n",
        "    expm2(A)\n",
        "        Compute the matrix exponential using eigenvalue decomposition.\n",
        "        \n",
        "        Parameters\n",
        "        ----------\n",
        "        A : array, shape(M,M)\n",
        "            Matrix to be exponentiated\n",
        "        \n",
        "        Returns\n",
        "        -------\n",
        "        expA : array, shape(M,M)\n",
        "            Matrix exponential of A\n",
        "    \n",
        "    expm3(A, q=20)\n",
        "        Compute the matrix exponential using Taylor series.\n",
        "        \n",
        "        Parameters\n",
        "        ----------\n",
        "        A : array, shape(M,M)\n",
        "            Matrix to be exponentiated\n",
        "        q : integer\n",
        "            Order of the Taylor series\n",
        "        \n",
        "        Returns\n",
        "        -------\n",
        "        expA : array, shape(M,M)\n",
        "            Matrix exponential of A\n",
        "    \n",
        "    funm(A, func, disp=True)\n",
        "        Evaluate a matrix function specified by a callable.\n",
        "        \n",
        "        Returns the value of matrix-valued function f at A. The function f\n",
        "        is an extension of the scalar-valued function func to matrices.\n",
        "        \n",
        "        Parameters\n",
        "        ----------\n",
        "        A : array, shape(M,M)\n",
        "            Matrix at which to evaluate the function\n",
        "        func : callable\n",
        "            Callable object that evaluates a scalar function f.\n",
        "            Must be vectorized (eg. using vectorize).\n",
        "        disp : boolean\n",
        "            Print warning if error in the result is estimated large\n",
        "            instead of returning estimated error. (Default: True)\n",
        "        \n",
        "        Returns\n",
        "        -------\n",
        "        fA : array, shape(M,M)\n",
        "            Value of the matrix function specified by func evaluated at A\n",
        "        \n",
        "        (if disp == False)\n",
        "        errest : float\n",
        "            1-norm of the estimated error, ||err||_1 / ||A||_1\n",
        "    \n",
        "    get_blas_funcs(names, arrays=(), dtype=None)\n",
        "        Return available BLAS function objects from names.\n",
        "        \n",
        "        Arrays are used to determine the optimal prefix of BLAS routines.\n",
        "        \n",
        "        Parameters\n",
        "        ----------\n",
        "        names : str or sequence of str\n",
        "            Name(s) of BLAS functions withouth type prefix.\n",
        "        \n",
        "        arrays : sequency of ndarrays, optional\n",
        "            Arrays can be given to determine optiomal prefix of BLAS\n",
        "            routines. If not given, double-precision routines will be\n",
        "            used, otherwise the most generic type in arrays will be used.\n",
        "        \n",
        "        dtype : str or dtype, optional\n",
        "            Data-type specifier. Not used if `arrays` is non-empty.\n",
        "        \n",
        "        \n",
        "        Returns\n",
        "        -------\n",
        "        funcs : list\n",
        "            List containing the found function(s).\n",
        "        \n",
        "        \n",
        "        Notes\n",
        "        -----\n",
        "        This routines automatically chooses between Fortran/C\n",
        "        interfaces. Fortran code is used whenever possible for arrays with\n",
        "        column major order. In all other cases, C code is preferred.\n",
        "        \n",
        "        In BLAS, the naming convention is that all functions start with a\n",
        "        type prefix, which depends on the type of the principal\n",
        "        matrix. These can be one of {'s', 'd', 'c', 'z'} for the numpy\n",
        "        types {float32, float64, complex64, complex128} respectevely, and\n",
        "        are stored in attribute `typecode` of the returned functions.\n",
        "    \n",
        "    hadamard(n, dtype=<type 'int'>)\n",
        "        Construct a Hadamard matrix.\n",
        "        \n",
        "        `hadamard(n)` constructs an n-by-n Hadamard matrix, using Sylvester's\n",
        "        construction.  `n` must be a power of 2.\n",
        "        \n",
        "        Parameters\n",
        "        ----------\n",
        "        n : int\n",
        "            The order of the matrix.  `n` must be a power of 2.\n",
        "        dtype : numpy dtype\n",
        "            The data type of the array to be constructed.\n",
        "        \n",
        "        Returns\n",
        "        -------\n",
        "        H : ndarray with shape (n, n)\n",
        "            The Hadamard matrix.\n",
        "        \n",
        "        Notes\n",
        "        -----\n",
        "        .. versionadded:: 0.8.0\n",
        "        \n",
        "        Examples\n",
        "        --------\n",
        "        >>> from scipy.linalg import hadamard\n",
        "        >>> hadamard(2, dtype=complex)\n",
        "        array([[ 1.+0.j,  1.+0.j],\n",
        "               [ 1.+0.j, -1.-0.j]])\n",
        "        >>> hadamard(4)\n",
        "        array([[ 1,  1,  1,  1],\n",
        "               [ 1, -1,  1, -1],\n",
        "               [ 1,  1, -1, -1],\n",
        "               [ 1, -1, -1,  1]])\n",
        "    \n",
        "    hankel(c, r=None)\n",
        "        Construct a Hankel matrix.\n",
        "        \n",
        "        The Hankel matrix has constant anti-diagonals, with `c` as its\n",
        "        first column and `r` as its last row.  If `r` is not given, then\n",
        "        `r = zeros_like(c)` is assumed.\n",
        "        \n",
        "        Parameters\n",
        "        ----------\n",
        "        c : array_like\n",
        "            First column of the matrix.  Whatever the actual shape of `c`, it\n",
        "            will be converted to a 1-D array.\n",
        "        r : array_like, 1D\n",
        "            Last row of the matrix. If None, ``r = zeros_like(c)`` is assumed.\n",
        "            r[0] is ignored; the last row of the returned matrix is\n",
        "            ``[c[-1], r[1:]]``.  Whatever the actual shape of `r`, it will be\n",
        "            converted to a 1-D array.\n",
        "        \n",
        "        Returns\n",
        "        -------\n",
        "        A : array, shape (len(c), len(r))\n",
        "            The Hankel matrix. Dtype is the same as ``(c[0] + r[0]).dtype``.\n",
        "        \n",
        "        See also\n",
        "        --------\n",
        "        toeplitz : Toeplitz matrix\n",
        "        circulant : circulant matrix\n",
        "        \n",
        "        Examples\n",
        "        --------\n",
        "        >>> from scipy.linalg import hankel\n",
        "        >>> hankel([1, 17, 99])\n",
        "        array([[ 1, 17, 99],\n",
        "               [17, 99,  0],\n",
        "               [99,  0,  0]])\n",
        "        >>> hankel([1,2,3,4], [4,7,7,8,9])\n",
        "        array([[1, 2, 3, 4, 7],\n",
        "               [2, 3, 4, 7, 7],\n",
        "               [3, 4, 7, 7, 8],\n",
        "               [4, 7, 7, 8, 9]])\n",
        "    \n",
        "    hessenberg(a, calc_q=False, overwrite_a=False)\n",
        "        Compute Hessenberg form of a matrix.\n",
        "        \n",
        "        The Hessenberg decomposition is::\n",
        "        \n",
        "            A = Q H Q^H\n",
        "        \n",
        "        where `Q` is unitary/orthogonal and `H` has only zero elements below\n",
        "        the first sub-diagonal.\n",
        "        \n",
        "        Parameters\n",
        "        ----------\n",
        "        a : ndarray\n",
        "            Matrix to bring into Hessenberg form, of shape ``(M,M)``.\n",
        "        calc_q : bool, optional\n",
        "            Whether to compute the transformation matrix.  Default is False.\n",
        "        overwrite_a : bool, optional\n",
        "            Whether to overwrite `a`; may improve performance.\n",
        "            Default is False.\n",
        "        \n",
        "        Returns\n",
        "        -------\n",
        "        H : ndarray\n",
        "            Hessenberg form of `a`, of shape (M,M).\n",
        "        Q : ndarray\n",
        "            Unitary/orthogonal similarity transformation matrix ``A = Q H Q^H``.\n",
        "            Only returned if ``calc_q=True``.  Of shape (M,M).\n",
        "    \n",
        "    hilbert(n)\n",
        "        Create a Hilbert matrix of order `n`.\n",
        "        \n",
        "        Returns the `n` by `n` array with entries `h[i,j] = 1 / (i + j + 1)`.\n",
        "        \n",
        "        Parameters\n",
        "        ----------\n",
        "        n : int\n",
        "            The size of the array to create.\n",
        "        \n",
        "        Returns\n",
        "        -------\n",
        "        h : ndarray with shape (n, n)\n",
        "            The Hilbert matrix.\n",
        "        \n",
        "        See Also\n",
        "        --------\n",
        "        invhilbert : Compute the inverse of a Hilbert matrix.\n",
        "        \n",
        "        Notes\n",
        "        -----\n",
        "        .. versionadded:: 0.10.0\n",
        "        \n",
        "        Examples\n",
        "        --------\n",
        "        >>> from scipy.linalg import hilbert\n",
        "        >>> hilbert(3)\n",
        "        array([[ 1.        ,  0.5       ,  0.33333333],\n",
        "               [ 0.5       ,  0.33333333,  0.25      ],\n",
        "               [ 0.33333333,  0.25      ,  0.2       ]])\n",
        "    \n",
        "    inv(a, overwrite_a=False)\n",
        "        Compute the inverse of a matrix.\n",
        "        \n",
        "        Parameters\n",
        "        ----------\n",
        "        a : array_like\n",
        "            Square matrix to be inverted.\n",
        "        overwrite_a : bool, optional\n",
        "            Discard data in `a` (may improve performance). Default is False.\n",
        "        \n",
        "        Returns\n",
        "        -------\n",
        "        ainv : ndarray\n",
        "            Inverse of the matrix `a`.\n",
        "        \n",
        "        Raises\n",
        "        ------\n",
        "        LinAlgError :\n",
        "            If `a` is singular.\n",
        "        ValueError :\n",
        "            If `a` is not square, or not 2-dimensional.\n",
        "        \n",
        "        Examples\n",
        "        --------\n",
        "        >>> a = np.array([[1., 2.], [3., 4.]])\n",
        "        >>> sp.linalg.inv(a)\n",
        "        array([[-2. ,  1. ],\n",
        "               [ 1.5, -0.5]])\n",
        "        >>> np.dot(a, sp.linalg.inv(a))\n",
        "        array([[ 1.,  0.],\n",
        "               [ 0.,  1.]])\n",
        "    \n",
        "    invhilbert(n, exact=False)\n",
        "        Compute the inverse of the Hilbert matrix of order `n`.\n",
        "        \n",
        "        The entries in the inverse of a Hilbert matrix are integers.  When `n`\n",
        "        is greater than 14, some entries in the inverse exceed the upper limit\n",
        "        of 64 bit integers.  The `exact` argument provides two options for\n",
        "        dealing with these large integers.\n",
        "        \n",
        "        Parameters\n",
        "        ----------\n",
        "        n : int\n",
        "            The order of the Hilbert matrix.\n",
        "        exact : bool\n",
        "            If False, the data type of the array that is returned is np.float64,\n",
        "            and the array is an approximation of the inverse.\n",
        "            If True, the array is the exact integer inverse array.  To represent\n",
        "            the exact inverse when n > 14, the returned array is an object array\n",
        "            of long integers.  For n <= 14, the exact inverse is returned as an\n",
        "            array with data type np.int64.\n",
        "        \n",
        "        Returns\n",
        "        -------\n",
        "        invh : ndarray with shape (n, n)\n",
        "            The data type of the array is np.float64 if `exact` is False.\n",
        "            If `exact` is True, the data type is either np.int64 (for n <= 14)\n",
        "            or object (for n > 14).  In the latter case, the objects in the\n",
        "            array will be long integers.\n",
        "        \n",
        "        See Also\n",
        "        --------\n",
        "        hilbert : Create a Hilbert matrix.\n",
        "        \n",
        "        Notes\n",
        "        -----\n",
        "        .. versionadded:: 0.10.0\n",
        "        \n",
        "        Examples\n",
        "        --------\n",
        "        >>> from scipy.linalg import invhilbert\n",
        "        >>> invhilbert(4)\n",
        "        array([[   16.,  -120.,   240.,  -140.],\n",
        "               [ -120.,  1200., -2700.,  1680.],\n",
        "               [  240., -2700.,  6480., -4200.],\n",
        "               [ -140.,  1680., -4200.,  2800.]])\n",
        "        >>> invhilbert(4, exact=True)\n",
        "        array([[   16,  -120,   240,  -140],\n",
        "               [ -120,  1200, -2700,  1680],\n",
        "               [  240, -2700,  6480, -4200],\n",
        "               [ -140,  1680, -4200,  2800]], dtype=int64)\n",
        "        >>> invhilbert(16)[7,7]\n",
        "        4.2475099528537506e+19\n",
        "        >>> invhilbert(16, exact=True)[7,7]\n",
        "        42475099528537378560L\n",
        "    \n",
        "    kron(a, b)\n",
        "        Kronecker product of a and b.\n",
        "        \n",
        "        The result is the block matrix::\n",
        "        \n",
        "            a[0,0]*b    a[0,1]*b  ... a[0,-1]*b\n",
        "            a[1,0]*b    a[1,1]*b  ... a[1,-1]*b\n",
        "            ...\n",
        "            a[-1,0]*b   a[-1,1]*b ... a[-1,-1]*b\n",
        "        \n",
        "        Parameters\n",
        "        ----------\n",
        "        a : array, shape (M, N)\n",
        "        b : array, shape (P, Q)\n",
        "        \n",
        "        Returns\n",
        "        -------\n",
        "        A : array, shape (M*P, N*Q)\n",
        "            Kronecker product of a and b\n",
        "        \n",
        "        Examples\n",
        "        --------\n",
        "        >>> from numpy import array\n",
        "        >>> from scipy.linalg import kron\n",
        "        >>> kron(array([[1,2],[3,4]]), array([[1,1,1]]))\n",
        "        array([[1, 1, 1, 2, 2, 2],\n",
        "               [3, 3, 3, 4, 4, 4]])\n",
        "    \n",
        "    leslie(f, s)\n",
        "        Create a Leslie matrix.\n",
        "        \n",
        "        Given the length n array of fecundity coefficients `f` and the length\n",
        "        n-1 array of survival coefficents `s`, return the associated Leslie matrix.\n",
        "        \n",
        "        Parameters\n",
        "        ----------\n",
        "        f : array_like\n",
        "            The \"fecundity\" coefficients, has to be 1-D.\n",
        "        s : array_like\n",
        "            The \"survival\" coefficients, has to be 1-D.  The length of `s`\n",
        "            must be one less than the length of `f`, and it must be at least 1.\n",
        "        \n",
        "        Returns\n",
        "        -------\n",
        "        L : ndarray\n",
        "            Returns a 2-D ndarray of shape ``(n, n)``, where `n` is the\n",
        "            length of `f`.  The array is zero except for the first row,\n",
        "            which is `f`, and the first sub-diagonal, which is `s`.\n",
        "            The data-type of the array will be the data-type of ``f[0]+s[0]``.\n",
        "        \n",
        "        Notes\n",
        "        -----\n",
        "        .. versionadded:: 0.8.0\n",
        "        \n",
        "        The Leslie matrix is used to model discrete-time, age-structured\n",
        "        population growth [1]_ [2]_. In a population with `n` age classes, two sets\n",
        "        of parameters define a Leslie matrix: the `n` \"fecundity coefficients\",\n",
        "        which give the number of offspring per-capita produced by each age\n",
        "        class, and the `n` - 1 \"survival coefficients\", which give the\n",
        "        per-capita survival rate of each age class.\n",
        "        \n",
        "        References\n",
        "        ----------\n",
        "        .. [1] P. H. Leslie, On the use of matrices in certain population\n",
        "               mathematics, Biometrika, Vol. 33, No. 3, 183--212 (Nov. 1945)\n",
        "        .. [2] P. H. Leslie, Some further notes on the use of matrices in\n",
        "               population mathematics, Biometrika, Vol. 35, No. 3/4, 213--245\n",
        "               (Dec. 1948)\n",
        "        \n",
        "        Examples\n",
        "        --------\n",
        "        >>> from scipy.linalg import leslie\n",
        "        >>> leslie([0.1, 2.0, 1.0, 0.1], [0.2, 0.8, 0.7])\n",
        "        array([[ 0.1,  2. ,  1. ,  0.1],\n",
        "               [ 0.2,  0. ,  0. ,  0. ],\n",
        "               [ 0. ,  0.8,  0. ,  0. ],\n",
        "               [ 0. ,  0. ,  0.7,  0. ]])\n",
        "    \n",
        "    logm(A, disp=True)\n",
        "        Compute matrix logarithm.\n",
        "        \n",
        "        The matrix logarithm is the inverse of expm: expm(logm(A)) == A\n",
        "        \n",
        "        Parameters\n",
        "        ----------\n",
        "        A : array, shape(M,M)\n",
        "            Matrix whose logarithm to evaluate\n",
        "        disp : boolean\n",
        "            Print warning if error in the result is estimated large\n",
        "            instead of returning estimated error. (Default: True)\n",
        "        \n",
        "        Returns\n",
        "        -------\n",
        "        logA : array, shape(M,M)\n",
        "            Matrix logarithm of A\n",
        "        \n",
        "        (if disp == False)\n",
        "        errest : float\n",
        "            1-norm of the estimated error, ||err||_1 / ||A||_1\n",
        "    \n",
        "    lstsq(a, b, cond=None, overwrite_a=False, overwrite_b=False)\n",
        "        Compute least-squares solution to equation Ax = b.\n",
        "        \n",
        "        Compute a vector x such that the 2-norm ``|b - A x|`` is minimized.\n",
        "        \n",
        "        Parameters\n",
        "        ----------\n",
        "        a : array, shape (M, N)\n",
        "            Left hand side matrix (2-D array).\n",
        "        b : array, shape (M,) or (M, K)\n",
        "            Right hand side matrix or vector (1-D or 2-D array).\n",
        "        cond : float, optional\n",
        "            Cutoff for 'small' singular values; used to determine effective\n",
        "            rank of a. Singular values smaller than\n",
        "            ``rcond * largest_singular_value`` are considered zero.\n",
        "        overwrite_a : bool, optional\n",
        "            Discard data in `a` (may enhance performance). Default is False.\n",
        "        overwrite_b : bool, optional\n",
        "            Discard data in `b` (may enhance performance). Default is False.\n",
        "        \n",
        "        Returns\n",
        "        -------\n",
        "        x : array, shape (N,) or (N, K) depending on shape of b\n",
        "            Least-squares solution.\n",
        "        residues : ndarray, shape () or (1,) or (K,)\n",
        "            Sums of residues, squared 2-norm for each column in ``b - a x``.\n",
        "            If rank of matrix a is < N or > M this is an empty array.\n",
        "            If b was 1-D, this is an (1,) shape array, otherwise the shape is (K,).\n",
        "        rank : int\n",
        "            Effective rank of matrix `a`.\n",
        "        s : array, shape (min(M,N),)\n",
        "            Singular values of `a`. The condition number of a is\n",
        "            ``abs(s[0]/s[-1])``.\n",
        "        \n",
        "        Raises\n",
        "        ------\n",
        "        LinAlgError :\n",
        "            If computation does not converge.\n",
        "        \n",
        "        \n",
        "        See Also\n",
        "        --------\n",
        "        optimize.nnls : linear least squares with non-negativity constraint\n",
        "    \n",
        "    lu(a, permute_l=False, overwrite_a=False)\n",
        "        Compute pivoted LU decompostion of a matrix.\n",
        "        \n",
        "        The decomposition is::\n",
        "        \n",
        "            A = P L U\n",
        "        \n",
        "        where P is a permutation matrix, L lower triangular with unit\n",
        "        diagonal elements, and U upper triangular.\n",
        "        \n",
        "        Parameters\n",
        "        ----------\n",
        "        a : array, shape (M, N)\n",
        "            Array to decompose\n",
        "        permute_l : boolean\n",
        "            Perform the multiplication P*L  (Default: do not permute)\n",
        "        overwrite_a : boolean\n",
        "            Whether to overwrite data in a (may improve performance)\n",
        "        \n",
        "        Returns\n",
        "        -------\n",
        "        (If permute_l == False)\n",
        "        p : array, shape (M, M)\n",
        "            Permutation matrix\n",
        "        l : array, shape (M, K)\n",
        "            Lower triangular or trapezoidal matrix with unit diagonal.\n",
        "            K = min(M, N)\n",
        "        u : array, shape (K, N)\n",
        "            Upper triangular or trapezoidal matrix\n",
        "        \n",
        "        (If permute_l == True)\n",
        "        pl : array, shape (M, K)\n",
        "            Permuted L matrix.\n",
        "            K = min(M, N)\n",
        "        u : array, shape (K, N)\n",
        "            Upper triangular or trapezoidal matrix\n",
        "        \n",
        "        Notes\n",
        "        -----\n",
        "        This is a LU factorization routine written for Scipy.\n",
        "    \n",
        "    lu_factor(a, overwrite_a=False)\n",
        "        Compute pivoted LU decomposition of a matrix.\n",
        "        \n",
        "        The decomposition is::\n",
        "        \n",
        "            A = P L U\n",
        "        \n",
        "        where P is a permutation matrix, L lower triangular with unit\n",
        "        diagonal elements, and U upper triangular.\n",
        "        \n",
        "        Parameters\n",
        "        ----------\n",
        "        a : array, shape (M, M)\n",
        "            Matrix to decompose\n",
        "        overwrite_a : boolean\n",
        "            Whether to overwrite data in A (may increase performance)\n",
        "        \n",
        "        Returns\n",
        "        -------\n",
        "        lu : array, shape (N, N)\n",
        "            Matrix containing U in its upper triangle, and L in its lower triangle.\n",
        "            The unit diagonal elements of L are not stored.\n",
        "        piv : array, shape (N,)\n",
        "            Pivot indices representing the permutation matrix P:\n",
        "            row i of matrix was interchanged with row piv[i].\n",
        "        \n",
        "        See also\n",
        "        --------\n",
        "        lu_solve : solve an equation system using the LU factorization of a matrix\n",
        "        \n",
        "        Notes\n",
        "        -----\n",
        "        This is a wrapper to the ``*GETRF`` routines from LAPACK.\n",
        "    \n",
        "    lu_solve((lu, piv), b, trans=0, overwrite_b=False)\n",
        "        Solve an equation system, a x = b, given the LU factorization of a\n",
        "        \n",
        "        Parameters\n",
        "        ----------\n",
        "        (lu, piv)\n",
        "            Factorization of the coefficient matrix a, as given by lu_factor\n",
        "        b : array\n",
        "            Right-hand side\n",
        "        trans : {0, 1, 2}\n",
        "            Type of system to solve:\n",
        "        \n",
        "            =====  =========\n",
        "            trans  system\n",
        "            =====  =========\n",
        "            0      a x   = b\n",
        "            1      a^T x = b\n",
        "            2      a^H x = b\n",
        "            =====  =========\n",
        "        \n",
        "        Returns\n",
        "        -------\n",
        "        x : array\n",
        "            Solution to the system\n",
        "        \n",
        "        See also\n",
        "        --------\n",
        "        lu_factor : LU factorize a matrix\n",
        "    \n",
        "    norm(a, ord=None)\n",
        "        Matrix or vector norm.\n",
        "        \n",
        "        This function is able to return one of seven different matrix norms,\n",
        "        or one of an infinite number of vector norms (described below), depending\n",
        "        on the value of the ``ord`` parameter.\n",
        "        \n",
        "        Parameters\n",
        "        ----------\n",
        "        x : {(M,), (M, N)} array_like\n",
        "            Input array.\n",
        "        ord : {non-zero int, inf, -inf, 'fro'}, optional\n",
        "            Order of the norm (see table under ``Notes``). inf means numpy's\n",
        "            `inf` object.\n",
        "        \n",
        "        Returns\n",
        "        -------\n",
        "        n : float\n",
        "            Norm of the matrix or vector.\n",
        "        \n",
        "        Notes\n",
        "        -----\n",
        "        For values of ``ord <= 0``, the result is, strictly speaking, not a\n",
        "        mathematical 'norm', but it may still be useful for various numerical\n",
        "        purposes.\n",
        "        \n",
        "        The following norms can be calculated:\n",
        "        \n",
        "        =====  ============================  ==========================\n",
        "        ord    norm for matrices             norm for vectors\n",
        "        =====  ============================  ==========================\n",
        "        None   Frobenius norm                2-norm\n",
        "        'fro'  Frobenius norm                --\n",
        "        inf    max(sum(abs(x), axis=1))      max(abs(x))\n",
        "        -inf   min(sum(abs(x), axis=1))      min(abs(x))\n",
        "        0      --                            sum(x != 0)\n",
        "        1      max(sum(abs(x), axis=0))      as below\n",
        "        -1     min(sum(abs(x), axis=0))      as below\n",
        "        2      2-norm (largest sing. value)  as below\n",
        "        -2     smallest singular value       as below\n",
        "        other  --                            sum(abs(x)**ord)**(1./ord)\n",
        "        =====  ============================  ==========================\n",
        "        \n",
        "        The Frobenius norm is given by [1]_:\n",
        "        \n",
        "            :math:`||A||_F = [\\sum_{i,j} abs(a_{i,j})^2]^{1/2}`\n",
        "        \n",
        "        References\n",
        "        ----------\n",
        "        .. [1] G. H. Golub and C. F. Van Loan, *Matrix Computations*,\n",
        "               Baltimore, MD, Johns Hopkins University Press, 1985, pg. 15\n",
        "        \n",
        "        Examples\n",
        "        --------\n",
        "        >>> from numpy import linalg as LA\n",
        "        >>> a = np.arange(9) - 4\n",
        "        >>> a\n",
        "        array([-4, -3, -2, -1,  0,  1,  2,  3,  4])\n",
        "        >>> b = a.reshape((3, 3))\n",
        "        >>> b\n",
        "        array([[-4, -3, -2],\n",
        "               [-1,  0,  1],\n",
        "               [ 2,  3,  4]])\n",
        "        \n",
        "        >>> LA.norm(a)\n",
        "        7.745966692414834\n",
        "        >>> LA.norm(b)\n",
        "        7.745966692414834\n",
        "        >>> LA.norm(b, 'fro')\n",
        "        7.745966692414834\n",
        "        >>> LA.norm(a, np.inf)\n",
        "        4\n",
        "        >>> LA.norm(b, np.inf)\n",
        "        9\n",
        "        >>> LA.norm(a, -np.inf)\n",
        "        0\n",
        "        >>> LA.norm(b, -np.inf)\n",
        "        2\n",
        "        \n",
        "        >>> LA.norm(a, 1)\n",
        "        20\n",
        "        >>> LA.norm(b, 1)\n",
        "        7\n",
        "        >>> LA.norm(a, -1)\n",
        "        -4.6566128774142013e-010\n",
        "        >>> LA.norm(b, -1)\n",
        "        6\n",
        "        >>> LA.norm(a, 2)\n",
        "        7.745966692414834\n",
        "        >>> LA.norm(b, 2)\n",
        "        7.3484692283495345\n",
        "        \n",
        "        >>> LA.norm(a, -2)\n",
        "        nan\n",
        "        >>> LA.norm(b, -2)\n",
        "        1.8570331885190563e-016\n",
        "        >>> LA.norm(a, 3)\n",
        "        5.8480354764257312\n",
        "        >>> LA.norm(a, -3)\n",
        "        nan\n",
        "    \n",
        "    orth(A)\n",
        "        Construct an orthonormal basis for the range of A using SVD\n",
        "        \n",
        "        Parameters\n",
        "        ----------\n",
        "        A : array, shape (M, N)\n",
        "        \n",
        "        Returns\n",
        "        -------\n",
        "        Q : array, shape (M, K)\n",
        "            Orthonormal basis for the range of A.\n",
        "            K = effective rank of A, as determined by automatic cutoff\n",
        "        \n",
        "        See also\n",
        "        --------\n",
        "        svd : Singular value decomposition of a matrix\n",
        "    \n",
        "    pascal(n, kind='symmetric', exact=True)\n",
        "        Returns the n x n Pascal matrix.\n",
        "        \n",
        "        The Pascal matrix is a matrix containing the binomial coefficients as\n",
        "        its elements.\n",
        "        \n",
        "        Parameters\n",
        "        ----------\n",
        "        n : int\n",
        "            The size of the matrix to create; that is, the result is an n x n\n",
        "            matrix.\n",
        "        kind : str, optional\n",
        "            Must be one of 'symmetric', 'lower', or 'upper'.\n",
        "            Default is 'symmetric'.\n",
        "        exact : bool, optional\n",
        "            If `exact` is True, the result is either an array of type\n",
        "            numpy.uint64 (if n <= 35) or an object array of Python long integers.\n",
        "            If `exact` is False, the coefficients in the matrix are computed using\n",
        "            `scipy.misc.comb` with `exact=False`.  The result will be a floating\n",
        "            point array, and the values in the array will not be the exact\n",
        "            coefficients, but this version is much faster than `exact=True`.\n",
        "        \n",
        "        Returns\n",
        "        -------\n",
        "        p : 2-D ndarray\n",
        "            The Pascal matrix.\n",
        "        \n",
        "        Notes\n",
        "        -----\n",
        "        .. versionadded:: 0.11.0\n",
        "        \n",
        "        See http://en.wikipedia.org/wiki/Pascal_matrix for more information\n",
        "        about Pascal matrices.\n",
        "        \n",
        "        Examples\n",
        "        --------\n",
        "        >>> from scipy.linalg import pascal\n",
        "        >>> pascal(4)\n",
        "        array([[ 1,  1,  1,  1],\n",
        "               [ 1,  2,  3,  4],\n",
        "               [ 1,  3,  6, 10],\n",
        "               [ 1,  4, 10, 20]], dtype=uint64)\n",
        "        >>> pascal(4, kind='lower')\n",
        "        array([[1, 0, 0, 0],\n",
        "               [1, 1, 0, 0],\n",
        "               [1, 2, 1, 0],\n",
        "               [1, 3, 3, 1]], dtype=uint64)\n",
        "        >>> pascal(50)[-1, -1]\n",
        "        25477612258980856902730428600L\n",
        "        >>> from scipy.misc import comb\n",
        "        >>> comb(98, 49, exact=True)\n",
        "        25477612258980856902730428600L\n",
        "    \n",
        "    pinv(a, cond=None, rcond=None)\n",
        "        Compute the (Moore-Penrose) pseudo-inverse of a matrix.\n",
        "        \n",
        "        Calculate a generalized inverse of a matrix using a least-squares\n",
        "        solver.\n",
        "        \n",
        "        Parameters\n",
        "        ----------\n",
        "        a : array, shape (M, N)\n",
        "            Matrix to be pseudo-inverted.\n",
        "        cond, rcond : float, optional\n",
        "            Cutoff for 'small' singular values in the least-squares solver.\n",
        "            Singular values smaller than ``rcond * largest_singular_value``\n",
        "            are considered zero.\n",
        "        \n",
        "        Returns\n",
        "        -------\n",
        "        B : array, shape (N, M)\n",
        "            The pseudo-inverse of matrix `a`.\n",
        "        \n",
        "        Raises\n",
        "        ------\n",
        "        LinAlgError\n",
        "            If computation does not converge.\n",
        "        \n",
        "        Examples\n",
        "        --------\n",
        "        >>> a = np.random.randn(9, 6)\n",
        "        >>> B = linalg.pinv(a)\n",
        "        >>> np.allclose(a, dot(a, dot(B, a)))\n",
        "        True\n",
        "        >>> np.allclose(B, dot(B, dot(a, B)))\n",
        "        True\n",
        "    \n",
        "    pinv2(a, cond=None, rcond=None)\n",
        "        Compute the (Moore-Penrose) pseudo-inverse of a matrix.\n",
        "        \n",
        "        Calculate a generalized inverse of a matrix using its\n",
        "        singular-value decomposition and including all 'large' singular\n",
        "        values.\n",
        "        \n",
        "        Parameters\n",
        "        ----------\n",
        "        a : array, shape (M, N)\n",
        "            Matrix to be pseudo-inverted.\n",
        "        cond, rcond : float or None\n",
        "            Cutoff for 'small' singular values.\n",
        "            Singular values smaller than ``rcond*largest_singular_value``\n",
        "            are considered zero.\n",
        "            If None or -1, suitable machine precision is used.\n",
        "        \n",
        "        Returns\n",
        "        -------\n",
        "        B : array, shape (N, M)\n",
        "            The pseudo-inverse of matrix `a`.\n",
        "        \n",
        "        Raises\n",
        "        ------\n",
        "        LinAlgError\n",
        "            If SVD computation does not converge.\n",
        "        \n",
        "        Examples\n",
        "        --------\n",
        "        >>> a = np.random.randn(9, 6)\n",
        "        >>> B = linalg.pinv2(a)\n",
        "        >>> np.allclose(a, dot(a, dot(B, a)))\n",
        "        True\n",
        "        >>> np.allclose(B, dot(B, dot(a, B)))\n",
        "        True\n",
        "    \n",
        "    qr(a, overwrite_a=False, lwork=None, mode='full', pivoting=False)\n",
        "        Compute QR decomposition of a matrix.\n",
        "        \n",
        "        Calculate the decomposition ``A = Q R`` where Q is unitary/orthogonal\n",
        "        and R upper triangular.\n",
        "        \n",
        "        Parameters\n",
        "        ----------\n",
        "        a : array, shape (M, N)\n",
        "            Matrix to be decomposed\n",
        "        overwrite_a : bool, optional\n",
        "            Whether data in a is overwritten (may improve performance)\n",
        "        lwork : int, optional\n",
        "            Work array size, lwork >= a.shape[1]. If None or -1, an optimal size\n",
        "            is computed.\n",
        "        mode : {'full', 'r', 'economic', 'raw'}\n",
        "            Determines what information is to be returned: either both Q and R\n",
        "            ('full', default), only R ('r') or both Q and R but computed in\n",
        "            economy-size ('economic', see Notes). The final option 'raw'\n",
        "            (added in Scipy 0.11) makes the function return two matrixes\n",
        "            (Q, TAU) in the internal format used by LAPACK.\n",
        "        pivoting : bool, optional\n",
        "            Whether or not factorization should include pivoting for rank-revealing\n",
        "            qr decomposition. If pivoting, compute the decomposition\n",
        "            ``A P = Q R`` as above, but where P is chosen such that the diagonal\n",
        "            of R is non-increasing.\n",
        "        \n",
        "        Returns\n",
        "        -------\n",
        "        Q : float or complex ndarray\n",
        "            Of shape (M, M), or (M, K) for ``mode='economic'``.  Not returned\n",
        "            if ``mode='r'``.\n",
        "        R : float or complex ndarray\n",
        "            Of shape (M, N), or (K, N) for ``mode='economic'``.  ``K = min(M, N)``.\n",
        "        P : integer ndarray\n",
        "            Of shape (N,) for ``pivoting=True``. Not returned if\n",
        "            ``pivoting=False``.\n",
        "        \n",
        "        Raises\n",
        "        ------\n",
        "        LinAlgError\n",
        "            Raised if decomposition fails\n",
        "        \n",
        "        Notes\n",
        "        -----\n",
        "        This is an interface to the LAPACK routines dgeqrf, zgeqrf,\n",
        "        dorgqr, zungqr, dgeqp3, and zgeqp3.\n",
        "        \n",
        "        If ``mode=economic``, the shapes of Q and R are (M, K) and (K, N) instead\n",
        "        of (M,M) and (M,N), with ``K=min(M,N)``.\n",
        "        \n",
        "        Examples\n",
        "        --------\n",
        "        >>> from scipy import random, linalg, dot, diag, all, allclose\n",
        "        >>> a = random.randn(9, 6)\n",
        "        \n",
        "        >>> q, r = linalg.qr(a)\n",
        "        >>> allclose(a, np.dot(q, r))\n",
        "        True\n",
        "        >>> q.shape, r.shape\n",
        "        ((9, 9), (9, 6))\n",
        "        \n",
        "        >>> r2 = linalg.qr(a, mode='r')\n",
        "        >>> allclose(r, r2)\n",
        "        True\n",
        "        \n",
        "        >>> q3, r3 = linalg.qr(a, mode='economic')\n",
        "        >>> q3.shape, r3.shape\n",
        "        ((9, 6), (6, 6))\n",
        "        \n",
        "        >>> q4, r4, p4 = linalg.qr(a, pivoting=True)\n",
        "        >>> d = abs(diag(r4))\n",
        "        >>> all(d[1:] <= d[:-1])\n",
        "        True\n",
        "        >>> allclose(a[:, p4], dot(q4, r4))\n",
        "        True\n",
        "        >>> q4.shape, r4.shape, p4.shape\n",
        "        ((9, 9), (9, 6), (6,))\n",
        "        \n",
        "        >>> q5, r5, p5 = linalg.qr(a, mode='economic', pivoting=True)\n",
        "        >>> q5.shape, r5.shape, p5.shape\n",
        "        ((9, 6), (6, 6), (6,))\n",
        "    \n",
        "    qr_multiply(a, c, mode='right', pivoting=False, conjugate=False, overwrite_a=False, overwrite_c=False)\n",
        "        Calculate the QR decomposition and multiply Q with a matrix.\n",
        "        \n",
        "        Calculate the decomposition ``A = Q R`` where Q is unitary/orthogonal\n",
        "        and R upper triangular. Multiply Q with a vector or a matrix c.\n",
        "        \n",
        "        .. versionadded:: 0.11\n",
        "        \n",
        "        Parameters\n",
        "        ----------\n",
        "        a : ndarray, shape (M, N)\n",
        "            Matrix to be decomposed\n",
        "        c : ndarray, one- or two-dimensional\n",
        "            calculate the product of c and q, depending on the mode:\n",
        "        mode : {'left', 'right'}\n",
        "            ``dot(Q, c)`` is returned if mode is 'left',\n",
        "            ``dot(c, Q)`` is returned if mode is 'right'.\n",
        "            The shape of c must be appropriate for the matrix multiplications,\n",
        "            if mode is 'left', ``min(a.shape) == c.shape[0]``,\n",
        "            if mode is 'right', ``a.shape[0] == c.shape[1]``.\n",
        "        pivoting : bool, optional\n",
        "            Whether or not factorization should include pivoting for rank-revealing\n",
        "            qr decomposition, see the documentation of qr.\n",
        "        conjugate : bool, optional\n",
        "            Whether Q should be complex-conjugated. This might be faster\n",
        "            than explicit conjugation.\n",
        "        overwrite_a : bool, optional\n",
        "            Whether data in a is overwritten (may improve performance)\n",
        "        overwrite_c: bool, optional\n",
        "            Whether data in c is overwritten (may improve performance).\n",
        "            If this is used, c must be big enough to keep the result,\n",
        "            i.e. c.shape[0] = a.shape[0] if mode is 'left'.\n",
        "        \n",
        "        \n",
        "        Returns\n",
        "        -------\n",
        "        CQ : float or complex ndarray\n",
        "            the product of Q and c, as defined in mode\n",
        "        R : float or complex ndarray\n",
        "            Of shape (K, N), ``K = min(M, N)``.\n",
        "        P : ndarray of ints\n",
        "            Of shape (N,) for ``pivoting=True``. Not returned if ``pivoting=False``.\n",
        "        \n",
        "        Raises\n",
        "        ------\n",
        "        LinAlgError\n",
        "            Raised if decomposition fails\n",
        "        \n",
        "        Notes\n",
        "        -----\n",
        "        This is an interface to the LAPACK routines dgeqrf, zgeqrf,\n",
        "        dormqr, zunmqr, dgeqp3, and zgeqp3.\n",
        "    \n",
        "    qr_old(*args, **kwds)\n",
        "        `qr_old` is deprecated!\n",
        "        \n",
        "        Compute QR decomposition of a matrix.\n",
        "        \n",
        "            Calculate the decomposition :lm:`A = Q R` where Q is unitary/orthogonal\n",
        "            and R upper triangular.\n",
        "        \n",
        "            Parameters\n",
        "            ----------\n",
        "            a : array, shape (M, N)\n",
        "                Matrix to be decomposed\n",
        "            overwrite_a : boolean\n",
        "                Whether data in a is overwritten (may improve performance)\n",
        "            lwork : integer\n",
        "                Work array size, lwork >= a.shape[1]. If None or -1, an optimal size\n",
        "                is computed.\n",
        "        \n",
        "            Returns\n",
        "            -------\n",
        "            Q : float or complex array, shape (M, M)\n",
        "            R : float or complex array, shape (M, N)\n",
        "                Size K = min(M, N)\n",
        "        \n",
        "            Raises LinAlgError if decomposition fails\n",
        "    \n",
        "    qz(A, B, output='real', lwork=None, sort=None, overwrite_a=False, overwrite_b=False)\n",
        "        QZ decompostion for generalized eigenvalues of a pair of matrices.\n",
        "        \n",
        "        The QZ, or generalized Schur, decomposition for a pair of N x N\n",
        "        nonsymmetric matrices (A,B) is::\n",
        "        \n",
        "            (A,B) = (Q*AA*Z', Q*BB*Z')\n",
        "        \n",
        "        where AA, BB is in generalized Schur form if BB is upper-triangular\n",
        "        with non-negative diagonal and AA is upper-triangular, or for real QZ\n",
        "        decomposition (``output='real'``) block upper triangular with 1x1\n",
        "        and 2x2 blocks.  In this case, the 1x1 blocks correspond to real\n",
        "        generalized eigenvalues and 2x2 blocks are 'standardized' by making\n",
        "        the corresponding elements of BB have the form::\n",
        "        \n",
        "            [ a 0 ]\n",
        "            [ 0 b ]\n",
        "        \n",
        "        and the pair of corresponding 2x2 blocks in AA and BB will have a complex\n",
        "        conjugate pair of generalized eigenvalues.  If (``output='complex'``) or\n",
        "        A and B are complex matrices, Z' denotes the conjugate-transpose of Z.\n",
        "        Q and Z are unitary matrices.\n",
        "        \n",
        "        Parameters\n",
        "        ----------\n",
        "        A : array_like, shape (N,N)\n",
        "            2-D array to decompose.\n",
        "        B : array_like, shape (N,N)\n",
        "            2-D array to decompose.\n",
        "        output : {'real','complex'}, optional\n",
        "            Construct the real or complex QZ decomposition for real matrices.\n",
        "            Default is 'real'.\n",
        "        lwork : int, optional\n",
        "            Work array size.  If None or -1, it is automatically computed.\n",
        "        sort : {None, callable, 'lhp', 'rhp', 'iuc', 'ouc'}, optional\n",
        "            NOTE: THIS INPUT IS DISABLED FOR NOW, IT DOESN'T WORK WELL ON WINDOWS.\n",
        "        \n",
        "            Specifies whether the upper eigenvalues should be sorted.  A callable\n",
        "            may be passed that, given a eigenvalue, returns a boolean denoting\n",
        "            whether the eigenvalue should be sorted to the top-left (True). For\n",
        "            real matrix pairs, the sort function takes three real arguments\n",
        "            (alphar, alphai, beta). The eigenvalue x = (alphar + alphai*1j)/beta.\n",
        "            For complex matrix pairs or output='complex', the sort function\n",
        "            takes two complex arguments (alpha, beta). The eigenvalue\n",
        "            x = (alpha/beta).\n",
        "            Alternatively, string parameters may be used:\n",
        "        \n",
        "                - 'lhp'   Left-hand plane (x.real < 0.0)\n",
        "                - 'rhp'   Right-hand plane (x.real > 0.0)\n",
        "                - 'iuc'   Inside the unit circle (x*x.conjugate() <= 1.0)\n",
        "                - 'ouc'   Outside the unit circle (x*x.conjugate() > 1.0)\n",
        "        \n",
        "            Defaults to None (no sorting).\n",
        "        \n",
        "        Returns\n",
        "        -------\n",
        "        AA : ndarray, shape (N,N)\n",
        "            Generalized Schur form of A.\n",
        "        BB : ndarray, shape (N,N)\n",
        "            Generalized Schur form of B.\n",
        "        Q : ndarray, shape (N,N)\n",
        "            The left Schur vectors.\n",
        "        Z : ndarray, shape (N,N)\n",
        "            The right Schur vectors.\n",
        "        sdim : int, optional\n",
        "            If sorting was requested, a fifth return value will contain the\n",
        "            number of eigenvalues for which the sort condition was True.\n",
        "        \n",
        "        Notes\n",
        "        -----\n",
        "        Q is transposed versus the equivalent function in Matlab.\n",
        "        \n",
        "        .. versionadded:: 0.11.0\n",
        "        \n",
        "        Examples\n",
        "        --------\n",
        "        >>> from scipy import linalg\n",
        "        >>> np.random.seed(1234)\n",
        "        >>> A = np.arange(9).reshape((3, 3))\n",
        "        >>> B = np.random.randn(3, 3)\n",
        "        \n",
        "        >>> AA, BB, Q, Z = linalg.qz(A, B)\n",
        "        >>> AA\n",
        "        array([[-13.40928183,  -4.62471562,   1.09215523],\n",
        "               [  0.        ,   0.        ,   1.22805978],\n",
        "               [  0.        ,   0.        ,   0.31973817]])\n",
        "        >>> BB\n",
        "        array([[ 0.33362547, -1.37393632,  0.02179805],\n",
        "               [ 0.        ,  1.68144922,  0.74683866],\n",
        "               [ 0.        ,  0.        ,  0.9258294 ]])\n",
        "        >>> Q\n",
        "        array([[ 0.14134727, -0.97562773,  0.16784365],\n",
        "               [ 0.49835904, -0.07636948, -0.86360059],\n",
        "               [ 0.85537081,  0.20571399,  0.47541828]])\n",
        "        >>> Z\n",
        "        array([[-0.24900855, -0.51772687,  0.81850696],\n",
        "               [-0.79813178,  0.58842606,  0.12938478],\n",
        "               [-0.54861681, -0.6210585 , -0.55973739]])\n",
        "    \n",
        "    rq(a, overwrite_a=False, lwork=None, mode='full')\n",
        "        Compute RQ decomposition of a square real matrix.\n",
        "        \n",
        "        Calculate the decomposition :lm:`A = R Q` where Q is unitary/orthogonal\n",
        "        and R upper triangular.\n",
        "        \n",
        "        Parameters\n",
        "        ----------\n",
        "        a : array, shape (M, M)\n",
        "            Matrix to be decomposed\n",
        "        overwrite_a : boolean\n",
        "            Whether data in a is overwritten (may improve performance)\n",
        "        lwork : integer\n",
        "            Work array size, lwork >= a.shape[1]. If None or -1, an optimal size\n",
        "            is computed.\n",
        "        mode : {'full', 'r', 'economic'}\n",
        "            Determines what information is to be returned: either both Q and R\n",
        "            ('full', default), only R ('r') or both Q and R but computed in\n",
        "            economy-size ('economic', see Notes).\n",
        "        \n",
        "        Returns\n",
        "        -------\n",
        "        R : float array, shape (M, N)\n",
        "        Q : float or complex array, shape (M, M)\n",
        "        \n",
        "        Raises LinAlgError if decomposition fails\n",
        "        \n",
        "        Examples\n",
        "        --------\n",
        "        >>> from scipy import linalg\n",
        "        >>> from numpy import random, dot, allclose\n",
        "        >>> a = random.randn(6, 9)\n",
        "        >>> r, q = linalg.rq(a)\n",
        "        >>> allclose(a, dot(r, q))\n",
        "        True\n",
        "        >>> r.shape, q.shape\n",
        "        ((6, 9), (9, 9))\n",
        "        >>> r2 = linalg.rq(a, mode='r')\n",
        "        >>> allclose(r, r2)\n",
        "        True\n",
        "        >>> r3, q3 = linalg.rq(a, mode='economic')\n",
        "        >>> r3.shape, q3.shape\n",
        "        ((6, 6), (6, 9))\n",
        "    \n",
        "    rsf2csf(T, Z)\n",
        "        Convert real Schur form to complex Schur form.\n",
        "        \n",
        "        Convert a quasi-diagonal real-valued Schur form to the upper triangular\n",
        "        complex-valued Schur form.\n",
        "        \n",
        "        Parameters\n",
        "        ----------\n",
        "        T : array, shape (M, M)\n",
        "            Real Schur form of the original matrix\n",
        "        Z : array, shape (M, M)\n",
        "            Schur transformation matrix\n",
        "        \n",
        "        Returns\n",
        "        -------\n",
        "        T : array, shape (M, M)\n",
        "            Complex Schur form of the original matrix\n",
        "        Z : array, shape (M, M)\n",
        "            Schur transformation matrix corresponding to the complex form\n",
        "        \n",
        "        See also\n",
        "        --------\n",
        "        schur : Schur decompose a matrix\n",
        "    \n",
        "    schur(a, output='real', lwork=None, overwrite_a=False, sort=None)\n",
        "        Compute Schur decomposition of a matrix.\n",
        "        \n",
        "        The Schur decomposition is::\n",
        "        \n",
        "            A = Z T Z^H\n",
        "        \n",
        "        where Z is unitary and T is either upper-triangular, or for real\n",
        "        Schur decomposition (output='real'), quasi-upper triangular.  In\n",
        "        the quasi-triangular form, 2x2 blocks describing complex-valued\n",
        "        eigenvalue pairs may extrude from the diagonal.\n",
        "        \n",
        "        Parameters\n",
        "        ----------\n",
        "        a : ndarray, shape (M, M)\n",
        "            Matrix to decompose\n",
        "        output : {'real', 'complex'}, optional\n",
        "            Construct the real or complex Schur decomposition (for real matrices).\n",
        "        lwork : int, optional\n",
        "            Work array size. If None or -1, it is automatically computed.\n",
        "        overwrite_a : bool, optional\n",
        "            Whether to overwrite data in a (may improve performance).\n",
        "        sort : {None, callable, 'lhp', 'rhp', 'iuc', 'ouc'}, optional\n",
        "            Specifies whether the upper eigenvalues should be sorted.  A callable\n",
        "            may be passed that, given a eigenvalue, returns a boolean denoting\n",
        "            whether the eigenvalue should be sorted to the top-left (True).\n",
        "            Alternatively, string parameters may be used::\n",
        "        \n",
        "                'lhp'   Left-hand plane (x.real < 0.0)\n",
        "                'rhp'   Right-hand plane (x.real > 0.0)\n",
        "                'iuc'   Inside the unit circle (x*x.conjugate() <= 1.0)\n",
        "                'ouc'   Outside the unit circle (x*x.conjugate() > 1.0)\n",
        "        \n",
        "            Defaults to None (no sorting).\n",
        "        \n",
        "        Returns\n",
        "        -------\n",
        "        T : ndarray, shape (M, M)\n",
        "            Schur form of A. It is real-valued for the real Schur decomposition.\n",
        "        Z : ndarray, shape (M, M)\n",
        "            An unitary Schur transformation matrix for A.\n",
        "            It is real-valued for the real Schur decomposition.\n",
        "        sdim : int\n",
        "            If and only if sorting was requested, a third return value will\n",
        "            contain the number of eigenvalues satisfying the sort condition.\n",
        "        \n",
        "        Raises\n",
        "        ------\n",
        "        LinAlgError\n",
        "            Error raised under three conditions:\n",
        "        \n",
        "            1. The algorithm failed due to a failure of the QR algorithm to\n",
        "               compute all eigenvalues\n",
        "            2. If eigenvalue sorting was requested, the eigenvalues could not be\n",
        "               reordered due to a failure to separate eigenvalues, usually because\n",
        "               of poor conditioning\n",
        "            3. If eigenvalue sorting was requested, roundoff errors caused the\n",
        "               leading eigenvalues to no longer satisfy the sorting condition\n",
        "        \n",
        "        See also\n",
        "        --------\n",
        "        rsf2csf : Convert real Schur form to complex Schur form\n",
        "    \n",
        "    signm(a, disp=True)\n",
        "        Matrix sign function.\n",
        "        \n",
        "        Extension of the scalar sign(x) to matrices.\n",
        "        \n",
        "        Parameters\n",
        "        ----------\n",
        "        A : array, shape(M,M)\n",
        "            Matrix at which to evaluate the sign function\n",
        "        disp : boolean\n",
        "            Print warning if error in the result is estimated large\n",
        "            instead of returning estimated error. (Default: True)\n",
        "        \n",
        "        Returns\n",
        "        -------\n",
        "        sgnA : array, shape(M,M)\n",
        "            Value of the sign function at A\n",
        "        \n",
        "        (if disp == False)\n",
        "        errest : float\n",
        "            1-norm of the estimated error, ||err||_1 / ||A||_1\n",
        "        \n",
        "        Examples\n",
        "        --------\n",
        "        >>> from scipy.linalg import signm, eigvals\n",
        "        >>> a = [[1,2,3], [1,2,1], [1,1,1]]\n",
        "        >>> eigvals(a)\n",
        "        array([ 4.12488542+0.j, -0.76155718+0.j,  0.63667176+0.j])\n",
        "        >>> eigvals(signm(a))\n",
        "        array([-1.+0.j,  1.+0.j,  1.+0.j])\n",
        "    \n",
        "    sinhm(A)\n",
        "        Compute the hyperbolic matrix sine.\n",
        "        \n",
        "        This routine uses expm to compute the matrix exponentials.\n",
        "        \n",
        "        Parameters\n",
        "        ----------\n",
        "        A : array, shape(M,M)\n",
        "        \n",
        "        Returns\n",
        "        -------\n",
        "        sinhA : array, shape(M,M)\n",
        "            Hyperbolic matrix sine of A\n",
        "    \n",
        "    sinm(A)\n",
        "        Compute the matrix sine.\n",
        "        \n",
        "        This routine uses expm to compute the matrix exponentials.\n",
        "        \n",
        "        Parameters\n",
        "        ----------\n",
        "        A : array, shape(M,M)\n",
        "        \n",
        "        Returns\n",
        "        -------\n",
        "        sinA : array, shape(M,M)\n",
        "            Matrix cosine of A\n",
        "    \n",
        "    solve(a, b, sym_pos=False, lower=False, overwrite_a=False, overwrite_b=False, debug=False)\n",
        "        Solve the equation ``a x = b`` for ``x``.\n",
        "        \n",
        "        Parameters\n",
        "        ----------\n",
        "        a : array_like, shape (M, M)\n",
        "            A square matrix.\n",
        "        b : array_like, shape (M,) or (M, N)\n",
        "            Right-hand side matrix in ``a x = b``.\n",
        "        sym_pos : bool\n",
        "            Assume `a` is symmetric and positive definite.\n",
        "        lower : boolean\n",
        "            Use only data contained in the lower triangle of `a`, if `sym_pos` is\n",
        "            true.  Default is to use upper triangle.\n",
        "        overwrite_a : bool\n",
        "            Allow overwriting data in `a` (may enhance performance).\n",
        "            Default is False.\n",
        "        overwrite_b : bool\n",
        "            Allow overwriting data in `b` (may enhance performance).\n",
        "            Default is False.\n",
        "        \n",
        "        Returns\n",
        "        -------\n",
        "        x : array, shape (M,) or (M, N) depending on `b`\n",
        "            Solution to the system ``a x = b``.\n",
        "        \n",
        "        Raises\n",
        "        ------\n",
        "        LinAlgError\n",
        "            If `a` is singular.\n",
        "        \n",
        "        Examples\n",
        "        --------\n",
        "        Given `a` and `b`, solve for `x`:\n",
        "        \n",
        "        >>> a = np.array([[3,2,0],[1,-1,0],[0,5,1]])\n",
        "        >>> b = np.array([2,4,-1])\n",
        "        >>> x = linalg.solve(a,b)\n",
        "        >>> x\n",
        "        array([ 2., -2.,  9.])\n",
        "        >>> np.dot(a, x) == b\n",
        "        array([ True,  True,  True], dtype=bool)\n",
        "    \n",
        "    solve_banded((l, u), ab, b, overwrite_ab=False, overwrite_b=False, debug=False)\n",
        "        Solve the equation a x = b for x, assuming a is banded matrix.\n",
        "        \n",
        "        The matrix a is stored in ab using the matrix diagonal ordered form::\n",
        "        \n",
        "            ab[u + i - j, j] == a[i,j]\n",
        "        \n",
        "        Example of ab (shape of a is (6,6), u=1, l=2)::\n",
        "        \n",
        "            *    a01  a12  a23  a34  a45\n",
        "            a00  a11  a22  a33  a44  a55\n",
        "            a10  a21  a32  a43  a54   *\n",
        "            a20  a31  a42  a53   *    *\n",
        "        \n",
        "        Parameters\n",
        "        ----------\n",
        "        (l, u) : (integer, integer)\n",
        "            Number of non-zero lower and upper diagonals\n",
        "        ab : array, shape (l+u+1, M)\n",
        "            Banded matrix\n",
        "        b : array, shape (M,) or (M, K)\n",
        "            Right-hand side\n",
        "        overwrite_ab : boolean\n",
        "            Discard data in ab (may enhance performance)\n",
        "        overwrite_b : boolean\n",
        "            Discard data in b (may enhance performance)\n",
        "        \n",
        "        Returns\n",
        "        -------\n",
        "        x : array, shape (M,) or (M, K)\n",
        "            The solution to the system a x = b\n",
        "    \n",
        "    solve_continuous_are(a, b, q, r)\n",
        "        Solves the continuous algebraic Riccati equation, or CARE, defined\n",
        "        as (A'X + XA - XBR^-1B'X+Q=0) directly using a Schur decomposition\n",
        "        method.\n",
        "        \n",
        "        Parameters\n",
        "        ----------\n",
        "        a : array_like\n",
        "            m x m square matrix\n",
        "        \n",
        "        b : array_like\n",
        "            m x n matrix\n",
        "        \n",
        "        q : array_like\n",
        "            m x m square matrix\n",
        "        \n",
        "        r : array_like\n",
        "            Non-singular n x n square matrix\n",
        "        \n",
        "        Returns\n",
        "        -------\n",
        "        x : array_like\n",
        "            Solution (m x m) to the continuous algebraic Riccati equation\n",
        "        \n",
        "        Notes\n",
        "        -----\n",
        "        Method taken from:\n",
        "        Laub, \"A Schur Method for Solving Algebraic Riccati Equations.\"\n",
        "        U.S. Energy Research and Development Agency under contract\n",
        "        ERDA-E(49-18)-2087.\n",
        "        http://dspace.mit.edu/bitstream/handle/1721.1/1301/R-0859-05666488.pdf\n",
        "        \n",
        "        See Also\n",
        "        --------\n",
        "        solve_discrete_are : Solves the discrete algebraic Riccati equation\n",
        "    \n",
        "    solve_discrete_are(a, b, q, r)\n",
        "        Solves the disctrete algebraic Riccati equation, or DARE, defined as\n",
        "        (X = A'XA-(A'XB)(R+B'XB)^-1(B'XA)+Q), directly using a Schur decomposition\n",
        "        method.\n",
        "        \n",
        "        Parameters\n",
        "        ----------\n",
        "        a : array_like\n",
        "            Non-singular m x m square matrix\n",
        "        \n",
        "        b : array_like\n",
        "            m x n matrix\n",
        "        \n",
        "        q : array_like\n",
        "            m x m square matrix\n",
        "        \n",
        "        r : array_like\n",
        "            Non-singular n x n square matrix\n",
        "        \n",
        "        Returns\n",
        "        -------\n",
        "        x : array_like\n",
        "            Solution to the continuous Lyapunov equation\n",
        "        \n",
        "        Notes\n",
        "        -----\n",
        "        Method taken from:\n",
        "        Laub, \"A Schur Method for Solving Algebraic Riccati Equations.\"\n",
        "        U.S. Energy Research and Development Agency under contract\n",
        "        ERDA-E(49-18)-2087.\n",
        "        http://dspace.mit.edu/bitstream/handle/1721.1/1301/R-0859-05666488.pdf\n",
        "        \n",
        "        See Also\n",
        "        --------\n",
        "        solve_continuous_are : Solves the continuous algebraic Riccati equation\n",
        "    \n",
        "    solve_discrete_lyapunov(a, q)\n",
        "        Solves the Discrete Lyapunov Equation (A'XA-X=-Q) directly.\n",
        "        \n",
        "        Parameters\n",
        "        ----------\n",
        "        a : array_like\n",
        "            A square matrix\n",
        "        \n",
        "        q : array_like\n",
        "            Right-hand side square matrix\n",
        "        \n",
        "        Returns\n",
        "        -------\n",
        "        x : array_like\n",
        "            Solution to the continuous Lyapunov equation\n",
        "        \n",
        "        Notes\n",
        "        -----\n",
        "        Algorithm is based on a direct analytical solution from:\n",
        "        Hamilton, James D. Time Series Analysis, Princeton: Princeton University\n",
        "        Press, 1994.  265.  Print.\n",
        "        http://www.scribd.com/doc/20577138/Hamilton-1994-Time-Series-Analysis\n",
        "    \n",
        "    solve_lyapunov(a, q)\n",
        "        Solves the continuous Lyapunov equation (AX + XA^H = Q) given the values\n",
        "        of A and Q using the Bartels-Stewart algorithm.\n",
        "        \n",
        "        Parameters\n",
        "        ----------\n",
        "        a : array_like\n",
        "            A square matrix\n",
        "        \n",
        "        q : array_like\n",
        "            Right-hand side square matrix\n",
        "        \n",
        "        Returns\n",
        "        -------\n",
        "        x : array_like\n",
        "            Solution to the continuous Lyapunov equation\n",
        "        \n",
        "        Notes\n",
        "        -----\n",
        "        Because the continuous Lyapunov equation is just a special form of the\n",
        "        Sylvester equation, this solver relies entirely on solve_sylvester for a\n",
        "        solution.\n",
        "        \n",
        "        See Also\n",
        "        --------\n",
        "        solve_sylvester : computes the solution to the Sylvester equation\n",
        "    \n",
        "    solve_sylvester(a, b, q)\n",
        "        Computes a solution (X) to the Sylvester equation (AX + XB = Q).\n",
        "        \n",
        "        Parameters\n",
        "        ----------\n",
        "        a : array, shape (M, M)\n",
        "            Leading matrix of the Sylvester equation\n",
        "        b : array, shape (N, N)\n",
        "            Trailing matrix of the Sylvester equation\n",
        "        q : array, shape (M, N)\n",
        "            Right-hand side\n",
        "        \n",
        "        Returns\n",
        "        -------\n",
        "        x : array, shape (M, N)\n",
        "            The solution to the Sylvester equation.\n",
        "        \n",
        "        Raises\n",
        "        ------\n",
        "        LinAlgError\n",
        "            If solution was not found\n",
        "        \n",
        "        Notes\n",
        "        -----\n",
        "        Computes a solution to the Sylvester matrix equation via the Bartels-\n",
        "        Stewart algorithm.  The A and B matrices first undergo Schur\n",
        "        decompositions.  The resulting matrices are used to construct an\n",
        "        alternative Sylvester equation (``RY + YS^T = F``) where the R and S\n",
        "        matrices are in quasi-triangular form (or, when R, S or F are complex,\n",
        "        triangular form).  The simplified equation is then solved using\n",
        "        ``*TRSYL`` from LAPACK directly.\n",
        "    \n",
        "    solve_triangular(a, b, trans=0, lower=False, unit_diagonal=False, overwrite_b=False, debug=False)\n",
        "        Solve the equation `a x = b` for `x`, assuming a is a triangular matrix.\n",
        "        \n",
        "        Parameters\n",
        "        ----------\n",
        "        a : array, shape (M, M)\n",
        "        b : array, shape (M,) or (M, N)\n",
        "        lower : boolean\n",
        "            Use only data contained in the lower triangle of a.\n",
        "            Default is to use upper triangle.\n",
        "        trans : {0, 1, 2, 'N', 'T', 'C'}\n",
        "            Type of system to solve:\n",
        "        \n",
        "            ========  =========\n",
        "            trans     system\n",
        "            ========  =========\n",
        "            0 or 'N'  a x   = b\n",
        "            1 or 'T'  a^T x = b\n",
        "            2 or 'C'  a^H x = b\n",
        "            ========  =========\n",
        "        \n",
        "        unit_diagonal : boolean\n",
        "            If True, diagonal elements of A are assumed to be 1 and\n",
        "            will not be referenced.\n",
        "        \n",
        "        overwrite_b : boolean\n",
        "            Allow overwriting data in b (may enhance performance)\n",
        "        \n",
        "        Returns\n",
        "        -------\n",
        "        x : array, shape (M,) or (M, N) depending on b\n",
        "            Solution to the system a x = b\n",
        "        \n",
        "        Raises\n",
        "        ------\n",
        "        LinAlgError\n",
        "            If a is singular\n",
        "        \n",
        "        Notes\n",
        "        -----\n",
        "        .. versionadded:: 0.9.0\n",
        "    \n",
        "    solveh_banded(ab, b, overwrite_ab=False, overwrite_b=False, lower=False)\n",
        "        Solve equation a x = b. a is Hermitian positive-definite banded matrix.\n",
        "        \n",
        "        The matrix a is stored in ab either in lower diagonal or upper\n",
        "        diagonal ordered form:\n",
        "        \n",
        "            ab[u + i - j, j] == a[i,j]        (if upper form; i <= j)\n",
        "            ab[    i - j, j] == a[i,j]        (if lower form; i >= j)\n",
        "        \n",
        "        Example of ab (shape of a is (6,6), u=2)::\n",
        "        \n",
        "            upper form:\n",
        "            *   *   a02 a13 a24 a35\n",
        "            *   a01 a12 a23 a34 a45\n",
        "            a00 a11 a22 a33 a44 a55\n",
        "        \n",
        "            lower form:\n",
        "            a00 a11 a22 a33 a44 a55\n",
        "            a10 a21 a32 a43 a54 *\n",
        "            a20 a31 a42 a53 *   *\n",
        "        \n",
        "        Cells marked with * are not used.\n",
        "        \n",
        "        Parameters\n",
        "        ----------\n",
        "        ab : array, shape (u + 1, M)\n",
        "            Banded matrix\n",
        "        b : array, shape (M,) or (M, K)\n",
        "            Right-hand side\n",
        "        overwrite_ab : boolean\n",
        "            Discard data in ab (may enhance performance)\n",
        "        overwrite_b : boolean\n",
        "            Discard data in b (may enhance performance)\n",
        "        lower : boolean\n",
        "            Is the matrix in the lower form. (Default is upper form)\n",
        "        \n",
        "        Returns\n",
        "        -------\n",
        "        x : array, shape (M,) or (M, K)\n",
        "            The solution to the system a x = b\n",
        "    \n",
        "    sqrtm(A, disp=True)\n",
        "        Matrix square root.\n",
        "        \n",
        "        Parameters\n",
        "        ----------\n",
        "        A : array, shape(M,M)\n",
        "            Matrix whose square root to evaluate\n",
        "        disp : boolean\n",
        "            Print warning if error in the result is estimated large\n",
        "            instead of returning estimated error. (Default: True)\n",
        "        \n",
        "        Returns\n",
        "        -------\n",
        "        sgnA : array, shape(M,M)\n",
        "            Value of the sign function at A\n",
        "        \n",
        "        (if disp == False)\n",
        "        errest : float\n",
        "            Frobenius norm of the estimated error, ||err||_F / ||A||_F\n",
        "        \n",
        "        Notes\n",
        "        -----\n",
        "        Uses algorithm by Nicholas J. Higham\n",
        "    \n",
        "    svd(a, full_matrices=True, compute_uv=True, overwrite_a=False)\n",
        "        Singular Value Decomposition.\n",
        "        \n",
        "        Factorizes the matrix a into two unitary matrices U and Vh, and\n",
        "        a 1-D array s of singular values (real, non-negative) such that\n",
        "        ``a == U*S*Vh``, where S is a suitably shaped matrix of zeros with\n",
        "        main diagonal s.\n",
        "        \n",
        "        Parameters\n",
        "        ----------\n",
        "        a : ndarray\n",
        "            Matrix to decompose, of shape ``(M,N)``.\n",
        "        full_matrices : bool, optional\n",
        "            If True, `U` and `Vh` are of shape ``(M,M)``, ``(N,N)``.\n",
        "            If False, the shapes are ``(M,K)`` and ``(K,N)``, where\n",
        "            ``K = min(M,N)``.\n",
        "        compute_uv : bool, optional\n",
        "            Whether to compute also `U` and `Vh` in addition to `s`.\n",
        "            Default is True.\n",
        "        overwrite_a : bool, optional\n",
        "            Whether to overwrite `a`; may improve performance.\n",
        "            Default is False.\n",
        "        \n",
        "        Returns\n",
        "        -------\n",
        "        U : ndarray\n",
        "            Unitary matrix having left singular vectors as columns.\n",
        "            Of shape ``(M,M)`` or ``(M,K)``, depending on `full_matrices`.\n",
        "        s : ndarray\n",
        "            The singular values, sorted in non-increasing order.\n",
        "            Of shape (K,), with ``K = min(M, N)``.\n",
        "        Vh : ndarray\n",
        "            Unitary matrix having right singular vectors as rows.\n",
        "            Of shape ``(N,N)`` or ``(K,N)`` depending on `full_matrices`.\n",
        "        \n",
        "        For ``compute_uv = False``, only `s` is returned.\n",
        "        \n",
        "        Raises\n",
        "        ------\n",
        "        LinAlgError\n",
        "            If SVD computation does not converge.\n",
        "        \n",
        "        See also\n",
        "        --------\n",
        "        svdvals : Compute singular values of a matrix.\n",
        "        diagsvd : Construct the Sigma matrix, given the vector s.\n",
        "        \n",
        "        Examples\n",
        "        --------\n",
        "        >>> from scipy import linalg\n",
        "        >>> a = np.random.randn(9, 6) + 1.j*np.random.randn(9, 6)\n",
        "        >>> U, s, Vh = linalg.svd(a)\n",
        "        >>> U.shape, Vh.shape, s.shape\n",
        "        ((9, 9), (6, 6), (6,))\n",
        "        \n",
        "        >>> U, s, Vh = linalg.svd(a, full_matrices=False)\n",
        "        >>> U.shape, Vh.shape, s.shape\n",
        "        ((9, 6), (6, 6), (6,))\n",
        "        >>> S = linalg.diagsvd(s, 6, 6)\n",
        "        >>> np.allclose(a, np.dot(U, np.dot(S, Vh)))\n",
        "        True\n",
        "        \n",
        "        >>> s2 = linalg.svd(a, compute_uv=False)\n",
        "        >>> np.allclose(s, s2)\n",
        "        True\n",
        "    \n",
        "    svdvals(a, overwrite_a=False)\n",
        "        Compute singular values of a matrix.\n",
        "        \n",
        "        Parameters\n",
        "        ----------\n",
        "        a : ndarray\n",
        "            Matrix to decompose, of shape ``(M, N)``.\n",
        "        overwrite_a : bool, optional\n",
        "            Whether to overwrite `a`; may improve performance.\n",
        "            Default is False.\n",
        "        \n",
        "        Returns\n",
        "        -------\n",
        "        s : ndarray\n",
        "            The singular values, sorted in decreasing order.\n",
        "            Of shape ``(K,)``, with``K = min(M, N)``.\n",
        "        \n",
        "        Raises\n",
        "        ------\n",
        "        LinAlgError\n",
        "            If SVD computation does not converge.\n",
        "        \n",
        "        See also\n",
        "        --------\n",
        "        svd : Compute the full singular value decomposition of a matrix.\n",
        "        diagsvd : Construct the Sigma matrix, given the vector s.\n",
        "    \n",
        "    tanhm(A)\n",
        "        Compute the hyperbolic matrix tangent.\n",
        "        \n",
        "        This routine uses expm to compute the matrix exponentials.\n",
        "        \n",
        "        Parameters\n",
        "        ----------\n",
        "        A : array, shape(M,M)\n",
        "        \n",
        "        Returns\n",
        "        -------\n",
        "        tanhA : array, shape(M,M)\n",
        "            Hyperbolic matrix tangent of A\n",
        "    \n",
        "    tanm(A)\n",
        "        Compute the matrix tangent.\n",
        "        \n",
        "        This routine uses expm to compute the matrix exponentials.\n",
        "        \n",
        "        Parameters\n",
        "        ----------\n",
        "        A : array, shape(M,M)\n",
        "        \n",
        "        Returns\n",
        "        -------\n",
        "        tanA : array, shape(M,M)\n",
        "            Matrix tangent of A\n",
        "    \n",
        "    toeplitz(c, r=None)\n",
        "        Construct a Toeplitz matrix.\n",
        "        \n",
        "        The Toeplitz matrix has constant diagonals, with c as its first column\n",
        "        and r as its first row.  If r is not given, ``r == conjugate(c)`` is\n",
        "        assumed.\n",
        "        \n",
        "        Parameters\n",
        "        ----------\n",
        "        c : array_like\n",
        "            First column of the matrix.  Whatever the actual shape of `c`, it\n",
        "            will be converted to a 1-D array.\n",
        "        r : array_like\n",
        "            First row of the matrix. If None, ``r = conjugate(c)`` is assumed;\n",
        "            in this case, if c[0] is real, the result is a Hermitian matrix.\n",
        "            r[0] is ignored; the first row of the returned matrix is\n",
        "            ``[c[0], r[1:]]``.  Whatever the actual shape of `r`, it will be\n",
        "            converted to a 1-D array.\n",
        "        \n",
        "        Returns\n",
        "        -------\n",
        "        A : array, shape (len(c), len(r))\n",
        "            The Toeplitz matrix. Dtype is the same as ``(c[0] + r[0]).dtype``.\n",
        "        \n",
        "        See also\n",
        "        --------\n",
        "        circulant : circulant matrix\n",
        "        hankel : Hankel matrix\n",
        "        \n",
        "        Notes\n",
        "        -----\n",
        "        The behavior when `c` or `r` is a scalar, or when `c` is complex and\n",
        "        `r` is None, was changed in version 0.8.0.  The behavior in previous\n",
        "        versions was undocumented and is no longer supported.\n",
        "        \n",
        "        Examples\n",
        "        --------\n",
        "        >>> from scipy.linalg import toeplitz\n",
        "        >>> toeplitz([1,2,3], [1,4,5,6])\n",
        "        array([[1, 4, 5, 6],\n",
        "               [2, 1, 4, 5],\n",
        "               [3, 2, 1, 4]])\n",
        "        >>> toeplitz([1.0, 2+3j, 4-1j])\n",
        "        array([[ 1.+0.j,  2.-3.j,  4.+1.j],\n",
        "               [ 2.+3.j,  1.+0.j,  2.-3.j],\n",
        "               [ 4.-1.j,  2.+3.j,  1.+0.j]])\n",
        "    \n",
        "    tri(N, M=None, k=0, dtype=None)\n",
        "        Construct (N, M) matrix filled with ones at and below the k-th diagonal.\n",
        "        \n",
        "        The matrix has A[i,j] == 1 for i <= j + k\n",
        "        \n",
        "        Parameters\n",
        "        ----------\n",
        "        N : integer\n",
        "            The size of the first dimension of the matrix.\n",
        "        M : integer or None\n",
        "            The size of the second dimension of the matrix. If `M` is None,\n",
        "            `M = N` is assumed.\n",
        "        k : integer\n",
        "            Number of subdiagonal below which matrix is filled with ones.\n",
        "            `k` = 0 is the main diagonal, `k` < 0 subdiagonal and `k` > 0\n",
        "            superdiagonal.\n",
        "        dtype : dtype\n",
        "            Data type of the matrix.\n",
        "        \n",
        "        Returns\n",
        "        -------\n",
        "        A : array, shape (N, M)\n",
        "        \n",
        "        Examples\n",
        "        --------\n",
        "        >>> from scipy.linalg import tri\n",
        "        >>> tri(3, 5, 2, dtype=int)\n",
        "        array([[1, 1, 1, 0, 0],\n",
        "               [1, 1, 1, 1, 0],\n",
        "               [1, 1, 1, 1, 1]])\n",
        "        >>> tri(3, 5, -1, dtype=int)\n",
        "        array([[0, 0, 0, 0, 0],\n",
        "               [1, 0, 0, 0, 0],\n",
        "               [1, 1, 0, 0, 0]])\n",
        "    \n",
        "    tril(m, k=0)\n",
        "        Make a copy of a matrix with elements above the k-th diagonal zeroed.\n",
        "        \n",
        "        Parameters\n",
        "        ----------\n",
        "        m : array\n",
        "            Matrix whose elements to return\n",
        "        k : integer\n",
        "            Diagonal above which to zero elements.\n",
        "            k == 0 is the main diagonal, k < 0 subdiagonal and k > 0 superdiagonal.\n",
        "        \n",
        "        Returns\n",
        "        -------\n",
        "        A : array, shape m.shape, dtype m.dtype\n",
        "        \n",
        "        Examples\n",
        "        --------\n",
        "        >>> from scipy.linalg import tril\n",
        "        >>> tril([[1,2,3],[4,5,6],[7,8,9],[10,11,12]], -1)\n",
        "        array([[ 0,  0,  0],\n",
        "               [ 4,  0,  0],\n",
        "               [ 7,  8,  0],\n",
        "               [10, 11, 12]])\n",
        "    \n",
        "    triu(m, k=0)\n",
        "        Make a copy of a matrix with elements below the k-th diagonal zeroed.\n",
        "        \n",
        "        Parameters\n",
        "        ----------\n",
        "        m : array\n",
        "            Matrix whose elements to return\n",
        "        k : integer\n",
        "            Diagonal below which to zero elements.\n",
        "            k == 0 is the main diagonal, k < 0 subdiagonal and k > 0 superdiagonal.\n",
        "        \n",
        "        Returns\n",
        "        -------\n",
        "        A : array, shape m.shape, dtype m.dtype\n",
        "        \n",
        "        Examples\n",
        "        --------\n",
        "        >>> from scipy.linalg import triu\n",
        "        >>> triu([[1,2,3],[4,5,6],[7,8,9],[10,11,12]], -1)\n",
        "        array([[ 1,  2,  3],\n",
        "               [ 4,  5,  6],\n",
        "               [ 0,  8,  9],\n",
        "               [ 0,  0, 12]])\n",
        "\n",
        "DATA\n",
        "    __all__ = ['LinAlgError', 'all_mat', 'basic', 'blas', 'block_diag', 'c...\n",
        "    __version__ = '0.4.9'\n",
        "\n",
        "VERSION\n",
        "    0.4.9\n",
        "\n",
        "\n"
       ]
      }
     ],
     "prompt_number": 13
    },
    {
     "cell_type": "markdown",
     "metadata": {
      "internals": {
       "slide_helper": "subslide_end"
      },
      "slide_helper": "slide_end",
      "slideshow": {
       "slide_type": "-"
      }
     },
     "source": [
      "\u05d9\u05ea\u05df \u05dc\u05db\u05dd \u05e4\u05d9\u05e8\u05d5\u05d8 \u05de\u05dc\u05d0 \u05e9\u05dc \u05d4\u05e1\u05e4\u05e8\u05d9\u05d4 \u05d5\u05d9\u05db\u05d5\u05dc\u05d5\u05ea\u05d9\u05d4."
     ]
    },
    {
     "cell_type": "markdown",
     "metadata": {
      "internals": {
       "slide_type": "subslide"
      },
      "slideshow": {
       "slide_type": "slide"
      }
     },
     "source": [
      "# \u05d4\u05e1\u05e4\u05e8\u05d9\u05d4 [matplotlib](http://matplotlib.org/)\n",
      "![matplotlib logo](http://matplotlib.org/xkcd/_static/logo2.png)"
     ]
    },
    {
     "cell_type": "markdown",
     "metadata": {
      "internals": {
       "slide_helper": "subslide_end"
      },
      "slide_helper": "subslide_end",
      "slideshow": {
       "slide_type": "-"
      }
     },
     "source": [
      "\u05e1\u05e4\u05e8\u05d9\u05d4 \u05dc\u05d9\u05e6\u05d9\u05e8\u05ea \u05d2\u05e8\u05e4\u05d9\u05dd \u05d5\u05ea\u05e8\u05e9\u05d9\u05de\u05d9\u05dd. \u05d1\u05e2\u05d9\u05e7\u05e8 \u05d1\u05d3\u05d5-\u05de\u05de\u05d3. "
     ]
    },
    {
     "cell_type": "markdown",
     "metadata": {
      "internals": {
       "slide_helper": "subslide_end",
       "slide_type": "subslide"
      },
      "slide_helper": "subslide_end",
      "slideshow": {
       "slide_type": "subslide"
      }
     },
     "source": [
      "\u05dc\u05d8\u05e2\u05de\u05d9, \u05d4\u05d3\u05e8\u05da \u05d4\u05db\u05d9 \u05d8\u05d5\u05d1\u05d4 \u05dc\u05dc\u05de\u05d5\u05d3 \u05dc\u05d4\u05e9\u05ea\u05de\u05e9 \u05d1\u05d4 \u05d4\u05d5\u05d0 \u05dc\u05e1\u05e8\u05d5\u05e7 \u05d0\u05ea \n",
      "[\u05d2\u05dc\u05e8\u05d9\u05d9\u05ea \u05d4\u05d3\u05d5\u05d2\u05de\u05d0\u05d5\u05ea](http://matplotlib.org/gallery.html) \n",
      "\u05d5\u05dc\u05d4\u05e2\u05ea\u05d9\u05e7 \u05d0\u05ea \u05d4\u05d2\u05e8\u05e3 \u05e9\u05e0\u05e8\u05d0\u05d4 \u05d4\u05db\u05d9 \u05db\u05de\u05d5-\u05e9\u05d0\u05ea\u05dd-\u05e6\u05e8\u05d9\u05db\u05d9\u05dd."
     ]
    },
    {
     "cell_type": "code",
     "collapsed": false,
     "input": [
      "%pylab inline\n"
     ],
     "language": "python",
     "metadata": {
      "internals": {
       "slide_helper": "subslide_end",
       "slide_type": "subslide"
      },
      "slide_helper": "subslide_end",
      "slideshow": {
       "slide_type": "subslide"
      }
     },
     "outputs": [
      {
       "output_type": "stream",
       "stream": "stdout",
       "text": [
        "Populating the interactive namespace from numpy and matplotlib\n"
       ]
      },
      {
       "output_type": "stream",
       "stream": "stderr",
       "text": [
        "WARNING: pylab import has clobbered these variables: ['draw_if_interactive', 'new_figure_manager']\n",
        "`%pylab --no-import-all` prevents importing * from pylab and numpy\n"
       ]
      }
     ],
     "prompt_number": 15
    },
    {
     "cell_type": "code",
     "collapsed": false,
     "input": [
      "import numpy as np\n",
      "from  matplotlib.pyplot import * \n",
      "x = np.linspace(0,10,100)\n",
      "y = np.sin(x)\n",
      "plot(x,y,\".-\",label=\"sine\")\n",
      "#plot(y**2,\"o-\",label=\"sine^2\")\n",
      "legend(loc=\"best\")\n",
      "#ylim([0,0.5])\n",
      "xlabel(\"x\")\n",
      "ylabel(\"y\") "
     ],
     "language": "python",
     "metadata": {
      "internals": {
       "slide_helper": "subslide_end",
       "slide_type": "subslide"
      },
      "slide_helper": "subslide_end",
      "slideshow": {
       "slide_type": "subslide"
      }
     },
     "outputs": [
      {
       "metadata": {},
       "output_type": "pyout",
       "prompt_number": 21,
       "text": [
        "<matplotlib.text.Text at 0x444ca50>"
       ]
      },
      {
       "metadata": {},
       "output_type": "display_data",
       "png": "[encoded data removed]",
       "text": [
        "<matplotlib.figure.Figure at 0x432a990>"
       ]
      }
     ],
     "prompt_number": 21
    },
    {
     "cell_type": "code",
     "collapsed": false,
     "input": [
      "import numpy as np\n",
      "import matplotlib.pyplot as plt\n",
      "\n",
      "\n",
      "x = np.linspace(0, 1)\n",
      "y = np.sin(4 * np.pi * x) * np.exp(-5 * x)\n",
      "\n",
      "plt.fill(x, y, 'r')\n",
      "plt.grid(True)\n",
      "plt\n"
     ],
     "language": "python",
     "metadata": {
      "internals": {
       "slide_helper": "subslide_end",
       "slide_type": "subslide"
      },
      "slide_helper": "subslide_end",
      "slideshow": {
       "slide_type": "subslide"
      }
     },
     "outputs": [
      {
       "metadata": {},
       "output_type": "pyout",
       "prompt_number": 3,
       "text": [
        "<module 'matplotlib.pyplot' from '/usr/lib/python2.7/dist-packages/matplotlib/pyplot.pyc'>"
       ]
      },
      {
       "metadata": {},
       "output_type": "display_data",
       "png": "[encoded data removed]",
       "text": [
        "<matplotlib.figure.Figure at 0x3f62110>"
       ]
      }
     ],
     "prompt_number": 3
    },
    {
     "cell_type": "code",
     "collapsed": false,
     "input": [
      "import matplotlib.pyplot as plt ; import random\n",
      "fontsizes = [8, 16, 24, 32]\n",
      "\n",
      "def example_plot(ax):\n",
      "    ax.plot([1, 2])\n",
      "    ax.set_xlabel('x-label', fontsize=random.choice(fontsizes))\n",
      "    ax.set_ylabel('y-label', fontsize=random.choice(fontsizes))\n",
      "    ax.set_title('Title', fontsize=random.choice(fontsizes))\n",
      "\n",
      "fig, ((ax1, ax2), (ax3, ax4)) = plt.subplots(nrows=2, ncols=2)\n",
      "example_plot(ax1)\n",
      "example_plot(ax2)\n",
      "example_plot(ax3)\n",
      "example_plot(ax4)\n",
      "plt.tight_layout()"
     ],
     "language": "python",
     "metadata": {
      "internals": {
       "slide_helper": "subslide_end",
       "slide_type": "subslide"
      },
      "slide_helper": "subslide_end",
      "slideshow": {
       "slide_type": "subslide"
      }
     },
     "outputs": [
      {
       "metadata": {},
       "output_type": "display_data",
       "png": "[encoded data removed]",
       "text": [
        "<matplotlib.figure.Figure at 0x3e92d90>"
       ]
      }
     ],
     "prompt_number": 4
    },
    {
     "cell_type": "code",
     "collapsed": false,
     "input": [
      "from pylab import *\n",
      "import matplotlib.cbook as cbook\n",
      "# data are 256x256 16 bit integers\n",
      "dfile = cbook.get_sample_data('s1045.ima.gz')\n",
      "im = np.fromstring(dfile.read(), np.uint16).astype(float)\n",
      "im.shape = 256, 256\n",
      "\n",
      "imshow(im, cmap=cm.jet)\n",
      "colorbar()\n",
      "\n",
      "show()"
     ],
     "language": "python",
     "metadata": {
      "internals": {
       "slide_helper": "subslide_end",
       "slide_type": "subslide"
      },
      "slide_helper": "subslide_end",
      "slideshow": {
       "slide_type": "subslide"
      }
     },
     "outputs": [
      {
       "metadata": {},
       "output_type": "display_data",
       "png": "[encoded data removed]",
       "text": [
        "<matplotlib.figure.Figure at 0x4567290>"
       ]
      }
     ],
     "prompt_number": 5
    },
    {
     "cell_type": "code",
     "collapsed": false,
     "input": [
      "from numpy.random import uniform, seed\n",
      "from matplotlib.mlab import griddata\n",
      "import matplotlib.pyplot as plt\n",
      "import numpy as np\n",
      "\n",
      "# make up data.\n",
      "seed(0)\n",
      "npts = 200\n",
      "x = uniform(-2,2,npts)\n",
      "y = uniform(-2,2,npts)\n",
      "z = x*np.exp(-x**2-y**2)\n",
      "\n",
      "# define grid.\n",
      "xi = np.linspace(-2.1,2.1,100)\n",
      "yi = np.linspace(-2.1,2.1,200)\n",
      "\n",
      "# grid the data.\n",
      "zi = griddata(x,y,z,xi,yi,interp='linear')\n",
      "\n",
      "# contour the gridded data, plotting dots at the nonuniform data points.\n",
      "CS = plt.contour(xi,yi,zi,15,linewidths=0.5,colors='k')\n",
      "CS = plt.contourf(xi,yi,zi,15,cmap=plt.cm.rainbow,\n",
      "                  vmax=abs(zi).max(), vmin=-abs(zi).max())\n",
      "plt.colorbar() # draw colorbar\n",
      "# plot data points.\n",
      "plt.scatter(x,y,marker='o',c='b',s=5,zorder=10)\n",
      "plt.xlim(-2,2)\n",
      "plt.ylim(-2,2)\n",
      "plt.title('griddata test (%d points)' % npts)\n",
      "plt.show()\n"
     ],
     "language": "python",
     "metadata": {
      "internals": {
       "slide_helper": "subslide_end",
       "slide_type": "subslide"
      },
      "slide_helper": "subslide_end",
      "slideshow": {
       "slide_type": "subslide"
      }
     },
     "outputs": [
      {
       "metadata": {},
       "output_type": "display_data",
       "png": "[encoded data removed]",
       "text": [
        "<matplotlib.figure.Figure at 0x3f3bc90>"
       ]
      }
     ],
     "prompt_number": 6
    },
    {
     "cell_type": "code",
     "collapsed": false,
     "input": [
      "import numpy as np\n",
      "import matplotlib.pyplot as plt\n",
      "from mpl_toolkits.mplot3d import Axes3D\n",
      "\n",
      "\n",
      "def lorenz(x, y, z, s=10, r=28, b=2.667) :\n",
      "    x_dot = s*(y - x)\n",
      "    y_dot = r*x - y - x*z\n",
      "    z_dot = x*y - b*z\n",
      "    return x_dot, y_dot, z_dot\n",
      "\n",
      "\n",
      "dt = 0.01\n",
      "stepCnt = 10000\n",
      "\n",
      "# Need one more for the initial values\n",
      "xs = np.empty((stepCnt + 1,))\n",
      "ys = np.empty((stepCnt + 1,))\n",
      "zs = np.empty((stepCnt + 1,))\n",
      "\n",
      "# Setting initial values\n",
      "xs[0], ys[0], zs[0] = (0., 1., 1.05)\n",
      "\n",
      "# Stepping through \"time\".\n",
      "for i in range(stepCnt) :\n",
      "    # Derivatives of the X, Y, Z state\n",
      "    x_dot, y_dot, z_dot = lorenz(xs[i], ys[i], zs[i])\n",
      "    xs[i + 1] = xs[i] + (x_dot * dt)\n",
      "    ys[i + 1] = ys[i] + (y_dot * dt)\n",
      "    zs[i + 1] = zs[i] + (z_dot * dt)\n",
      "\n",
      "fig = plt.figure()\n",
      "ax = fig.gca(projection='3d')\n",
      "\n",
      "ax.plot(xs, ys, zs)\n",
      "ax.set_xlabel(\"X Axis\")\n",
      "ax.set_ylabel(\"Y Axis\")\n",
      "ax.set_zlabel(\"Z Axis\")\n",
      "ax.set_title(\"Lorenz Attractor\")\n",
      "\n",
      "plt.show()\n"
     ],
     "language": "python",
     "metadata": {
      "internals": {
       "slide_helper": "subslide_end",
       "slide_type": "subslide"
      },
      "slide_helper": "subslide_end",
      "slideshow": {
       "slide_type": "subslide"
      }
     },
     "outputs": [
      {
       "metadata": {},
       "output_type": "display_data",
       "png": "[encoded data removed]",
       "text": [
        "<matplotlib.figure.Figure at 0x3f62310>"
       ]
      }
     ],
     "prompt_number": 10
    },
    {
     "cell_type": "markdown",
     "metadata": {
      "internals": {
       "slide_type": "subslide"
      },
      "slideshow": {
       "slide_type": "subslide"
      }
     },
     "source": [
      "### matplotlib, [xkcd style](http://matplotlib.org/xkcd/gallery.html)"
     ]
    },
    {
     "cell_type": "code",
     "collapsed": false,
     "input": [
      "import numpy as np\n",
      "import matplotlib.pyplot as plt\n",
      "plt.xkcd()\n",
      "plt.plot(sin(linspace(0,10)),label=\"line\")\n",
      "plt.title(\"xkcd style\")\n",
      "plt.legend(loc=\"best\")\n",
      "plt.xlabel(\"x axis\")"
     ],
     "language": "python",
     "metadata": {
      "internals": {
       "slide_helper": "subslide_end"
      },
      "slide_helper": "slide_end",
      "slideshow": {
       "slide_type": "-"
      }
     },
     "outputs": [
      {
       "metadata": {},
       "output_type": "pyout",
       "prompt_number": 11,
       "text": [
        "<matplotlib.text.Text at 0x4a4bd90>"
       ]
      },
      {
       "metadata": {},
       "output_type": "display_data",
       "png": "[encoded data removed]",
       "text": [
        "<matplotlib.figure.Figure at 0x418ead0>"
       ]
      }
     ],
     "prompt_number": 11
    },
    {
     "cell_type": "markdown",
     "metadata": {
      "internals": {
       "slide_type": "subslide"
      },
      "slideshow": {
       "slide_type": "slide"
      }
     },
     "source": [
      "# \u05e1\u05d1\u05d9\u05d1\u05ea \u05d4\u05e2\u05d1\u05d5\u05d3\u05d4, [IPython](http://ipython.org/)\n",
      "\n",
      "![IPython logo](http://ipython.org/_static/IPy_header.png)"
     ]
    },
    {
     "cell_type": "markdown",
     "metadata": {
      "internals": {
       "slide_helper": "subslide_end"
      },
      "slide_helper": "slide_end",
      "slideshow": {
       "slide_type": "-"
      }
     },
     "source": [
      "\u05e1\u05d1\u05d9\u05d1\u05ea \u05e2\u05d1\u05d5\u05d3\u05d4 \u05d5\u05e1\u05d8 \u05db\u05dc\u05d9\u05dd \u05dc\u05e2\u05d1\u05d5\u05d3\u05d4 \u05d0\u05d9\u05e0\u05d8\u05e8\u05d0\u05e7\u05d8\u05d9\u05d1\u05d9\u05ea. \u05d0\u05e0\u05d9 \u05dc\u05d0 \u05d0\u05d3\u05d1\u05e8 \u05e2\u05dc\u05d9\u05d4 \u05d1\u05d0\u05d5\u05e4\u05df \u05e4\u05e8\u05d8\u05e0\u05d9, \u05de\u05d0\u05d7\u05e8 \u05d5\u05e8\u05d5\u05d1 \u05d4\u05d4\u05e8\u05e6\u05d0\u05d4 \u05d4\u05d9\u05d0 \u05e4\u05e8\u05e1\u05d5\u05de\u05ea \u05d0\u05d7\u05ea \u05d2\u05d3\u05d5\u05dc\u05d4 \u05dc-IPython\n",
      "\n",
      "\u05d7\u05d5\u05e5 \u05de\u05e1\u05d1\u05d9\u05d1\u05ea \u05d4\u05e2\u05d1\u05d5\u05d3\u05d4 \u05d4\u05d0\u05d9\u05e0\u05d8\u05e8\u05d0\u05e7\u05d8\u05d9\u05d1\u05d9\u05ea, \n",
      "IPython \n",
      "\u05db\u05d5\u05dc\u05dc\u05ea \u05d2\u05dd \u05db\u05dc\u05d9\u05dd \u05dc\u05de\u05e7\u05d1\u05d5\u05dc \u05d4\u05e8\u05d9\u05e6\u05d4, \u05d0\u05d1\u05dc \u05dc\u05d0 \u05e0\u05ea\u05e2\u05e7\u05d1 \u05e2\u05dc\u05d9\u05d4\u05dd \u05db\u05d0\u05df."
     ]
    },
    {
     "cell_type": "markdown",
     "metadata": {
      "internals": {
       "slide_type": "subslide"
      },
      "slideshow": {
       "slide_type": "slide"
      }
     },
     "source": [
      "# \u05d4\u05e1\u05e4\u05e8\u05d9\u05d4  [Pandas](http://pandas.pydata.org/)\n",
      "![Pandas](http://pandas.pydata.org/_static/pandas_logo.png)"
     ]
    },
    {
     "cell_type": "markdown",
     "metadata": {
      "internals": {
       "slide_helper": "subslide_end"
      },
      "slide_helper": "subslide_end",
      "slideshow": {
       "slide_type": "-"
      }
     },
     "source": [
      "\u05d4\u05e1\u05e4\u05e8\u05d9\u05d4 \u05d4\u05d6\u05d5 \u05de\u05d0\u05e4\u05e9\u05e8\u05ea \u05d8\u05d9\u05e4\u05d5\u05dc \u05d1\u05e0\u05ea\u05d5\u05e0\u05d9\u05dd \u05db\u05d8\u05d1\u05dc\u05d4: \u05e2\u05dd \u05e2\u05de\u05d5\u05d3\u05d5\u05ea \u05de\u05d5\u05d1\u05d7\u05e0\u05d5\u05ea \u05d5\u05e9\u05d5\u05e8\u05d5\u05ea \u05de\u05d5\u05d1\u05d7\u05e0\u05d5\u05ea \u05d5\u05d1\u05d9\u05e6\u05d5\u05e2 \u05e4\u05e2\u05d5\u05dc\u05d5\u05ea \"\u05d7\u05db\u05de\u05d5\u05ea\" \u05e2\u05dc\u05d9\u05d4\u05dd. \n",
      "\n",
      "\u05e4\u05e2\u05d5\u05dc\u05d5\u05ea \u05de\u05d4\u05d9\u05e8\u05d5\u05ea \u05d5\u05de\u05ea\u05d5\u05d7\u05db\u05de\u05d5\u05ea \u05e2\u05dc \u05d8\u05d1\u05dc\u05d0\u05d5\u05ea \u05e9\u05d5\u05db\u05e0\u05d5\u05ea \u05d6\u05db\u05e8\u05d5\u05df."
     ]
    },
    {
     "cell_type": "code",
     "collapsed": false,
     "input": [
      "import pandas as pd\n",
      "df = pd.read_csv(\"/home/ronen/Dropbox/master/alab/squid_data/R01C100_01_ovend.res\", sep=\"\\t\", header= 1 )\n",
      "df[:5]"
     ],
     "language": "python",
     "metadata": {
      "internals": {
       "slide_type": "subslide"
      },
      "slideshow": {
       "slide_type": "subslide"
      }
     },
     "outputs": [
      {
       "html": [
        "<div style=\"max-height:1000px;max-width:1500px;overflow:auto;\">\n",
        "<table border=\"1\" class=\"dataframe\">\n",
        "  <thead>\n",
        "    <tr style=\"text-align: right;\">\n",
        "      <th></th>\n",
        "      <th>time[s]</th>\n",
        "      <th>Tb[K]before</th>\n",
        "      <th>field[T]</th>\n",
        "      <th>average Z-Moment</th>\n",
        "      <th>Ta[K]</th>\n",
        "      <th>Tb[K]after</th>\n",
        "      <th> STD</th>\n",
        "      <th>Z-Scan1  </th>\n",
        "      <th>Z-Scan2  </th>\n",
        "      <th>Z-Scan3  </th>\n",
        "    </tr>\n",
        "  </thead>\n",
        "  <tbody>\n",
        "    <tr>\n",
        "      <th>0</th>\n",
        "      <td> 3434870100</td>\n",
        "      <td> 8.7873</td>\n",
        "      <td> 0.0002</td>\n",
        "      <td>-0</td>\n",
        "      <td> 6.0252</td>\n",
        "      <td> 8.5841</td>\n",
        "      <td> 1.773417e-10</td>\n",
        "      <td>-0</td>\n",
        "      <td>-0</td>\n",
        "      <td>-0</td>\n",
        "    </tr>\n",
        "    <tr>\n",
        "      <th>1</th>\n",
        "      <td> 3434870200</td>\n",
        "      <td> 8.3708</td>\n",
        "      <td> 0.0002</td>\n",
        "      <td>-0</td>\n",
        "      <td> 5.9130</td>\n",
        "      <td> 8.1694</td>\n",
        "      <td> 5.117923e-10</td>\n",
        "      <td>-0</td>\n",
        "      <td>-0</td>\n",
        "      <td>-0</td>\n",
        "    </tr>\n",
        "    <tr>\n",
        "      <th>2</th>\n",
        "      <td> 3434870300</td>\n",
        "      <td> 8.1145</td>\n",
        "      <td> 0.0002</td>\n",
        "      <td>-0</td>\n",
        "      <td> 5.8433</td>\n",
        "      <td> 7.9177</td>\n",
        "      <td> 2.151293e-10</td>\n",
        "      <td>-0</td>\n",
        "      <td>-0</td>\n",
        "      <td>-0</td>\n",
        "    </tr>\n",
        "    <tr>\n",
        "      <th>3</th>\n",
        "      <td> 3434870300</td>\n",
        "      <td> 7.8748</td>\n",
        "      <td> 0.0002</td>\n",
        "      <td>-0</td>\n",
        "      <td> 6.2381</td>\n",
        "      <td> 7.8609</td>\n",
        "      <td> 2.835875e-10</td>\n",
        "      <td>-0</td>\n",
        "      <td>-0</td>\n",
        "      <td>-0</td>\n",
        "    </tr>\n",
        "    <tr>\n",
        "      <th>4</th>\n",
        "      <td> 3434870300</td>\n",
        "      <td> 7.9014</td>\n",
        "      <td> 0.0002</td>\n",
        "      <td>-0</td>\n",
        "      <td> 6.6219</td>\n",
        "      <td> 8.1232</td>\n",
        "      <td> 2.930437e-10</td>\n",
        "      <td>-0</td>\n",
        "      <td>-0</td>\n",
        "      <td>-0</td>\n",
        "    </tr>\n",
        "  </tbody>\n",
        "</table>\n",
        "</div>"
       ],
       "metadata": {},
       "output_type": "pyout",
       "prompt_number": 60,
       "text": [
        "      time[s]  Tb[K]before  field[T]  average Z-Moment   Ta[K]  Tb[K]after  \\\n",
        "0  3434870100       8.7873    0.0002                -0  6.0252      8.5841   \n",
        "1  3434870200       8.3708    0.0002                -0  5.9130      8.1694   \n",
        "2  3434870300       8.1145    0.0002                -0  5.8433      7.9177   \n",
        "3  3434870300       7.8748    0.0002                -0  6.2381      7.8609   \n",
        "4  3434870300       7.9014    0.0002                -0  6.6219      8.1232   \n",
        "\n",
        "            STD  Z-Scan1    Z-Scan2    Z-Scan3    \n",
        "0  1.773417e-10         -0         -0         -0  \n",
        "1  5.117923e-10         -0         -0         -0  \n",
        "2  2.151293e-10         -0         -0         -0  \n",
        "3  2.835875e-10         -0         -0         -0  \n",
        "4  2.930437e-10         -0         -0         -0  "
       ]
      }
     ],
     "prompt_number": 60
    },
    {
     "cell_type": "code",
     "collapsed": false,
     "input": [
      "df.plot(x=\"Tb[K]before\", y=\"average Z-Moment\", style=\"*\")"
     ],
     "language": "python",
     "metadata": {
      "internals": {
       "slide_helper": "subslide_end"
      },
      "slide_helper": "slide_end",
      "slideshow": {
       "slide_type": "-"
      }
     },
     "outputs": [
      {
       "metadata": {},
       "output_type": "pyout",
       "prompt_number": 61,
       "text": [
        "<matplotlib.axes.AxesSubplot at 0x4426650>"
       ]
      },
      {
       "metadata": {},
       "output_type": "display_data",
       "png": "[encoded data removed]",
       "text": [
        "<matplotlib.figure.Figure at 0x3b1ef10>"
       ]
      }
     ],
     "prompt_number": 61
    },
    {
     "cell_type": "markdown",
     "metadata": {
      "internals": {
       "slide_type": "subslide"
      },
      "slideshow": {
       "slide_type": "slide"
      }
     },
     "source": [
      "# \u05d4\u05e1\u05e4\u05e8\u05d9\u05d4  Sympy\n",
      "![sympy logo](http://sympy.org/static/images/logo.png)"
     ]
    },
    {
     "cell_type": "markdown",
     "metadata": {
      "internals": {
       "slide_helper": "subslide_end"
      },
      "slide_helper": "slide_end",
      "slideshow": {
       "slide_type": "-"
      }
     },
     "source": [
      "\u05de\u05e1\u05e4\u05e8 \u05d3\u05d5\u05d2\u05de\u05d0\u05d5\u05ea \u05dc\u05e9\u05d9\u05de\u05d5\u05e9 \u05d1-Sympy"
     ]
    },
    {
     "cell_type": "markdown",
     "metadata": {
      "internals": {
       "slide_type": "subslide"
      },
      "slideshow": {
       "slide_type": "slide"
      }
     },
     "source": [
      "## \u05d0\u05dc\u05d2\u05d1\u05e8\u05d4 \u05d1\u05e1\u05d9\u05e1\u05d9\u05ea\n",
      "\n",
      "\u05d0\u05ea\u05d7\u05d5\u05dc: \u05d4\u05e8\u05d1\u05d4 \u05e4\u05e2\u05de\u05d9\u05dd \u05de\u05d1\u05d5\u05e6\u05e2 \u05d1\u05e6\u05d5\u05e8\u05d4 \u05d0\u05d5\u05d8\u05d5\u05de\u05d8\u05d9\u05ea."
     ]
    },
    {
     "cell_type": "code",
     "collapsed": false,
     "input": [
      " \n",
      "from IPython.display import display\n",
      "\n",
      "from sympy.interactive import printing\n",
      "printing.init_printing()\n",
      "\n",
      "from __future__ import division\n",
      "import sympy as sym\n",
      "from sympy import *\n",
      "x, y, z = symbols(\"x y z\")\n",
      "k, m, n = symbols(\"k m n\", integer=True)\n",
      "f, g, h = map(Function, 'fgh')"
     ],
     "language": "python",
     "metadata": {
      "internals": {
       "slide_helper": "subslide_end"
      },
      "slide_helper": "subslide_end",
      "slideshow": {
       "slide_type": "-"
      }
     },
     "outputs": [],
     "prompt_number": 44
    },
    {
     "cell_type": "code",
     "collapsed": false,
     "input": [
      "Rational(3,2)*pi + exp(I*x) / (x**2 + y)\n"
     ],
     "language": "python",
     "metadata": {
      "internals": {
       "slide_helper": "subslide_end",
       "slide_type": "subslide"
      },
      "slide_helper": "subslide_end",
      "slideshow": {
       "slide_type": "subslide"
      }
     },
     "outputs": [
      {
       "latex": [
        "$$\\frac{3 \\pi}{2} + \\frac{e^{i x}}{x^{2} + y}$$"
       ],
       "metadata": {},
       "output_type": "pyout",
       "png": "[encoded data removed]",
       "prompt_number": 45,
       "text": [
        "        \u2148\u22c5x \n",
        "3\u22c5\u03c0    \u212f    \n",
        "\u2500\u2500\u2500 + \u2500\u2500\u2500\u2500\u2500\u2500\n",
        " 2     2    \n",
        "      x  + y"
       ]
      }
     ],
     "prompt_number": 45
    },
    {
     "cell_type": "code",
     "collapsed": false,
     "input": [
      "eq = ((x+y)**2 * (x+1))\n",
      "eq"
     ],
     "language": "python",
     "metadata": {
      "internals": {
       "slide_type": "subslide"
      },
      "slideshow": {
       "slide_type": "subslide"
      }
     },
     "outputs": [
      {
       "latex": [
        "$$\\left(x + 1\\right) \\left(x + y\\right)^{2}$$"
       ],
       "metadata": {},
       "output_type": "pyout",
       "png": "[encoded data removed]",
       "prompt_number": 46,
       "text": [
        "               2\n",
        "(x + 1)\u22c5(x + y) "
       ]
      }
     ],
     "prompt_number": 46
    },
    {
     "cell_type": "code",
     "collapsed": false,
     "input": [
      "expand(eq)"
     ],
     "language": "python",
     "metadata": {
      "internals": {
       "slide_helper": "subslide_end"
      },
      "slide_helper": "subslide_end",
      "slideshow": {
       "slide_type": "-"
      }
     },
     "outputs": [
      {
       "latex": [
        "$$x^{3} + 2 x^{2} y + x^{2} + x y^{2} + 2 x y + y^{2}$$"
       ],
       "metadata": {},
       "output_type": "pyout",
       "png": "[encoded data removed]",
       "prompt_number": 47,
       "text": [
        " 3      2      2      2            2\n",
        "x  + 2\u22c5x \u22c5y + x  + x\u22c5y  + 2\u22c5x\u22c5y + y "
       ]
      }
     ],
     "prompt_number": 47
    },
    {
     "cell_type": "code",
     "collapsed": false,
     "input": [
      "from  sympy import *\n",
      "eq = Eq(x**3 + 2*x**2 + 4*x + 8, 0)\n",
      "eq\n"
     ],
     "language": "python",
     "metadata": {
      "internals": {
       "slide_type": "subslide"
      },
      "slideshow": {
       "slide_type": "subslide"
      }
     },
     "outputs": [
      {
       "ename": "SympifyError",
       "evalue": "SympifyError: array([    8.        ,     8.4254771 ,     8.89795001,     9.42360242,\n          10.00861796,    10.65918031,    11.38147313,    12.18168008,\n          13.06598481,    14.040571  ,    15.11162229,    16.28532236,\n          17.56785486,    18.96540345,    20.48415179,    22.13028355,\n          23.90998239,    25.82943196,    27.89481593,    30.11231796,\n          32.4881217 ,    35.02841083,    37.739369  ,    40.62717987,\n          43.6980271 ,    46.95809436,    50.4135653 ,    54.07062359,\n          57.93545289,    62.01423685,    66.31315914,    70.83840342,\n          75.59615335,    80.59259259,    85.83390481,    91.32627365,\n          97.07588279,   103.08891589,   109.3715566 ,   115.92998859,\n         122.77039552,   129.89896104,   137.32186883,   145.04530253,\n         153.07544582,   161.41848234,   170.08059578,   179.06796977,\n         188.38678799,   198.0432341 ,   208.04349175,   218.39374461,\n         229.10017634,   240.1689706 ,   251.60631104,   263.41838134,\n         275.61136516,   288.19144614,   301.16480796,   314.53763428,\n         328.31610875,   342.50641503,   357.1147368 ,   372.1472577 ,\n         387.6101614 ,   403.50963157,   419.85185185,   436.64300592,\n         453.88927743,   471.59685004,   489.77190742,   508.42063323,\n         527.54921112,   547.16382476,   567.27065781,   587.87589393,\n         608.98571677,   630.60631001,   652.74385731,   675.40454231,\n         698.59454869,   722.32006011,   746.58726022,   771.40233268,\n         796.77146117,   822.70082933,   849.19662084,   876.26501934,\n         903.9122085 ,   932.14437199,   960.96769346,   990.38835658,\n        1020.412545  ,  1051.04644239,  1082.2962324 ,  1114.1680987 ,\n        1146.66822495,  1179.80279481,  1213.57799194,  1248.        ])",
       "output_type": "pyerr",
       "traceback": [
        "\u001b[1;31m---------------------------------------------------------------------------\u001b[0m\n\u001b[1;31mSympifyError\u001b[0m                              Traceback (most recent call last)",
        "\u001b[1;32m<ipython-input-25-113a14de44d4>\u001b[0m in \u001b[0;36m<module>\u001b[1;34m()\u001b[0m\n\u001b[0;32m      1\u001b[0m \u001b[1;32mfrom\u001b[0m  \u001b[0msympy\u001b[0m \u001b[1;32mimport\u001b[0m \u001b[1;33m*\u001b[0m\u001b[1;33m\u001b[0m\u001b[0m\n\u001b[1;32m----> 2\u001b[1;33m \u001b[0meq\u001b[0m \u001b[1;33m=\u001b[0m \u001b[0mEq\u001b[0m\u001b[1;33m(\u001b[0m\u001b[0mx\u001b[0m\u001b[1;33m**\u001b[0m\u001b[1;36m3\u001b[0m \u001b[1;33m+\u001b[0m \u001b[1;36m2\u001b[0m\u001b[1;33m*\u001b[0m\u001b[0mx\u001b[0m\u001b[1;33m**\u001b[0m\u001b[1;36m2\u001b[0m \u001b[1;33m+\u001b[0m \u001b[1;36m4\u001b[0m\u001b[1;33m*\u001b[0m\u001b[0mx\u001b[0m \u001b[1;33m+\u001b[0m \u001b[1;36m8\u001b[0m\u001b[1;33m,\u001b[0m \u001b[1;36m0\u001b[0m\u001b[1;33m)\u001b[0m\u001b[1;33m\u001b[0m\u001b[0m\n\u001b[0m\u001b[0;32m      3\u001b[0m \u001b[0meq\u001b[0m\u001b[1;33m\u001b[0m\u001b[0m\n\u001b[0;32m      4\u001b[0m \u001b[1;33m\u001b[0m\u001b[0m\n\u001b[0;32m      5\u001b[0m \u001b[0msympy\u001b[0m\u001b[1;33m.\u001b[0m\u001b[0mlatex\u001b[0m\u001b[1;33m(\u001b[0m\u001b[0meq\u001b[0m\u001b[1;33m)\u001b[0m\u001b[1;33m\u001b[0m\u001b[0m\n",
        "\u001b[1;32m/usr/local/lib/python2.7/dist-packages/sympy/core/relational.pyc\u001b[0m in \u001b[0;36mEq\u001b[1;34m(a, b)\u001b[0m\n",
        "\u001b[1;32m/usr/local/lib/python2.7/dist-packages/sympy/core/relational.pyc\u001b[0m in \u001b[0;36m__new__\u001b[1;34m(cls, lhs, rhs, rop, **assumptions)\u001b[0m\n",
        "\u001b[1;32m/usr/local/lib/python2.7/dist-packages/sympy/core/sympify.pyc\u001b[0m in \u001b[0;36m_sympify\u001b[1;34m(a)\u001b[0m\n",
        "\u001b[1;32m/usr/local/lib/python2.7/dist-packages/sympy/core/sympify.pyc\u001b[0m in \u001b[0;36msympify\u001b[1;34m(a, locals, convert_xor, strict, rational)\u001b[0m\n",
        "\u001b[1;31mSympifyError\u001b[0m: SympifyError: array([    8.        ,     8.4254771 ,     8.89795001,     9.42360242,\n          10.00861796,    10.65918031,    11.38147313,    12.18168008,\n          13.06598481,    14.040571  ,    15.11162229,    16.28532236,\n          17.56785486,    18.96540345,    20.48415179,    22.13028355,\n          23.90998239,    25.82943196,    27.89481593,    30.11231796,\n          32.4881217 ,    35.02841083,    37.739369  ,    40.62717987,\n          43.6980271 ,    46.95809436,    50.4135653 ,    54.07062359,\n          57.93545289,    62.01423685,    66.31315914,    70.83840342,\n          75.59615335,    80.59259259,    85.83390481,    91.32627365,\n          97.07588279,   103.08891589,   109.3715566 ,   115.92998859,\n         122.77039552,   129.89896104,   137.32186883,   145.04530253,\n         153.07544582,   161.41848234,   170.08059578,   179.06796977,\n         188.38678799,   198.0432341 ,   208.04349175,   218.39374461,\n         229.10017634,   240.1689706 ,   251.60631104,   263.41838134,\n         275.61136516,   288.19144614,   301.16480796,   314.53763428,\n         328.31610875,   342.50641503,   357.1147368 ,   372.1472577 ,\n         387.6101614 ,   403.50963157,   419.85185185,   436.64300592,\n         453.88927743,   471.59685004,   489.77190742,   508.42063323,\n         527.54921112,   547.16382476,   567.27065781,   587.87589393,\n         608.98571677,   630.60631001,   652.74385731,   675.40454231,\n         698.59454869,   722.32006011,   746.58726022,   771.40233268,\n         796.77146117,   822.70082933,   849.19662084,   876.26501934,\n         903.9122085 ,   932.14437199,   960.96769346,   990.38835658,\n        1020.412545  ,  1051.04644239,  1082.2962324 ,  1114.1680987 ,\n        1146.66822495,  1179.80279481,  1213.57799194,  1248.        ])"
       ]
      }
     ],
     "prompt_number": 25
    },
    {
     "cell_type": "code",
     "collapsed": false,
     "input": [
      "solve(eq, x)"
     ],
     "language": "python",
     "metadata": {
      "internals": {},
      "slideshow": {
       "slide_type": "-"
      }
     },
     "outputs": [
      {
       "latex": [
        "$$\\begin{bmatrix}-2, & - 2 i, & 2 i\\end{bmatrix}$$"
       ],
       "metadata": {},
       "output_type": "pyout",
       "png": "[encoded data removed]",
       "prompt_number": 49,
       "text": [
        "[-2, -2\u22c5\u2148, 2\u22c5\u2148]"
       ]
      }
     ],
     "prompt_number": 49
    },
    {
     "cell_type": "code",
     "collapsed": false,
     "input": [
      "myFunc = cos(x**2)**2 / (1+x); myFunc"
     ],
     "language": "python",
     "metadata": {
      "internals": {
       "slide_helper": "subslide_end"
      },
      "slide_helper": "subslide_end",
      "slideshow": {
       "slide_type": "-"
      }
     },
     "outputs": [
      {
       "latex": [
        "$$\\frac{\\cos^{2}{\\left (x^{2} \\right )}}{x + 1}$$"
       ],
       "metadata": {},
       "output_type": "pyout",
       "png": "[encoded data removed]",
       "prompt_number": 50,
       "text": [
        "   2\u239b 2\u239e\n",
        "cos \u239dx \u23a0\n",
        "\u2500\u2500\u2500\u2500\u2500\u2500\u2500\u2500\n",
        " x + 1  "
       ]
      }
     ],
     "prompt_number": 50
    },
    {
     "cell_type": "code",
     "collapsed": false,
     "input": [
      "diff(myFunc, x)"
     ],
     "language": "python",
     "metadata": {
      "internals": {
       "slide_helper": "subslide_end",
       "slide_type": "subslide"
      },
      "slide_helper": "subslide_end",
      "slideshow": {
       "slide_type": "subslide"
      }
     },
     "outputs": [
      {
       "latex": [
        "$$- \\frac{4 x \\cos{\\left (x^{2} \\right )}}{x + 1} \\sin{\\left (x^{2} \\right )} - \\frac{\\cos^{2}{\\left (x^{2} \\right )}}{\\left(x + 1\\right)^{2}}$$"
       ],
       "metadata": {},
       "output_type": "pyout",
       "png": "[encoded data removed]",
       "prompt_number": 51,
       "text": [
        "         \u239b 2\u239e    \u239b 2\u239e      2\u239b 2\u239e\n",
        "  4\u22c5x\u22c5sin\u239dx \u23a0\u22c5cos\u239dx \u23a0   cos \u239dx \u23a0\n",
        "- \u2500\u2500\u2500\u2500\u2500\u2500\u2500\u2500\u2500\u2500\u2500\u2500\u2500\u2500\u2500\u2500\u2500\u2500\u2500 - \u2500\u2500\u2500\u2500\u2500\u2500\u2500\u2500\n",
        "         x + 1                 2\n",
        "                        (x + 1) "
       ]
      }
     ],
     "prompt_number": 51
    },
    {
     "cell_type": "code",
     "collapsed": false,
     "input": [
      "eqn = Eq(Derivative(f(x),x,x) + 9*f(x), 1)\n",
      "display(eqn)\n",
      "dsolve(eqn, f(x))"
     ],
     "language": "python",
     "metadata": {
      "internals": {
       "slide_helper": "subslide_end",
       "slide_type": "subslide"
      },
      "slide_helper": "subslide_end",
      "slideshow": {
       "slide_type": "subslide"
      }
     },
     "outputs": [
      {
       "latex": [
        "$$9 f{\\left (x \\right )} + \\frac{d^{2}}{d x^{2}}  f{\\left (x \\right )} = 1$$"
       ],
       "metadata": {},
       "output_type": "display_data",
       "png": "[encoded data removed]",
       "text": [
        "           2          \n",
        "          d           \n",
        "9\u22c5f(x) + \u2500\u2500\u2500(f(x)) = 1\n",
        "           2          \n",
        "         dx           "
       ]
      },
      {
       "latex": [
        "$$f{\\left (x \\right )} = C_{1} \\sin{\\left (3 x \\right )} + C_{2} \\cos{\\left (3 x \\right )} + \\frac{1}{9}$$"
       ],
       "metadata": {},
       "output_type": "pyout",
       "png": "[encoded data removed]",
       "prompt_number": 52,
       "text": [
        "f(x) = C\u2081\u22c5sin(3\u22c5x) + C\u2082\u22c5cos(3\u22c5x) + 1/9"
       ]
      }
     ],
     "prompt_number": 52
    },
    {
     "cell_type": "markdown",
     "metadata": {
      "internals": {
       "slide_type": "subslide"
      },
      "slideshow": {
       "slide_type": "subslide"
      }
     },
     "source": [
      "## \u05e4\u05d5\u05e0\u05e7\u05e6\u05d9\u05d5\u05ea \u05de\u05d9\u05d5\u05d7\u05d3\u05d5\u05ea"
     ]
    },
    {
     "cell_type": "markdown",
     "metadata": {
      "internals": {},
      "slideshow": {
       "slide_type": "-"
      }
     },
     "source": [
      "\u05d0\u05e4\u05e9\u05e8 \u05dc\u05e9\u05d7\u05e7 \u05d2\u05dd \u05e2\u05dd \u05d3\u05d1\u05e8\u05d9\u05dd \u05d9\u05d5\u05ea\u05e8 \u05e7\u05d5\u05d5\u05e0\u05d8\u05d9\u05d9\u05dd, \u05dc\u05de\u05e9\u05dc, \u05e4\u05d5\u05e0\u05e7\u05e6\u05d9\u05d5\u05ea \u05d2\u05dc \u05e9\u05dc \u05d0\u05d8\u05d5\u05dd \u05de\u05d9\u05de\u05df. "
     ]
    },
    {
     "cell_type": "code",
     "collapsed": false,
     "input": [
      "from sympy import Eq, Integral, oo, pprint, symbols\n",
      "from sympy.physics.hydrogen import R_nl\n",
      "\n",
      "\n",
      "print(\"Hydrogen radial wavefunctions:\")\n",
      "a, r = symbols(\"a r\")\n",
      "print(\"R_{21}:\")\n",
      "R_nl(2, 1, a, r)"
     ],
     "language": "python",
     "metadata": {
      "internals": {},
      "slideshow": {
       "slide_type": "-"
      }
     },
     "outputs": [
      {
       "output_type": "stream",
       "stream": "stdout",
       "text": [
        "Hydrogen radial wavefunctions:\n",
        "R_{21}:\n"
       ]
      },
      {
       "latex": [
        "$$\\frac{a r}{12} \\sqrt{6} \\sqrt{r^{3}} e^{- \\frac{a r}{2}}$$"
       ],
       "metadata": {},
       "output_type": "pyout",
       "png": "[encoded data removed]",
       "prompt_number": 58,
       "text": [
        "                   -a\u22c5r \n",
        "             ____  \u2500\u2500\u2500\u2500\u2500\n",
        "  ___       \u2571  3     2  \n",
        "\u2572\u2571 6 \u22c5a\u22c5r\u22c5\u2572\u2571  r  \u22c5\u212f     \n",
        "\u2500\u2500\u2500\u2500\u2500\u2500\u2500\u2500\u2500\u2500\u2500\u2500\u2500\u2500\u2500\u2500\u2500\u2500\u2500\u2500\u2500\u2500\u2500\u2500\n",
        "           12           "
       ]
      }
     ],
     "prompt_number": 58
    },
    {
     "cell_type": "code",
     "collapsed": false,
     "input": [
      "print(\"Normalization:\")\n",
      "\n",
      "i = Integral(R_nl(2, 1, 1, r)**2 * r**2, (r, 0, oo))\n",
      "Eq(i, i.doit())"
     ],
     "language": "python",
     "metadata": {
      "internals": {
       "slide_helper": "subslide_end"
      },
      "slide_helper": "subslide_end",
      "slideshow": {
       "slide_type": "-"
      }
     },
     "outputs": [
      {
       "output_type": "stream",
       "stream": "stdout",
       "text": [
        "Normalization:\n"
       ]
      },
      {
       "latex": [
        "$$\\int_{0}^{\\infty} \\frac{r^{7}}{24} e^{- r}\\, dr = 210$$"
       ],
       "metadata": {},
       "output_type": "pyout",
       "png": "[encoded data removed]",
       "prompt_number": 59,
       "text": [
        "\u221e                \n",
        "\u2320                \n",
        "\u23ae  7  -r         \n",
        "\u23ae r \u22c5\u212f           \n",
        "\u23ae \u2500\u2500\u2500\u2500\u2500\u2500 dr = 210\n",
        "\u23ae   24           \n",
        "\u2321                \n",
        "0                "
       ]
      }
     ],
     "prompt_number": 59
    },
    {
     "cell_type": "markdown",
     "metadata": {
      "internals": {
       "slide_type": "subslide"
      },
      "slideshow": {
       "slide_type": "subslide"
      }
     },
     "source": [
      "## \u05de\u05de\u05e9 \u05e7\u05d5\u05d5\u05e0\u05d8\u05d9\u05dd - \u05ea\u05e0\u05e2 \u05d6\u05d5\u05d5\u05d9\u05ea\u05d9"
     ]
    },
    {
     "cell_type": "code",
     "collapsed": false,
     "input": [
      "from sympy.physics.quantum.spin import Jminus, Jx, Jz, J2, J2Op, JzKet, JzKetCoupled, Rotation, WignerD, couple, uncouple\n",
      "from sympy.physics.quantum import Dagger, hbar, qapply, represent, TensorProduct\n",
      "from sympy import factor, pi, S, Sum, symbols"
     ],
     "language": "python",
     "metadata": {
      "internals": {
       "slide_helper": "subslide_end"
      },
      "slide_helper": "subslide_end",
      "slideshow": {
       "slide_type": "-"
      }
     },
     "outputs": [],
     "prompt_number": 54
    },
    {
     "cell_type": "code",
     "collapsed": false,
     "input": [
      "jz = JzKet(1,1); jz"
     ],
     "language": "python",
     "metadata": {
      "internals": {
       "slide_type": "subslide"
      },
      "slideshow": {
       "slide_type": "subslide"
      }
     },
     "outputs": [
      {
       "latex": [
        "$${\\left|1,1\\right\\rangle }$$"
       ],
       "metadata": {},
       "output_type": "pyout",
       "png": "[encoded data removed]",
       "prompt_number": 55,
       "text": [
        "\u27581,1\u27e9"
       ]
      }
     ],
     "prompt_number": 55
    },
    {
     "cell_type": "code",
     "collapsed": false,
     "input": [
      "represent(jz)"
     ],
     "language": "python",
     "metadata": {
      "internals": {},
      "slideshow": {
       "slide_type": "-"
      }
     },
     "outputs": [
      {
       "latex": [
        "$$\\left[\\begin{matrix}1\\\\0\\\\0\\end{matrix}\\right]$$"
       ],
       "metadata": {},
       "output_type": "pyout",
       "png": "[encoded data removed]",
       "prompt_number": 56,
       "text": [
        "\u23a11\u23a4\n",
        "\u23a2 \u23a5\n",
        "\u23a20\u23a5\n",
        "\u23a2 \u23a5\n",
        "\u23a30\u23a6"
       ]
      }
     ],
     "prompt_number": 56
    },
    {
     "cell_type": "code",
     "collapsed": false,
     "input": [
      "ip = Dagger(jz) * jz; ip"
     ],
     "language": "python",
     "metadata": {
      "internals": {},
      "slideshow": {
       "slide_type": "fragment"
      }
     },
     "outputs": [
      {
       "latex": [
        "$$\\left\\langle 1,1 \\right. {\\left|1,1\\right\\rangle }$$"
       ],
       "metadata": {},
       "output_type": "pyout",
       "png": "[encoded data removed]",
       "prompt_number": 24,
       "text": [
        "\u27e81,1\u27581,1\u27e9"
       ]
      }
     ],
     "prompt_number": 24
    },
    {
     "cell_type": "code",
     "collapsed": false,
     "input": [
      "ip.doit()"
     ],
     "language": "python",
     "metadata": {
      "internals": {
       "slide_helper": "subslide_end"
      },
      "slide_helper": "subslide_end",
      "slideshow": {
       "slide_type": "fragment"
      }
     },
     "outputs": [
      {
       "latex": [
        "$$1$$"
       ],
       "metadata": {},
       "output_type": "pyout",
       "png": "[encoded data removed]",
       "prompt_number": 25,
       "text": [
        "1"
       ]
      }
     ],
     "prompt_number": 25
    },
    {
     "cell_type": "code",
     "collapsed": false,
     "input": [
      "Jz * jz"
     ],
     "language": "python",
     "metadata": {
      "internals": {
       "slide_type": "subslide"
      },
      "slideshow": {
       "slide_type": "subslide"
      }
     },
     "outputs": [
      {
       "latex": [
        "$$J_z {\\left|1,1\\right\\rangle }$$"
       ],
       "metadata": {},
       "output_type": "pyout",
       "png": "[encoded data removed]",
       "prompt_number": 26,
       "text": [
        "J \u22c5\u27581,1\u27e9\n",
        " z      "
       ]
      }
     ],
     "prompt_number": 26
    },
    {
     "cell_type": "code",
     "collapsed": false,
     "input": [
      "qapply(Jz * jz)"
     ],
     "language": "python",
     "metadata": {
      "internals": {
       "slide_helper": "subslide_end"
      },
      "slide_helper": "subslide_end",
      "slideshow": {
       "slide_type": "-"
      }
     },
     "outputs": [
      {
       "latex": [
        "$$\\hbar {\\left|1,1\\right\\rangle }$$"
       ],
       "metadata": {},
       "output_type": "pyout",
       "png": "[encoded data removed]",
       "prompt_number": 27,
       "text": [
        "\u210f\u22c5\u27581,1\u27e9"
       ]
      }
     ],
     "prompt_number": 27
    },
    {
     "cell_type": "code",
     "collapsed": false,
     "input": [
      "Jminus * jz"
     ],
     "language": "python",
     "metadata": {
      "internals": {
       "slide_type": "subslide"
      },
      "slideshow": {
       "slide_type": "subslide"
      }
     },
     "outputs": [
      {
       "latex": [
        "$$J_- {\\left|1,1\\right\\rangle }$$"
       ],
       "metadata": {},
       "output_type": "pyout",
       "png": "[encoded data removed]",
       "prompt_number": 28,
       "text": [
        "J \u22c5\u27581,1\u27e9\n",
        " -      "
       ]
      }
     ],
     "prompt_number": 28
    },
    {
     "cell_type": "code",
     "collapsed": false,
     "input": [
      "qapply(Jminus * jz)"
     ],
     "language": "python",
     "metadata": {
      "internals": {
       "slide_helper": "subslide_end"
      },
      "slide_helper": "subslide_end",
      "slideshow": {
       "slide_type": "-"
      }
     },
     "outputs": [
      {
       "latex": [
        "$$\\sqrt{2} \\hbar {\\left|1,0\\right\\rangle }$$"
       ],
       "metadata": {},
       "output_type": "pyout",
       "png": "[encoded data removed]",
       "prompt_number": 29,
       "text": [
        "  ___        \n",
        "\u2572\u2571 2 \u22c5\u210f\u22c5\u27581,0\u27e9"
       ]
      }
     ],
     "prompt_number": 29
    },
    {
     "cell_type": "code",
     "collapsed": false,
     "input": [
      "j, m = symbols('j m')\n",
      "jz = JzKet(j, m); jz"
     ],
     "language": "python",
     "metadata": {
      "internals": {
       "slide_type": "subslide"
      },
      "slideshow": {
       "slide_type": "subslide"
      }
     },
     "outputs": [
      {
       "latex": [
        "$${\\left|j,m\\right\\rangle }$$"
       ],
       "metadata": {},
       "output_type": "pyout",
       "png": "[encoded data removed]",
       "prompt_number": 30,
       "text": [
        "\u2758j,m\u27e9"
       ]
      }
     ],
     "prompt_number": 30
    },
    {
     "cell_type": "code",
     "collapsed": false,
     "input": [
      "J2 * jz"
     ],
     "language": "python",
     "metadata": {
      "internals": {},
      "slideshow": {
       "slide_type": "-"
      }
     },
     "outputs": [
      {
       "latex": [
        "$$J^2 {\\left|j,m\\right\\rangle }$$"
       ],
       "metadata": {},
       "output_type": "pyout",
       "png": "[encoded data removed]",
       "prompt_number": 31,
       "text": [
        " 2      \n",
        "J \u22c5\u2758j,m\u27e9"
       ]
      }
     ],
     "prompt_number": 31
    },
    {
     "cell_type": "code",
     "collapsed": false,
     "input": [
      "qapply(J2 * jz)"
     ],
     "language": "python",
     "metadata": {
      "internals": {
       "slide_helper": "subslide_end"
      },
      "slide_helper": "slide_end",
      "slideshow": {
       "slide_type": "-"
      }
     },
     "outputs": [
      {
       "latex": [
        "$$\\hbar^{2} j^{2} {\\left|j,m\\right\\rangle } + \\hbar^{2} j {\\left|j,m\\right\\rangle }$$"
       ],
       "metadata": {},
       "output_type": "pyout",
       "png": "[encoded data removed]",
       "prompt_number": 32,
       "text": [
        " 2  2          2        \n",
        "\u210f \u22c5j \u22c5\u2758j,m\u27e9 + \u210f \u22c5j\u22c5\u2758j,m\u27e9"
       ]
      }
     ],
     "prompt_number": 32
    }
   ],
   "metadata": {}
  }
 ]
}