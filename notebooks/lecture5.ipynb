{
 "metadata": {
  "name": ""
 },
 "nbformat": 3,
 "nbformat_minor": 0,
 "worksheets": [
  {
   "cells": [
    {
     "cell_type": "markdown",
     "metadata": {
      "internals": {
       "slide_helper": "subslide_end",
       "slide_type": "subslide"
      },
      "slide_helper": "slide_end",
      "slideshow": {
       "slide_type": "slide"
      }
     },
     "source": [
      "# \u05e1\u05d3\u05e0\u05d0\u05ea \u05e4\u05d9\u05d9\u05ea\u05d5\u05df \u05dc\u05e4\u05d9\u05d6\u05d9\u05e7\u05d0\u05d9\u05dd\n",
      "\n",
      "\n",
      "## \u05e1\u05e7\u05e8\u05d9\u05e4\u05d8\u05d9\u05dd, \u05de\u05d5\u05d3\u05d5\u05dc\u05d9\u05dd, \u05e7\u05d1\u05e6\u05d9\u05dd \u05d5\u05e9\u05d2\u05d9\u05d0\u05d5\u05ea\n",
      "\n",
      "\u05e2\u05d1\u05d5\u05d3\u05d4 \u05e2\u05dd \u05e7\u05d1\u05e6\u05d9 \u05e7\u05d5\u05d3 \u05e9\u05d5\u05e0\u05d9\u05dd\n",
      "    \n",
      "\n",
      "\u05d4\u05e4\u05e7\u05d5\u05dc\u05d8\u05d4 \u05dc\u05e4\u05d9\u05d6\u05d9\u05e7\u05d4, \u05d4\u05d8\u05db\u05e0\u05d9\u05d5\u05df.\n",
      "\u05d7\u05d5\u05e8\u05e3 2013\n",
      "\n",
      "\u05de\u05e8\u05e6\u05d4: \u05e8\u05d5\u05e0\u05df \u05d0\u05d1\u05e8\u05d1\u05e0\u05d0\u05dc\n"
     ]
    },
    {
     "cell_type": "markdown",
     "metadata": {
      "internals": {
       "slide_type": "subslide"
      },
      "slideshow": {
       "slide_type": "slide"
      }
     },
     "source": [
      "\u05e2\u05d3 \u05db\u05d4, \u05e2\u05d1\u05d3\u05e0\u05d5 \u05d9\u05e9\u05d9\u05e8\u05d5\u05ea \u05de\u05d5\u05dc \u05d4\u05de\u05e4\u05e8\u05e9: \u05d4\u05e7\u05dc\u05d3\u05e0\u05d5 \u05e4\u05e7\u05d5\u05d3\u05d5\u05ea \u05d5\u05d4\u05dd \u05d1\u05d5\u05e6\u05e2\u05d5 \u05de\u05d9\u05d9\u05d3\u05d9\u05ea. \n",
      "\n",
      "\u05d6\u05d4 \u05e0\u05d7\u05de\u05d3 \u05dc\u05e4\u05e2\u05d5\u05dc\u05d5\u05ea \u05e7\u05d8\u05e0\u05d5\u05ea \u05d5\u05e4\u05e2\u05d5\u05dc\u05d5\u05ea \u05d1\u05d9\u05e0\u05d9\u05d9\u05dd, \u05d0\u05d1\u05dc \u05d6\u05d4 \u05e7\u05e6\u05ea \u05de\u05d8\u05d5\u05e4\u05e9 \u05dc\u05e2\u05d1\u05d5\u05d3 \u05db\u05db\u05d4 \u05db\u05dc \u05d4\u05d9\u05d5\u05dd ."
     ]
    },
    {
     "cell_type": "markdown",
     "metadata": {
      "internals": {
       "slide_helper": "subslide_end"
      },
      "slide_helper": "subslide_end",
      "slideshow": {
       "slide_type": "-"
      }
     },
     "source": [
      "\u05de\u05d5\u05de\u05dc\u05e5 \u05dc\u05e2\u05d1\u05d5\u05d3 \u05e2\u05dd \u05e2\u05d5\u05e8\u05da \u05d8\u05e7\u05e1\u05d8 \u05e9\"\u05de\u05db\u05d9\u05e8\" \u05d0\u05ea \u05e4\u05d9\u05d9\u05ea\u05d5\u05df: \u05d1\u05e4\u05e8\u05d8, \u05db\u05d6\u05d4 \u05e9\u05e6\u05d5\u05d1\u05e2 \u05de\u05d9\u05dc\u05d9\u05dd \u05e9\u05de\u05d5\u05e8\u05d5\u05ea \u05d1\u05e4\u05d9\u05d9\u05ea\u05d5\u05df, \u05db\u05de\u05d5 \u05dc\u05de\u05e9\u05dc \u05db\u05d0\u05df:\n",
      "\n",
      "     if 2==3:\n",
      "         pass\n",
      "    \n",
      "\u05e8\u05e6\u05d5\u05d9 \u05d2\u05dd \u05db\u05d6\u05d4 \u05e9\u05d9\u05d5\u05d3\u05e2 \u05dc\u05d9\u05d9\u05e6\u05e8 4 \u05e8\u05d5\u05d5\u05d7\u05d9\u05dd \u05db\u05e9\u05dc\u05d5\u05d7\u05e6\u05d9\u05dd \u05e2\u05dc \u05d8\u05d0\u05d1, \u05d5\u05d9\u05d5\u05ea\u05e8 \u05d8\u05d5\u05d1: \u05db\u05d6\u05d4 \u05e9\u05e2\u05d5\u05e9\u05d4 \u05d8\u05d0\u05d1 \u05dc\u05d1\u05d3 \u05db\u05d0\u05e9\u05e8 \u05de\u05e1\u05d9\u05d9\u05de\u05d9\u05dd \u05e9\u05d5\u05e8\u05ea \u05e7\u05d5\u05d3 \u05d1\u05e0\u05e7\u05d5\u05d3\u05d5\u05ea\u05d9\u05d9\u05dd."
     ]
    },
    {
     "cell_type": "markdown",
     "metadata": {
      "internals": {
       "slide_helper": "subslide_end",
       "slide_type": "subslide"
      },
      "slide_helper": "slide_end",
      "slideshow": {
       "slide_type": "subslide"
      }
     },
     "source": [
      "\u05d1\u05db\u05dc \u05de\u05e7\u05e8\u05d4, \u05d9\u05e9 \u05dc\u05d4\u05e9\u05ea\u05de\u05e9 \u05d1\u05ea\u05d5\u05db\u05e0\u05d4 \u05e9\u05d9\u05d5\u05e6\u05e8\u05ea \u05e7\u05d5\u05d1\u05e5 \u05d8\u05e7\u05e1\u05d8 \u05e4\u05e9\u05d5\u05d8. \u05e4\u05e0\u05e7\u05e1 \u05e8\u05e9\u05d9\u05de\u05d5\u05ea (notepad) \u05d9\u05e2\u05e9\u05d4 \u05d0\u05ea \u05d4\u05e2\u05d1\u05d5\u05d3\u05d4, \u05d2\u05dd \u05d0\u05dd \u05dc\u05d0 \u05d8\u05d5\u05d1 \u05d1\u05de\u05d9\u05d5\u05d7\u05d3. Word \u05d0\u05e4\u05d9\u05dc\u05d5 \u05dc\u05d0 \u05d9\u05e0\u05e1\u05d4.\n",
      "\n",
      "\u05d0\u05e4\u05e9\u05e8 \u05dc\u05d4\u05e9\u05ea\u05de\u05e9 \u05d1-scite \u05e9\u05de\u05d2\u05d9\u05e2 \u05d9\u05d7\u05d3 \u05e2\u05dd \u05d4\u05d4\u05ea\u05e7\u05e0\u05d4 \u05e9\u05dc winPython, \u05d1-notepad++ \u05d0\u05d5 \u05d1\u05d0\u05d7\u05d3 \u05de\u05e2\u05e9\u05e8\u05d5\u05ea \u05e2\u05d5\u05e8\u05db\u05d9\u05dd \u05d8\u05e7\u05e1\u05d8 \u05d0\u05d7\u05e8\u05d9\u05dd. "
     ]
    },
    {
     "cell_type": "markdown",
     "metadata": {
      "internals": {
       "slide_type": "subslide"
      },
      "slideshow": {
       "slide_type": "slide"
      }
     },
     "source": [
      "# \u05e1\u05e7\u05e8\u05d9\u05e4\u05d8\u05d9\u05dd"
     ]
    },
    {
     "cell_type": "markdown",
     "metadata": {
      "internals": {},
      "slideshow": {
       "slide_type": "-"
      }
     },
     "source": [
      "\u05e1\u05e7\u05e8\u05d9\u05e4\u05d8 \u05d4\u05d5\u05d0 \u05e7\u05d5\u05d1\u05e5 \u05d4\u05de\u05db\u05d9\u05dc \u05e8\u05e6\u05e3 \u05e9\u05dc \u05e4\u05e7\u05d5\u05d3\u05d5\u05ea \u05d1\u05d6\u05d5 \u05d0\u05d7\u05e8 \u05d6\u05d5, \u05e9\u05de\u05d1\u05d5\u05e6\u05e2\u05d5\u05ea \u05e2\u05dc \u05d9\u05d3\u05d9 \u05d4\u05de\u05e4\u05e8\u05e9. \u05e1\u05e7\u05e8\u05d9\u05e4\u05d8\u05d9 \u05e4\u05d9\u05d9\u05ea\u05d5\u05df \u05d4\u05dd \u05e7\u05d5\u05d1\u05e6\u05d9 \u05d8\u05e7\u05e1\u05d8 \u05e4\u05e9\u05d5\u05d8\u05d9\u05dd, \u05e2\u05dd \u05e1\u05d9\u05d9\u05de\u05d5\u05ea .py\n"
     ]
    },
    {
     "cell_type": "code",
     "collapsed": false,
     "input": [
      "%load ../example_code/example1.py"
     ],
     "language": "python",
     "metadata": {
      "internals": {},
      "slideshow": {
       "slide_type": "-"
      }
     },
     "outputs": [],
     "prompt_number": 4
    },
    {
     "cell_type": "code",
     "collapsed": false,
     "input": [
      "message = \"Some string\"\n",
      "for word in message.split():\n",
      "    print word\n"
     ],
     "language": "python",
     "metadata": {},
     "outputs": [
      {
       "output_type": "stream",
       "stream": "stdout",
       "text": [
        "Some\n",
        "string\n"
       ]
      }
     ],
     "prompt_number": 8
    },
    {
     "cell_type": "code",
     "collapsed": false,
     "input": [
      "message = \"Hello how are you?\"\n",
      "for word in message.split():\n",
      "    print word\n"
     ],
     "language": "python",
     "metadata": {
      "internals": {
       "slide_helper": "subslide_end"
      },
      "slide_helper": "subslide_end",
      "slideshow": {
       "slide_type": "-"
      }
     },
     "outputs": []
    },
    {
     "cell_type": "markdown",
     "metadata": {
      "internals": {
       "slide_type": "subslide"
      },
      "slideshow": {
       "slide_type": "subslide"
      }
     },
     "source": [
      "\u05e7\u05d5\u05d1\u05e5 \u05d6\u05d4 \u05e0\u05d9\u05ea\u05df \u05dc\u05d4\u05e8\u05d9\u05e5 \u05de\u05ea\u05d5\u05da ipython \u05d1\u05d0\u05de\u05e6\u05e2\u05d5\u05ea\n"
     ]
    },
    {
     "cell_type": "code",
     "collapsed": false,
     "input": [
      "%run  ../example_code/example1.py"
     ],
     "language": "python",
     "metadata": {
      "internals": {},
      "slideshow": {
       "slide_type": "-"
      }
     },
     "outputs": [
      {
       "output_type": "stream",
       "stream": "stdout",
       "text": [
        "Hello\n",
        "how\n",
        "are\n",
        "you?\n"
       ]
      }
     ],
     "prompt_number": 9
    },
    {
     "cell_type": "code",
     "collapsed": false,
     "input": [
      "message"
     ],
     "language": "python",
     "metadata": {
      "internals": {},
      "slideshow": {
       "slide_type": "-"
      }
     },
     "outputs": [
      {
       "metadata": {},
       "output_type": "pyout",
       "prompt_number": 10,
       "text": [
        "'Hello how are you?'"
       ]
      }
     ],
     "prompt_number": 10
    },
    {
     "cell_type": "markdown",
     "metadata": {
      "internals": {
       "slide_helper": "subslide_end"
      },
      "slide_helper": "subslide_end",
      "slideshow": {
       "slide_type": "-"
      }
     },
     "source": [
      "\u05dc\u05d0\u05d7\u05e8 \u05e9\u05d4\u05e7\u05d5\u05d1\u05e5 \u05d4\u05d5\u05e8\u05e5, \u05d0\u05e4\u05e9\u05e8 \u05dc\u05d2\u05e9\u05ea \u05dc\u05de\u05e9\u05ea\u05e0\u05d9\u05dd (\u05d4\u05d2\u05dc\u05d5\u05d1\u05d0\u05dc\u05d9\u05d9\u05dd, \u05d0\u05dc\u05d5 \u05e9\u05dc\u05d0 \u05e0\u05de\u05e6\u05d0\u05d9\u05dd \u05d1\u05e9\u05d5\u05dd \u05e4\u05d5\u05e0\u05e7\u05e6\u05d9\u05d4) \u05de\u05ea\u05d5\u05da \u05d4\u05e1\u05d1\u05d9\u05d1\u05d4."
     ]
    },
    {
     "cell_type": "markdown",
     "metadata": {
      "internals": {
       "slide_type": "subslide"
      },
      "slideshow": {
       "slide_type": "subslide"
      }
     },
     "source": [
      "\u05e0\u05d9\u05ea\u05df \u05dc\u05d4\u05e8\u05d9\u05e5 \u05e1\u05e7\u05e8\u05d9\u05e4\u05d8 \u05db\"\u05ea\u05d5\u05db\u05e0\u05d4 \u05e2\u05e6\u05de\u05d0\u05d9\u05ea\" \u05d9\u05e9\u05d9\u05e8\u05d5\u05ea \u05d1\u05d0\u05de\u05e6\u05e2\u05d5\u05ea \u05d4\u05de\u05e4\u05e8\u05e9,"
     ]
    },
    {
     "cell_type": "markdown",
     "metadata": {
      "internals": {
       "slide_helper": "subslide_end"
      },
      "slide_helper": "slide_end",
      "slideshow": {
       "slide_type": "-"
      }
     },
     "source": [
      "     $ python example1.py\n",
      "     Hello\n",
      "     how\n",
      "     are\n",
      "     you?"
     ]
    },
    {
     "cell_type": "markdown",
     "metadata": {
      "internals": {
       "slide_type": "subslide"
      },
      "slideshow": {
       "slide_type": "slide"
      }
     },
     "source": [
      "# \u05d9\u05d1\u05d5\u05d0 \u05d5\u05e9\u05d9\u05de\u05d5\u05e9 \u05d1\u05de\u05d5\u05d3\u05d5\u05dc\u05d9\u05dd"
     ]
    },
    {
     "cell_type": "markdown",
     "metadata": {
      "internals": {
       "slide_helper": "subslide_end"
      },
      "slide_helper": "subslide_end",
      "slideshow": {
       "slide_type": "-"
      }
     },
     "source": [
      "\u05e8\u05e7 \u05d7\u05dc\u05e7 \u05de\u05d4\"\u05e4\u05e7\u05d5\u05d3\u05d5\u05ea\" \u05d5\u05d4\u05e4\u05d5\u05e0\u05e7\u05e6\u05d9\u05d5\u05ea \u05e9\u05dc \u05e4\u05d9\u05d9\u05ea\u05d5\u05df \u05d6\u05de\u05d9\u05e0\u05d5\u05ea \u05de\u05e8\u05d2\u05e2 \u05e9\u05e4\u05d7\u05e0\u05d5 \u05d0\u05ea \u05d4\u05de\u05e4\u05e8\u05e9 (\u05d0\u05d5, \u05de\u05e8\u05d2\u05e2 \u05e9\u05d4\u05ea\u05d7\u05dc\u05e0\u05d5 \u05dc\u05db\u05ea\u05d5\u05d1 \u05e7\u05d5\u05d3). \u05d7\u05dc\u05e7 \u05de\u05d4\u05e4\u05e7\u05d5\u05d3\u05d5\u05ea \u05d5\u05d4\u05e4\u05d5\u05e0\u05e7\u05e6\u05d9\u05d5\u05ea \u05e0\u05de\u05e6\u05d0\u05d5\u05ea \u05d1\u05ea\u05d5\u05da \"\u05de\u05d5\u05d3\u05d5\u05dc\u05d9\u05dd\" \u05d0\u05d5\u05ea\u05dd \u05d9\u05e9 \u05dc\u05d9\u05d9\u05d1\u05d0 \u05d1\u05de\u05e4\u05d5\u05e8\u05e9."
     ]
    },
    {
     "cell_type": "code",
     "collapsed": false,
     "input": [
      "import antigravity"
     ],
     "language": "python",
     "metadata": {
      "internals": {
       "slide_type": "subslide"
      },
      "slideshow": {
       "slide_type": "subslide"
      }
     },
     "outputs": [],
     "prompt_number": 7
    },
    {
     "cell_type": "markdown",
     "metadata": {
      "internals": {
       "slide_helper": "subslide_end"
      },
      "slide_helper": "subslide_end",
      "slideshow": {
       "slide_type": "fragment"
      }
     },
     "source": [
      "<center>![xkcd](http://imgs.xkcd.com/comics/python.png)</center>"
     ]
    },
    {
     "cell_type": "markdown",
     "metadata": {
      "internals": {
       "slide_type": "subslide"
      },
      "slideshow": {
       "slide_type": "subslide"
      }
     },
     "source": [
      "\u05d0\u05d7\u05d3 \u05d4\u05de\u05d5\u05d3\u05d5\u05dc\u05d9\u05dd \u05d4\u05e9\u05d9\u05de\u05d5\u05e9\u05d9\u05d9\u05dd \u05d5\u05d4\u05e0\u05e4\u05d5\u05e6\u05d9\u05dd \u05d1\u05e4\u05d9\u05d9\u05ea\u05d5\u05df \u05d4\u05d5\u05d0 \u05d4\u05de\u05d5\u05d3\u05dc \n",
      "os\n",
      "\u05d4\u05de\u05db\u05d9\u05dc \u05e4\u05e7\u05d5\u05d3\u05d5\u05ea \u05e9\u05e7\u05e9\u05d5\u05e8\u05d5\u05ea \u05dc\u05e7\u05d1\u05e6\u05d9\u05dd, \u05dc\u05de\u05d7\u05e9\u05d1 \u05d5\u05dc\u05de\u05e2\u05e8\u05db\u05ea \u05d4\u05d4\u05e4\u05e2\u05dc\u05d4"
     ]
    },
    {
     "cell_type": "code",
     "collapsed": false,
     "input": [
      "import os\n",
      "os"
     ],
     "language": "python",
     "metadata": {
      "internals": {},
      "slideshow": {
       "slide_type": "-"
      }
     },
     "outputs": [
      {
       "metadata": {},
       "output_type": "pyout",
       "prompt_number": 11,
       "text": [
        "<module 'os' from '/usr/lib/python2.7/os.pyc'>"
       ]
      }
     ],
     "prompt_number": 11
    },
    {
     "cell_type": "code",
     "collapsed": false,
     "input": [
      "os.listdir(\"/lib64\")"
     ],
     "language": "python",
     "metadata": {
      "internals": {},
      "slideshow": {
       "slide_type": "-"
      }
     },
     "outputs": [
      {
       "metadata": {},
       "output_type": "pyout",
       "prompt_number": 13,
       "text": [
        "['ld-linux-x86-64.so.2']"
       ]
      }
     ],
     "prompt_number": 13
    },
    {
     "cell_type": "markdown",
     "metadata": {
      "internals": {
       "slide_helper": "subslide_end"
      },
      "slide_helper": "subslide_end",
      "slideshow": {
       "slide_type": "-"
      }
     },
     "source": [
      "\n",
      "\u05dc\u05de\u05e9\u05dc, \u05d4\u05e4\u05d5\u05e0\u05e7\u05e6\u05d9\u05d4 \n",
      "listdir\n",
      "\u05e9\u05de\u05e7\u05d1\u05dc\u05ea \u05e9\u05dd \u05e9\u05dc \u05e1\u05e4\u05e8\u05d9\u05d4 \u05d5\u05de\u05d7\u05d6\u05d9\u05e8\u05d4 \u05e8\u05e9\u05d9\u05de\u05d4 \u05e9\u05dc \u05e7\u05d1\u05e6\u05d9\u05dd \u05d4\u05e0\u05de\u05e6\u05d0\u05d9\u05dd \u05d1\u05e1\u05e4\u05e8\u05d9\u05d4"
     ]
    },
    {
     "cell_type": "markdown",
     "metadata": {
      "internals": {
       "slide_type": "subslide"
      },
      "slideshow": {
       "slide_type": "subslide"
      }
     },
     "source": [
      "\u05d0\u05e4\u05e9\u05e8 \u05dc\u05d9\u05d9\u05d1\u05d0 \u05d2\u05dd \u05e4\u05e7\u05d5\u05d3\u05d5\u05ea \u05d1\u05d5\u05d3\u05d3\u05d5\u05ea \u05de\u05ea\u05d5\u05da \u05de\u05d5\u05d3\u05d5\u05dc: "
     ]
    },
    {
     "cell_type": "code",
     "collapsed": false,
     "input": [
      " from os import listdir\n",
      "listdir(\".\")"
     ],
     "language": "python",
     "metadata": {
      "internals": {},
      "slideshow": {
       "slide_type": "-"
      }
     },
     "outputs": [
      {
       "metadata": {},
       "output_type": "pyout",
       "prompt_number": 8,
       "text": [
        "['.ipynb_checkpoints',\n",
        " 'lecture1.ipynb',\n",
        " 'lecture2.ipynb',\n",
        " 'lecture4.ipynb',\n",
        " 'Untitled0.ipynb',\n",
        " 'lecture3.ipynb']"
       ]
      }
     ],
     "prompt_number": 8
    },
    {
     "cell_type": "markdown",
     "metadata": {
      "internals": {},
      "slideshow": {
       "slide_type": "-"
      }
     },
     "source": [
      "\u05d5\u05db\u05df \u05dc\u05e9\u05e0\u05d5\u05ea \u05d0\u05ea \u05d4\u05e9\u05dd \u05e9\u05dc \u05de\u05d5\u05d3\u05d5\u05dc\u05d9\u05dd \u05de\u05d9\u05d5\u05d1\u05d0\u05d9\u05dd \u05dc\u05e9\u05dd \u05e7\u05d9\u05e6\u05d5\u05e8, \u05dc\u05de\u05e9\u05dc,"
     ]
    },
    {
     "cell_type": "code",
     "collapsed": false,
     "input": [
      "import numpy as np\n",
      "my_new_zeros = np.zeros\n",
      "my_new_zeros(5)"
     ],
     "language": "python",
     "metadata": {
      "internals": {
       "slide_helper": "subslide_end"
      },
      "slide_helper": "subslide_end",
      "slideshow": {
       "slide_type": "-"
      }
     },
     "outputs": [
      {
       "metadata": {},
       "output_type": "pyout",
       "prompt_number": 15,
       "text": [
        "array([ 0.,  0.,  0.,  0.,  0.])"
       ]
      }
     ],
     "prompt_number": 15
    },
    {
     "cell_type": "markdown",
     "metadata": {
      "internals": {
       "slide_type": "subslide"
      },
      "slideshow": {
       "slide_type": "subslide"
      }
     },
     "source": [
      "**\u05d4\u05e2\u05e8\u05d4** \u05d0\u05e4\u05e9\u05e8 \u05dc\u05d9\u05d1\u05d0 \u05d0\u05ea \u05db\u05dc \u05d4\u05e4\u05d5\u05e0\u05e7\u05e6\u05d9\u05d5\u05ea \u05de\u05ea\u05d5\u05da \u05de\u05d5\u05d3\u05d5\u05dc \u05de\u05e1\u05d5\u05d9\u05d9\u05dd \u05d1\u05d0\u05de\u05e6\u05e2\u05d5\u05ea *, \u05dc\u05de\u05e9\u05dc,"
     ]
    },
    {
     "cell_type": "code",
     "collapsed": false,
     "input": [
      "from os import *"
     ],
     "language": "python",
     "metadata": {
      "internals": {},
      "slideshow": {
       "slide_type": "-"
      }
     },
     "outputs": [],
     "prompt_number": 11
    },
    {
     "cell_type": "markdown",
     "metadata": {
      "internals": {
       "slide_helper": "subslide_end"
      },
      "slide_helper": "slide_end",
      "slideshow": {
       "slide_type": "-"
      }
     },
     "source": [
      "\u05d6\u05d4 \u05e0\u05d5\u05d7, \u05d0\u05d1\u05dc \u05e2\u05dc\u05d5\u05dc \u05d2\u05dd \u05dc\u05d9\u05e6\u05d5\u05e8 \u05d1\u05e2\u05d9\u05d5\u05ea, \u05d1\u05e4\u05e8\u05d8, \u05d0\u05dd \u05d9\u05d5\u05d1\u05d0\u05d5 \u05e9\u05e0\u05d9 \u05de\u05d5\u05d3\u05d5\u05dc\u05d9\u05dd \u05d5\u05d1\u05d4\u05dd \u05e4\u05d5\u05e0\u05e7\u05e6\u05d9\u05d5\u05ea \u05e2\u05dd \u05d0\u05d5\u05ea\u05d5 \u05d4\u05e9\u05dd. \u05dc\u05db\u05df, \u05d9\u05e9 \u05dc\u05d4\u05de\u05e0\u05e2 \u05de\u05d6\u05d4."
     ]
    },
    {
     "cell_type": "markdown",
     "metadata": {
      "internals": {
       "slide_type": "subslide"
      },
      "slideshow": {
       "slide_type": "slide"
      }
     },
     "source": [
      "# \u05e2\u05d1\u05d5\u05d3\u05d4 \u05e2\u05dd \u05e7\u05d1\u05e6\u05d9 \u05d8\u05e7\u05e1\u05d8"
     ]
    },
    {
     "cell_type": "markdown",
     "metadata": {
      "internals": {
       "slide_helper": "subslide_end"
      },
      "slide_helper": "subslide_end",
      "slideshow": {
       "slide_type": "-"
      }
     },
     "source": [
      "\u05db\u05ea\u05d9\u05d1\u05ea \u05d5\u05e7\u05e8\u05d9\u05d0\u05ea \u05e7\u05d1\u05e6\u05d9 \u05d8\u05e7\u05e1\u05d8 \"\u05e4\u05e9\u05d5\u05d8\u05d9\u05dd\" \u05d1\u05e4\u05d9\u05d9\u05ea\u05d5\u05df \u05d4\u05d9\u05d0 \u05e2\u05e1\u05e7 \u05e4\u05e9\u05d5\u05d8 \u05dc\u05de\u05d3\u05d9, \u05d0\u05d1\u05dc \u05e0\u05d3\u05d5\u05df \u05d1\u05d5 \u05e8\u05e9 \u05d1\u05e9\u05d8\u05d7\u05d9\u05d5\u05ea. \u05d1\u05d4\u05de\u05e9\u05da, \u05e0\u05e8\u05d0\u05d4 \u05d0\u05d9\u05da \u05e2\u05d5\u05d1\u05d3\u05d9\u05dd \u05e2\u05dd \u05e7\u05d1\u05e6\u05d9\u05dd \"\u05de\u05e1\u05d5\u05d1\u05db\u05d9\u05dd\" \u05d9\u05d5\u05ea\u05e8."
     ]
    },
    {
     "cell_type": "code",
     "collapsed": false,
     "input": [
      "f = open(\"somefile.txt\",\"w\")"
     ],
     "language": "python",
     "metadata": {
      "internals": {
       "slide_type": "subslide"
      },
      "slideshow": {
       "slide_type": "subslide"
      }
     },
     "outputs": [],
     "prompt_number": 9
    },
    {
     "cell_type": "code",
     "collapsed": false,
     "input": [
      "f"
     ],
     "language": "python",
     "metadata": {
      "internals": {},
      "slideshow": {
       "slide_type": "-"
      }
     },
     "outputs": [
      {
       "metadata": {},
       "output_type": "pyout",
       "prompt_number": 13,
       "text": [
        "<open file 'somefile.txt', mode 'w' at 0x2e774b0>"
       ]
      }
     ],
     "prompt_number": 13
    },
    {
     "cell_type": "markdown",
     "metadata": {
      "internals": {},
      "slideshow": {
       "slide_type": "-"
      }
     },
     "source": [
      "\u05db\u05d0\u05df, \u05d4\u05e4\u05e8\u05de\u05d8\u05e8 \u05d4\u05e8\u05d0\u05e9\u05d5\u05df \u05d4\u05d5\u05d0 \u05e9\u05dd \u05d4\u05e7\u05d5\u05d1\u05e5, \u05d5\u05d4\u05e4\u05e8\u05de\u05d8\u05e8 \u05d4\u05e9\u05e0\u05d9 \u05d4\u05d5\u05d0 \u05d0\u05d7\u05d3 (\u05d0\u05d5 \u05d9\u05d5\u05ea\u05e8) \u05de\u05d4\u05ea\u05d5\u05d5\u05d9\u05dd r,w,a, \u05e2\u05dc \u05de\u05e0\u05ea \u05dc\u05e4\u05ea\u05d5\u05d7 \u05d0\u05ea \u05d4\u05e7\u05d5\u05d1\u05e5 \u05dc\u05e7\u05e8\u05d9\u05d0\u05d4 \u05d1\u05dc\u05d1\u05d3, \u05dc\u05db\u05ea\u05d9\u05d1\u05d4 \u05d0\u05d5 \u05dc\u05d4\u05d5\u05e1\u05e4\u05ea \u05d8\u05e7\u05e1\u05d8 \u05d1\u05e1\u05d5\u05e4\u05d5."
     ]
    },
    {
     "cell_type": "code",
     "collapsed": false,
     "input": [
      "f.write(\"This is content of a file\\n with two lines\")\n",
      "f.close()"
     ],
     "language": "python",
     "metadata": {
      "internals": {},
      "slideshow": {
       "slide_type": "-"
      }
     },
     "outputs": [],
     "prompt_number": 14
    },
    {
     "cell_type": "markdown",
     "metadata": {
      "internals": {
       "slide_helper": "subslide_end"
      },
      "slide_helper": "subslide_end",
      "slideshow": {
       "slide_type": "-"
      }
     },
     "source": [
      "\u05d7\u05e9\u05d5\u05d1 \u05de\u05d0\u05d5\u05d3 \u05dc\u05e1\u05d2\u05d5\u05e8 \u05e7\u05d5\u05d1\u05e5 \u05d1\u05d2\u05de\u05e8 \u05d4\u05e9\u05d9\u05de\u05d5\u05e9!"
     ]
    },
    {
     "cell_type": "markdown",
     "metadata": {
      "internals": {
       "slide_type": "subslide"
      },
      "slideshow": {
       "slide_type": "subslide"
      }
     },
     "source": [
      "\u05db\u05d3\u05d9 \u05dc\u05e7\u05e8\u05d5\u05d0 \u05de\u05e7\u05d5\u05d1\u05e5,"
     ]
    },
    {
     "cell_type": "code",
     "collapsed": false,
     "input": [
      "f = open(\"somefile.txt\",\"r\")\n",
      "content = f.read()\n",
      "print content\n",
      "f.close()"
     ],
     "language": "python",
     "metadata": {
      "internals": {
       "slide_helper": "subslide_end"
      },
      "slide_helper": "subslide_end",
      "slideshow": {
       "slide_type": "-"
      }
     },
     "outputs": [
      {
       "output_type": "stream",
       "stream": "stdout",
       "text": [
        "This is content of a file\n",
        " with two lines\n"
       ]
      }
     ],
     "prompt_number": 15
    },
    {
     "cell_type": "markdown",
     "metadata": {
      "internals": {
       "slide_type": "subslide"
      },
      "slideshow": {
       "slide_type": "subslide"
      }
     },
     "source": [
      "# \u05d8\u05d9\u05e4\u05d5\u05dc \u05d1\u05e9\u05d2\u05d9\u05d0\u05d5\u05ea"
     ]
    },
    {
     "cell_type": "markdown",
     "metadata": {
      "internals": {
       "slide_helper": "subslide_end"
      },
      "slide_helper": "subslide_end",
      "slideshow": {
       "slide_type": "-"
      }
     },
     "source": [
      "\u05d1\u05d3\u05d5\u05d2\u05de\u05d0\u05d5\u05ea \u05d4\u05e9\u05d5\u05e0\u05d5\u05ea \u05e8\u05d0\u05d9\u05e0\u05d5 \u05de\u05d3\u05d9 \u05e4\u05e2\u05dd \u05e9\u05d4\u05de\u05e4\u05e8\u05e9 \u05d6\u05e8\u05e7 \u05e2\u05dc\u05d9\u05e0\u05d5 \u05e9\u05d2\u05d9\u05d0\u05d4. \u05db\u05e9\u05db\u05d5\u05ea\u05d1\u05d9\u05dd \u05e7\u05d5\u05d3 \u05d9\u05e9\u05d9\u05e8\u05d5\u05ea \u05d6\u05d4 \u05e0\u05d7\u05de\u05d3 - \u05d9\u05d5\u05d3\u05e2\u05d9\u05dd \u05e9\u05d4\u05d9\u05ea\u05d4 \u05d1\u05e2\u05d9\u05d4 \u05d5\u05e4\u05d5\u05e2\u05dc\u05d9\u05dd \u05d1\u05d4\u05ea\u05d0\u05dd, \u05d0\u05d1\u05dc \u05d0\u05dd \u05db\u05d5\u05ea\u05d1\u05d9\u05dd \u05e1\u05e7\u05e8\u05d9\u05e4\u05d8\u05d9\u05dd \u05d0\u05e8\u05d5\u05db\u05d9\u05dd, \u05e9\u05d2\u05d9\u05d0\u05d4 \u05db\u05d6\u05d5 \u05d2\u05d5\u05e8\u05de\u05ea \u05dc\u05d4\u05e4\u05e1\u05e7\u05ea \u05d4\u05e8\u05d9\u05e6\u05d4. "
     ]
    },
    {
     "cell_type": "markdown",
     "metadata": {
      "internals": {
       "slide_type": "subslide"
      },
      "slideshow": {
       "slide_type": "subslide"
      }
     },
     "source": [
      "### \u05e9\u05d2\u05d9\u05d0\u05d5\u05ea \u05dc\u05d3\u05d5\u05d2\u05de\u05d4"
     ]
    },
    {
     "cell_type": "code",
     "collapsed": false,
     "input": [
      "1/0"
     ],
     "language": "python",
     "metadata": {
      "internals": {
       "slide_helper": "subslide_end"
      },
      "slide_helper": "subslide_end",
      "slideshow": {
       "slide_type": "-"
      }
     },
     "outputs": [
      {
       "ename": "ZeroDivisionError",
       "evalue": "integer division or modulo by zero",
       "output_type": "pyerr",
       "traceback": [
        "\u001b[1;31m---------------------------------------------------------------------------\u001b[0m\n\u001b[1;31mZeroDivisionError\u001b[0m                         Traceback (most recent call last)",
        "\u001b[1;32m<ipython-input-8-05c9758a9c21>\u001b[0m in \u001b[0;36m<module>\u001b[1;34m()\u001b[0m\n\u001b[1;32m----> 1\u001b[1;33m \u001b[1;36m1\u001b[0m\u001b[1;33m/\u001b[0m\u001b[1;36m0\u001b[0m\u001b[1;33m\u001b[0m\u001b[0m\n\u001b[0m",
        "\u001b[1;31mZeroDivisionError\u001b[0m: integer division or modulo by zero"
       ]
      }
     ],
     "prompt_number": 8
    },
    {
     "cell_type": "code",
     "collapsed": false,
     "input": [
      "d = {1:1, 2:2}\n",
      "d[3]"
     ],
     "language": "python",
     "metadata": {
      "internals": {
       "slide_helper": "subslide_end",
       "slide_type": "subslide"
      },
      "slide_helper": "subslide_end",
      "slideshow": {
       "slide_type": "subslide"
      }
     },
     "outputs": [
      {
       "ename": "KeyError",
       "evalue": "3",
       "output_type": "pyerr",
       "traceback": [
        "\u001b[1;31m---------------------------------------------------------------------------\u001b[0m\n\u001b[1;31mKeyError\u001b[0m                                  Traceback (most recent call last)",
        "\u001b[1;32m<ipython-input-9-38f25624df81>\u001b[0m in \u001b[0;36m<module>\u001b[1;34m()\u001b[0m\n\u001b[0;32m      1\u001b[0m \u001b[0md\u001b[0m \u001b[1;33m=\u001b[0m \u001b[1;33m{\u001b[0m\u001b[1;36m1\u001b[0m\u001b[1;33m:\u001b[0m\u001b[1;36m1\u001b[0m\u001b[1;33m,\u001b[0m \u001b[1;36m2\u001b[0m\u001b[1;33m:\u001b[0m\u001b[1;36m2\u001b[0m\u001b[1;33m}\u001b[0m\u001b[1;33m\u001b[0m\u001b[0m\n\u001b[1;32m----> 2\u001b[1;33m \u001b[0md\u001b[0m\u001b[1;33m[\u001b[0m\u001b[1;36m3\u001b[0m\u001b[1;33m]\u001b[0m\u001b[1;33m\u001b[0m\u001b[0m\n\u001b[0m",
        "\u001b[1;31mKeyError\u001b[0m: 3"
       ]
      }
     ],
     "prompt_number": 9
    },
    {
     "cell_type": "code",
     "collapsed": false,
     "input": [
      "l = [1,2,3]\n",
      "l[3]"
     ],
     "language": "python",
     "metadata": {
      "internals": {
       "slide_helper": "subslide_end",
       "slide_type": "subslide"
      },
      "slide_helper": "subslide_end",
      "slideshow": {
       "slide_type": "subslide"
      }
     },
     "outputs": [
      {
       "ename": "IndexError",
       "evalue": "list index out of range",
       "output_type": "pyerr",
       "traceback": [
        "\u001b[1;31m---------------------------------------------------------------------------\u001b[0m\n\u001b[1;31mIndexError\u001b[0m                                Traceback (most recent call last)",
        "\u001b[1;32m<ipython-input-10-0e767cd8fb1f>\u001b[0m in \u001b[0;36m<module>\u001b[1;34m()\u001b[0m\n\u001b[0;32m      1\u001b[0m \u001b[0ml\u001b[0m \u001b[1;33m=\u001b[0m \u001b[1;33m[\u001b[0m\u001b[1;36m1\u001b[0m\u001b[1;33m,\u001b[0m\u001b[1;36m2\u001b[0m\u001b[1;33m,\u001b[0m\u001b[1;36m3\u001b[0m\u001b[1;33m]\u001b[0m\u001b[1;33m\u001b[0m\u001b[0m\n\u001b[1;32m----> 2\u001b[1;33m \u001b[0ml\u001b[0m\u001b[1;33m[\u001b[0m\u001b[1;36m3\u001b[0m\u001b[1;33m]\u001b[0m\u001b[1;33m\u001b[0m\u001b[0m\n\u001b[0m",
        "\u001b[1;31mIndexError\u001b[0m: list index out of range"
       ]
      }
     ],
     "prompt_number": 10
    },
    {
     "cell_type": "code",
     "collapsed": false,
     "input": [
      "open(\"there_is_no_file\",\"r\")"
     ],
     "language": "python",
     "metadata": {
      "internals": {
       "slide_helper": "subslide_end",
       "slide_type": "subslide"
      },
      "slide_helper": "subslide_end",
      "slideshow": {
       "slide_type": "subslide"
      }
     },
     "outputs": [
      {
       "ename": "IOError",
       "evalue": "[Errno 2] No such file or directory: 'there_is_no_file'",
       "output_type": "pyerr",
       "traceback": [
        "\u001b[1;31m---------------------------------------------------------------------------\u001b[0m\n\u001b[1;31mIOError\u001b[0m                                   Traceback (most recent call last)",
        "\u001b[1;32m<ipython-input-11-b30199f33520>\u001b[0m in \u001b[0;36m<module>\u001b[1;34m()\u001b[0m\n\u001b[1;32m----> 1\u001b[1;33m \u001b[0mopen\u001b[0m\u001b[1;33m(\u001b[0m\u001b[1;34m\"there_is_no_file\"\u001b[0m\u001b[1;33m,\u001b[0m\u001b[1;34m\"r\"\u001b[0m\u001b[1;33m)\u001b[0m\u001b[1;33m\u001b[0m\u001b[0m\n\u001b[0m",
        "\u001b[1;31mIOError\u001b[0m: [Errno 2] No such file or directory: 'there_is_no_file'"
       ]
      }
     ],
     "prompt_number": 11
    },
    {
     "cell_type": "markdown",
     "metadata": {
      "internals": {
       "slide_type": "subslide"
      },
      "slideshow": {
       "slide_type": "subslide"
      }
     },
     "source": [
      "## \u05d4\u05ea\u05de\u05d5\u05d3\u05d3\u05d5\u05ea \u05e2\u05dd \u05e9\u05d2\u05d9\u05d0\u05d5\u05ea"
     ]
    },
    {
     "cell_type": "markdown",
     "metadata": {
      "internals": {},
      "slideshow": {
       "slide_type": "-"
      }
     },
     "source": [
      "\u05db\u05d3\u05d9 \u05dc\u05ea\u05e4\u05d5\u05e1 \u05e9\u05d2\u05d9\u05d0\u05d5\u05ea, \u05d0\u05e4\u05e9\u05e8 \u05dc\u05d4\u05e9\u05ea\u05de\u05e9 \u05d1-*try*, *except*"
     ]
    },
    {
     "cell_type": "code",
     "collapsed": false,
     "input": [
      "try:\n",
      "    open(\"somefile.txt\",\"r\")\n",
      "except:\n",
      "    print \"some error happend!\""
     ],
     "language": "python",
     "metadata": {
      "internals": {
       "slide_helper": "subslide_end"
      },
      "slide_helper": "subslide_end",
      "slideshow": {
       "slide_type": "-"
      }
     },
     "outputs": [],
     "prompt_number": 16
    },
    {
     "cell_type": "markdown",
     "metadata": {
      "internals": {
       "slide_type": "subslide"
      },
      "slideshow": {
       "slide_type": "subslide"
      }
     },
     "source": [
      "\u05d0\u05e4\u05e9\u05e8 \u05dc\u05ea\u05e4\u05d5\u05e1 \u05e9\u05d2\u05d9\u05d0\u05d4 \u05d5\u05dc\u05d0 \u05dc\u05e2\u05e9\u05d5\u05ea \u05db\u05dc\u05d5\u05dd \u05d1\u05d0\u05de\u05e6\u05e2\u05d5\u05ea *pass*"
     ]
    },
    {
     "cell_type": "code",
     "collapsed": false,
     "input": [
      "try:\n",
      "    a = 1/0\n",
      "except:\n",
      "    pass #Do nothing"
     ],
     "language": "python",
     "metadata": {
      "internals": {},
      "slideshow": {
       "slide_type": "-"
      }
     },
     "outputs": [],
     "prompt_number": 13
    },
    {
     "cell_type": "markdown",
     "metadata": {
      "internals": {
       "slide_helper": "subslide_end"
      },
      "slide_helper": "subslide_end",
      "slideshow": {
       "slide_type": "-"
      }
     },
     "source": [
      "**\u05d4\u05e2\u05e8\u05d4** \u05e4\u05d9\u05d9\u05ea\u05d5\u05df \u05dc\u05d0 \u05d0\u05d5\u05d4\u05d1 \u05d1\u05dc\u05d5\u05e7\u05d9\u05dd \u05e8\u05d9\u05e7\u05d9\u05dd. \u05d0\u05dd \u05d0\u05d9\u05e4\u05e9\u05d4\u05d5 \u05d0\u05ea\u05dd  \u05db\u05d5\u05ea\u05d1\u05d9\u05dd \u05d1\u05dc\u05d5\u05e7 \u05d5\u05d0\u05d9\u05df \u05dc\u05db\u05dd \u05de\u05d4 \u05dc\u05db\u05ea\u05d5\u05d1 \u05d1\u05d5, \u05e9\u05d9\u05de\u05d5 \u05d1\u05d5 \n",
      "pass.\n"
     ]
    },
    {
     "cell_type": "markdown",
     "metadata": {
      "internals": {
       "slide_type": "subslide"
      },
      "slideshow": {
       "slide_type": "subslide"
      }
     },
     "source": [
      "\u05d0\u05e4\u05e9\u05e8 \u05d2\u05dd \u05dc\u05ea\u05e4\u05d5\u05e1 \u05e9\u05d2\u05d9\u05d0\u05d5\u05ea \u05de\u05e1\u05d5\u05d2\u05d9\u05dd \u05e1\u05e4\u05e6\u05d9\u05e4\u05d9\u05d9\u05dd:"
     ]
    },
    {
     "cell_type": "code",
     "collapsed": false,
     "input": [
      "try:\n",
      "    l = [1,2,3]\n",
      "    l[4]\n",
      "except KeyError:\n",
      "    print \"Key Error catched\""
     ],
     "language": "python",
     "metadata": {
      "internals": {
       "slide_helper": "subslide_end"
      },
      "slide_helper": "subslide_end",
      "slideshow": {
       "slide_type": "-"
      }
     },
     "outputs": [
      {
       "ename": "IndexError",
       "evalue": "list index out of range",
       "output_type": "pyerr",
       "traceback": [
        "\u001b[1;31m---------------------------------------------------------------------------\u001b[0m\n\u001b[1;31mIndexError\u001b[0m                                Traceback (most recent call last)",
        "\u001b[1;32m<ipython-input-17-3bf3e93f1555>\u001b[0m in \u001b[0;36m<module>\u001b[1;34m()\u001b[0m\n\u001b[0;32m      1\u001b[0m \u001b[1;32mtry\u001b[0m\u001b[1;33m:\u001b[0m\u001b[1;33m\u001b[0m\u001b[0m\n\u001b[0;32m      2\u001b[0m     \u001b[0ml\u001b[0m \u001b[1;33m=\u001b[0m \u001b[1;33m[\u001b[0m\u001b[1;36m1\u001b[0m\u001b[1;33m,\u001b[0m\u001b[1;36m2\u001b[0m\u001b[1;33m,\u001b[0m\u001b[1;36m3\u001b[0m\u001b[1;33m]\u001b[0m\u001b[1;33m\u001b[0m\u001b[0m\n\u001b[1;32m----> 3\u001b[1;33m     \u001b[0ml\u001b[0m\u001b[1;33m[\u001b[0m\u001b[1;36m4\u001b[0m\u001b[1;33m]\u001b[0m\u001b[1;33m\u001b[0m\u001b[0m\n\u001b[0m\u001b[0;32m      4\u001b[0m \u001b[1;32mexcept\u001b[0m \u001b[0mKeyError\u001b[0m\u001b[1;33m:\u001b[0m\u001b[1;33m\u001b[0m\u001b[0m\n\u001b[0;32m      5\u001b[0m     \u001b[1;32mprint\u001b[0m \u001b[1;34m\"Key Error catched\"\u001b[0m\u001b[1;33m\u001b[0m\u001b[0m\n",
        "\u001b[1;31mIndexError\u001b[0m: list index out of range"
       ]
      }
     ],
     "prompt_number": 17
    },
    {
     "cell_type": "markdown",
     "metadata": {
      "internals": {
       "slide_type": "subslide"
      },
      "slideshow": {
       "slide_type": "subslide"
      }
     },
     "source": [
      "\u05db\u05d0\u05df, \u05d4\u05e7\u05d5\u05d3 \u05d6\u05e8\u05e7 IndexError \u05d0\u05d1\u05dc \u05e0\u05d9\u05e1\u05d9\u05e0\u05d5 \u05dc\u05ea\u05e4\u05d5\u05e1 \u05e8\u05e7 KeyError, \u05d0\u05d6 \u05d4\u05d5\u05d0 \u05dc\u05d0 \u05e0\u05ea\u05e4\u05e1. \u05dc\u05d5 \u05d4\u05d9\u05d9\u05e0\u05d5 \u05db\u05d5\u05ea\u05d1\u05d9\u05dd,"
     ]
    },
    {
     "cell_type": "code",
     "collapsed": false,
     "input": [
      "try:\n",
      "    l = [1,2,3]\n",
      "    l[4]\n",
      "except IndexError:\n",
      "    print \"Index Error catched\""
     ],
     "language": "python",
     "metadata": {
      "internals": {
       "slide_helper": "subslide_end"
      },
      "slide_helper": "subslide_end",
      "slideshow": {
       "slide_type": "-"
      }
     },
     "outputs": [
      {
       "output_type": "stream",
       "stream": "stdout",
       "text": [
        "Index Error catched\n"
       ]
      }
     ],
     "prompt_number": 18
    },
    {
     "cell_type": "markdown",
     "metadata": {
      "internals": {
       "slide_type": "subslide"
      },
      "slideshow": {
       "slide_type": "subslide"
      }
     },
     "source": [
      "\u05d0\u05d1\u05dc \u05dc\u05de\u05d4 \u05dc\u05ea\u05e4\u05d5\u05e1 \u05e8\u05e7 \u05e1\u05d5\u05d2\u05d9\u05dd \u05de\u05e1\u05d5\u05d9\u05d9\u05de\u05d9\u05dd \u05e9\u05dc \u05e9\u05d2\u05d9\u05d0\u05d5\u05ea? \n",
      "\n",
      "\u05dc\u05e4\u05e2\u05de\u05d9\u05dd \u05e1\u05d5\u05d2\u05d9\u05dd \u05de\u05e1\u05d5\u05d9\u05d9\u05de\u05d9\u05dd \u05e9\u05dc \u05e9\u05d2\u05d9\u05d0\u05d5\u05ea \u05d4\u05dd \"\u05d7\u05d5\u05e7\u05d9\u05d9\u05dd\" - \u05d0\u05dd \u05d4\u05e7\u05d5\u05d1\u05e5 \u05dc\u05d0 \u05e0\u05de\u05e6\u05d0 \u05d0\u05e4\u05e9\u05e8 \u05dc\u05e2\u05d1\u05d5\u05e8 \u05d4\u05dc\u05d0\u05d4, \u05d0\u05d1\u05dc \u05d1\u05d8\u05e2\u05d5\u05ea \u05d7\u05d9\u05dc\u05e7\u05e0\u05d5 \u05d1\u05d0\u05e4\u05e1, \u05d6\u05d5 \u05e7\u05d8\u05e1\u05d8\u05e8\u05d5\u05e4\u05d4, \u05d5\u05d0\u05e0\u05d7\u05e0\u05d5 \u05e8\u05d5\u05e6\u05d9\u05dd \u05dc\u05d4\u05d5\u05d3\u05d9\u05e2 \u05dc\u05de\u05e9\u05ea\u05de\u05e9."
     ]
    },
    {
     "cell_type": "markdown",
     "metadata": {
      "internals": {},
      "slideshow": {
       "slide_type": "-"
      }
     },
     "source": [
      "\u05dc\u05d0 \u05d7\u05d9\u05d9\u05d1\u05d9\u05dd \u05dc\u05ea\u05e4\u05d5\u05e1 \u05e9\u05d2\u05d9\u05d0\u05d5\u05ea \u05de\u05d9\u05d3.  \u05d0\u05e4\u05e9\u05e8 \u05d2\u05dd \u05dc\u05ea\u05ea \u05dc\u05d4\u05df \u05dc\u05e6\u05d5\u05e3 \"\u05dc\u05de\u05e2\u05dc\u05d4\""
     ]
    },
    {
     "cell_type": "code",
     "collapsed": false,
     "input": [
      " def open_end_divide(filename, number):\n",
      "    f = open(filename,\"r\")\n",
      "    print \"file opened\"\n",
      "    f.close()\n",
      "    return 1./number"
     ],
     "language": "python",
     "metadata": {
      "internals": {},
      "slideshow": {
       "slide_type": "-"
      }
     },
     "outputs": [],
     "prompt_number": 19
    },
    {
     "cell_type": "code",
     "collapsed": false,
     "input": [
      " open_end_divide(\"somefile.txt\", 3)"
     ],
     "language": "python",
     "metadata": {
      "internals": {
       "slide_helper": "subslide_end"
      },
      "slide_helper": "subslide_end",
      "slideshow": {
       "slide_type": "-"
      }
     },
     "outputs": [
      {
       "output_type": "stream",
       "stream": "stdout",
       "text": [
        "file opened\n"
       ]
      },
      {
       "metadata": {},
       "output_type": "pyout",
       "prompt_number": 20,
       "text": [
        "0.3333333333333333"
       ]
      }
     ],
     "prompt_number": 20
    },
    {
     "cell_type": "code",
     "collapsed": false,
     "input": [
      "try:\n",
      "    open_end_divide(\"nofile.t\u05dext\", 3)\n",
      "\n",
      "except DefaultError, m:\n",
      "    print m"
     ],
     "language": "python",
     "metadata": {
      "internals": {
       "slide_helper": "subslide_end",
       "slide_type": "subslide"
      },
      "slide_helper": "subslide_end",
      "slideshow": {
       "slide_type": "subslide"
      }
     },
     "outputs": [
      {
       "ename": "NameError",
       "evalue": "name 'Error' is not defined",
       "output_type": "pyerr",
       "traceback": [
        "\u001b[1;31m---------------------------------------------------------------------------\u001b[0m\n\u001b[1;31mNameError\u001b[0m                                 Traceback (most recent call last)",
        "\u001b[1;32m<ipython-input-20-5fe6e823b53c>\u001b[0m in \u001b[0;36m<module>\u001b[1;34m()\u001b[0m\n\u001b[0;32m      2\u001b[0m     \u001b[0mopen_end_divide\u001b[0m\u001b[1;33m(\u001b[0m\u001b[1;34m\"nofile.t\u05dext\"\u001b[0m\u001b[1;33m,\u001b[0m \u001b[1;36m3\u001b[0m\u001b[1;33m)\u001b[0m\u001b[1;33m\u001b[0m\u001b[0m\n\u001b[0;32m      3\u001b[0m \u001b[1;33m\u001b[0m\u001b[0m\n\u001b[1;32m----> 4\u001b[1;33m \u001b[1;32mexcept\u001b[0m \u001b[0mError\u001b[0m\u001b[1;33m,\u001b[0m \u001b[0mm\u001b[0m\u001b[1;33m:\u001b[0m\u001b[1;33m\u001b[0m\u001b[0m\n\u001b[0m\u001b[0;32m      5\u001b[0m     \u001b[1;32mprint\u001b[0m \u001b[0mm\u001b[0m\u001b[1;33m\u001b[0m\u001b[0m\n",
        "\u001b[1;31mNameError\u001b[0m: name 'Error' is not defined"
       ]
      }
     ],
     "prompt_number": 20
    },
    {
     "cell_type": "code",
     "collapsed": false,
     "input": [
      "try:\n",
      "    open_end_divide(\"somefile.txt\", 0)\n",
      "except Exception, m:\n",
      "    print m.args, m.message"
     ],
     "language": "python",
     "metadata": {
      "internals": {
       "slide_helper": "subslide_end",
       "slide_type": "subslide"
      },
      "slide_helper": "slide_end",
      "slideshow": {
       "slide_type": "subslide"
      }
     },
     "outputs": [
      {
       "output_type": "stream",
       "stream": "stdout",
       "text": [
        "(\"name 'open_end_divide' is not defined\",) name 'open_end_divide' is not defined\n"
       ]
      }
     ],
     "prompt_number": 22
    },
    {
     "cell_type": "markdown",
     "metadata": {
      "internals": {
       "slide_helper": "subslide_end",
       "slide_type": "subslide"
      },
      "slide_helper": "slide_end",
      "slideshow": {
       "slide_type": "slide"
      }
     },
     "source": [
      "# \u05ea\u05e8\u05d2\u05d9\u05dc\u05d5\u05df\n",
      "\n",
      "1. \u05db\u05ea\u05d1\u05d5 \u05ea\u05d5\u05db\u05e0\u05d9\u05ea (\u05d1\u05e7\u05d5\u05d1\u05e5 \u05d4\u05e0\u05e4\u05e8\u05d3) \u05d4\u05de\u05d1\u05e6\u05e2\u05ea:\n",
      "\n",
      "\n",
      "  * \u05de\u05e7\u05d1\u05dc\u05ea \u05e9\u05e0\u05d9 \u05e4\u05e8\u05de\u05d8\u05e8\u05d9\u05dd \u05de\u05e9\u05d5\u05e8\u05ea \u05d4\u05e4\u05e7\u05d5\u05d3\u05d4.\n",
      "\n",
      "  \u05d4\u05e9\u05ea\u05de\u05e9\u05d5 \u05d1\u05e8\u05e9\u05d9\u05de\u05d4 argv \u05e9\u05e0\u05de\u05e6\u05d0\u05ea \u05d1\u05de\u05d5\u05d3\u05d5\u05dc sys\n",
      "  * \u05d4\u05e4\u05e8\u05de\u05d8\u05e8 \u05d4\u05e8\u05d0\u05e9\u05d5\u05df \u05d4\u05d5\u05d0 \u05e9\u05dd \u05e1\u05e4\u05e8\u05d9\u05d4 \u05d5\u05d4\u05e4\u05e8\u05de\u05d8\u05e8 \u05d4\u05e9\u05e0\u05d9 \u05d4\u05d5\u05d0 \u05de\u05d9\u05dc\u05d4 \u05dc\u05d7\u05d9\u05e4\u05d5\u05e9.\n",
      "  * \u05d4\u05ea\u05d5\u05db\u05e0\u05d9\u05ea \u05de\u05d3\u05e4\u05d9\u05e1\u05d4 \u05d0\u05ea \u05e9\u05de\u05d5\u05ea \u05db\u05dc \u05e7\u05d1\u05e6\u05d9 \u05d4-.py \u05d1\u05e1\u05e4\u05e8\u05d9\u05d4 \u05d4\u05de\u05d5\u05e4\u05d9\u05e2\u05d4 \u05d1\u05e4\u05e8\u05de\u05d8\u05e8 \u05d4\u05e8\u05d0\u05e9\u05d5\u05df, \u05d4\u05de\u05db\u05d9\u05dc\u05d9\u05dd \u05d0\u05ea \u05d4\u05de\u05d9\u05dc\u05d4 \u05d1\u05e4\u05e8\u05de\u05d8\u05e8 \u05d4\u05e9\u05e0\u05d9. \n",
      "  \n",
      "2. \u05de\u05d4 \u05e7\u05d5\u05e8\u05d4 \u05db\u05d0\u05e9\u05e8 \u05d4\u05ea\u05d5\u05db\u05e0\u05d9\u05ea \u05e9\u05db\u05ea\u05d1\u05ea\u05dd \u05dc\u05e2\u05d9\u05dc \u05de\u05e7\u05d1\u05dc\u05ea \u05e9\u05dd \u05e1\u05e4\u05e8\u05d9\u05d4 \u05e9\u05d0\u05d9\u05e0\u05d5 \u05e7\u05d9\u05d9\u05dd?\n",
      "   \n",
      "   \u05e0\u05e1\u05d5 \u05dc\u05e4\u05ea\u05d5\u05d7 \u05e1\u05e4\u05e8\u05d9\u05d4 \u05dc\u05d0 \u05e7\u05d9\u05d9\u05de\u05ea \u05d5\u05e7\u05d1\u05dc\u05d5 \u05d4\u05d5\u05d3\u05e2\u05ea \u05e9\u05d2\u05d9\u05d0\u05d4.\n",
      "   \u05e9\u05e0\u05d5 \u05d0\u05ea \u05d4\u05ea\u05d5\u05db\u05e0\u05d9\u05ea \u05db\u05da \u05e9\u05d0\u05dd \u05d4\u05e1\u05e4\u05e8\u05d9\u05d4 \u05dc\u05d0 \u05e7\u05d9\u05d9\u05de\u05ea, \u05d4\u05ea\u05d5\u05db\u05e0\u05d9\u05ea \u05dc\u05d0 \u05ea\u05d1\u05e6\u05e2 \u05d3\u05d1\u05e8, \u05d5\u05e8\u05e7 \u05ea\u05d3\u05e4\u05d9\u05e1 \u05d4\u05d5\u05d3\u05e2\u05ea \u05e9\u05d2\u05d9\u05d0\u05d4.\n"
     ]
    }
   ],
   "metadata": {}
  }
 ]
}